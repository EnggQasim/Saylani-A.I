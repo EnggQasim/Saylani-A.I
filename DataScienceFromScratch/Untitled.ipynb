{
 "cells": [
  {
   "cell_type": "code",
   "execution_count": 1,
   "metadata": {
    "collapsed": true
   },
   "outputs": [],
   "source": [
    "import re"
   ]
  },
  {
   "cell_type": "markdown",
   "metadata": {
    "collapsed": true
   },
   "source": [
    "<h1>Basic Symbols</h1>\n",
    "<style>\n",
    "tr{text-align:left !important;}\n",
    "</style>\n",
    "<table border=\"1px\">\n",
    "<tr>\n",
    "<td width=\"50px\">.</td>\n",
    "<td>Matches any sigle character(EG: \".at\" would match cat, hat, sat)</td>\n",
    "</tr>\n",
    "\n",
    "<tr>\n",
    "<td>[ ]</td>\n",
    "<td>Matches a single character contained with brackets (EG: \"[ch]at\" would match cat, hat, but not sat) (you can use ranges too [a-z])</td>\n",
    "</tr>\n",
    "\n",
    "<tr>\n",
    "<td>[^ ]</td>\n",
    "<td>Matches a single character NOTcontained within the brackets (EG: \"[^c]at\" would match hat, sat. but not cat)</td>\n",
    "</tr>\n",
    "\n",
    "\n",
    "<tr>\n",
    "<td>^</td>\n",
    "<td>Mathes the expression if at the start of the string (EG: \"^.at\" would match cat, hat, sat if located the start of string</td>\n",
    "</tr>\n",
    "<tr>\n",
    "<td> \\$ </td>\n",
    "<td>Same as above however at the end (EG: \".at$\" would match cat, hat, sat if located at the end of the string.)</td>\n",
    "</tr>\n",
    "<tr>\n",
    "<td>()</td>\n",
    "<td>Contains sub expression (Thin BODMAS/BOMDAS)</td>\n",
    "</tr>                                                         \n",
    " <tr>\n",
    "<td>*</td>\n",
    "<td>Matches the precending element zero or more times (EG: \"c.*\" wold match any word starting with c, cat, coat, class</td>\n",
    "</tr>                                                        \n",
    "</table>"
   ]
  },
  {
   "cell_type": "code",
   "execution_count": 34,
   "metadata": {},
   "outputs": [
    {
     "name": "stdout",
     "output_type": "stream",
     "text": [
      "<_sre.SRE_Match object; span=(13, 14), match='\\\\'>\n"
     ]
    }
   ],
   "source": [
    "text = \" pakinstan zi\\\\\\\\nda + bad 077 \\ \\\\ \\\\\\ \\\\\\\\  we are ++ pakistan 177  I Love Pakistan17\"\n",
    "p =\"\\\\\\\\\"\n",
    "m = re.search(p, text)\n",
    "print(m)\n"
   ]
  },
  {
   "cell_type": "code",
   "execution_count": 96,
   "metadata": {},
   "outputs": [
    {
     "name": "stdout",
     "output_type": "stream",
     "text": [
      "['23', '25']\n",
      "['Qasim', 'Asif']\n"
     ]
    }
   ],
   "source": [
    "text1 = \"Qasim age 23 Asif age 25\"\n",
    "age = re.findall(\"[0-9]{2,3}\", text1)\n",
    "names =re.findall(\"[A-Z][a-z]*\", text1)\n",
    "print(age)\n",
    "print(names)"
   ]
  },
  {
   "cell_type": "code",
   "execution_count": 76,
   "metadata": {},
   "outputs": [
    {
     "name": "stdout",
     "output_type": "stream",
     "text": [
      "<_sre.SRE_Match object; span=(2, 4), match='s3'>\n"
     ]
    }
   ],
   "source": [
    "text = \"1as3df \\n 2 pakis\"\n",
    "p =\".[0-9]\"\n",
    "m = re.search(p, text)\n",
    "print(m)"
   ]
  },
  {
   "cell_type": "code",
   "execution_count": 82,
   "metadata": {},
   "outputs": [
    {
     "name": "stdout",
     "output_type": "stream",
     "text": [
      "abc pakistan\n"
     ]
    }
   ],
   "source": [
    "text =\"pakistan sda\"\n",
    "p = \"pakistan\"\n",
    "m = re.match(p, text, re.M|re.I|re.X)\n",
    "if m:\n",
    "    print(\"abc\",m.group())"
   ]
  },
  {
   "cell_type": "code",
   "execution_count": null,
   "metadata": {
    "collapsed": true
   },
   "outputs": [],
   "source": []
  }
 ],
 "metadata": {
  "kernelspec": {
   "display_name": "Python 3",
   "language": "python",
   "name": "python3"
  },
  "language_info": {
   "codemirror_mode": {
    "name": "ipython",
    "version": 3
   },
   "file_extension": ".py",
   "mimetype": "text/x-python",
   "name": "python",
   "nbconvert_exporter": "python",
   "pygments_lexer": "ipython3",
   "version": "3.6.4"
  }
 },
 "nbformat": 4,
 "nbformat_minor": 2
}
