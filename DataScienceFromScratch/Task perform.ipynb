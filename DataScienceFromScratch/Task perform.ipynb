{
 "cells": [
  {
   "cell_type": "code",
   "execution_count": 1,
   "metadata": {},
   "outputs": [
    {
     "data": {
      "image/png": "[encoded data removed]",
      "text/plain": [
       "<matplotlib.figure.Figure at 0x1a07af8e5f8>"
      ]
     },
     "metadata": {},
     "output_type": "display_data"
    }
   ],
   "source": [
    "import matplotlib.pyplot as plt\n",
    "import numpy as np\n",
    "from collections import Counter\n",
    "grades = [83,95,91,87,70,0,85,82,100,67,73,77,0]\n",
    "decile = lambda grade: grade // 10 * 10\n",
    "histogram = Counter(decile(grade) for grade in grades)\n",
    "plt.bar([x for x in histogram.keys()], # shift each bar to the left by 4\n",
    "        histogram.values(), # give each bar its correct height\n",
    "        8) # give each bar a width of 8\n",
    "plt.axis([-5, 105, 0, 5]) # x-axis from -5 to 105,\n",
    " # y-axis from 0 to 5\n",
    "plt.xticks([10 * i for i in range(11)]) # x-axis labels at 0, 10, ..., 100\n",
    "plt.xlabel(\"Decile\")\n",
    "plt.ylabel(\"# of Students\")\n",
    "plt.title(\"Distribution of Exam 1 Grades\")\n",
    "plt.show()"
   ]
  },
  {
   "cell_type": "code",
   "execution_count": 2,
   "metadata": {},
   "outputs": [
    {
     "data": {
      "image/png": "[encoded data removed]",
      "text/plain": [
       "<matplotlib.figure.Figure at 0x1a07fa6d048>"
      ]
     },
     "metadata": {},
     "output_type": "display_data"
    },
    {
     "data": {
      "text/plain": [
       "Counter({0: 2, 60: 1, 70: 3, 80: 4, 90: 2, 100: 1})"
      ]
     },
     "execution_count": 2,
     "metadata": {},
     "output_type": "execute_result"
    }
   ],
   "source": [
    "import matplotlib.pyplot as plt\n",
    "import numpy as np\n",
    "from collections import Counter\n",
    "grades = [83,95,91,87,70,0,85,82,100,67,73,77,0]\n",
    "decile = lambda grade: grade // 10 * 10\n",
    "histogram = Counter(decile(grade) for grade in grades)\n",
    "plt.bar([x for x in histogram.keys()], # shift each bar to the left by 4\n",
    "        histogram.values(), # give each bar its correct height\n",
    "        8) # give each bar a width of 8\n",
    "plt.axis([-5, 105, 0, 5]) # x-axis from -5 to 105,\n",
    " # y-axis from 0 to 5\n",
    "plt.xticks([10 * i for i in range(11)]) # x-axis labels at 0, 10, ..., 100\n",
    "plt.xlabel(\"Decile\")\n",
    "plt.ylabel(\"# of Students\")\n",
    "plt.title(\"Distribution of Exam 1 Grades\")\n",
    "plt.show()\n",
    "histogram"
   ]
  },
  {
   "cell_type": "code",
   "execution_count": 3,
   "metadata": {},
   "outputs": [
    {
     "data": {
      "text/plain": [
       "2"
      ]
     },
     "execution_count": 3,
     "metadata": {},
     "output_type": "execute_result"
    }
   ],
   "source": [
    "sfails = histogram[0] + histogram[10] +histogram[20] +histogram[30] +histogram[40] \n",
    "sfails"
   ]
  },
  {
   "cell_type": "code",
   "execution_count": 4,
   "metadata": {},
   "outputs": [
    {
     "data": {
      "text/plain": [
       "7"
      ]
     },
     "execution_count": 4,
     "metadata": {},
     "output_type": "execute_result"
    }
   ],
   "source": [
    "aPlus = histogram[80] + histogram[90] +histogram[100]\n",
    "aPlus"
   ]
  },
  {
   "cell_type": "code",
   "execution_count": 5,
   "metadata": {},
   "outputs": [
    {
     "name": "stdout",
     "output_type": "stream",
     "text": [
      "['Fail', 'C', 'B', 'A', 'A+']\n",
      "[2, 0, 1, 3, 7]\n"
     ]
    }
   ],
   "source": [
    "GradesLabels = [\"Fail\",\"C\",\"B\",\"A\",\"A+\"]\n",
    "yValues = [sfails,histogram[50],histogram[60],histogram[70],aPlus]\n",
    "print(GradesLabels)\n",
    "print(yValues)"
   ]
  },
  {
   "cell_type": "code",
   "execution_count": 6,
   "metadata": {},
   "outputs": [
    {
     "data": {
      "image/png": "[encoded data removed]",
      "text/plain": [
       "<matplotlib.figure.Figure at 0x1a07cb515f8>"
      ]
     },
     "metadata": {},
     "output_type": "display_data"
    }
   ],
   "source": [
    "plt.bar([x* 10 for x in range(len(GradesLabels))], # shift each bar to the left by 4\n",
    "        yValues, # give each bar its correct height\n",
    "        8) # give each bar a width of 8\n",
    "plt.xticks([x* 10 for x in range(len(GradesLabels))],GradesLabels)\n",
    "\n",
    "plt.show()"
   ]
  },
  {
   "cell_type": "code",
   "execution_count": null,
   "metadata": {
    "collapsed": true
   },
   "outputs": [],
   "source": []
  }
 ],
 "metadata": {
  "kernelspec": {
   "display_name": "Python 3",
   "language": "python",
   "name": "python3"
  },
  "language_info": {
   "codemirror_mode": {
    "name": "ipython",
    "version": 3
   },
   "file_extension": ".py",
   "mimetype": "text/x-python",
   "name": "python",
   "nbconvert_exporter": "python",
   "pygments_lexer": "ipython3",
   "version": "3.5.4"
  }
 },
 "nbformat": 4,
 "nbformat_minor": 2
}
