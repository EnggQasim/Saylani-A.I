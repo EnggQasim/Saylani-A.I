{
 "cells": [
  {
   "cell_type": "markdown",
   "metadata": {},
   "source": [
    "# Getting Familiar with Commonly\n",
    "# Used Functions\n",
    "In this chapter, we will have a look at common NumPy functions. In particular,\n",
    "we will learn how to load data from files by using an example involving\n",
    "historical stock prices. Also, we will get to see the basic NumPy mathematical\n",
    "and statistical functions.\n",
    "We will learn how to read from and write to files. Also, we will get a taste of the\n",
    "functional programming and linear algebra possibilities in NumPy"
   ]
  },
  {
   "cell_type": "raw",
   "metadata": {},
   "source": [
    "In this chapter, we shall cover the following topics:\n",
    " Functions working on arrays\n",
    " Loading arrays from files\n",
    " Writing arrays to files\n",
    " Simple mathematical and statistical functions"
   ]
  },
  {
   "cell_type": "raw",
   "metadata": {},
   "source": [
    "The identity matrix can be created with the eye() function. The only argument that\n",
    "we need to give the eye() function is the number of ones. So, for instance, for a\n",
    "two-by-two matrix, write the following code:"
   ]
  },
  {
   "cell_type": "code",
   "execution_count": 1,
   "metadata": {},
   "outputs": [
    {
     "name": "stdout",
     "output_type": "stream",
     "text": [
      "[[1. 0.]\n",
      " [0. 1.]]\n"
     ]
    }
   ],
   "source": [
    "import numpy as np\n",
    "i2 = np.eye(2)\n",
    "print(i2)"
   ]
  },
  {
   "cell_type": "raw",
   "metadata": {},
   "source": [
    "Save the data in a plain text file with the savetxt() function. Specify the name of\n",
    "the file that we want to save the data in and the array containing the data itself:\n"
   ]
  },
  {
   "cell_type": "code",
   "execution_count": 2,
   "metadata": {
    "collapsed": true
   },
   "outputs": [],
   "source": [
    "np.savetxt(\"eye.txt\", i2)"
   ]
  },
  {
   "cell_type": "markdown",
   "metadata": {},
   "source": [
    "# Time for action – loading from CSV files\n",
    "How do we deal with CSV files? Luckily, the loadtxt() function can conveniently read CSV\n",
    "files, split up the fields, and load the data into NumPy arrays. In the following example, we\n",
    "will load historical stock price data for Apple (the company, not the fruit). The data is in CSV\n",
    "format and is part of the code bundle for this book. The first column contains a symbol that\n",
    "identifies the stock. In our case, it is AAPL. Second is the date in dd-mm-yyyy format. The\n",
    "third column is empty. Then, in order, we have the open, high, low, and close price. Last,\n",
    "but not least, is the trading volume of the day. This is what a line looks like:<br>\n",
    "<b>date, symbol      , ,open  ,heigh, low  ,close , volume<br></b>\n",
    "     28-01-2011, WLTW ,344.17,344.4,333.53,336.1,21144800<br><br>"
   ]
  },
  {
   "cell_type": "code",
   "execution_count": 3,
   "metadata": {},
   "outputs": [
    {
     "name": "stdout",
     "output_type": "stream",
     "text": [
      "[214.009998 214.379993 210.969995 ... 116.760002 116.730003 115.82    ] === [1.234324e+08 1.504762e+08 1.380400e+08 ... 2.090590e+07 1.503950e+07\n",
      " 3.058630e+07]\n"
     ]
    }
   ],
   "source": [
    "c,v=np.loadtxt('prices.csv', delimiter=',', usecols=(3,6), unpack=True)\n",
    "print(c,\"===\",v)"
   ]
  },
  {
   "cell_type": "markdown",
   "metadata": {},
   "source": [
    "# Volume Weighted Average Price\n",
    "Volume Weighted Average Price (VWAP) is a very important quantity in finance. It represents\n",
    "an average price for a financial asset (see https://www.khanacademy.org/math/\n",
    "probability/descriptive-statistics/old-stats-videos/v/statistics-theaverage).\n",
    "The higher the volume, the more significant a price move typically is. VWAP is\n",
    "often used in algorithmic trading and is calculated using volume values as weights"
   ]
  },
  {
   "cell_type": "code",
   "execution_count": 4,
   "metadata": {},
   "outputs": [
    {
     "name": "stdout",
     "output_type": "stream",
     "text": [
      "VWAP = 361.2303447117271\n",
      "[214.009998 214.379993 210.969995 ... 116.760002 116.730003 115.82    ] [1.234324e+08 1.504762e+08 1.380400e+08 ... 2.090590e+07 1.503950e+07\n",
      " 3.058630e+07]\n"
     ]
    }
   ],
   "source": [
    "import numpy as np\n",
    "c,v=np.loadtxt('prices.csv', delimiter=',', usecols=(3,6),\n",
    "unpack=True)\n",
    "vwap = np.average(c, weights=v)\n",
    "print(\"VWAP =\", vwap)\n",
    "print(c,v)\n"
   ]
  },
  {
   "cell_type": "markdown",
   "metadata": {},
   "source": [
    "# What just happened?\n",
    "That wasn't very hard, was it? We just called the average() function and set its weights\n",
    "parameter to use the v array for weights. By the way, NumPy also has a function to calculate\n",
    "the arithmetic mean. This is an unweighted average with all the weights equal to 1.\n",
    "# weights : array_like, optional\n",
    "\n",
    "An array of weights associated with the values in a. Each value in a contributes to the average according to its associated weight. The weights array can either be 1-D (in which case its length must be the size of a along the given axis) or of the same shape as a. If weights=None, then all data in a are assumed to have a weight equal to one."
   ]
  },
  {
   "cell_type": "markdown",
   "metadata": {},
   "source": [
    "# The mean() function\n",
    "The mean() function is quite friendly and not so mean. This function calculates the\n",
    "arithmetic mean of an array."
   ]
  },
  {
   "cell_type": "code",
   "execution_count": 5,
   "metadata": {},
   "outputs": [
    {
     "name": "stdout",
     "output_type": "stream",
     "text": [
      "mean = 312.9270656379114\n"
     ]
    }
   ],
   "source": [
    "print(\"mean =\", np.mean(c))"
   ]
  },
  {
   "cell_type": "markdown",
   "metadata": {},
   "source": [
    "# Time-weighted average price\n",
    "In finance, time-weighted average price (TWAP) is another average price measure. Now that\n",
    "we are at it, let's compute the TWAP too. It is just a variation on a theme really. The idea is\n",
    "that recent price quotes are more important, so we should give recent prices higher weights.\n",
    "The easiest way is to create an array with the arange() function of increasing values from\n",
    "zero to the number of elements in the close price array. This is not necessarily the correct\n",
    "way. In fact, most of the examples concerning stock price analysis in this book are only\n",
    "illustrative. The following is the TWAP code:\n"
   ]
  },
  {
   "cell_type": "markdown",
   "metadata": {},
   "source": [
    "# Value range\n",
    "Usually, we don't only want to know the average or arithmetic mean of a set of values,\n",
    "which are in the middle, to know we also want the extremes, the full range—the highest and\n",
    "lowest values. The sample data that we are using here already has those values per day—the\n",
    "high and low price. However, we need to know the highest value of the high price and the\n",
    "lowest price value of the low price.\n",
    "# Time for action – finding highest and lowest values\n",
    "The min() and max() functions are the answer for our requirement. Perform the following\n",
    "steps to find the highest and lowest values:"
   ]
  },
  {
   "cell_type": "code",
   "execution_count": 6,
   "metadata": {
    "collapsed": true
   },
   "outputs": [],
   "source": [
    "h,l=np.loadtxt('prices.csv', delimiter=',', usecols=(4,5),\n",
    "unpack=True)"
   ]
  },
  {
   "cell_type": "code",
   "execution_count": 7,
   "metadata": {},
   "outputs": [
    {
     "name": "stdout",
     "output_type": "stream",
     "text": [
      "highest = 699.569977\n",
      "lowest = 90.699997\n"
     ]
    }
   ],
   "source": [
    "print(\"highest =\", np.max(h))\n",
    "print(\"lowest =\", np.min(l))\n"
   ]
  },
  {
   "cell_type": "markdown",
   "metadata": {},
   "source": [
    "NumPy allows us to compute the spread of an array with a function called ptp().\n",
    "The ptp() function returns the difference between the maximum and minimum\n",
    "values of an array. In other words, it is equal to max(array)—min(array). Call\n",
    "the ptp() function:"
   ]
  },
  {
   "cell_type": "code",
   "execution_count": 8,
   "metadata": {},
   "outputs": [
    {
     "name": "stdout",
     "output_type": "stream",
     "text": [
      "Spread high price 610.099976\n",
      "Spread low price 614.370026\n"
     ]
    }
   ],
   "source": [
    "print(\"Spread high price\", np.ptp(h))\n",
    "print(\"Spread low price\", np.ptp(l))"
   ]
  },
  {
   "cell_type": "code",
   "execution_count": 9,
   "metadata": {},
   "outputs": [
    {
     "name": "stdout",
     "output_type": "stream",
     "text": [
      "Spread high price 610.099976\n",
      "Spread low price 614.370026\n"
     ]
    }
   ],
   "source": [
    "print(\"Spread high price\", np.max(h)-np.min(h))\n",
    "print(\"Spread low price\", np.max(l)-np.min(l))"
   ]
  },
  {
   "cell_type": "markdown",
   "metadata": {},
   "source": [
    "# What just happened?\n",
    "We defined a range of highest to lowest values for the price. The highest value was given by\n",
    "applying the max() function to the high price array. Similarly, the lowest value was found\n",
    "by calling the min() function to the low price array. We also calculated the peak-to-peak\n",
    "distance with the ptp() function:"
   ]
  },
  {
   "cell_type": "code",
   "execution_count": 10,
   "metadata": {},
   "outputs": [
    {
     "name": "stdout",
     "output_type": "stream",
     "text": [
      "highest = 699.569977\n",
      "lowest = 90.699997\n",
      "395.134987\n",
      "Spread high price 610.099976\n",
      "Spread low price 614.370026\n"
     ]
    }
   ],
   "source": [
    "h,l=np.loadtxt('prices.csv', delimiter=',', usecols=(4,5), unpack=True)\n",
    "print(\"highest =\", np.max(h))\n",
    "print(\"lowest =\", np.min(l))\n",
    "print((np.max(h) + np.min(l)) /2)\n",
    "print(\"Spread high price\", np.ptp(h))\n",
    "print(\"Spread low price\", np.ptp(l))\n"
   ]
  },
  {
   "cell_type": "markdown",
   "metadata": {},
   "source": [
    "# Statistics\n",
    "Stock traders are interested in the most probable close price. Common sense says that\n",
    "this should be close to some kind of an average as the price dances around a mean, due to\n",
    "random fluctuations. The arithmetic mean and weighted average are ways to find the center\n",
    "of a distribution of values. However, neither are robust and both are sensitive to outliers.\n",
    "Outliers are extreme values that are much bigger or smaller than the typical values in a\n",
    "dataset. Usually, outliers are caused by a rare phenomenon or a measurement error. For\n",
    "instance, if we have a close price value of a million dollars, this will influence the outcome\n",
    "of our calculations.\n",
    "# Time for action – performing simple statistics\n",
    "We can use some kind of threshold to weed out outliers, but there is a better way. It is called\n",
    "the median, and it basically picks the middle value of a sorted set of values (see https://\n",
    "www.khanacademy.org/math/probability/descriptive-statistics/central_\n",
    "tendency/e/mean_median_and_mode). One half of the data is below the median and the\n",
    "other half is above it. For example, if we have the values of 1, 2, 3, 4, and 5, then the median\n",
    "will be 3, since it is in the middle. "
   ]
  },
  {
   "cell_type": "code",
   "execution_count": 11,
   "metadata": {
    "collapsed": true
   },
   "outputs": [],
   "source": [
    "c=np.loadtxt('prices.csv', delimiter=',', usecols=(3,), unpack=True)"
   ]
  },
  {
   "cell_type": "code",
   "execution_count": 12,
   "metadata": {},
   "outputs": [
    {
     "data": {
      "text/plain": [
       "array([214.009998, 214.379993, 210.969995, ..., 116.760002, 116.730003,\n",
       "       115.82    ])"
      ]
     },
     "execution_count": 12,
     "metadata": {},
     "output_type": "execute_result"
    }
   ],
   "source": [
    "c"
   ]
  },
  {
   "cell_type": "code",
   "execution_count": 13,
   "metadata": {},
   "outputs": [
    {
     "name": "stdout",
     "output_type": "stream",
     "text": [
      "median = 318.24000750000005\n"
     ]
    }
   ],
   "source": [
    "print(\"median =\", np.median(c))"
   ]
  },
  {
   "cell_type": "raw",
   "metadata": {},
   "source": [
    "Since it is our first time using the median() function, we would like to check\n",
    "whether this is correct. Obviously, we can do it by just going through the file and\n",
    "finding the correct value, but that is no fun. Instead, we will just mimic the median\n",
    "algorithm by sorting the close price array and printing the middle value of the sorted\n",
    "array. The msort() function does the first part for us. Call the function, store the\n",
    "sorted array, and then print it:"
   ]
  },
  {
   "cell_type": "code",
   "execution_count": 14,
   "metadata": {},
   "outputs": [
    {
     "name": "stdout",
     "output_type": "stream",
     "text": [
      "sorted = [ 0.  1.  2.  3.  4.  5.  6.  7.  8.  9. 10. 11. 12. 13. 14. 15. 16. 17.\n",
      " 18. 19. 20. 21. 22. 23. 24. 25. 26. 27. 28. 29. 30. 31. 32. 33. 34. 35.\n",
      " 36. 37. 38. 39. 40. 41. 42. 43. 44.]\n"
     ]
    }
   ],
   "source": [
    "c=np.arange(45, dtype=float)\n",
    "sorted_close = np.msort(c)\n",
    "print(\"sorted =\", sorted_close)"
   ]
  },
  {
   "cell_type": "code",
   "execution_count": 15,
   "metadata": {},
   "outputs": [
    {
     "name": "stdout",
     "output_type": "stream",
     "text": [
      "middle [22.0]\n",
      "45\n"
     ]
    }
   ],
   "source": [
    "N=len(c)\n",
    "print(\"middle\", sorted([(N-1)/2]))\n",
    "print(N)"
   ]
  },
  {
   "cell_type": "markdown",
   "metadata": {},
   "source": [
    "Hey, that's a different value than the one the median() function gave us. How\n",
    "come? Upon further investigation, we find that the median() function return value\n",
    "doesn't even appear in our file. That's even stranger! Before filing bugs with the\n",
    "NumPy team, let's have a look at the documentation:\n"
   ]
  },
  {
   "cell_type": "code",
   "execution_count": 16,
   "metadata": {
    "collapsed": true
   },
   "outputs": [],
   "source": [
    "np.median?"
   ]
  },
  {
   "cell_type": "markdown",
   "metadata": {},
   "source": [
    "This mystery is easy to solve. It turns out that our naive algorithm only works for\n",
    "arrays with odd lengths. For even-length arrays, the median is calculated from the\n",
    "average of the two array values in the middle. Therefore, type the following code:\n"
   ]
  },
  {
   "cell_type": "code",
   "execution_count": 17,
   "metadata": {},
   "outputs": [
    {
     "name": "stdout",
     "output_type": "stream",
     "text": [
      "average middle = 22.75\n"
     ]
    }
   ],
   "source": [
    "c=np.arange(46)\n",
    "N=len(c)\n",
    "print(\"average middle =\", np.sum((sorted([N/2])+sorted([(N-1)/2])))/2)\n"
   ]
  },
  {
   "cell_type": "code",
   "execution_count": 18,
   "metadata": {},
   "outputs": [
    {
     "name": "stdout",
     "output_type": "stream",
     "text": [
      "variance = 176.25\n"
     ]
    }
   ],
   "source": [
    "print(\"variance =\", np.var(c))\n"
   ]
  },
  {
   "cell_type": "code",
   "execution_count": 19,
   "metadata": {},
   "outputs": [
    {
     "name": "stdout",
     "output_type": "stream",
     "text": [
      "variance from definition = 176.25\n"
     ]
    }
   ],
   "source": [
    "print(\"variance from definition =\", np.mean((c - c.mean())**2))"
   ]
  },
  {
   "cell_type": "code",
   "execution_count": 20,
   "metadata": {},
   "outputs": [
    {
     "name": "stdout",
     "output_type": "stream",
     "text": [
      "[28 29 30 31 32]\n",
      "2.0\n",
      "with np function= 2.0\n"
     ]
    }
   ],
   "source": [
    "x=np.arange(28,33)\n",
    "print(x)\n",
    "print(np.sum((x-x.mean())**2)/len(x))\n",
    "print(\"with np function=\",np.var(x))"
   ]
  },
  {
   "cell_type": "markdown",
   "metadata": {},
   "source": [
    "Another statistical measure that we are concerned with is variance. Variance tells\n",
    "us how much a variable varies (see https://www.khanacademy.org/math/\n",
    "probability/descriptive-statistics/variance_std_deviation/e/\n",
    "variance). In our case, it also tells us how risky an investment is, since a stock\n",
    "price that varies too wildly is bound to get us into trouble.\n",
    "Calculate the variance of the close price (with NumPy, this is just a one-liner):"
   ]
  },
  {
   "cell_type": "code",
   "execution_count": 21,
   "metadata": {},
   "outputs": [
    {
     "name": "stdout",
     "output_type": "stream",
     "text": [
      "variance = 176.25\n"
     ]
    }
   ],
   "source": [
    "print(\"variance =\", np.var(c))"
   ]
  },
  {
   "cell_type": "code",
   "execution_count": 22,
   "metadata": {},
   "outputs": [
    {
     "name": "stdout",
     "output_type": "stream",
     "text": [
      "median = 24.5\n",
      "sorted = [ 0.  1.  2.  3.  4.  5.  6.  7.  8.  9. 10. 11. 12. 13. 14. 15. 16. 17.\n",
      " 18. 19. 20. 21. 22. 23. 24. 25. 26. 27. 28. 29. 30. 31. 32. 33. 34. 35.\n",
      " 36. 37. 38. 39. 40. 41. 42. 43. 44. 45. 46. 47. 48. 49.]\n",
      "50\n",
      "middle = 24.0\n",
      "average middle = <function average at 0x00000178FC247620>\n",
      "variance = 208.25\n",
      "variance from definition = 2.0\n"
     ]
    }
   ],
   "source": [
    "import numpy as np\n",
    "c=np.arange(50, dtype=float)\n",
    "print(\"median =\", np.median(c))\n",
    "sorted = np.msort(c)\n",
    "print(\"sorted =\", sorted)\n",
    "N = len(c)\n",
    "print(N)\n",
    "print(\"middle =\", sorted[int((N - 1)/2)])\n",
    "print(\"average middle =\", np.average)\n",
    "print(\"variance =\", np.var(c))\n",
    "print(\"variance from definition =\", np.mean((x - x.mean())**2))"
   ]
  },
  {
   "cell_type": "code",
   "execution_count": 23,
   "metadata": {},
   "outputs": [
    {
     "name": "stdout",
     "output_type": "stream",
     "text": [
      "[ 0.  1.  2.  3.  4.  5.  6.  7.  8.  9. 10. 11. 12. 13. 14. 15. 16. 17.\n",
      " 18. 19. 20. 21. 22. 23. 24. 25. 26. 27. 28. 29. 30. 31. 32. 33. 34. 35.\n",
      " 36. 37. 38. 39. 40. 41. 42. 43. 44. 45. 46. 47. 48. 49.] =d=====\n",
      "[       inf 1.         0.5        0.33333333 0.25       0.2\n",
      " 0.16666667 0.14285714 0.125      0.11111111 0.1        0.09090909\n",
      " 0.08333333 0.07692308 0.07142857 0.06666667 0.0625     0.05882353\n",
      " 0.05555556 0.05263158 0.05       0.04761905 0.04545455 0.04347826\n",
      " 0.04166667 0.04       0.03846154 0.03703704 0.03571429 0.03448276\n",
      " 0.03333333 0.03225806 0.03125    0.03030303 0.02941176 0.02857143\n",
      " 0.02777778 0.02702703 0.02631579 0.02564103 0.025      0.02439024\n",
      " 0.02380952 0.02325581 0.02272727 0.02222222 0.02173913 0.0212766\n",
      " 0.02083333]\n"
     ]
    },
    {
     "name": "stderr",
     "output_type": "stream",
     "text": [
      "C:\\Users\\Muhammad Qasim\\Anaconda3\\lib\\site-packages\\ipykernel_launcher.py:1: RuntimeWarning: divide by zero encountered in true_divide\n",
      "  \"\"\"Entry point for launching an IPython kernel.\n"
     ]
    }
   ],
   "source": [
    "returns=np.diff(c)/c[:-1]\n",
    "print(c,\"=d=====\")\n",
    "print(returns)"
   ]
  },
  {
   "cell_type": "code",
   "execution_count": 24,
   "metadata": {},
   "outputs": [
    {
     "name": "stdout",
     "output_type": "stream",
     "text": [
      "Standard deviation = 14.430869689661812\n"
     ]
    }
   ],
   "source": [
    "print(\"Standard deviation =\", np.std(c))"
   ]
  },
  {
   "cell_type": "markdown",
   "metadata": {},
   "source": [
    "The log return or logarithmic return is even easier to calculate. Use the log()\n",
    "function to get the natural logarithm of the close price and then unleash the\n",
    "diff() function on the result:"
   ]
  },
  {
   "cell_type": "code",
   "execution_count": 25,
   "metadata": {},
   "outputs": [
    {
     "name": "stderr",
     "output_type": "stream",
     "text": [
      "C:\\Users\\Muhammad Qasim\\Anaconda3\\lib\\site-packages\\ipykernel_launcher.py:1: RuntimeWarning: divide by zero encountered in log\n",
      "  \"\"\"Entry point for launching an IPython kernel.\n"
     ]
    },
    {
     "data": {
      "text/plain": [
       "array([       inf, 0.69314718, 0.40546511, 0.28768207, 0.22314355,\n",
       "       0.18232156, 0.15415068, 0.13353139, 0.11778304, 0.10536052,\n",
       "       0.09531018, 0.08701138, 0.08004271, 0.07410797, 0.06899287,\n",
       "       0.06453852, 0.06062462, 0.05715841, 0.05406722, 0.05129329,\n",
       "       0.04879016, 0.04652002, 0.04445176, 0.04255961, 0.04082199,\n",
       "       0.03922071, 0.03774033, 0.03636764, 0.03509132, 0.03390155,\n",
       "       0.03278982, 0.0317487 , 0.03077166, 0.02985296, 0.02898754,\n",
       "       0.02817088, 0.02739897, 0.02666825, 0.02597549, 0.02531781,\n",
       "       0.02469261, 0.02409755, 0.0235305 , 0.02298952, 0.02247286,\n",
       "       0.02197891, 0.02150621, 0.02105341, 0.02061929])"
      ]
     },
     "execution_count": 25,
     "metadata": {},
     "output_type": "execute_result"
    }
   ],
   "source": [
    "logreturns = np.diff(np.log(c))\n",
    "logreturns"
   ]
  },
  {
   "cell_type": "markdown",
   "metadata": {},
   "source": [
    "Quite likely, we will be interested in days when the return is positive. In the current\n",
    "setup, we can get the next best thing with the where() function, which returns the\n",
    "indices of an array that satisfies a condition. Just type the following code:"
   ]
  },
  {
   "cell_type": "code",
   "execution_count": 26,
   "metadata": {},
   "outputs": [
    {
     "name": "stdout",
     "output_type": "stream",
     "text": [
      "Indices with positive returns (array([ 0,  1,  2,  3,  4,  5,  6,  7,  8,  9, 10, 11, 12, 13, 14, 15, 16,\n",
      "       17, 18, 19, 20, 21, 22, 23, 24, 25, 26, 27, 28, 29, 30, 31, 32, 33,\n",
      "       34, 35, 36, 37, 38, 39, 40, 41, 42, 43, 44, 45, 46, 47, 48],\n",
      "      dtype=int64),)\n"
     ]
    }
   ],
   "source": [
    "posretindices = np.where(returns > 0)\n",
    "print(\"Indices with positive returns\", posretindices)"
   ]
  },
  {
   "cell_type": "markdown",
   "metadata": {},
   "source": [
    "In investing, volatility measures price variation of a financial security. Historical\n",
    "volatility is calculated from historical price data. The logarithmic returns are\n",
    "interesting if you want to know the historical volatility—for instance, the annualized\n",
    "or monthly volatility. The annualized volatility is equal to the standard deviation of\n",
    "the log returns as a ratio of its mean, divided by one over the square root of the\n",
    "number of business days in a year, usually one assumes 252. Calculate it with the\n",
    "std() and mean() functions, as in the following code:"
   ]
  },
  {
   "cell_type": "code",
   "execution_count": 27,
   "metadata": {},
   "outputs": [
    {
     "name": "stdout",
     "output_type": "stream",
     "text": [
      "nan\n"
     ]
    },
    {
     "name": "stderr",
     "output_type": "stream",
     "text": [
      "C:\\Users\\Muhammad Qasim\\Anaconda3\\lib\\site-packages\\numpy\\core\\_methods.py:112: RuntimeWarning: invalid value encountered in subtract\n",
      "  x = asanyarray(arr - arrmean)\n"
     ]
    }
   ],
   "source": [
    "annual_volatility = np.std(logreturns)/np.mean(logreturns)\n",
    "annual_volatility = annual_volatility / np.sqrt(1./252.)\n",
    "print(annual_volatility)"
   ]
  },
  {
   "cell_type": "code",
   "execution_count": 28,
   "metadata": {},
   "outputs": [
    {
     "name": "stdout",
     "output_type": "stream",
     "text": [
      "Monthly volatility nan\n"
     ]
    }
   ],
   "source": [
    "print(\"Monthly volatility\", annual_volatility * np.sqrt(1./12.))"
   ]
  },
  {
   "cell_type": "code",
   "execution_count": 29,
   "metadata": {},
   "outputs": [
    {
     "name": "stdout",
     "output_type": "stream",
     "text": [
      "Standard deviation = 43.292609068985435\n",
      "Indices with positive returns (array([ 0,  1,  2,  3,  4,  5,  6,  7,  8,  9, 10, 11, 12, 13, 14, 15, 16,\n",
      "       17, 18, 19, 20, 21, 22, 23, 24, 25, 26, 27, 28, 29, 30, 31, 32, 33,\n",
      "       34, 35, 36, 37, 38, 39, 40, 41, 42, 43, 44, 45, 46, 47, 48],\n",
      "      dtype=int64),)\n"
     ]
    },
    {
     "name": "stderr",
     "output_type": "stream",
     "text": [
      "C:\\Users\\Muhammad Qasim\\Anaconda3\\lib\\site-packages\\ipykernel_launcher.py:2: RuntimeWarning: divide by zero encountered in true_divide\n",
      "  \n",
      "C:\\Users\\Muhammad Qasim\\Anaconda3\\lib\\site-packages\\ipykernel_launcher.py:4: RuntimeWarning: divide by zero encountered in log\n",
      "  after removing the cwd from sys.path.\n",
      "C:\\Users\\Muhammad Qasim\\Anaconda3\\lib\\site-packages\\numpy\\core\\_methods.py:112: RuntimeWarning: invalid value encountered in subtract\n",
      "  x = asanyarray(arr - arrmean)\n"
     ]
    }
   ],
   "source": [
    "c=np.arange(0,150,3)\n",
    "returns = np.diff( c ) / c[ : -1]\n",
    "print(\"Standard deviation =\", np.std(c))\n",
    "logreturns = np.diff( np.log(c) )\n",
    "posretindices = np.where(returns > 0)\n",
    "print(\"Indices with positive returns\", posretindices)\n",
    "annual_volatility = np.std(logreturns)/np.mean(logreturns)\n",
    "annual_volatility = annual_volatility / np.sqrt(1./252.)\n",
    "#print(\"Annual volatility\", annual_volatility)\n",
    "#print(\"Monthly volatility\", annual_volatility * np.sqrt(1./12.))\n",
    "#print(\"logreturn\",logreturns)"
   ]
  },
  {
   "cell_type": "code",
   "execution_count": 30,
   "metadata": {},
   "outputs": [
    {
     "name": "stdout",
     "output_type": "stream",
     "text": [
      "(array([0, 1, 2, 3, 4, 5, 6, 7, 8, 9], dtype=int64),)\n",
      "[[ 0  3  6  9 12 15 18 21 24 27]]\n"
     ]
    }
   ],
   "source": [
    "print(np.where(c<30))\n",
    "print(np.take(c,np.where(c<30)))"
   ]
  },
  {
   "cell_type": "markdown",
   "metadata": {},
   "source": [
    "# Dates\n",
    "Do you sometimes have the Monday blues or Friday fever? Ever wondered whether\n",
    "the stock market suffers from these phenomena? Well, I think this certainly warrants\n",
    "extensive research.\n",
    "# Time for action – dealing with dates\n",
    "First, we will read the close price data. Second, we will split the prices according to the day\n",
    "of the week. Third, for each weekday, we will calculate the average price. Finally, we will\n",
    "find out which day of the week has the highest average and which has the lowest average.\n",
    "A word of warning before we commence: you might be tempted to use the result to buy\n",
    "stock on one day and sell on the other. However, we don't have enough data to make this\n",
    "kind of decisions."
   ]
  },
  {
   "cell_type": "code",
   "execution_count": 31,
   "metadata": {
    "collapsed": true
   },
   "outputs": [],
   "source": [
    "import datetime\n",
    "def dates2num(s):\n",
    "    return datetime.datetime.strptime(s, \"%d-%m-%Y\").date().weekday()"
   ]
  },
  {
   "cell_type": "code",
   "execution_count": 32,
   "metadata": {},
   "outputs": [
    {
     "data": {
      "text/plain": [
       "4"
      ]
     },
     "execution_count": 32,
     "metadata": {},
     "output_type": "execute_result"
    }
   ],
   "source": [
    "dates2num('28-01-2011')"
   ]
  },
  {
   "cell_type": "code",
   "execution_count": 33,
   "metadata": {},
   "outputs": [
    {
     "data": {
      "text/plain": [
       "array([0., 1., 2., ..., 2., 3., 4.], dtype=float32)"
      ]
     },
     "execution_count": 33,
     "metadata": {},
     "output_type": "execute_result"
    }
   ],
   "source": [
    "\n",
    "dates, price, close=np.loadtxt('prices.csv', delimiter=',', usecols=(0,2,3), converters={1: dates2num}, unpack=True, dtype='str')\n",
    "dates\n",
    "dates=list(map(dates2num, dates))\n",
    "dates=np.asanyarray(dates,'f')\n",
    "dates"
   ]
  },
  {
   "cell_type": "code",
   "execution_count": 34,
   "metadata": {},
   "outputs": [
    {
     "data": {
      "text/plain": [
       "array([214.01   , 214.37999, 210.97   , ..., 116.76   , 116.73   ,\n",
       "       115.82   ], dtype=float32)"
      ]
     },
     "execution_count": 34,
     "metadata": {},
     "output_type": "execute_result"
    }
   ],
   "source": [
    "close = np.asanyarray(close,'f')\n",
    "close"
   ]
  },
  {
   "cell_type": "code",
   "execution_count": 35,
   "metadata": {},
   "outputs": [
    {
     "data": {
      "text/plain": [
       "array([213.429998, 214.599998, 214.379993, ..., 117.519997, 116.449997,\n",
       "       116.650002])"
      ]
     },
     "execution_count": 35,
     "metadata": {},
     "output_type": "execute_result"
    }
   ],
   "source": [
    "price = np.asarray(price,'d')\n",
    "price"
   ]
  },
  {
   "cell_type": "code",
   "execution_count": 36,
   "metadata": {},
   "outputs": [
    {
     "data": {
      "text/plain": [
       "array([0., 0., 0., 0., 0.])"
      ]
     },
     "execution_count": 36,
     "metadata": {},
     "output_type": "execute_result"
    }
   ],
   "source": [
    "averages = np.zeros(5)\n",
    "averages"
   ]
  },
  {
   "cell_type": "code",
   "execution_count": 37,
   "metadata": {},
   "outputs": [
    {
     "name": "stdout",
     "output_type": "stream",
     "text": [
      "Day 0 prices [[214.01    210.11    203.07    194.73    194.12    200.42    208.99\n",
      "  219.07999 223.84    224.75    232.39    238.49    242.29001 247.07\n",
      "  269.5     266.35    253.99    254.22    246.76    250.94    254.28\n",
      "  270.17    268.3     257.29    245.58002 259.28    261.85    261.75\n",
      "  247.64    245.79999 242.5     267.04    283.23    291.15997 278.63998\n",
      "  295.36002 318.      308.84    304.18    318.62    307.04    313.36\n",
      "  316.87    320.15    321.67    322.21    324.68002 329.57    342.45\n",
      "  337.44998 339.32    351.88    359.18    353.21002 355.36    353.56\n",
      "  339.3     350.44    341.19    330.8     331.85    353.01    346.28\n",
      "  347.6     333.3     334.4     338.03998 326.6     315.32    332.03998\n",
      "  354.      373.80002 398.5     396.75    353.21002 383.41    356.43997\n",
      "  389.97    379.94    411.63    403.17    374.6     388.81    419.99002\n",
      "  405.77002 404.78    399.73    379.26    369.01    376.12    393.01\n",
      "  391.84    382.21    421.73    427.41    453.01    463.96997 502.6\n",
      "  525.76    533.16003 552.      601.1     606.98    618.63    636.23\n",
      "  580.13    571.69995 583.98    569.48    558.22    561.27997 564.29\n",
      "  571.17    585.77997 570.77    592.52    613.89    606.91003 603.83\n",
      "  595.03    622.55    630.      665.15    675.68    662.74    699.78\n",
      "  690.79004 659.39    638.17    634.76    634.03    584.62    542.83\n",
      "  565.73004 589.53    586.19    529.82    518.82996 520.17    532.17\n",
      "  523.9     501.75    449.83002 442.32    479.93002 442.8     420.05\n",
      "  437.87    455.72    463.58002 428.91    426.21    419.85    398.67\n",
      "  430.12    460.71    454.74002 442.93    450.72    438.88998 432.\n",
      "  402.54    409.22    415.05002 427.44    426.31    447.79    469.45\n",
      "  467.36002 507.74    502.97    506.16998 450.12    490.64    476.74997\n",
      "  487.75    496.03998 521.36005 529.88    526.75    519.05    518.62994\n",
      "  523.74    551.23004 566.43    557.5     570.09    554.51996 543.93\n",
      "  535.73004 550.5     501.53    528.99    527.55    527.76    530.92\n",
      "  526.74    539.19    536.74    523.47    521.68    531.17004 594.09\n",
      "  600.95996 592.83    604.59    628.65     93.7      92.2      90.83\n",
      "   92.93     95.97     96.45     93.94     99.02     95.59     95.99\n",
      "   99.16    101.54     98.36    101.63    101.06    100.11     99.62\n",
      "   99.81     99.76    105.11    109.4     108.83    113.99    118.63\n",
      "  115.07    112.4     108.23    112.94    113.91    106.25    109.25\n",
      "  113.1     118.63    119.72    133.      129.09    127.14    124.95\n",
      "  127.21    126.37    127.35    126.85    127.6     132.65    128.7\n",
      "  126.32    130.19    130.54    127.8     126.92    127.61    124.53\n",
      "  126.      125.66    132.07    122.77    118.44    119.72    117.16\n",
      "  103.12    112.76    115.31    115.21    112.44    110.78    111.6\n",
      "  111.73    115.28    121.18    120.57    114.18    117.75    118.3\n",
      "  118.28    112.48    107.33    106.82    105.35     98.53     99.44\n",
      "   96.43     95.01     96.88     96.69    101.87    102.52    105.91\n",
      "  105.19    111.12    109.02    107.48    105.08     93.64     92.79\n",
      "   93.88     96.43     98.63     97.34     95.1      92.04     96.98\n",
      "   99.83     97.34    106.05    108.37    109.48    108.51    106.82\n",
      "  105.44    113.58    112.88    112.52    116.05    117.55    117.65\n",
      "  113.54    110.41    105.71    111.73    111.57    109.11    113.3\n",
      "  116.64   ]] Average 312.1714\n",
      "Day 1 prices [[214.37999 207.72    215.04    205.94    195.86    196.19    203.4\n",
      "  197.06    208.85    223.02    224.45    228.36    235.84999 239.54001\n",
      "  242.43001 244.59001 262.03998 258.68    256.52    252.36    245.22\n",
      "  260.83002 249.33    259.69    273.85    256.17    248.62999 251.79999\n",
      "  251.89001 264.08002 261.93    259.41    251.97002 239.93001 243.1\n",
      "  257.81003 268.06    283.77    286.86    288.94    298.54    309.49\n",
      "  308.05    309.36002 316.08    301.59    308.73    311.15    318.21002\n",
      "  320.29    324.2     325.47    331.29    341.63998 340.65002 341.4\n",
      "  345.03    355.2     359.90002 338.61    349.31    355.76    345.43\n",
      "  341.2     350.96    338.88998 332.4     337.86    350.42    348.2\n",
      "  349.45    336.14    332.19    347.83    332.03998 332.44    325.3\n",
      "  335.26    349.43    353.75    376.84998 403.41    388.91    374.01\n",
      "  380.48    373.6     389.99    379.74002 384.62    413.45    399.26\n",
      "  372.5     400.28998 422.24    397.77002 396.51    406.22998 388.83\n",
      "  376.51    373.2     390.94998 388.81    395.95    406.53    411.23\n",
      "  423.24    424.7     420.41    456.47998 468.83002 509.46    514.85004\n",
      "  535.41003 530.26    568.1     605.95996 614.48004 629.32    628.44\n",
      "  609.7     560.28    582.13    568.18    553.17    556.97003 572.26996\n",
      "  562.83    576.16    587.41003 572.03    599.41    608.21    606.94\n",
      "  600.92    610.76    620.91003 631.69    656.06    674.8     674.97\n",
      "  660.59    701.91003 673.54004 661.31    635.85004 649.79    613.36\n",
      "  582.85    542.9     560.91    584.78    575.85    541.39    533.9\n",
      "  525.31    485.92    504.77    458.27    457.84003 467.9     459.99002\n",
      "  448.97    431.13998 428.43    454.49    461.14    429.79    426.98\n",
      "  426.24002 406.13    442.78    458.66    443.86002 439.66    441.44\n",
      "  449.31    437.6     431.77    402.63    418.49    422.34998 430.19998\n",
      "  418.99    453.32    465.25    489.56998 501.07    488.58997 488.58\n",
      "  494.63998 455.32    489.1     487.96002 480.93997 498.68    519.87\n",
      "  516.68    525.45    520.00995 519.55    533.39996 566.32    565.55\n",
      "  554.99    567.67    561.02    540.04004 546.39    549.07    506.49997\n",
      "  508.79    535.95996 545.99    522.06    531.24    536.08997 531.39996\n",
      "  544.99    541.65    523.44    517.96    531.7     592.32996 594.41003\n",
      "  593.76    604.71    625.63    637.54     94.25     92.08     90.28\n",
      "   93.52     95.35     95.32     94.72     98.38     95.12     95.97\n",
      "  100.53    100.89    103.3      97.99    100.86    102.64    100.75\n",
      "   98.75     98.75    102.47    106.74    108.6     109.7     115.47\n",
      "  117.6     114.63    114.12    106.75    112.54    112.52    106.26\n",
      "  110.22    108.72    109.14    118.65    122.02    127.83    132.17\n",
      "  129.36    124.51    127.04    126.69    124.43    126.01    126.3\n",
      "  126.91    130.56    125.8     125.87    130.07    129.62    129.96\n",
      "  127.42    127.6     127.03    125.43    125.69    125.61    130.75\n",
      "  123.38    114.64    113.49    116.5     103.74    107.72    112.31\n",
      "  116.28    113.4     109.06    111.31    111.79    113.77    114.55\n",
      "  122.57    116.77    113.69    118.88    117.34    118.23    110.49\n",
      "  107.23    108.74    102.71     99.96     96.66     99.99     94.48\n",
      "   94.99     96.64     94.69    100.53    101.03    104.58    106.72\n",
      "  107.68    109.81    110.44    106.91    104.35     95.18     93.42\n",
      "   93.49     97.9      99.86     99.03     97.46     95.91     93.59\n",
      "   94.99     97.42     99.87     96.67    104.48    108.81    109.38\n",
      "  108.85    106.      107.7     107.95    113.57    113.09    113.\n",
      "  116.3     117.47    118.25    111.49    111.06    107.11    111.8\n",
      "  111.46    109.95    115.19    116.95    117.26   ]] Average 311.7284\n",
      "Day 2 prices [[210.97    210.65001 211.73    207.88    199.23    195.12001 202.55\n",
      "  200.66    209.33    224.84    224.12001 229.37001 235.00002 240.6\n",
      "  245.69    259.22    261.6     255.99    262.09    248.34    244.11\n",
      "  263.94998 243.20001 267.25    270.97    251.53    258.67    252.73\n",
      "  254.24    260.96    262.98    250.19    253.07    242.89    250.33\n",
      "  262.92    270.22    287.75    287.37    289.19    300.14    310.53\n",
      "  307.83002 312.8     318.03    300.5     314.8     316.4     321.00998\n",
      "  320.36    325.16    325.29    334.      344.42    338.84003 343.85\n",
      "  344.32    358.16    363.13    342.62    352.12    352.47    330.01\n",
      "  339.19    348.63    338.03998 336.13    342.41    350.15    349.57\n",
      "  347.23    339.87    336.78    345.50998 332.24    326.75    322.61002\n",
      "  334.04    351.75998 358.02    386.9     392.59    392.57    363.69\n",
      "  380.44    376.18002 384.83002 383.93    389.3     412.14    397.01\n",
      "  378.25    402.19    398.62    400.6     397.41    395.28    384.77002\n",
      "  366.99    382.19998 389.09    380.19    396.45    402.64    413.44\n",
      "  422.55    429.11002 446.66    456.18997 476.68002 497.66998 513.04\n",
      "  542.44    530.69    589.58    602.5     617.62    624.31    626.2\n",
      "  608.34    610.      585.98    569.18    546.08    570.56    579.17\n",
      "  571.46    572.16003 585.74    574.5     604.43    606.26    574.97003\n",
      "  606.81    619.86    630.82996 668.87    673.47    670.23004 669.79004\n",
      "  702.10004 665.18    671.44995 640.91    644.61    616.82996 595.32\n",
      "  558.      536.88    561.7     582.94    538.79004 539.      526.31\n",
      "  513.      549.02997 517.1     506.08997 514.01    456.83002 457.35\n",
      "  467.01    448.85    444.56998 425.66    428.35    452.08    452.08\n",
      "  431.99    435.69    402.80002 405.46    439.29    463.84    428.85\n",
      "  441.35    444.95    445.11002 432.19    423.      398.06998 420.8\n",
      "  420.73    430.31    440.51    452.53    464.97998 498.5     502.36002\n",
      "  490.9     498.69003 467.71    464.68002 481.53    489.56    486.59\n",
      "  501.11002 524.96    524.9     520.92    520.63    515.      545.96\n",
      "  565.      561.36    550.76996 543.46    557.36    551.50995 500.75\n",
      "  512.58997 535.92    537.37    517.35    532.36    536.61    531.26\n",
      "  539.77997 542.55    530.32    519.01    524.75    590.08997 592.32996\n",
      "  593.87    606.31    624.01    644.82     93.86     92.18     90.36\n",
      "   93.48     95.39     94.78     97.19     98.15     94.96     97.24\n",
      "  100.57    102.13     98.94    101.      101.58    101.75     99.18\n",
      "  100.8      97.54    102.99    107.34    108.86    111.25    114.67\n",
      "  119.      115.93    111.95    109.41    112.01    110.38    107.75\n",
      "  109.8     109.55    115.31    119.56    124.88    128.72    128.79\n",
      "  128.54    122.24    128.47    123.38    124.25    125.6     126.78\n",
      "  128.62    128.64    125.01    126.01    130.06    132.04    130.12\n",
      "  128.88    127.3     128.11    126.6     122.57    126.82    125.22\n",
      "  122.99    115.4     115.24    115.01    109.69    112.34    110.15\n",
      "  116.41    114.32    110.3     110.78    110.21    113.76    119.27\n",
      "  122.      116.11    117.29    118.03    116.28    115.62    111.34\n",
      "  108.61    107.32    100.7      97.39     96.79     93.42     96.35\n",
      "   94.27     98.12     96.1     100.75    101.12    105.97    106.13\n",
      "  109.56    110.96    112.04    107.13     97.82     94.19     92.51\n",
      "   94.56     99.62     98.46     98.94     97.14     95.55     94.4\n",
      "   95.53     96.87     99.96    102.95    105.79    108.      109.22\n",
      "  108.03    106.1     108.36    111.77    113.55    113.95    113.05\n",
      "  117.34    117.12    115.59    111.59    110.88    109.99    111.23\n",
      "  110.52    111.03    115.19    117.06    116.76   ]] Average 311.6774\n",
      "Day 3 prices [[210.58    209.43    208.06999 199.29    192.05    198.67    202.93\n",
      "  202.      210.71    225.50002 224.65001 226.65    235.97    239.95001\n",
      "  248.92001 266.47    268.64    246.24998 258.36002 237.76    253.34999\n",
      "  263.12    250.51001 271.87    269.      248.48    258.09    251.45\n",
      "  259.02    258.11    261.7     251.79001 249.88    240.28    252.17\n",
      "  263.07    276.56998 288.91998 283.75    289.22    302.31    309.52002\n",
      "  305.24    318.27002 316.65    308.43    318.15    319.76    321.25\n",
      "  323.6     323.66    333.72998 345.68002 332.68    343.21    343.44\n",
      "  354.54    358.3     342.88    359.56    346.66998 334.63998 344.97\n",
      "  348.51    338.08    332.41998 350.69998 346.75    346.75    346.56998\n",
      "  340.53    335.      346.1     331.49    325.16    331.23    335.67\n",
      "  357.2     357.77    387.29    391.82    377.37    373.7     366.05002\n",
      "  373.72    381.03    384.14    392.96    401.82    390.57    377.37\n",
      "  408.43    395.31    404.69    403.07    385.22    377.41    387.93\n",
      "  390.66    378.94    398.55    405.12    418.03    421.38998 427.75\n",
      "  444.63    455.12    493.17    502.21    516.38995 544.47    541.99\n",
      "  585.56    599.34    609.86    633.68    622.76996 587.44    607.7\n",
      "  581.82    570.51996 530.12    565.32    577.73004 571.72    571.52997\n",
      "  577.67    569.05    609.94    598.9     614.32    574.88    607.79\n",
      "  620.73    636.34    662.63    663.87    676.27    682.98004 698.7\n",
      "  681.32    666.8     628.1     632.64    609.54    596.54004 537.75\n",
      "  525.62    589.36    547.24    529.69    521.73004 515.06    542.1\n",
      "  523.50995 502.68002 450.49997 455.49    468.22    466.59003 446.06\n",
      "  441.4     430.58002 432.5     452.72998 442.66    427.72    434.33\n",
      "  392.05    408.38    445.52    456.77    434.58002 442.13998 451.58002\n",
      "  438.46    435.96    416.84    393.78    427.28998 431.76    438.5\n",
      "  456.68    461.01    497.90997 502.95996 491.7     495.27    472.69003\n",
      "  472.3     486.22    483.41    489.63998 504.5     531.91003 522.69995\n",
      "  512.49005 528.16003 521.14    567.9     560.54    544.45996 563.9\n",
      "  553.13    536.52    554.25    556.18    499.78    512.51    544.43\n",
      "  531.15    527.67004 530.75    530.65    528.7     537.45996 538.79004\n",
      "  523.48004 524.94    567.77    591.48004 587.99    588.82    607.26996\n",
      "  635.38    647.35     92.29     91.86     90.9      94.03     95.04\n",
      "   93.09     97.03     95.6      94.48     97.5     100.58    102.25\n",
      "   98.12    101.43    101.79     97.87     99.9     101.02     96.26\n",
      "  104.83    106.98    108.7     112.82    116.31    115.49    111.62\n",
      "  112.65    111.89    106.82    112.4     118.9     119.94    126.46\n",
      "  128.45    130.42    126.41    124.45    127.5     124.24    125.32\n",
      "  126.56    126.17    129.67    125.15    125.26    128.95    131.39\n",
      "  131.78    129.36    128.59    127.88    127.5     126.44    120.07\n",
      "  128.51    125.16    122.37    115.13    115.15    112.65    112.92\n",
      "  110.37    112.57    113.92    115.      109.58    109.5     111.86\n",
      "  115.5     120.53    120.92    115.72    118.78    115.2     116.17\n",
      "  108.98    108.03    105.26     96.45     99.52     96.3      94.09\n",
      "   96.6      93.7      96.26     96.76    101.5     101.17    105.8\n",
      "  105.67    108.99    108.54    112.1     105.97     94.83     93.24\n",
      "   90.34     94.2     100.41     97.72     99.65     97.55     96.1\n",
      "   95.6      95.94     98.79     99.43    104.34    105.87    107.93\n",
      "  109.08    107.57    106.73    105.52    115.57    114.62    112.18\n",
      "  113.89    116.98    117.06    114.48    109.83    107.79    109.95\n",
      "  109.49    112.12    115.82    116.29    116.73   ]] Average 314.5212\n",
      "Day 4 prices [[211.98001 205.93    197.75    192.06    195.46    200.37999 201.67\n",
      "  204.62    218.95001 226.6     222.25    230.9     241.79    247.40001\n",
      "  270.83    261.09    235.86    253.81999 242.31999 256.88    255.96\n",
      "  253.51    274.07    266.69998 246.93999 259.62    249.90001 259.94\n",
      "  257.25    260.09003 249.09999 249.64    241.62001 258.77002 263.41\n",
      "  275.37    292.31998 282.52    294.06998 314.74    307.47    300.98\n",
      "  317.13    308.03    306.73    315.      317.44    320.56    320.61002\n",
      "  322.56003 336.12    348.47998 326.72    336.1     346.5     356.85\n",
      "  350.56003 348.16    360.      351.99    330.66998 351.54    344.56\n",
      "  335.06    327.46    350.13    346.66    340.5     335.22    337.41\n",
      "  343.44    325.9     320.25998 326.35    343.26    359.71    364.91998\n",
      "  393.3     390.47998 373.62    376.99    356.03    383.58    374.05\n",
      "  377.47998 400.5     404.3     381.32    369.8     422.      392.87\n",
      "  404.94998 400.24    384.62    374.94    363.57    389.7     393.62\n",
      "  381.02    403.33002 405.      422.4     419.81    420.30002 447.28\n",
      "  459.68    493.41998 502.12    522.41    545.18    545.17004 585.57\n",
      "  596.05    599.55    605.23    572.98    603.      565.25    566.71\n",
      "  530.38    562.29    560.99    580.32    574.13    582.1     584.\n",
      "  605.88    604.97    604.30005 585.16    615.7     621.7     648.11\n",
      "  663.22    665.24    680.44    691.28    700.08997 667.10004 652.58997\n",
      "  629.71    609.84    604.      576.8     547.06    527.68    571.5\n",
      "  585.27997 533.25    509.78998 519.33    509.58997 527.      520.30005\n",
      "  500.      439.88    453.62    474.98    460.16    450.81    430.47\n",
      "  431.72    443.66    461.91    423.19998 429.80002 390.53    417.19998\n",
      "  449.98    452.97    433.26    445.15    449.73    441.81    430.05\n",
      "  413.5     396.53    417.41998 426.51    424.94998 440.99002 462.53998\n",
      "  454.44998 502.33002 501.02002 487.22    498.22    464.9     467.41\n",
      "  482.75    483.03    492.81    508.88998 525.96    520.03    520.56\n",
      "  524.99    519.8     556.07    560.01996 554.43    549.01996 560.08997\n",
      "  540.98004 532.94    540.67    546.07    500.59998 519.68    543.99005\n",
      "  525.25    526.24    530.44    524.69    532.87    536.86    531.82\n",
      "  519.61005 571.94    592.58    585.54004 597.51    614.13    633.\n",
      "  645.57     91.28     90.91     91.98     95.22     94.43     97.67\n",
      "   96.13     94.74     97.98    101.32    102.5      98.97    101.66\n",
      "  100.96    100.75     99.62    100.73     97.67    105.22    108.\n",
      "  109.01    114.18    116.47    118.93    115.      109.73    111.78\n",
      "  113.99    109.33    112.01    105.99    112.98    117.16    118.93\n",
      "  127.08    129.5     128.46    126.6     123.59    125.9     123.25\n",
      "  127.1     124.75    130.28    128.95    127.62    128.77    132.54\n",
      "  130.28    128.65    127.17    126.6     126.75    123.28    129.62\n",
      "  124.5     121.3     115.52    115.96    105.76    113.29    109.27\n",
      "  114.21    113.45    114.71    110.38    112.12    111.04    119.08\n",
      "  119.5     121.06    112.34    119.3     117.81    119.03    113.18\n",
      "  106.03     96.96     97.13    101.42     97.34     94.02     93.99\n",
      "   96.04     96.91    103.01    102.26    105.92    109.99    108.66\n",
      "  109.85    105.68     93.74     92.72     90.52     95.22    100.35\n",
      "   97.92     98.83     95.33     93.4      95.89     96.68     98.78\n",
      "   98.66    104.21    107.48    108.18    109.36    106.94    107.73\n",
      "  103.13    114.92    112.71    113.05    114.06    117.63    116.6\n",
      "  113.72    108.84    108.43    110.06    111.79    109.9     113.95\n",
      "  115.97    116.52    115.82   ]] Average 314.54108\n"
     ]
    }
   ],
   "source": [
    "\n",
    "for i in range(5):\n",
    "    indices = np.where(dates == i)\n",
    "    prices = np.take(close, indices)\n",
    "    avg = np.mean(prices)\n",
    "    print(\"Day\", i, \"prices\", prices, \"Average\", avg)\n",
    "    averages[i] = avg\n"
   ]
  },
  {
   "cell_type": "markdown",
   "metadata": {},
   "source": [
    "1. If you want, you can go ahead and find out which day has the highest average, and\n",
    "which the lowest. However, it is just as easy to find this out with the max() and\n",
    "min() functions, as shown here:"
   ]
  },
  {
   "cell_type": "code",
   "execution_count": 38,
   "metadata": {},
   "outputs": [
    {
     "name": "stdout",
     "output_type": "stream",
     "text": [
      "Highest average 314.54107666015625\n",
      "Top day of the week 4\n",
      "Lowest average 311.6773986816406\n",
      "Bottom day of the week 2\n"
     ]
    }
   ],
   "source": [
    "top = np.max(averages)\n",
    "print(\"Highest average\", top)\n",
    "print(\"Top day of the week\", np.argmax(averages))\n",
    "bottom = np.min(averages)\n",
    "print(\"Lowest average\", bottom)\n",
    "print(\"Bottom day of the week\", np.argmin(averages))"
   ]
  },
  {
   "cell_type": "markdown",
   "metadata": {},
   "source": [
    "# What just happened?\n",
    "The argmin() function returned the index of the lowest value in the averages array.\n",
    "The index returned was 4, which corresponds to Friday. The argmax() function returned\n",
    "the index of the highest value in the averages array. The index returned was 2, which\n",
    "corresponds to Wednesday "
   ]
  },
  {
   "cell_type": "code",
   "execution_count": 39,
   "metadata": {
    "collapsed": true
   },
   "outputs": [],
   "source": [
    "import numpy as np\n",
    "import datetime\n",
    "# Monday 0\n",
    "# Tuesday 1\n",
    "# Wednesday 2\n",
    "# Thursday 3\n",
    "# Friday 4\n",
    "# Saturday 5\n",
    "# Sunday 6\n",
    "def datestr2num(s):\n",
    "    return datetime.datetime.strptime(s, \"%d-%m-%Y\").date().weekday()"
   ]
  },
  {
   "cell_type": "code",
   "execution_count": 40,
   "metadata": {},
   "outputs": [
    {
     "name": "stdout",
     "output_type": "stream",
     "text": [
      "[213.429998 214.599998 214.379993 ... 117.519997 116.449997 116.650002]\n",
      "[214.009998 214.379993 210.969995 ... 116.760002 116.730003 115.82    ]\n",
      "Dates = ['04-01-2010' '05-01-2010' '06-01-2010' ... '28-12-2016' '29-12-2016'\n",
      " '30-12-2016']\n",
      "average [0. 0. 0. 0. 0.]\n",
      "dates [0. 1. 2. ... 2. 3. 4.]\n"
     ]
    }
   ],
   "source": [
    "dates,price, close=np.loadtxt('prices.csv', delimiter=',', usecols=(0,2,3),\n",
    "converters={1: datestr2num}, unpack=True, dtype='str')\n",
    "price = np.asanyarray(price, 'd')\n",
    "close = np.asanyarray(close, 'd')\n",
    "\n",
    "\n",
    "print(price)\n",
    "print(close)\n",
    "print(\"Dates =\", dates)\n",
    "\n",
    "averages = np.zeros(5)\n",
    "print(\"average\",averages)\n",
    "dates = list(map(dates2num, dates))\n",
    "dates = np.asanyarray(dates,'f')\n",
    "print(\"dates\",dates)"
   ]
  },
  {
   "cell_type": "code",
   "execution_count": 41,
   "metadata": {},
   "outputs": [
    {
     "name": "stdout",
     "output_type": "stream",
     "text": [
      "Day 0 prices [[214.009998 210.110003 203.070002 194.729998 194.119997 200.419994\n",
      "  208.990004 219.079994 223.839996 224.750004 232.389992 238.489998\n",
      "  242.290005 247.070007 269.5      266.349995 253.990005 254.219997\n",
      "  246.759987 250.940002 254.279999 270.170002 268.299999 257.290001\n",
      "  245.580013 259.280006 261.849998 261.749996 247.640007 245.799992\n",
      "  242.499996 267.039997 283.230007 291.159988 278.639996 295.360004\n",
      "  317.999989 308.839993 304.179993 318.620003 307.040005 313.359989\n",
      "  316.870003 320.149998 321.670006 322.209991 324.680008 329.57\n",
      "  342.450001 337.449993 339.319996 351.87999  359.179996 353.210007\n",
      "  355.359989 353.560001 339.299995 350.44001  341.189999 330.799988\n",
      "  331.849998 353.010002 346.279995 347.599998 333.299992 334.39999\n",
      "  338.039993 326.599998 315.320007 332.039989 354.000011 373.800011\n",
      "  398.499989 396.749989 353.210007 383.410004 356.439987 389.969994\n",
      "  379.939991 411.630009 403.170002 374.600002 388.809994 419.990013\n",
      "  405.770008 404.779999 399.730003 379.260002 369.009995 376.12001\n",
      "  393.01001  391.839996 382.210003 421.73     427.409996 453.009995\n",
      "  463.969978 502.600021 525.760017 533.160027 551.999977 601.100006\n",
      "  606.97998  618.63002  636.229996 580.13002  571.699974 583.979988\n",
      "  569.480003 558.219986 561.279976 564.289978 571.169975 585.779976\n",
      "  570.77002  592.519997 613.889992 606.910019 603.830002 595.030014\n",
      "  622.550003 630.       665.150017 675.679977 662.739975 699.780022\n",
      "  690.790016 659.389992 638.170013 634.760002 634.029999 584.620003\n",
      "  542.829994 565.730011 589.530022 586.190025 529.819977 518.829979\n",
      "  520.169983 532.169991 523.900002 501.750015 449.830002 442.320004\n",
      "  479.930023 442.799988 420.049988 437.869995 455.720016 463.580009\n",
      "  428.910004 426.209995 419.85001  398.670006 430.119991 460.709984\n",
      "  454.740021 442.930004 450.720009 438.889992 432.000008 402.540001\n",
      "  409.219994 415.050007 427.44001  426.309998 447.790009 469.449997\n",
      "  467.360016 507.740005 502.970016 506.169983 450.119995 490.640015\n",
      "  476.749977 487.750015 496.039978 521.360023 529.880005 526.75\n",
      "  519.050011 518.629974 523.739998 551.230026 566.43     557.500023\n",
      "  570.090004 554.519981 543.929993 535.730019 550.500023 501.529984\n",
      "  528.989998 527.550018 527.76001  530.919975 526.740013 539.190018\n",
      "  536.739975 523.469978 521.679977 531.170021 594.090019 600.959976\n",
      "  592.830017 604.590019 628.650009  93.699997  92.199997  90.830002\n",
      "   92.93      95.970001  96.449997  93.940002  99.019997  95.589996\n",
      "   95.989998  99.160004 101.540001  98.360001 101.629997 101.059998\n",
      "  100.110001  99.620003  99.809998  99.760002 105.110001 109.400002\n",
      "  108.830002 113.989998 118.629997 115.07     112.400002 108.230003\n",
      "  112.940002 113.910004 106.25     109.25     113.099998 118.629997\n",
      "  119.720001 133.       129.089996 127.139999 124.949997 127.209999\n",
      "  126.370003 127.349998 126.849998 127.599998 132.649994 128.699997\n",
      "  126.32     130.190002 130.539993 127.800003 126.919998 127.610001\n",
      "  124.529999 126.       125.660004 132.070007 122.769997 118.440002\n",
      "  119.720001 117.160004 103.120003 112.760002 115.309998 115.209999\n",
      "  112.440002 110.779999 111.599998 111.730003 115.279999 121.18\n",
      "  120.57     114.18     117.75     118.300003 118.279999 112.480003\n",
      "  107.330002 106.82     105.349998  98.529999  99.440002  96.43\n",
      "   95.010002  96.879997  96.690002 101.870003 102.519997 105.910004\n",
      "  105.190002 111.120003 109.019997 107.480003 105.080002  93.639999\n",
      "   92.790001  93.879997  96.43      98.629997  97.339996  95.099998\n",
      "   92.040001  96.980003  99.830002  97.339996 106.050003 108.370003\n",
      "  109.480003 108.510002 106.82     105.440002 113.580002 112.879997\n",
      "  112.519997 116.050003 117.550003 117.650002 113.540001 110.410004\n",
      "  105.709999 111.730003 111.57     109.110001 113.300003 116.639999]] Average 312.171394069697\n",
      "Day 1 prices [[214.379993 207.720001 215.039995 205.940001 195.859997 196.190004\n",
      "  203.399996 197.059998 208.85     223.020004 224.449997 228.359993\n",
      "  235.849991 239.540009 242.430008 244.590004 262.039989 258.679993\n",
      "  256.519997 252.360008 245.220005 260.830002 249.330006 259.690002\n",
      "  273.850006 256.170002 248.62999  251.799995 251.890011 264.080009\n",
      "  261.93     259.409996 251.970013 239.930004 243.10001  257.810013\n",
      "  268.059994 283.769993 286.859997 288.939991 298.539997 309.489994\n",
      "  308.049988 309.360004 316.079998 301.59     308.730003 311.150005\n",
      "  318.210007 320.290001 324.199997 325.470013 331.290012 341.639996\n",
      "  340.650013 341.39999  345.030006 355.200012 359.900013 338.609993\n",
      "  349.309998 355.759998 345.429989 341.200012 350.959995 338.889999\n",
      "  332.399998 337.859989 350.42001  348.200012 349.450001 336.140003\n",
      "  332.190006 347.82999  332.039989 332.439999 325.299995 335.26001\n",
      "  349.43     353.749992 376.849987 403.410007 388.909996 374.010002\n",
      "  380.480003 373.600006 389.989994 379.740013 384.619991 413.449997\n",
      "  399.260006 372.500008 400.289989 422.239998 397.770012 396.51001\n",
      "  406.229992 388.829994 376.510006 373.199997 390.949989 388.809994\n",
      "  395.949997 406.529999 411.23     423.239994 424.700001 420.409996\n",
      "  456.47998  468.830009 509.459991 514.850021 535.410011 530.259987\n",
      "  568.099998 605.959984 614.480019 629.319984 628.440018 609.699989\n",
      "  560.280006 582.130013 568.18     553.169991 556.970024 572.269974\n",
      "  562.830025 576.159996 587.410027 572.030022 599.409981 608.210022\n",
      "  606.93998  600.919975 610.759987 620.910019 631.690025 656.059982\n",
      "  674.800011 674.970001 660.590019 701.910004 673.540009 661.309982\n",
      "  635.850014 649.789986 613.359993 582.849976 542.900009 560.909981\n",
      "  584.780006 575.849976 541.390015 533.900017 525.31002  485.920013\n",
      "  504.770004 458.269981 457.840012 467.900002 459.990021 448.970009\n",
      "  431.139988 428.429993 454.489975 461.140007 429.789997 426.98\n",
      "  426.240009 406.12999  442.779987 458.660004 443.860012 439.659996\n",
      "  441.44001  449.30999  437.600002 431.769989 402.62999  418.490005\n",
      "  422.349987 430.199993 418.98999  453.320015 465.250008 489.569977\n",
      "  501.07     488.589981 488.579994 494.639999 455.320007 489.100006\n",
      "  487.960007 480.93998  498.679985 519.870003 516.680023 525.449997\n",
      "  520.009979 519.549995 533.399979 566.319984 565.54998  554.990005\n",
      "  567.669975 561.019997 540.040024 546.390022 549.069977 506.499977\n",
      "  508.790016 535.959984 545.990013 522.060013 531.239983 536.089973\n",
      "  531.399986 544.98999  541.649994 523.440018 517.959999 531.70002\n",
      "  592.329979 594.410027 593.760025 604.710022 625.63002  637.539986\n",
      "   94.25      92.080002  90.279999  93.519997  95.349998  95.32\n",
      "   94.720001  98.379997  95.120003  95.970001 100.529999 100.889999\n",
      "  103.300003  97.989998 100.860001 102.639999 100.75      98.75\n",
      "   98.75     102.470001 106.739998 108.599998 109.699997 115.470001\n",
      "  117.599998 114.629997 114.120003 106.75     112.540001 112.519997\n",
      "  106.260002 110.220001 108.720001 109.139999 118.650002 122.019997\n",
      "  127.830002 132.169998 129.360001 124.510002 127.040001 126.690002\n",
      "  124.43     126.010002 126.300003 126.910004 130.559998 125.800003\n",
      "  125.870003 130.070007 129.619995 129.960007 127.419998 127.599998\n",
      "  127.029999 125.43     125.690002 125.610001 130.75     123.379997\n",
      "  114.639999 113.489998 116.5      103.739998 107.720001 112.309998\n",
      "  116.279999 113.400002 109.059998 111.309998 111.790001 113.769997\n",
      "  114.550003 122.57     116.769997 113.690002 118.879997 117.339996\n",
      "  118.230003 110.489998 107.230003 108.739998 102.709999  99.959999\n",
      "   96.660004  99.989998  94.480003  94.989998  96.639999  94.690002\n",
      "  100.529999 101.029999 104.580002 106.720001 107.68     109.809998\n",
      "  110.440002 106.910004 104.349998  95.18      93.419998  93.489998\n",
      "   97.900002  99.860001  99.029999  97.459999  95.910004  93.589996\n",
      "   94.989998  97.419998  99.870003  96.669998 104.480003 108.809998\n",
      "  109.379997 108.849998 106.       107.699997 107.949997 113.57\n",
      "  113.089996 113.       116.300003 117.470001 118.25     111.489998\n",
      "  111.059998 107.110001 111.800003 111.459999 109.949997 115.190002\n",
      "  116.949997 117.260002]] Average 311.72839764088394\n",
      "Day 2 prices [[210.969995 210.650002 211.73     207.880005 199.229994 195.120007\n",
      "  202.550003 200.66     209.329998 224.839993 224.120003 229.370003\n",
      "  235.000011 240.600006 245.690002 259.220005 261.600006 255.989998\n",
      "  262.090004 248.339996 244.109993 263.949993 243.200012 267.249989\n",
      "  270.969994 251.530003 258.670006 252.730003 254.239998 260.959991\n",
      "  262.980011 250.189999 253.070011 242.889992 250.330002 262.92001\n",
      "  270.21999  287.750004 287.369995 289.19001  300.140007 310.529991\n",
      "  307.830009 312.800003 318.030003 300.499989 314.799995 316.400005\n",
      "  321.009991 320.359989 325.159992 325.290009 334.000008 344.420006\n",
      "  338.840012 343.850006 344.320004 358.16     363.129993 342.619991\n",
      "  352.119995 352.46999  330.01001  339.190006 348.630009 338.039993\n",
      "  336.12999  342.41     350.14999  349.570004 347.230003 339.869995\n",
      "  336.779991 345.509991 332.239994 326.749989 322.610001 334.040009\n",
      "  351.759987 358.019997 386.89999  392.59     392.57     363.690006\n",
      "  380.440002 376.180012 384.830009 383.929989 389.299992 412.140007\n",
      "  397.009995 378.249992 402.190006 398.619991 400.60001  397.410004\n",
      "  395.279995 384.770008 366.990002 382.199989 389.09     380.19001\n",
      "  396.450008 402.640003 413.44001  422.549992 429.110008 446.659996\n",
      "  456.189987 476.680016 497.669975 513.039993 542.440025 530.69001\n",
      "  589.580009 602.499985 617.62001  624.30999  626.20002  608.340012\n",
      "  610.000023 585.97998  569.180023 546.080002 570.559975 579.169998\n",
      "  571.460022 572.160011 585.739975 574.499985 604.430016 606.260017\n",
      "  574.970009 606.80999  619.860008 630.829979 668.869995 673.469994\n",
      "  670.230026 669.790016 702.100021 665.179977 671.449974 640.909996\n",
      "  644.610001 616.829979 595.320007 558.000008 536.880005 561.700012\n",
      "  582.940018 538.790009 539.       526.30999  512.999992 549.029976\n",
      "  517.100006 506.089981 514.010002 456.830002 457.350014 467.009995\n",
      "  448.850006 444.569988 425.659996 428.349991 452.079987 452.079987\n",
      "  431.989994 435.689999 402.800007 405.459988 439.290001 463.839989\n",
      "  428.850002 441.349995 444.949997 445.110001 432.189999 422.999989\n",
      "  398.069992 420.799992 420.730003 430.310009 440.510002 452.529984\n",
      "  464.979988 498.500008 502.360016 490.899994 498.690025 467.709984\n",
      "  464.680008 481.530006 489.55999  486.589989 501.110001 524.959999\n",
      "  524.900024 520.920013 520.63002  514.999985 545.959999 565.000008\n",
      "  561.359978 550.769989 543.460022 557.359993 551.509979 500.749992\n",
      "  512.589996 535.919983 537.370003 517.349998 532.360008 536.609985\n",
      "  531.26001  539.779991 542.549988 530.320015 519.01001  524.750008\n",
      "  590.089981 592.329979 593.869987 606.310005 624.01001  644.819992\n",
      "   93.860001  92.18      90.360001  93.480003  95.389999  94.779999\n",
      "   97.190002  98.150002  94.959999  97.239998 100.57     102.129997\n",
      "   98.940002 101.       101.580002 101.75      99.18     100.800003\n",
      "   97.540001 102.989998 107.339996 108.860001 111.25     114.669998\n",
      "  119.       115.93     111.949997 109.410004 112.010002 110.379997\n",
      "  107.75     109.800003 109.550003 115.309998 119.559998 124.879997\n",
      "  128.720001 128.789993 128.539993 122.239998 128.470001 123.379997\n",
      "  124.25     125.599998 126.779999 128.619995 128.639999 125.010002\n",
      "  126.010002 130.059998 132.039993 130.119995 128.880005 127.300003\n",
      "  128.110001 126.599998 122.57     126.82     125.220001 122.989998\n",
      "  115.400002 115.239998 115.010002 109.690002 112.339996 110.150002\n",
      "  116.410004 114.32     110.300003 110.779999 110.209999 113.760002\n",
      "  119.269997 122.       116.110001 117.290001 118.029999 116.279999\n",
      "  115.620003 111.339996 108.610001 107.32     100.699997  97.389999\n",
      "   96.790001  93.419998  96.349998  94.269997  98.120003  96.099998\n",
      "  100.75     101.120003 105.970001 106.129997 109.559998 110.959999\n",
      "  112.040001 107.129997  97.82      94.190002  92.510002  94.559998\n",
      "   99.620003  98.459999  98.940002  97.139999  95.550003  94.400002\n",
      "   95.529999  96.870003  99.959999 102.949997 105.790001 108.\n",
      "  109.220001 108.029999 106.099998 108.360001 111.769997 113.550003\n",
      "  113.949997 113.050003 117.339996 117.120003 115.589996 111.589996\n",
      "  110.879997 109.989998 111.230003 110.519997 111.029999 115.190002\n",
      "  117.059998 116.760002]] Average 311.6774029475138\n",
      "Day 3 prices [[210.58     209.43     208.069996 199.289995 192.050003 198.669994\n",
      "  202.929998 202.000004 210.710003 225.500008 224.650002 226.649994\n",
      "  235.969994 239.950005 248.92001  266.469997 268.640007 246.249989\n",
      "  258.360012 237.759995 253.349991 263.119987 250.510006 271.869987\n",
      "  268.999989 248.48     258.089993 251.450001 259.02     258.109993\n",
      "  261.700008 251.790009 249.880005 240.279999 252.169991 263.07\n",
      "  276.569988 288.919991 283.749992 289.219997 302.30999  309.520008\n",
      "  305.23999  318.270008 316.649998 308.429996 318.150005 319.760002\n",
      "  321.249996 323.60001  323.660011 333.729988 345.680008 332.680004\n",
      "  343.209991 343.44001  354.539997 358.300003 342.879997 359.560005\n",
      "  346.669991 334.639996 344.970005 348.510006 338.079994 332.419998\n",
      "  350.699989 346.749992 346.749992 346.569988 340.53001  335.000004\n",
      "  346.099991 331.48999  325.159992 331.230011 335.670006 357.200005\n",
      "  357.770004 387.290012 391.819996 377.369999 373.700008 366.050007\n",
      "  373.720009 381.030003 384.140007 392.959995 401.820011 390.570007\n",
      "  377.369999 408.429989 395.310009 404.69001  403.07     385.220005\n",
      "  377.41     387.93     390.659996 378.939995 398.550003 405.120007\n",
      "  418.029995 421.389992 427.750004 444.62999  455.120003 493.170006\n",
      "  502.209999 516.389977 544.469978 541.989975 585.559998 599.340019\n",
      "  609.859993 633.679977 622.769981 587.439987 607.699997 581.819992\n",
      "  570.519974 530.12001  565.320015 577.730019 571.720001 571.529984\n",
      "  577.669991 569.04998  609.939995 598.900009 614.320015 574.88002\n",
      "  607.789986 620.729988 636.340012 662.630013 663.869987 676.270004\n",
      "  682.980011 698.699997 681.32     666.799988 628.099983 632.640007\n",
      "  609.539986 596.540009 537.749985 525.619987 589.359978 547.239975\n",
      "  529.689987 521.730019 515.060013 542.099991 523.509979 502.680023\n",
      "  450.499977 455.489998 468.220009 466.590012 446.060009 441.400009\n",
      "  430.580002 432.499992 452.729988 442.660011 427.71999  434.329994\n",
      "  392.049988 408.380001 445.519997 456.769974 434.580013 442.139999\n",
      "  451.580002 438.459995 435.959991 416.840008 393.779987 427.289993\n",
      "  431.760002 438.499996 456.679985 461.010017 497.909981 502.959976\n",
      "  491.700012 495.269974 472.690018 472.299995 486.219994 483.409996\n",
      "  489.639992 504.499985 531.910011 522.699974 512.490021 528.160019\n",
      "  521.139992 567.899994 560.539986 544.459991 563.900009 553.12999\n",
      "  536.519997 554.250015 556.179993 499.779984 512.509995 544.429977\n",
      "  531.149994 527.670021 530.749985 530.650009 528.700005 537.459991\n",
      "  538.790009 523.480019 524.940025 567.770004 591.480026 587.990013\n",
      "  588.819992 607.269974 635.37999  647.349983  92.290001  91.860001\n",
      "   90.900002  94.029999  95.040001  93.089996  97.029999  95.599998\n",
      "   94.480003  97.5      100.580002 102.25      98.120003 101.43\n",
      "  101.790001  97.870003  99.900002 101.019997  96.260002 104.830002\n",
      "  106.980003 108.699997 112.82     116.309998 115.489998 111.620003\n",
      "  112.650002 111.889999 106.82     112.400002 118.900002 119.940002\n",
      "  126.459999 128.449997 130.419998 126.410004 124.449997 127.5\n",
      "  124.239998 125.32     126.559998 126.169998 129.669998 125.150002\n",
      "  125.260002 128.949997 131.389999 131.779999 129.360001 128.589996\n",
      "  127.879997 127.5      126.440002 120.07     128.509995 125.160004\n",
      "  122.370003 115.129997 115.150002 112.650002 112.919998 110.370003\n",
      "  112.57     113.919998 115.       109.580002 109.5      111.860001\n",
      "  115.5      120.529999 120.919998 115.720001 118.779999 115.199997\n",
      "  116.169998 108.980003 108.029999 105.260002  96.449997  99.519997\n",
      "   96.300003  94.089996  96.599998  93.699997  96.260002  96.760002\n",
      "  101.5      101.169998 105.800003 105.669998 108.989998 108.540001\n",
      "  112.099998 105.970001  94.830002  93.239998  90.339996  94.199997\n",
      "  100.410004  97.720001  99.650002  97.550003  96.099998  95.599998\n",
      "   95.940002  98.790001  99.43     104.339996 105.870003 107.93\n",
      "  109.080002 107.57     106.730003 105.519997 115.57     114.620003\n",
      "  112.18     113.889999 116.980003 117.059998 114.480003 109.830002\n",
      "  107.790001 109.949997 109.489998 112.120003 115.82     116.290001\n",
      "  116.730003]] Average 314.52121019436623\n",
      "Day 4 prices [[211.980005 205.93     197.75     192.060003 195.460001 200.379993\n",
      "  201.669996 204.619997 218.950005 226.600006 222.25     230.899998\n",
      "  241.789993 247.400002 270.82999  261.090008 235.860004 253.819988\n",
      "  242.319992 256.880005 255.960011 253.509995 274.070011 266.699989\n",
      "  246.939991 259.619987 249.900005 259.939995 257.25     260.090012\n",
      "  249.099987 249.639999 241.620003 258.770008 263.410007 275.369987\n",
      "  292.319988 282.520004 294.069988 314.739994 307.470001 300.98\n",
      "  317.130009 308.029987 306.730011 315.       317.440002 320.559994\n",
      "  320.610008 322.560013 336.120003 348.479992 326.720001 336.100002\n",
      "  346.5      356.85001  350.560013 348.160011 359.999989 351.990005\n",
      "  330.669998 351.540009 344.560009 335.060005 327.459991 350.12999\n",
      "  346.660004 340.499996 335.220009 337.409992 343.44001  325.900009\n",
      "  320.259987 326.350006 343.260006 359.709995 364.919994 393.300003\n",
      "  390.479992 373.620007 376.98999  356.029991 383.579994 374.050003\n",
      "  377.479988 400.500008 404.299988 381.319996 369.799999 421.999992\n",
      "  392.870007 404.949989 400.240002 384.619991 374.94001  363.570004\n",
      "  389.700001 393.62001  381.019989 403.330006 405.000004 422.400002\n",
      "  419.810009 420.300007 447.28001  459.68     493.419998 502.12001\n",
      "  522.409981 545.180008 545.170021 585.569984 596.050011 599.550011\n",
      "  605.22998  572.980003 603.000023 565.25     566.710007 530.37999\n",
      "  562.289986 560.989983 580.319984 574.12999  582.099998 584.000015\n",
      "  605.879982 604.970001 604.300026 585.159988 615.70002  621.699997\n",
      "  648.110001 663.219986 665.240005 680.43998  691.280014 700.089989\n",
      "  667.100021 652.589996 629.710007 609.840019 603.999992 576.800011\n",
      "  547.059998 527.680008 571.500023 585.279991 533.250015 509.789986\n",
      "  519.330017 509.589981 526.999992 520.300026 500.000015 439.880001\n",
      "  453.619995 474.980003 460.160011 450.809998 430.470013 431.720001\n",
      "  443.660007 461.910011 423.199993 429.800011 390.530006 417.199989\n",
      "  449.980019 452.969994 433.26001  445.150002 449.730026 441.810005\n",
      "  430.050003 413.500011 396.53001  417.419994 426.510002 424.949993\n",
      "  440.990013 462.539986 454.449974 502.330002 501.020012 487.220016\n",
      "  498.220001 464.899986 467.410004 482.750008 483.030014 492.809998\n",
      "  508.889992 525.960022 520.030006 520.560005 524.990013 519.799988\n",
      "  556.069977 560.019974 554.429993 549.019989 560.089989 540.980019\n",
      "  532.939995 540.669998 546.070015 500.599976 519.679985 543.990021\n",
      "  525.249992 526.239975 530.440018 524.68998  532.86998  536.859978\n",
      "  531.820023 519.610023 571.93998  592.580025 585.540024 597.510017\n",
      "  614.129997 633.000015 645.570023  91.279999  90.910004  91.980003\n",
      "   95.220001  94.43      97.669998  96.129997  94.739998  97.980003\n",
      "  101.32     102.5       98.970001 101.660004 100.959999 100.75\n",
      "   99.620003 100.730003  97.669998 105.220001 108.       109.010002\n",
      "  114.18     116.470001 118.93     115.       109.730003 111.779999\n",
      "  113.989998 109.330002 112.010002 105.989998 112.980003 117.160004\n",
      "  118.93     127.080002 129.5      128.460007 126.599998 123.589996\n",
      "  125.900002 123.25     127.099998 124.75     130.279999 128.949997\n",
      "  127.620003 128.770004 132.539993 130.279999 128.649994 127.169998\n",
      "  126.599998 126.75     123.279999 129.619995 124.5      121.300003\n",
      "  115.519997 115.959999 105.760002 113.290001 109.269997 114.209999\n",
      "  113.449997 114.709999 110.379997 112.120003 111.040001 119.080002\n",
      "  119.5      121.059998 112.339996 119.300003 117.809998 119.029999\n",
      "  113.18     106.029999  96.959999  97.129997 101.419998  97.339996\n",
      "   94.019997  93.989998  96.040001  96.910004 103.010002 102.260002\n",
      "  105.919998 109.989998 108.660004 109.849998 105.68      93.739998\n",
      "   92.720001  90.519997  95.220001 100.349998  97.919998  98.830002\n",
      "   95.330002  93.400002  95.889999  96.68      98.779999  98.660004\n",
      "  104.209999 107.480003 108.18     109.360001 106.940002 107.730003\n",
      "  103.129997 114.919998 112.709999 113.050003 114.059998 117.629997\n",
      "  116.599998 113.720001 108.839996 108.43     110.059998 111.790001\n",
      "  109.900002 113.949997 115.970001 116.519997 115.82    ]] Average 314.54107699433433\n"
     ]
    }
   ],
   "source": [
    "for i in range(5):\n",
    "    indices = np.where(dates == i)\n",
    "    prices = np.take(close, indices)\n",
    "    avg = np.mean(prices)\n",
    "    print(\"Day\", i, \"prices\", prices, \"Average\", avg)\n",
    "    averages[i] = avg\n"
   ]
  },
  {
   "cell_type": "code",
   "execution_count": 42,
   "metadata": {},
   "outputs": [
    {
     "name": "stdout",
     "output_type": "stream",
     "text": [
      "Highest average 314.54107699433433\n",
      "Top day of the week 4\n",
      "Lowest average 311.6774029475138\n",
      "Bottom day of the week 2\n"
     ]
    }
   ],
   "source": [
    "top = np.max(averages)\n",
    "print(\"Highest average\", top)\n",
    "print(\"Top day of the week\", np.argmax(averages))\n",
    "bottom = np.min(averages)\n",
    "print(\"Lowest average\", bottom)\n",
    "print(\"Bottom day of the week\", np.argmin(averages))"
   ]
  },
  {
   "cell_type": "markdown",
   "metadata": {},
   "source": [
    "# Time for action – using the datetime64 data type\n",
    "The datetime64 data type was introduced in NumPy 1.7.0 (see http://docs.scipy.\n",
    "org/doc/numpy/reference/arrays.datetime.html).\n",
    "1. To learn about the datetime64 data type, start a Python shell and import NumPy\n",
    "as follows"
   ]
  },
  {
   "cell_type": "code",
   "execution_count": 43,
   "metadata": {},
   "outputs": [
    {
     "data": {
      "text/plain": [
       "numpy.datetime64('2015-04-22')"
      ]
     },
     "execution_count": 43,
     "metadata": {},
     "output_type": "execute_result"
    }
   ],
   "source": [
    "np.datetime64('2015-04-22')"
   ]
  },
  {
   "cell_type": "code",
   "execution_count": 44,
   "metadata": {},
   "outputs": [
    {
     "data": {
      "text/plain": [
       "numpy.datetime64('2018-01-31T20:19')"
      ]
     },
     "execution_count": 44,
     "metadata": {},
     "output_type": "execute_result"
    }
   ],
   "source": [
    "local = np.datetime64('2018-01-31T20:19')\n",
    "local"
   ]
  },
  {
   "cell_type": "code",
   "execution_count": 45,
   "metadata": {},
   "outputs": [
    {
     "name": "stderr",
     "output_type": "stream",
     "text": [
      "C:\\Users\\Muhammad Qasim\\Anaconda3\\lib\\site-packages\\ipykernel_launcher.py:1: DeprecationWarning: parsing timezone aware datetimes is deprecated; this will raise an error in the future\n",
      "  \"\"\"Entry point for launching an IPython kernel.\n"
     ]
    },
    {
     "data": {
      "text/plain": [
       "numpy.datetime64('2018-01-02T05:19')"
      ]
     },
     "execution_count": 45,
     "metadata": {},
     "output_type": "execute_result"
    }
   ],
   "source": [
    "with_offset = np.datetime64('2018-01-01T20:19-0900')\n",
    "with_offset"
   ]
  },
  {
   "cell_type": "code",
   "execution_count": 46,
   "metadata": {},
   "outputs": [
    {
     "data": {
      "text/plain": [
       "numpy.timedelta64(42660,'m')"
      ]
     },
     "execution_count": 46,
     "metadata": {},
     "output_type": "execute_result"
    }
   ],
   "source": [
    "local - with_offset\n"
   ]
  },
  {
   "cell_type": "code",
   "execution_count": 47,
   "metadata": {},
   "outputs": [
    {
     "data": {
      "text/plain": [
       "array(['2015-04-22', '2015-04-29', '2015-05-06', '2015-05-13',\n",
       "       '2015-05-20'], dtype='datetime64[D]')"
      ]
     },
     "execution_count": 47,
     "metadata": {},
     "output_type": "execute_result"
    }
   ],
   "source": [
    " np.arange('2015-04-22', '2015-05-22', 7, dtype='datetime64')"
   ]
  },
  {
   "cell_type": "markdown",
   "metadata": {},
   "source": [
    "# Time for action – summarizing data\n",
    "The data we will summarize will be for a whole business week, running from Monday\n",
    "to Friday. During the period covered by the data, there was one holiday on February 21,\n",
    "President's Day. This happened to be a Monday and the US stock exchanges were closed on\n",
    "this day. As a consequence, there is no entry for this day, in the sample. The first day in the\n",
    "sample is a Friday, which is inconvenient. Use the following instructions to summarize data:\n",
    "### 1. To simplify, just have a look at the first three weeks in the sample— later, you can\n",
    "have a go at improving this:"
   ]
  },
  {
   "cell_type": "code",
   "execution_count": 48,
   "metadata": {},
   "outputs": [
    {
     "data": {
      "text/plain": [
       "array([0., 1., 2., 3., 4., 0., 1., 2., 3., 4., 1., 2., 3., 4., 0., 1.],\n",
       "      dtype=float32)"
      ]
     },
     "execution_count": 48,
     "metadata": {},
     "output_type": "execute_result"
    }
   ],
   "source": [
    "close = close[:16]\n",
    "dates = dates[:16]\n",
    "dates"
   ]
  },
  {
   "cell_type": "raw",
   "metadata": {},
   "source": [
    "Commencing, we will find the first Monday in our sample data. Recall that Mondays\n",
    "have the code 0 in Python. This is what we will put in the condition of the where()\n",
    "function. Then, we will need to extract the first element that has index 0. The result\n",
    "will be a multidimensional array. Flatten this with the ravel() function:\n"
   ]
  },
  {
   "cell_type": "code",
   "execution_count": 49,
   "metadata": {},
   "outputs": [
    {
     "name": "stdout",
     "output_type": "stream",
     "text": [
      "The first Monday index is 0\n"
     ]
    },
    {
     "data": {
      "text/plain": [
       "array([0., 1., 2., 3., 4., 0., 1., 2., 3., 4., 1., 2., 3., 4., 0., 1.],\n",
       "      dtype=float32)"
      ]
     },
     "execution_count": 49,
     "metadata": {},
     "output_type": "execute_result"
    }
   ],
   "source": [
    "# get first Monday\n",
    "\n",
    "first_monday = np.ravel(np.where(dates == 0))[0]\n",
    "print(\"The first Monday index is\", first_monday)\n",
    "dates"
   ]
  },
  {
   "cell_type": "markdown",
   "metadata": {
    "collapsed": true
   },
   "source": [
    ". The next logical step is to find the Friday before last Friday in the sample. The\n",
    "logic is similar to the one for finding the first Monday, and the code for Friday is 4.\n",
    "Additionally, we are looking for the second to last element with index 2:\n"
   ]
  },
  {
   "cell_type": "code",
   "execution_count": 50,
   "metadata": {},
   "outputs": [
    {
     "name": "stdout",
     "output_type": "stream",
     "text": [
      "The last Friday index is [13]\n"
     ]
    }
   ],
   "source": [
    "# get last Friday\n",
    "last_friday = np.ravel(np.where(dates == 4))[-1:]\n",
    "print(\"The last Friday index is\", last_friday)"
   ]
  },
  {
   "cell_type": "markdown",
   "metadata": {},
   "source": [
    "Next, create an array with the indices of all the days in the three weeks:"
   ]
  },
  {
   "cell_type": "code",
   "execution_count": 51,
   "metadata": {},
   "outputs": [
    {
     "name": "stdout",
     "output_type": "stream",
     "text": [
      "Weeks indices initial [ 0  1  2  3  4  5  6  7  8  9 10 11 12 13 14]\n"
     ]
    }
   ],
   "source": [
    "weeks_indices = np.arange(first_monday, last_friday + 2)\n",
    "print(\"Weeks indices initial\", weeks_indices)"
   ]
  },
  {
   "cell_type": "markdown",
   "metadata": {},
   "source": [
    "5. Split the array in pieces of size 5 with the split() function:"
   ]
  },
  {
   "cell_type": "code",
   "execution_count": 52,
   "metadata": {},
   "outputs": [
    {
     "data": {
      "text/plain": [
       "[array([0, 1, 2, 3, 4], dtype=int64),\n",
       " array([5, 6, 7, 8, 9], dtype=int64),\n",
       " array([10, 11, 12, 13, 14], dtype=int64)]"
      ]
     },
     "execution_count": 52,
     "metadata": {},
     "output_type": "execute_result"
    }
   ],
   "source": [
    "a = np.split(weeks_indices,3)\n",
    "a"
   ]
  },
  {
   "cell_type": "markdown",
   "metadata": {},
   "source": [
    "This splits the array as follows:"
   ]
  },
  {
   "cell_type": "raw",
   "metadata": {},
   "source": [
    "In NumPy, array dimensions are called axes. Now, we will get fancy with the apply_\n",
    "along_axis() function. This function calls another function, which we will provide,\n",
    "to operate on each of the elements of an array. Currently, we have an array with three\n",
    "elements. Each array item corresponds to one week in our sample and contains indices\n",
    "of the corresponding items. Call the apply_along_axis() function by supplying\n",
    "the name of our function, called summarize(), which we will define shortly.\n",
    "Furthermore, specify the axis or dimension number (such as 1), the array to operate\n",
    "on, and a variable number of arguments for the summarize() function, if any:"
   ]
  },
  {
   "cell_type": "code",
   "execution_count": 53,
   "metadata": {},
   "outputs": [
    {
     "ename": "NameError",
     "evalue": "name 'summarize' is not defined",
     "output_type": "error",
     "traceback": [
      "\u001b[1;31m---------------------------------------------------------------------------\u001b[0m",
      "\u001b[1;31mNameError\u001b[0m                                 Traceback (most recent call last)",
      "\u001b[1;32m<ipython-input-53-d0dcefeb0a5c>\u001b[0m in \u001b[0;36m<module>\u001b[1;34m()\u001b[0m\n\u001b[1;32m----> 1\u001b[1;33m \u001b[0mweeksummary\u001b[0m \u001b[1;33m=\u001b[0m \u001b[0mnp\u001b[0m\u001b[1;33m.\u001b[0m\u001b[0mapply_along_axis\u001b[0m\u001b[1;33m(\u001b[0m\u001b[0msummarize\u001b[0m\u001b[1;33m,\u001b[0m \u001b[1;36m1\u001b[0m\u001b[1;33m,\u001b[0m\u001b[0mweeks_indices\u001b[0m\u001b[1;33m,\u001b[0m \u001b[0mopen\u001b[0m\u001b[1;33m,\u001b[0m \u001b[0mhigh\u001b[0m\u001b[1;33m,\u001b[0m \u001b[0mlow\u001b[0m\u001b[1;33m,\u001b[0m \u001b[0mclose\u001b[0m\u001b[1;33m)\u001b[0m\u001b[1;33m\u001b[0m\u001b[0m\n\u001b[0m\u001b[0;32m      2\u001b[0m \u001b[0mprint\u001b[0m\u001b[1;33m(\u001b[0m\u001b[1;34m\"Week summary\"\u001b[0m\u001b[1;33m,\u001b[0m \u001b[0mweeksummary\u001b[0m\u001b[1;33m)\u001b[0m\u001b[1;33m\u001b[0m\u001b[0m\n",
      "\u001b[1;31mNameError\u001b[0m: name 'summarize' is not defined"
     ]
    }
   ],
   "source": [
    "weeksummary = np.apply_along_axis(summarize, 1,weeks_indices, open, high, low, close)\n",
    "print(\"Week summary\", weeksummary)"
   ]
  },
  {
   "cell_type": "raw",
   "metadata": {},
   "source": [
    "7. For each week, the summarize() function returns a tuple that holds the open,\n",
    "high, low, and close price for the week, similar to end-of-day data:"
   ]
  },
  {
   "cell_type": "code",
   "execution_count": 54,
   "metadata": {
    "collapsed": true
   },
   "outputs": [],
   "source": [
    "def summarize(a, o, h, l, c):\n",
    "    monday_open = o[a[0]]\n",
    "    week_high = np.max( np.take(h, a) )\n",
    "    week_low = np.min( np.take(l, a) )\n",
    "    friday_close = c[a[-1]]\n",
    "\n",
    "    return(\"APPL\", monday_open, week_high, week_low, friday_close)"
   ]
  },
  {
   "cell_type": "code",
   "execution_count": 55,
   "metadata": {
    "scrolled": true
   },
   "outputs": [
    {
     "name": "stdout",
     "output_type": "stream",
     "text": [
      "Week summary ['APPL' '213.43' '215.59' '197.16' '203.07']\n"
     ]
    }
   ],
   "source": [
    "open, high, low, close = np.loadtxt('prices.csv',delimiter=',' ,unpack=True, usecols=(2,5,4,3), dtype='f')\n",
    "\n",
    "weeksummary = np.apply_along_axis(summarize, 0 , weeks_indices, open, high, low, close)\n",
    "print(\"Week summary\", weeksummary)"
   ]
  },
  {
   "cell_type": "raw",
   "metadata": {},
   "source": [
    "8. Store the data in a file with the NumPy savetxt() function:"
   ]
  },
  {
   "cell_type": "code",
   "execution_count": 56,
   "metadata": {
    "collapsed": true
   },
   "outputs": [],
   "source": [
    "np.savetxt(\"weeksummary.csv\", weeksummary, delimiter=\",\",\n",
    "fmt=\"%s\")"
   ]
  },
  {
   "cell_type": "markdown",
   "metadata": {},
   "source": [
    "# What just happened?\n",
    "We did something that is not even possible in some programming languages. We defined a\n",
    "function and passed it as an argument to the apply_along_axis() function.<br><br>\n",
    "Arguments for the summarize() function were neatly passed by apply_along_axis()"
   ]
  },
  {
   "cell_type": "code",
   "execution_count": 57,
   "metadata": {},
   "outputs": [
    {
     "data": {
      "text/plain": [
       "array([0., 1., 2., 3., 4., 0., 1., 2., 3., 4., 1., 2., 3., 4., 0., 1.],\n",
       "      dtype=float32)"
      ]
     },
     "execution_count": 57,
     "metadata": {},
     "output_type": "execute_result"
    }
   ],
   "source": [
    "from __future__ import print_function\n",
    "import numpy as np\n",
    "from datetime import datetime\n",
    "# Monday 0\n",
    "# Tuesday 1\n",
    "# Wednesday 2\n",
    "# Thursday 3\n",
    "# Friday 4\n",
    "# Saturday 5\n",
    "# Sunday 6\n",
    "def datestr2num(s):\n",
    "    return datetime.strptime(s, \"%d-%m-%Y\").date().weekday()\n",
    "\n",
    "\n",
    "dates, open, high, low, close=np.loadtxt('prices.csv', delimiter=',',\n",
    "usecols=(0, 2, 5, 4, 3), converters={1: datestr2num}, unpack=True, dtype='str')\n",
    "close = np.asarray(close[:16],'f')\n",
    "open =np.asarray(open[:16],'f')\n",
    "high = np.asarray(high,'f')\n",
    "low = np.asarray(low, 'f')\n",
    "\n",
    "dates = dates[:16]\n",
    "dates = np.asarray(list(map(datestr2num, dates)),'f')\n",
    "dates\n"
   ]
  },
  {
   "cell_type": "code",
   "execution_count": 58,
   "metadata": {},
   "outputs": [
    {
     "name": "stdout",
     "output_type": "stream",
     "text": [
      "The last Friday index is 13\n",
      "Weeks indices initial [ 0  1  2  3  4  5  6  7  8  9 10 11 12 13]\n",
      "Weeks indices after split [array([0, 1, 2, 3, 4, 5, 6], dtype=int64), array([ 7,  8,  9, 10, 11, 12, 13], dtype=int64)]\n"
     ]
    }
   ],
   "source": [
    "# get last Friday\n",
    "last_friday = np.ravel(np.where(dates == 4))[-1]\n",
    "print(\"The last Friday index is\", last_friday)\n",
    "weeks_indices = np.arange(first_monday, last_friday + 1)\n",
    "print(\"Weeks indices initial\", weeks_indices)\n",
    "weeks_indices = np.split(weeks_indices, 2)\n",
    "print(\"Weeks indices after split\", weeks_indices)"
   ]
  },
  {
   "cell_type": "code",
   "execution_count": 59,
   "metadata": {
    "collapsed": true
   },
   "outputs": [],
   "source": [
    "def summarize(a, o, h, l, c):\n",
    "    monday_open = o[a[0]]\n",
    "    week_high = np.max( np.take(h, a) )\n",
    "    week_low = np.min( np.take(l, a) )\n",
    "    friday_close = c[a[-1]]\n",
    "    return \"APPL\", monday_open, week_high, week_low, friday_close"
   ]
  },
  {
   "cell_type": "code",
   "execution_count": 60,
   "metadata": {},
   "outputs": [
    {
     "name": "stdout",
     "output_type": "stream",
     "text": [
      "Week summary [['APPL' '213.43' '215.59' '206.42' '207.72']\n",
      " ['APPL' '207.87' '215.54' '197.16' '197.75']]\n"
     ]
    }
   ],
   "source": [
    "weeksummary = np.apply_along_axis(summarize,1\n",
    "                                  , weeks_indices, open, high, low, close)\n",
    "print(\"Week summary\", weeksummary)\n",
    "np.savetxt(\"weeksummary1.csv\", weeksummary, delimiter=\",\", fmt=\"%s\")"
   ]
  },
  {
   "cell_type": "markdown",
   "metadata": {},
   "source": [
    "# Have a go hero – improving the code\n",
    "Change the code to deal with a holiday. Time the code to see how big the speedup due to\n",
    "apply_along_axis() is."
   ]
  },
  {
   "cell_type": "markdown",
   "metadata": {},
   "source": [
    "# Average True Range\n",
    "The Average True Range (ATR) is a technical indicator that measures volatility of stock prices.\n",
    "The ATR calculation is not important further but will serve as an example of several NumPy\n",
    "functions, including the maximum() function.\n"
   ]
  },
  {
   "cell_type": "markdown",
   "metadata": {},
   "source": [
    "Time for action – calculating the Average True Range\n",
    "To calculate the ATR, perform the following steps:"
   ]
  },
  {
   "cell_type": "raw",
   "metadata": {},
   "source": [
    "1. The ATR is based on the low and high price of N days, usually the last 20 days"
   ]
  },
  {
   "cell_type": "code",
   "execution_count": 61,
   "metadata": {
    "collapsed": true
   },
   "outputs": [],
   "source": [
    "N = 5\n",
    "h = h[-N:]\n",
    "l = l[-N:]"
   ]
  },
  {
   "cell_type": "markdown",
   "metadata": {},
   "source": [
    "2.We also need to know the close price of the previous day:"
   ]
  },
  {
   "cell_type": "code",
   "execution_count": 62,
   "metadata": {},
   "outputs": [
    {
     "data": {
      "text/plain": [
       "array([132, 135, 138, 141, 144])"
      ]
     },
     "execution_count": 62,
     "metadata": {},
     "output_type": "execute_result"
    }
   ],
   "source": [
    "previousclose = c[-N -1: -1]\n",
    "previousclose"
   ]
  },
  {
   "cell_type": "raw",
   "metadata": {},
   "source": [
    "For each day, we calculate the following:\n",
    "The daily range—the difference between the high and low price:\n",
    "h – l\n",
    "The difference between the high and previous close:\n",
    "h – previousclose\n",
    "The difference between the previous close and the low price:\n",
    "previousclose – l"
   ]
  },
  {
   "cell_type": "code",
   "execution_count": 63,
   "metadata": {},
   "outputs": [
    {
     "data": {
      "text/plain": [
       "array([-0.930001, -1.310005, -1.82    , -0.709999, -1.769997])"
      ]
     },
     "execution_count": 63,
     "metadata": {},
     "output_type": "execute_result"
    }
   ],
   "source": [
    "h - l"
   ]
  },
  {
   "cell_type": "code",
   "execution_count": 64,
   "metadata": {},
   "outputs": [
    {
     "data": {
      "text/plain": [
       "array([-16.410004, -18.510002, -21.800003, -24.599998, -28.57    ])"
      ]
     },
     "execution_count": 64,
     "metadata": {},
     "output_type": "execute_result"
    }
   ],
   "source": [
    "h - previousclose"
   ]
  },
  {
   "cell_type": "code",
   "execution_count": 65,
   "metadata": {},
   "outputs": [
    {
     "data": {
      "text/plain": [
       "array([15.480003, 17.199997, 19.980003, 23.889999, 26.800003])"
      ]
     },
     "execution_count": 65,
     "metadata": {},
     "output_type": "execute_result"
    }
   ],
   "source": [
    "previousclose - l"
   ]
  },
  {
   "cell_type": "raw",
   "metadata": {},
   "source": [
    "3. The max() function returns the maximum of an array. Based on those three values,\n",
    "we calculate the so-called true range, which is the maximum of these values. We are\n",
    "now interested in the element-wise maxima across arrays—meaning the maxima of\n",
    "the first elements in the arrays, the second elements in the arrays, and so on. Use\n",
    "the NumPy maximum() function instead of the max() function for this purpose:\n",
    "truerange = np.maximum(h - l, h - previousclose, previousclose -\n",
    "l)"
   ]
  },
  {
   "cell_type": "code",
   "execution_count": 66,
   "metadata": {},
   "outputs": [
    {
     "data": {
      "text/plain": [
       "array([-0.930001, -1.310005, -1.82    , -0.709999, -1.769997])"
      ]
     },
     "execution_count": 66,
     "metadata": {},
     "output_type": "execute_result"
    }
   ],
   "source": [
    "truerange = np.maximum(h - l, h - previousclose, previousclose -\n",
    "l)\n",
    "truerange"
   ]
  },
  {
   "cell_type": "raw",
   "metadata": {},
   "source": [
    "4. Create an atr array of size N and initialize its values to 0:\n",
    "atr = np.zeros(N)"
   ]
  },
  {
   "cell_type": "code",
   "execution_count": 67,
   "metadata": {},
   "outputs": [
    {
     "data": {
      "text/plain": [
       "array([0., 0., 0., 0., 0.])"
      ]
     },
     "execution_count": 67,
     "metadata": {},
     "output_type": "execute_result"
    }
   ],
   "source": [
    "atr = np.zeros(N)\n",
    "atr"
   ]
  },
  {
   "cell_type": "raw",
   "metadata": {},
   "source": [
    "The first value of the array is just the average of the truerange array:\n"
   ]
  },
  {
   "cell_type": "code",
   "execution_count": 68,
   "metadata": {
    "collapsed": true
   },
   "outputs": [],
   "source": [
    "atr[0] = np.mean(truerange)"
   ]
  },
  {
   "cell_type": "raw",
   "metadata": {},
   "source": [
    "Calculate the other values with the following formula:\n",
    "    ((N-1) PATR+TR)  / N\n",
    "    \n",
    "    Here, PATR is the previous day's ATR; TR is the true range:\n"
   ]
  },
  {
   "cell_type": "code",
   "execution_count": 69,
   "metadata": {
    "collapsed": true
   },
   "outputs": [],
   "source": [
    "for i in range(1, N):\n",
    "    atr[i] = (N - 1) * atr[i - 1] + truerange[i]\n",
    "    atr[i] /= N"
   ]
  },
  {
   "cell_type": "markdown",
   "metadata": {},
   "source": [
    "# What just happened?\n",
    "We formed three arrays, one for each of the three ranges—daily range, the gap between the\n",
    "high of today and the close of yesterday, and the gap between the close of yesterday and the\n",
    "low of today. This tells us how much the stock price moved and, therefore, how volatile it is.\n",
    "The algorithm requires us to find the maximum value for each day. The max() function that\n",
    "we used before can give us the maximum value within an array, but that is not what we want\n",
    "here. We need the maximum value across arrays, so we want the maximum value of the first\n",
    "elements in the three arrays, the second elements, and so on. In preceding Time for action\n",
    "section, we saw that the maximum() function can do this. After this, we computed a moving\n",
    "average of the true range values"
   ]
  },
  {
   "cell_type": "code",
   "execution_count": 70,
   "metadata": {},
   "outputs": [
    {
     "name": "stdout",
     "output_type": "stream",
     "text": [
      "len(h) 5 len(l) 5\n",
      "Close [214.009998 214.379993 210.969995 ... 116.760002 116.730003 115.82    ]\n",
      "len(previousclose) 5\n",
      "Previous close [116.290001 116.519997 117.260002 116.760002 116.730003]\n",
      "True range [0.930001 1.310005 1.82     0.709999 1.769997]\n",
      "ATR [1.3080004  1.30840132 1.41072106 1.27057664 1.37046072]\n"
     ]
    }
   ],
   "source": [
    "import numpy as np\n",
    "h, l, c = np.loadtxt('prices.csv', delimiter=',', usecols=(5,4,3),\n",
    "unpack=True)\n",
    "N = 5\n",
    "h = h[-N:]\n",
    "l = l[-N:]\n",
    "print(\"len(h)\", len(h), \"len(l)\", len(l))\n",
    "print(\"Close\", c)\n",
    "previousclose = c[-N -1: -1]\n",
    "print(\"len(previousclose)\", len(previousclose))\n",
    "print(\"Previous close\", previousclose)\n",
    "truerange = np.maximum(h - l, h - previousclose, previousclose - l)\n",
    "print(\"True range\", truerange)\n",
    "atr = np.zeros(N)\n",
    "atr[0] = np.mean(truerange)\n",
    "\n",
    "for i in range(1, N):\n",
    "    atr[i] = (N - 1) * atr[i - 1] + truerange[i]\n",
    "    atr[i] /= N\n",
    "print(\"ATR\", atr)\n"
   ]
  },
  {
   "cell_type": "markdown",
   "metadata": {},
   "source": [
    "In the following sections, we will learn better ways to calculate moving averages.\n",
    "# Have a go hero – taking the minimum() function for a spin\n",
    "Besides the maximum() function, there is a minimum() function. You can probably guess\n",
    "what it does. Make a small script or start an interactive session in IPython to test your\n",
    "assumptions."
   ]
  },
  {
   "cell_type": "markdown",
   "metadata": {},
   "source": [
    "# Simple Moving Average\n",
    "The Simple Moving Average (SMA) is commonly used to analyze time-series data. To\n",
    "calculate it, we define a moving window of N periods, N days in our case. We move this\n",
    "window along the data and calculate the mean of the values inside the window.\n",
    "# Time for action – computing the Simple Moving Average\n",
    "The moving average is easy enough to compute with a few loops and the mean() function,\n",
    "but NumPy has a better alternative—the convolve() function. The SMA is, after all,\n",
    "nothing more than a convolution with equal weights or, if you like, unweighted.<br><br>\n",
    "<b>Convolution</b> is a mathematical operation on two functions defined as the\n",
    "integral of the product of the two functions after one of the functions is\n",
    "reversed and shifted.\n"
   ]
  },
  {
   "cell_type": "markdown",
   "metadata": {},
   "source": [
    "Use the following steps to compute the SMA:\n",
    "1. Use the ones() function to create an array of size N and elements initialized to 1,\n",
    "and then, divide the array by N to give us the weights:\n"
   ]
  },
  {
   "cell_type": "code",
   "execution_count": 71,
   "metadata": {},
   "outputs": [
    {
     "name": "stdout",
     "output_type": "stream",
     "text": [
      "Weights [0.2 0.2 0.2 0.2 0.2]\n"
     ]
    }
   ],
   "source": [
    "N = 5\n",
    "weights = np.ones(N) / N\n",
    "print(\"Weights\", weights)"
   ]
  },
  {
   "cell_type": "raw",
   "metadata": {},
   "source": [
    "2. Now, call the convolve() function with these weights:"
   ]
  },
  {
   "cell_type": "code",
   "execution_count": 72,
   "metadata": {},
   "outputs": [
    {
     "data": {
      "text/plain": [
       "array([212.3839982, 211.6039992, 210.2720008, ..., 116.778    ,\n",
       "       116.712001 , 116.6180008])"
      ]
     },
     "execution_count": 72,
     "metadata": {},
     "output_type": "execute_result"
    }
   ],
   "source": [
    "c = np.loadtxt('prices.csv', delimiter=',', usecols=(3,),\n",
    "unpack=True)\n",
    "sma = np.convolve(weights, c)[N-1:-N+1]\n",
    "sma"
   ]
  },
  {
   "cell_type": "raw",
   "metadata": {},
   "source": [
    "3. From the array returned by convolve(), we extracted the data in the center of size\n",
    "N. The following code makes an array of time values and plots with matplotlib\n",
    "that we will cover in a later chapter:\n"
   ]
  },
  {
   "cell_type": "code",
   "execution_count": 73,
   "metadata": {},
   "outputs": [
    {
     "name": "stdout",
     "output_type": "stream",
     "text": [
      "[214.009998 214.379993 210.969995 210.58     211.980005 210.110003]\n"
     ]
    },
    {
     "data": {
      "image/png": "[encoded data removed]",
      "text/plain": [
       "<matplotlib.figure.Figure at 0x178fc762be0>"
      ]
     },
     "metadata": {},
     "output_type": "display_data"
    }
   ],
   "source": [
    "import matplotlib.pyplot as plt\n",
    "\n",
    "c = np.loadtxt('prices.csv', delimiter=',', usecols=(3,),\n",
    "unpack=True)\n",
    "print(c[:6])\n",
    "sma = np.convolve(weights, c)[N-1:-N+1]\n",
    "t = np.arange(N - 1, len(c))\n",
    "plt.plot(t, c[N-1:], lw=0.5, label=\"Data\")\n",
    "plt.plot(t, sma, '--', lw=2.0, label=\"Moving average\")\n",
    "plt.title(\"5 Day Moving Average\")\n",
    "plt.xlabel(\"Days\")\n",
    "plt.ylabel(\"Price ($)\")\n",
    "plt.grid()\n",
    "plt.legend()\n",
    "plt.show()"
   ]
  },
  {
   "cell_type": "markdown",
   "metadata": {},
   "source": [
    "# What just happened?\n",
    "We computed the SMA for the close stock price. It turns out that the SMA is just a signal\n",
    "processing technique—a convolution with weights 1/N, where N is the size of the moving\n",
    "average window. We learned that the ones() function can create an array with ones and\n",
    "the convolve() function calculates the convolution of a dataset with specified weights"
   ]
  },
  {
   "cell_type": "code",
   "execution_count": 74,
   "metadata": {},
   "outputs": [
    {
     "name": "stdout",
     "output_type": "stream",
     "text": [
      "Weights [0.2 0.2 0.2 0.2 0.2]\n",
      "sma [212.3839982 211.6039992 210.2720008 ... 116.778     116.712001\n",
      " 116.6180008]\n",
      "c[N-1:] [211.980005 210.110003 207.720001 ... 116.760002 116.730003 115.82    ]\n"
     ]
    },
    {
     "data": {
      "image/png": "[encoded data removed]",
      "text/plain": [
       "<matplotlib.figure.Figure at 0x178fef187f0>"
      ]
     },
     "metadata": {},
     "output_type": "display_data"
    }
   ],
   "source": [
    "from __future__ import print_function\n",
    "import numpy as np\n",
    "import matplotlib.pyplot as plt\n",
    "N = 5\n",
    "weights = np.ones(N) / N\n",
    "print(\"Weights\", weights)\n",
    "\n",
    "c = np.loadtxt('prices.csv', delimiter=',', usecols=(3,), unpack=True)\n",
    "sma = np.convolve(weights, c)[N-1:-N+1]\n",
    "t = np.arange(N - 1, len(c))\n",
    "print(\"sma\",sma)\n",
    "print(\"c[N-1:]\",c[N-1:])\n",
    "plt.plot(t, c[N-1:], lw=1.0, label=\"Data\")\n",
    "plt.plot(t, sma, '--', lw=2.0, label=\"Moving average\")\n",
    "plt.title(\"5 Day Moving Average\")\n",
    "\n",
    "plt.xlabel(\"Days\")\n",
    "plt.ylabel(\"Price ($)\")\n",
    "plt.grid()\n",
    "plt.legend()\n",
    "plt.show()"
   ]
  },
  {
   "cell_type": "markdown",
   "metadata": {},
   "source": [
    "# Time for action – calculating the Exponential Moving Average\n",
    "Given an array, the exp() function calculates the exponential of each array element. For\n",
    "example, look at the following code:\n",
    "x = np.arange(5)\n",
    "print(\"Exp\", np.exp(x))"
   ]
  },
  {
   "cell_type": "code",
   "execution_count": 75,
   "metadata": {},
   "outputs": [
    {
     "name": "stdout",
     "output_type": "stream",
     "text": [
      "Exp [ 1.          2.71828183  7.3890561  20.08553692 54.59815003]\n"
     ]
    }
   ],
   "source": [
    "x = np.arange(5)\n",
    "print(\"Exp\", np.exp(x))\n"
   ]
  },
  {
   "cell_type": "raw",
   "metadata": {},
   "source": [
    "The linspace() function takes as parameters a start value, a stop value, and optionally an\n",
    "array size. It returns an array of evenly spaced numbers. This is an example:\n"
   ]
  },
  {
   "cell_type": "code",
   "execution_count": 76,
   "metadata": {},
   "outputs": [
    {
     "name": "stdout",
     "output_type": "stream",
     "text": [
      "Linspace [-1.   -0.75 -0.5  -0.25  0.  ]\n"
     ]
    }
   ],
   "source": [
    "print(\"Linspace\", np.linspace(-1, 0, 5))"
   ]
  },
  {
   "cell_type": "raw",
   "metadata": {},
   "source": [
    "Calculate the EMA for our data:\n",
    "1. Now, back to the weights, calculate them with exp() and linspace():\n",
    "N = 5\n",
    "weights = np.exp(np.linspace(-1., 0., N))"
   ]
  },
  {
   "cell_type": "code",
   "execution_count": 77,
   "metadata": {
    "collapsed": true
   },
   "outputs": [],
   "source": [
    "N = 5\n",
    "weights = np.exp(np.linspace(-1., 0., N))"
   ]
  },
  {
   "cell_type": "raw",
   "metadata": {},
   "source": [
    "2. Normalize the weights with the ndarray sum() method:\n"
   ]
  },
  {
   "cell_type": "code",
   "execution_count": 78,
   "metadata": {},
   "outputs": [
    {
     "name": "stdout",
     "output_type": "stream",
     "text": [
      "Weights [0.11405072 0.14644403 0.18803785 0.24144538 0.31002201]\n"
     ]
    }
   ],
   "source": [
    "weights /= weights.sum()\n",
    "print(\"Weights\", weights)"
   ]
  },
  {
   "cell_type": "raw",
   "metadata": {},
   "source": [
    "3. After this, use the convolve() function that we learned about in the SMA section\n",
    "and also plot the results:"
   ]
  },
  {
   "cell_type": "code",
   "execution_count": 79,
   "metadata": {},
   "outputs": [
    {
     "data": {
      "image/png": "[encoded data removed]",
      "text/plain": [
       "<matplotlib.figure.Figure at 0x178feec5a58>"
      ]
     },
     "metadata": {},
     "output_type": "display_data"
    }
   ],
   "source": [
    "c = np.loadtxt('prices.csv', delimiter=',', usecols=(3,),\n",
    "unpack=True)\n",
    "ema = np.convolve(weights, c)[N-1:-N+1]\n",
    "t = np.arange(N - 1, len(c))\n",
    "plt.plot(t, c[N-1:], lw=1.0, label='Data')\n",
    "plt.plot(t, ema, '--', lw=2.0, label='Exponential Moving Average')\n",
    "plt.title('5 Days Exponential Moving Average')\n",
    "plt.xlabel('Days')\n",
    "plt.ylabel('Price ($)')\n",
    "plt.legend()\n",
    "plt.grid()\n",
    "plt.show()"
   ]
  },
  {
   "cell_type": "markdown",
   "metadata": {},
   "source": [
    "# Bollinger Bands\n",
    "Bollinger Bands are yet another technical indicator. Yes, there are thousands of them. This\n",
    "one is named after its inventor and indicates a range for the price of a financial security. It\n",
    "consists of three parts:"
   ]
  },
  {
   "cell_type": "raw",
   "metadata": {},
   "source": [
    "1. A Simple Moving Average.\n",
    "2. An upper band of two standard deviations above this moving average—the\n",
    "standard deviation is derived from the same data with which the moving average\n",
    "is calculated.\n",
    "3. A lower band of two standard deviations below the moving average."
   ]
  },
  {
   "cell_type": "markdown",
   "metadata": {},
   "source": [
    "# Time for action – enveloping with Bollinger Bands\n",
    "We already know how to calculate the SMA. So, if you need to refresh your memory, please\n",
    "review the Time for action – computing the simple average section in this chapter. This\n",
    "example will introduce the NumPy fill() function. The fill() function sets the value of\n",
    "an array to a scalar value. The function should be faster than array.flat = scalar or\n",
    "setting the values of the array one-by-one in a loop. Perform the following steps to envelope\n",
    "with the Bollinger Bands:"
   ]
  },
  {
   "cell_type": "raw",
   "metadata": {},
   "source": [
    "1. Starting with an array called sma that contains the moving average values, we\n",
    "will loop through all the datasets corresponding to those values. After forming\n",
    "the dataset, calculate the standard deviation. Note that at a certain point, it\n",
    "will be necessary to calculate the difference between each data point and the\n",
    "corresponding average value. If we do not have NumPy, we will loop through these\n",
    "points and subtract each of the values one-by-one from the corresponding average.\n",
    "However, the NumPy fill() function allows us to construct an array that has\n",
    "elements set to the same value. This enables us to save on one loop and subtract\n",
    "arrays in one go:"
   ]
  },
  {
   "cell_type": "code",
   "execution_count": 80,
   "metadata": {},
   "outputs": [
    {
     "name": "stdout",
     "output_type": "stream",
     "text": [
      "1758 1758\n"
     ]
    }
   ],
   "source": [
    "deviation = []\n",
    "C = len(c)\n",
    "for i in range(N - 1, C):\n",
    "    if i + N < C:\n",
    "        dev = c[i: i + N]\n",
    "    else:\n",
    "        dev = c[-N:]\n",
    "\n",
    "    averages = np.zeros(N)\n",
    "    averages.fill(sma[i - N - 1])\n",
    "    dev = dev - averages\n",
    "    dev = dev ** 2\n",
    "    dev = np.sqrt(np.mean(dev))\n",
    "    deviation.append(dev)\n",
    "    \n",
    "deviation = 2 * np.array(deviation)\n",
    "print(len(deviation), len(sma))\n",
    "upperBB = sma + deviation\n",
    "lowerBB = sma - deviation"
   ]
  },
  {
   "cell_type": "raw",
   "metadata": {},
   "source": [
    "2. To plot, we will use the following code (don't worry about it now; we will see how\n",
    "this works in Chapter 9, Plotting with matplotlib):\n"
   ]
  },
  {
   "cell_type": "markdown",
   "metadata": {},
   "source": [
    "# What just happened?\n",
    "We worked out the Bollinger Bands that envelope the close price of our data. More\n",
    "importantly, we got acquainted with the NumPy fill() function. This function fills\n",
    "an array with a scalar value. This is the only parameter of the fill() function (see\n",
    "bollingerbands.py):\n"
   ]
  },
  {
   "cell_type": "code",
   "execution_count": 81,
   "metadata": {},
   "outputs": [
    {
     "name": "stdout",
     "output_type": "stream",
     "text": [
      "Weights [0.2 0.2 0.2 0.2 0.2]\n",
      "1758 1758\n",
      "[ 25.83081908  27.27158954 202.16303639 ... 115.83199255 115.69719034\n",
      " 115.63036398]\n",
      "[214.009998 214.379993 210.969995 ... 117.059998 116.290001 116.519997]\n",
      "[398.93717732 395.93640886 218.38096521 ... 117.72400745 117.72681166\n",
      " 117.60563762]\n",
      "Ratio between bands 0.9960182025028441\n"
     ]
    },
    {
     "data": {
      "image/png": "[encoded data removed]",
      "text/plain": [
       "<matplotlib.figure.Figure at 0x178ff02e240>"
      ]
     },
     "metadata": {},
     "output_type": "display_data"
    }
   ],
   "source": [
    "from __future__ import print_function\n",
    "import numpy as np\n",
    "import matplotlib.pyplot as plt\n",
    "N = 5\n",
    "weights = np.ones(N) / N\n",
    "print(\"Weights\", weights)\n",
    "c = np.loadtxt('prices.csv', delimiter=',', usecols=(3,), unpack=True)\n",
    "sma = np.convolve(weights, c)[N-1:-N+1]\n",
    "deviation = []\n",
    "C = len(c)\n",
    "for i in range(N - 1, C):\n",
    "    if i + N < C:\n",
    "        dev = c[i: i + N]\n",
    "    else:\n",
    "        dev = c[-N:]\n",
    "\n",
    "    averages = np.zeros(N)\n",
    "    averages.fill(sma[i - N - 1])\n",
    "    dev = dev - averages\n",
    "    dev = dev ** 2\n",
    "    dev = np.sqrt(np.mean(dev))\n",
    "    deviation.append(dev)\n",
    "deviation = 2 * np.array(deviation)\n",
    "print(len(deviation), len(sma))\n",
    "upperBB = sma + deviation\n",
    "lowerBB = sma - deviation\n",
    "c_slice = c[N-1:]\n",
    "between_bands = np.where((c_slice < upperBB) & (c_slice > lowerBB))\n",
    "print(lowerBB[between_bands])\n",
    "print(c[between_bands])\n",
    "print(upperBB[between_bands])\n",
    "\n",
    "between_bands = len(np.ravel(between_bands))\n",
    "print(\"Ratio between bands\", float(between_bands)/len(c_slice))\n",
    "t = np.arange(N - 1, C)\n",
    "plt.plot(t, c_slice, lw=1.0, label='Data')\n",
    "plt.plot(t, sma, '--', lw=2.0, label='Moving Average')\n",
    "plt.plot(t, upperBB, '-.', lw=3.0, label='Upper Band')\n",
    "plt.plot(t, lowerBB, ':', lw=4.0, label='Lower Band')\n",
    "plt.title('Bollinger Bands')\n",
    "plt.xlabel('Days')\n",
    "plt.ylabel('Price ($)')\n",
    "plt.grid()\n",
    "plt.legend()\n",
    "plt.show()"
   ]
  },
  {
   "cell_type": "markdown",
   "metadata": {},
   "source": [
    "# Have a go hero – switching to Exponential Moving Average\n",
    "It is customary to choose the SMA to center the Bollinger Band on. The second most popular\n",
    "choice is the EMA, so try that as an exercise. You can find a suitable example in this chapter,\n",
    "if you need pointers.\n",
    "Check whether the fill() function is faster or is as fast as array.flat = scalar, or\n",
    "setting the value in a loop.\n",
    "# Linear model\n",
    "Many phenomena in science have a related linear relationship model. The NumPy linalg\n",
    "package deals with linear algebra computations. We will begin with the assumption that a\n",
    "price value can be derived from N previous prices based on a linear relationship relation."
   ]
  },
  {
   "cell_type": "markdown",
   "metadata": {},
   "source": [
    "# Time for action – predicting price with a linear model\n",
    "Keeping an open mind, let's assume that we can express a stock price p as a linear\n",
    "combination of previous values, that is, a sum of those values multiplied by certain\n",
    "coefficients we need to determine:"
   ]
  },
  {
   "cell_type": "raw",
   "metadata": {},
   "source": [
    "1. First, form a vector b containing N price values:"
   ]
  },
  {
   "cell_type": "code",
   "execution_count": 82,
   "metadata": {},
   "outputs": [
    {
     "name": "stdout",
     "output_type": "stream",
     "text": [
      "b [115.82     116.730003 116.760002 117.260002 116.519997]\n"
     ]
    }
   ],
   "source": [
    "b = c[-N:]\n",
    "b = b[::-1]\n",
    "print(\"b\", b)"
   ]
  },
  {
   "cell_type": "raw",
   "metadata": {},
   "source": [
    "2. Second, pre-initialize the matrix A to be N-by-N and contain zeros:"
   ]
  },
  {
   "cell_type": "code",
   "execution_count": 83,
   "metadata": {},
   "outputs": [
    {
     "name": "stdout",
     "output_type": "stream",
     "text": [
      "Zeros N by N [[0. 0. 0. 0. 0.]\n",
      " [0. 0. 0. 0. 0.]\n",
      " [0. 0. 0. 0. 0.]\n",
      " [0. 0. 0. 0. 0.]\n",
      " [0. 0. 0. 0. 0.]]\n"
     ]
    }
   ],
   "source": [
    "A = np.zeros((N, N), float)\n",
    "print(\"Zeros N by N\", A)\n"
   ]
  },
  {
   "cell_type": "raw",
   "metadata": {},
   "source": [
    "3. Third, fill the matrix A with N preceding price values for each value in b:"
   ]
  },
  {
   "cell_type": "code",
   "execution_count": 84,
   "metadata": {},
   "outputs": [
    {
     "name": "stdout",
     "output_type": "stream",
     "text": [
      "A [[116.290001 116.519997 117.260002 116.760002 116.730003]\n",
      " [  0.         0.         0.         0.         0.      ]\n",
      " [  0.         0.         0.         0.         0.      ]\n",
      " [  0.         0.         0.         0.         0.      ]\n",
      " [  0.         0.         0.         0.         0.      ]]\n",
      "A [[116.290001 116.519997 117.260002 116.760002 116.730003]\n",
      " [117.059998 116.290001 116.519997 117.260002 116.760002]\n",
      " [  0.         0.         0.         0.         0.      ]\n",
      " [  0.         0.         0.         0.         0.      ]\n",
      " [  0.         0.         0.         0.         0.      ]]\n",
      "A [[116.290001 116.519997 117.260002 116.760002 116.730003]\n",
      " [117.059998 116.290001 116.519997 117.260002 116.760002]\n",
      " [116.949997 117.059998 116.290001 116.519997 117.260002]\n",
      " [  0.         0.         0.         0.         0.      ]\n",
      " [  0.         0.         0.         0.         0.      ]]\n",
      "A [[116.290001 116.519997 117.260002 116.760002 116.730003]\n",
      " [117.059998 116.290001 116.519997 117.260002 116.760002]\n",
      " [116.949997 117.059998 116.290001 116.519997 117.260002]\n",
      " [116.639999 116.949997 117.059998 116.290001 116.519997]\n",
      " [  0.         0.         0.         0.         0.      ]]\n",
      "A [[116.290001 116.519997 117.260002 116.760002 116.730003]\n",
      " [117.059998 116.290001 116.519997 117.260002 116.760002]\n",
      " [116.949997 117.059998 116.290001 116.519997 117.260002]\n",
      " [116.639999 116.949997 117.059998 116.290001 116.519997]\n",
      " [115.970001 116.639999 116.949997 117.059998 116.290001]]\n"
     ]
    }
   ],
   "source": [
    "for i in range(N):\n",
    "    A[i, ] = c[-N - 1 - i: - 1 - i]\n",
    "    print(\"A\", A)"
   ]
  },
  {
   "cell_type": "raw",
   "metadata": {},
   "source": [
    "4. The objective is to determine the coefficients that satisfy our linear model by solving\n",
    "the least squares problem. Employ the lstsq() function of the NumPy linalg\n",
    "package to do this:"
   ]
  },
  {
   "cell_type": "code",
   "execution_count": 85,
   "metadata": {},
   "outputs": [
    {
     "name": "stdout",
     "output_type": "stream",
     "text": [
      "[ 1.31150873  1.52466822 -0.2624725   0.22076683 -1.7934455 ] [] 5 [5.83580275e+02 1.23124543e+00 9.77054889e-01 4.85335919e-01\n",
      " 3.59255790e-01]\n"
     ]
    },
    {
     "name": "stderr",
     "output_type": "stream",
     "text": [
      "C:\\Users\\Muhammad Qasim\\Anaconda3\\lib\\site-packages\\ipykernel_launcher.py:1: FutureWarning: `rcond` parameter will change to the default of machine precision times ``max(M, N)`` where M and N are the input matrix dimensions.\n",
      "To use the future default and silence this warning we advise to pass `rcond=None`, to keep using the old, explicitly pass `rcond=-1`.\n",
      "  \"\"\"Entry point for launching an IPython kernel.\n"
     ]
    }
   ],
   "source": [
    "(x, residuals, rank, s) = np.linalg.lstsq(A, b)\n",
    "print(x, residuals, rank, s)\n"
   ]
  },
  {
   "cell_type": "raw",
   "metadata": {},
   "source": [
    "The tuple returned contains the coefficient x that we were after, an array comprising\n",
    "residuals, the rank of matrix A, and the singular values of A.\n",
    "5. Once we have the coefficients of our linear model, we can predict the next\n",
    "price value. Compute the dot product (with the NumPy dot() function) of the\n",
    "coefficients and the last known N prices:"
   ]
  },
  {
   "cell_type": "code",
   "execution_count": 86,
   "metadata": {},
   "outputs": [
    {
     "name": "stdout",
     "output_type": "stream",
     "text": [
      "116.14203303800039\n"
     ]
    }
   ],
   "source": [
    "print(np.dot(b, x))"
   ]
  },
  {
   "cell_type": "markdown",
   "metadata": {},
   "source": [
    "# What just happened?\n",
    "We predicted tomorrow's stock price today. If this works in practice, we can retire early! See,\n",
    "this book was a good investment, after all! We designed a linear model for the predictions.\n",
    "The financial problem was reduced to a linear algebraic one. NumPy's linalg package has a\n",
    "practical lstsq() function that helped us with the task at hand, estimating the coefficients\n",
    "of a linear model. After obtaining a solution, we plugged the numbers in the NumPy dot()\n",
    "function that presented us an estimate through linear regression"
   ]
  },
  {
   "cell_type": "code",
   "execution_count": 87,
   "metadata": {},
   "outputs": [
    {
     "name": "stdout",
     "output_type": "stream",
     "text": [
      "b [115.82     116.730003 116.760002 117.260002 116.519997]\n",
      "Zeros N by N [[0. 0. 0. 0. 0.]\n",
      " [0. 0. 0. 0. 0.]\n",
      " [0. 0. 0. 0. 0.]\n",
      " [0. 0. 0. 0. 0.]\n",
      " [0. 0. 0. 0. 0.]]\n",
      "A [[116.290001 116.519997 117.260002 116.760002 116.730003]\n",
      " [117.059998 116.290001 116.519997 117.260002 116.760002]\n",
      " [116.949997 117.059998 116.290001 116.519997 117.260002]\n",
      " [116.639999 116.949997 117.059998 116.290001 116.519997]\n",
      " [115.970001 116.639999 116.949997 117.059998 116.290001]]\n",
      "[ 1.31150873  1.52466822 -0.2624725   0.22076683 -1.7934455 ] [] 5 [5.83580275e+02 1.23124543e+00 9.77054889e-01 4.85335919e-01\n",
      " 3.59255790e-01]\n",
      "116.14203303800039\n"
     ]
    },
    {
     "name": "stderr",
     "output_type": "stream",
     "text": [
      "C:\\Users\\Muhammad Qasim\\Anaconda3\\lib\\site-packages\\ipykernel_launcher.py:13: FutureWarning: `rcond` parameter will change to the default of machine precision times ``max(M, N)`` where M and N are the input matrix dimensions.\n",
      "To use the future default and silence this warning we advise to pass `rcond=None`, to keep using the old, explicitly pass `rcond=-1`.\n",
      "  del sys.path[0]\n"
     ]
    }
   ],
   "source": [
    "from __future__ import print_function\n",
    "import numpy as np\n",
    "N = 5\n",
    "c = np.loadtxt('prices.csv', delimiter=',', usecols=(3,), unpack=True)\n",
    "b = c[-N:]\n",
    "b = b[::-1]\n",
    "print(\"b\", b)\n",
    "A = np.zeros((N, N), float)\n",
    "print(\"Zeros N by N\", A)\n",
    "for i in range(N):\n",
    "    A[i, ] = c[-N - 1 - i: - 1 - i]\n",
    "print(\"A\", A)\n",
    "(x, residuals, rank, s) = np.linalg.lstsq(A, b)\n",
    "print(x, residuals, rank, s)\n",
    "print(np.dot(b, x))\n"
   ]
  },
  {
   "cell_type": "markdown",
   "metadata": {},
   "source": [
    "# Trend lines\n",
    "A trend line is a line among a number of the so-called pivot points on a stock chart. As the\n",
    "name suggests, the line's trend portrays the trend of the price development. In the past,\n",
    "traders drew trend lines on paper but nowadays, we can let a computer draw it for us. In this\n",
    "section, we shall use a very simple approach that probably won't be very useful in real life,\n",
    "but should clarify the principle well."
   ]
  },
  {
   "cell_type": "code",
   "execution_count": 88,
   "metadata": {},
   "outputs": [
    {
     "name": "stdout",
     "output_type": "stream",
     "text": [
      "Pivots [213.62999833 214.40666033 212.31666633 ... 116.993332   116.74666867\n",
      " 116.149999  ]\n",
      "Condition [False False False ... False False False]\n",
      "[390.10518003 389.93500769 389.76483534 389.594663   389.42449066\n",
      " 389.25431831 389.08414597 388.74380128 385.68069907 385.51052672\n",
      " 383.97897562 383.80880327 383.63863093 382.10707982 381.93690748\n",
      " 380.74570107 379.21414996 376.83173713 376.66156479 376.49139244\n",
      " 376.3212201  376.15104775 375.98087541 375.47035837 374.95984134\n",
      " 374.61949665 374.4493243  372.9177732  372.74760086 372.57742851\n",
      " 372.40725617]\n",
      "[393.300003 398.499989 403.410007 392.59     391.819996 390.479992\n",
      " 396.749989 392.57     389.969994 389.989994 384.619991 389.299992\n",
      " 392.959995 397.009995 390.570007 388.809994 392.870007 385.220005\n",
      " 384.619991 379.260002 388.829994 384.770008 377.41     376.510006\n",
      " 376.12001  382.199989 387.93     380.19001  378.939995 381.019989\n",
      " 382.210003]\n",
      "[406.17114064 405.99300125 405.81486187 405.63672249 405.4585831\n",
      " 405.28044372 405.10230434 404.74602557 401.53951666 401.36137727\n",
      " 399.75812282 399.57998344 399.40184405 397.7985896  397.62045021\n",
      " 396.37347453 394.77022007 392.2762687  392.09812931 391.91998993\n",
      " 391.74185054 391.56371116 391.38557178 390.85115363 390.31673547\n",
      " 389.96045671 389.78231732 388.17906287 388.00092348 387.8227841\n",
      " 387.64464472]\n",
      "Number points between bands 31\n",
      "Ratio between bands 0.017593643586833144\n",
      "Tomorrows support 156.79889519402815\n",
      "Tomorrows resistance 161.94204533858664\n",
      "Number of points between bands 2nd approach 30\n"
     ]
    },
    {
     "name": "stderr",
     "output_type": "stream",
     "text": [
      "C:\\Users\\Muhammad Qasim\\Anaconda3\\lib\\site-packages\\ipykernel_launcher.py:7: FutureWarning: `rcond` parameter will change to the default of machine precision times ``max(M, N)`` where M and N are the input matrix dimensions.\n",
      "To use the future default and silence this warning we advise to pass `rcond=None`, to keep using the old, explicitly pass `rcond=-1`.\n",
      "  import sys\n"
     ]
    },
    {
     "data": {
      "image/png": "[encoded data removed]",
      "text/plain": [
       "<matplotlib.figure.Figure at 0x178ff0b4630>"
      ]
     },
     "metadata": {},
     "output_type": "display_data"
    }
   ],
   "source": [
    "from __future__ import print_function\n",
    "import numpy as np\n",
    "import matplotlib.pyplot as plt\n",
    "def fit_line(t, y):\n",
    "    ''' Fits t to a line y = at + b '''\n",
    "    A = np.vstack([t, np.ones_like(t)]).T\n",
    "    return np.linalg.lstsq(A, y)[0]\n",
    "# Determine pivots\n",
    "h, l, c = np.loadtxt('prices.csv', delimiter=',', usecols=(5,4,3),\n",
    "unpack=True)\n",
    "pivots = (h + l + c) / 3\n",
    "print(\"Pivots\", pivots)\n",
    "# Fit trend lines\n",
    "\n",
    "t = np.arange(len(c))\n",
    "sa, sb = fit_line(t, pivots - (h - l))\n",
    "ra, rb = fit_line(t, pivots + (h - l))\n",
    "support = sa * t + sb\n",
    "resistance = ra * t + rb\n",
    "condition = (c > support) & (c < resistance)\n",
    "print(\"Condition\", condition)\n",
    "between_bands = np.where(condition)\n",
    "print(support[between_bands])\n",
    "print(c[between_bands])\n",
    "print(resistance[between_bands])\n",
    "between_bands = len(np.ravel(between_bands))\n",
    "\n",
    "print(\"Number points between bands\", between_bands)\n",
    "print(\"Ratio between bands\", float(between_bands)/len(c))\n",
    "print(\"Tomorrows support\", sa * (t[-1] + 1) + sb)\n",
    "print(\"Tomorrows resistance\", ra * (t[-1] + 1) + rb)\n",
    "a1 = c[c > support]\n",
    "a2 = c[c < resistance]\n",
    "print(\"Number of points between bands 2nd approach\" ,len(np.\n",
    "intersect1d(a1, a2)))\n",
    "# Plotting\n",
    "plt.plot(t, c, label='Data')\n",
    "plt.plot(t, support, '--', lw=2.0, label='Support')\n",
    "plt.plot(t, resistance, '-.', lw=3.0, label='Resistance')\n",
    "plt.title('Trend Lines')\n",
    "plt.xlabel('Days')\n",
    "plt.ylabel('Price ($)')\n",
    "plt.grid()\n",
    "plt.legend()\n",
    "plt.show()"
   ]
  },
  {
   "cell_type": "markdown",
   "metadata": {},
   "source": [
    "# Methods of ndarray\n",
    "The NumPy ndarray class has a lot of methods that work on the array. Most of the time,\n",
    "these methods return an array. You may have noticed that many of the functions part of the\n",
    "NumPy library have a counterpart with the same name and functionality in the ndarray\n",
    "class. This is mostly due to the historical development of NumPy.\n",
    "The list of ndarray methods is pretty long, so we cannot cover them all. The mean(),\n",
    "var(), sum(), std(), argmax(), argmin(), and mean() functions that we saw earlier\n",
    "are also ndarray methods."
   ]
  },
  {
   "cell_type": "markdown",
   "metadata": {},
   "source": [
    "# Time for action – clipping and compressing arrays\n",
    "Here are a few examples of ndarray methods. Perform the following steps to clip and\n",
    "compress arrays:\n",
    "1. The clip() method returns a clipped array, so that all values above a maximum\n",
    "value are set to the maximum and values below a minimum are set to the minimum\n",
    "value. Clip an array with values 0 to 4 to 1 and 2:\n"
   ]
  },
  {
   "cell_type": "code",
   "execution_count": 89,
   "metadata": {},
   "outputs": [
    {
     "name": "stdout",
     "output_type": "stream",
     "text": [
      "a = [0 1 2 3 4]\n",
      "Clipped [1 1 2 2 2]\n"
     ]
    }
   ],
   "source": [
    "a = np.arange(5)\n",
    "print(\"a =\", a)\n",
    "print(\"Clipped\", a.clip(1, 2))"
   ]
  },
  {
   "cell_type": "raw",
   "metadata": {},
   "source": [
    "2. The ndarray compress() method returns an array based on a condition. For\n",
    "instance, look at the following code:"
   ]
  },
  {
   "cell_type": "code",
   "execution_count": 90,
   "metadata": {},
   "outputs": [
    {
     "name": "stdout",
     "output_type": "stream",
     "text": [
      "[0 1 2 3]\n",
      "Compressed [3]\n"
     ]
    }
   ],
   "source": [
    "a = np.arange(4)\n",
    "print(a)\n",
    "print(\"Compressed\", a.compress(a > 2))\n"
   ]
  },
  {
   "cell_type": "markdown",
   "metadata": {},
   "source": [
    "## Factorial\n",
    "Many programming books have an example of calculating the factorial. We should not break\n",
    "with this tradition.\n",
    "## Time for action – calculating the factorial\n",
    "The ndarray class has the prod() method, which computes the product of the elements in\n",
    "an array. Perform the following steps to calculate the factorial:"
   ]
  },
  {
   "cell_type": "code",
   "execution_count": 91,
   "metadata": {},
   "outputs": [
    {
     "name": "stdout",
     "output_type": "stream",
     "text": [
      "b = [1 2 3 4 5 6 7 8]\n",
      "Factorial 40320\n"
     ]
    }
   ],
   "source": [
    "b = np.arange(1, 9)\n",
    "print(\"b =\", b)\n",
    "print(\"Factorial\", b.prod())\n"
   ]
  },
  {
   "cell_type": "raw",
   "metadata": {},
   "source": [
    "No problem! Call the cumprod() method, which computes the cumulative product\n",
    "of an array:"
   ]
  },
  {
   "cell_type": "code",
   "execution_count": 92,
   "metadata": {},
   "outputs": [
    {
     "name": "stdout",
     "output_type": "stream",
     "text": [
      "Factorials [    1     2     6    24   120   720  5040 40320]\n"
     ]
    }
   ],
   "source": [
    "print(\"Factorials\", b.cumprod())"
   ]
  },
  {
   "cell_type": "markdown",
   "metadata": {},
   "source": [
    "# What just happened?\n",
    "We used the prod() and cumprod() functions to calculate factorials (see\n",
    "ndarraymethods.py):"
   ]
  },
  {
   "cell_type": "code",
   "execution_count": 93,
   "metadata": {},
   "outputs": [
    {
     "name": "stdout",
     "output_type": "stream",
     "text": [
      "a = [0 1 2 3 4]\n",
      "Clipped [1 1 2 2 2]\n",
      "[0 1 2 3]\n",
      "Compressed [3]\n",
      "b = [1 2 3 4 5 6 7 8]\n",
      "Factorial 40320\n",
      "Factorials [    1     2     6    24   120   720  5040 40320]\n"
     ]
    }
   ],
   "source": [
    "from __future__ import print_function\n",
    "import numpy as np\n",
    "a = np.arange(5)\n",
    "print(\"a =\", a)\n",
    "print(\"Clipped\", a.clip(1, 2))\n",
    "a = np.arange(4)\n",
    "print(a)\n",
    "print(\"Compressed\", a.compress(a > 2))\n",
    "b = np.arange(1, 9)\n",
    "print(\"b =\", b)\n",
    "print(\"Factorial\", b.prod())\n",
    "print(\"Factorials\", b.cumprod())"
   ]
  },
  {
   "cell_type": "markdown",
   "metadata": {},
   "source": [
    "# Missing values and Jackknife resampling\n",
    "Data often misses values because of errors or technical issues. Even if we are not missing\n",
    "values, we may have cause to suspect certain values. Once we doubt data values, derived\n",
    "values such as the arithmetic mean, which we learned to calculate in this chapter, become\n",
    "questionable too. It is common for these reasons to try to estimate how reliable the\n",
    "arithmetic mean, variance, and standard deviation are."
   ]
  },
  {
   "cell_type": "markdown",
   "metadata": {},
   "source": [
    "# Time for action – handling NaNs with the nanmean(), nanvar(),\n",
    "and nanstd() functions\n",
    "We will apply jackknife resampling to the stock data. Each value will be omitted by setting it\n",
    "to Not a Number (NaN). The nanmean(), nanvar(), and nanstd() can then be used to\n",
    "compute the arithmetic mean, variance, and standard deviation."
   ]
  },
  {
   "cell_type": "markdown",
   "metadata": {},
   "source": [
    "1. First, initialize a 30-by-3 array for the estimates as follows:\n",
    "estimates = np.zeros((len(c), 3))"
   ]
  },
  {
   "cell_type": "code",
   "execution_count": 94,
   "metadata": {
    "collapsed": true
   },
   "outputs": [],
   "source": [
    "estimates = np.zeros((len(c), 3))"
   ]
  },
  {
   "cell_type": "raw",
   "metadata": {},
   "source": [
    "2. Loop through the values and generate a new dataset by setting one value to NaN at\n",
    "each iteration of the loop. For each new set of values, compute the estimates:\n"
   ]
  },
  {
   "cell_type": "code",
   "execution_count": 95,
   "metadata": {},
   "outputs": [],
   "source": [
    "for i in range(len(c)):\n",
    "    a = c.copy()\n",
    "    a[i] = np.nan\n",
    "    estimates[i,] = [np.nanmean(a), np.nanvar(a), np.nanstd(a)]"
   ]
  },
  {
   "cell_type": "raw",
   "metadata": {},
   "source": [
    "3. Print the variance for each estimate (you can also print the mean or standard\n",
    "deviation if you prefer):"
   ]
  },
  {
   "cell_type": "code",
   "execution_count": 96,
   "metadata": {},
   "outputs": [
    {
     "name": "stdout",
     "output_type": "stream",
     "text": [
      "Estimates variance [1.10476164e-02 2.49554475e+02 1.82147726e-03]\n"
     ]
    }
   ],
   "source": [
    "print(\"Estimates variance\", estimates.var(axis=0))"
   ]
  },
  {
   "cell_type": "markdown",
   "metadata": {},
   "source": [
    "# What just happened?\n",
    "We estimated the variances of the arithmetic mean, variance, and standard deviation of a\n",
    "small dataset using jackknife resampling. This gives us an idea of how much the arithmetic\n",
    "mean, variance, and standard deviation vary. The code for this example can be found in the\n",
    "jackknife.py file in this book's code bundle:\n"
   ]
  },
  {
   "cell_type": "code",
   "execution_count": 97,
   "metadata": {},
   "outputs": [
    {
     "name": "stdout",
     "output_type": "stream",
     "text": [
      "Estimates variance [1.10476164e-02 2.49554475e+02 1.82147726e-03]\n"
     ]
    }
   ],
   "source": [
    "from __future__ import print_function\n",
    "import numpy as np\n",
    "c = np.loadtxt('prices.csv', delimiter=',', usecols=(3,), unpack=True)\n",
    "# Initialize estimates array\n",
    "estimates = np.zeros((len(c), 3))\n",
    "for i in range(len(c)):\n",
    "    # Create a temporary copy and omit one value\n",
    "    a = c.copy()\n",
    "    a[i] = np.nan\n",
    "    # Compute estimates\n",
    "    estimates[i,] = [np.nanmean(a), np.nanvar(a), np.nanstd(a)]\n",
    "print(\"Estimates variance\", estimates.var(axis=0))"
   ]
  },
  {
   "cell_type": "markdown",
   "metadata": {},
   "source": [
    "# Summary\n",
    "This chapter informed us about a great number of common NumPy functions. A few\n",
    "common statistics functions were also mentioned."
   ]
  },
  {
   "cell_type": "code",
   "execution_count": null,
   "metadata": {
    "collapsed": true
   },
   "outputs": [],
   "source": []
  }
 ],
 "metadata": {
  "kernelspec": {
   "display_name": "Python 3",
   "language": "python",
   "name": "python3"
  },
  "language_info": {
   "codemirror_mode": {
    "name": "ipython",
    "version": 3
   },
   "file_extension": ".py",
   "mimetype": "text/x-python",
   "name": "python",
   "nbconvert_exporter": "python",
   "pygments_lexer": "ipython3",
   "version": "3.6.1"
  }
 },
 "nbformat": 4,
 "nbformat_minor": 2
}
