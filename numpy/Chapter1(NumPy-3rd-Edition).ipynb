{
 "cells": [
  {
   "cell_type": "code",
   "execution_count": 1,
   "metadata": {},
   "outputs": [
    {
     "data": {
      "text/plain": [
       "[0, 2, 12, 36, 80, 150, 252, 392, 576, 810]"
      ]
     },
     "execution_count": 1,
     "metadata": {},
     "output_type": "execute_result"
    }
   ],
   "source": [
    "def pythonsum(n):\n",
    "    a = [x for x in range(n)]\n",
    "    b = [y for y in range(n)]\n",
    "    c = []\n",
    "    for i in range(len(a)):\n",
    "        a[i] = i ** 2\n",
    "        b[i] = i ** 3\n",
    "        c.append(a[i] + b[i])\n",
    "    return c\n",
    "abc=pythonsum(10)\n",
    "abc"
   ]
  },
  {
   "cell_type": "code",
   "execution_count": 2,
   "metadata": {},
   "outputs": [
    {
     "data": {
      "text/plain": [
       "array([  0,   2,  12,  36,  80, 150, 252, 392, 576, 810], dtype=int32)"
      ]
     },
     "execution_count": 2,
     "metadata": {},
     "output_type": "execute_result"
    }
   ],
   "source": [
    "import numpy as np\n",
    "def numpysum(n):\n",
    "    a = np.arange(n) ** 2\n",
    "    b = np.arange(n) ** 3\n",
    "    c = a + b\n",
    "    return c\n",
    "numpysum(10)"
   ]
  },
  {
   "cell_type": "code",
   "execution_count": 3,
   "metadata": {},
   "outputs": [
    {
     "name": "stdout",
     "output_type": "stream",
     "text": [
      "The last 2 elements of the sum [999950000799996, 999980000100000]\n",
      "PythonSum elapsed time in microseconds 90998\n",
      "The last 2 elements of the sum [  9912572 -55558496]\n",
      "NumPySum elapsed time in microseconds 3997\n"
     ]
    }
   ],
   "source": [
    "from __future__ import print_function\n",
    "from datetime import datetime\n",
    "import numpy as np\n",
    "\"\"\"\n",
    " Chapter 1 of NumPy Beginners Guide.\n",
    " This program demonstrates vector addition the Python way.\n",
    " Run from the command line as follows\n",
    "\n",
    " python vectorsum.py n\n",
    " where n is an integer that specifies the size of the vectors.\n",
    "  The first vector to be added contains the squares of 0 up to n.\n",
    " The second vector contains the cubes of 0 up to n.\n",
    " The program prints the last 2 elements of the sum and the elapsed\n",
    "time.\n",
    "\"\"\"\n",
    "def numpysum(n):\n",
    "    a = np.arange(n) ** 2\n",
    "    b = np.arange(n) ** 3\n",
    "    c = a + b\n",
    "    return c\n",
    "\n",
    "def pythonsum(n):\n",
    "    a = [x for x in range(n)]\n",
    "    b = [y for y in range(n)]\n",
    "    c = []\n",
    "    for i in range(len(a)):\n",
    "        a[i] = i ** 2\n",
    "        b[i] = i ** 3\n",
    "        c.append(a[i] + b[i])\n",
    "    return c\n",
    "\n",
    "size = 100000\n",
    "start = datetime.now()\n",
    "c = pythonsum(size)\n",
    "delta = datetime.now() - start\n",
    "print(\"The last 2 elements of the sum\", c[-2:])\n",
    "print(\"PythonSum elapsed time in microseconds\", delta.microseconds)\n",
    "start = datetime.now()\n",
    "c = numpysum(size)\n",
    "delta = datetime.now() - start\n",
    "print(\"The last 2 elements of the sum\", c[-2:])\n",
    "print(\"NumPySum elapsed time in microseconds\", delta.microseconds)"
   ]
  },
  {
   "cell_type": "code",
   "execution_count": 4,
   "metadata": {},
   "outputs": [
    {
     "name": "stdout",
     "output_type": "stream",
     "text": [
      "Activating auto-logging. Current session state plus future input saved.\n",
      "Filename       : ipython_log.py\n",
      "Mode           : rotate\n",
      "Output logging : False\n",
      "Raw input log  : False\n",
      "Timestamping   : False\n",
      "State          : active\n"
     ]
    }
   ],
   "source": [
    "%logstart"
   ]
  },
  {
   "cell_type": "code",
   "execution_count": 5,
   "metadata": {},
   "outputs": [
    {
     "name": "stdout",
     "output_type": "stream",
     "text": [
      " Volume in drive D has no label.\n",
      " Volume Serial Number is B074-35AB\n",
      "\n",
      " Directory of D:\\Saylani\\numpy\n",
      "\n",
      "02/10/2018  04:34 PM    <DIR>          .\n",
      "02/10/2018  04:34 PM    <DIR>          ..\n",
      "02/10/2018  04:32 PM    <DIR>          .ipynb_checkpoints\n",
      "02/10/2018  04:22 PM                62 add.py\n",
      "02/10/2018  04:34 PM             9,264 Book(NumPy-3rd-Edition).ipynb\n",
      "02/10/2018  04:33 PM               823 Chapter2.ipynb\n",
      "02/10/2018  04:34 PM                 0 ipython_log.py\n",
      "02/10/2018  04:22 PM             2,073 ipython_log.py.001~\n",
      "02/10/2018  04:03 PM            10,613 ipython_log.py.002~\n",
      "02/10/2018  04:03 PM                27 p1.py\n",
      "               7 File(s)         22,862 bytes\n",
      "               3 Dir(s)  871,524,319,232 bytes free\n"
     ]
    }
   ],
   "source": [
    "ls"
   ]
  },
  {
   "cell_type": "code",
   "execution_count": 6,
   "metadata": {},
   "outputs": [
    {
     "name": "stdout",
     "output_type": "stream",
     "text": [
      "i am external code\n"
     ]
    }
   ],
   "source": [
    "%run -i p1.py"
   ]
  },
  {
   "cell_type": "code",
   "execution_count": 7,
   "metadata": {},
   "outputs": [
    {
     "name": "stdout",
     "output_type": "stream",
     "text": [
      "Breakpoint 1 at d:\\saylani\\numpy\\p1.py:1\n",
      "NOTE: Enter 'c' at the ipdb>  prompt to continue execution.\n",
      "> \u001b[1;32md:\\saylani\\numpy\\p1.py\u001b[0m(1)\u001b[0;36m<module>\u001b[1;34m()\u001b[0m\n",
      "\u001b[1;31m1\u001b[1;32m---> 1 \u001b[1;33m\u001b[0mprint\u001b[0m\u001b[1;33m(\u001b[0m\u001b[1;34m\"i am external code\"\u001b[0m\u001b[1;33m)\u001b[0m\u001b[1;33m\u001b[0m\u001b[0m\n",
      "\u001b[0m\n",
      "ipdb> quit\n"
     ]
    }
   ],
   "source": [
    "%run -d p1.py"
   ]
  },
  {
   "cell_type": "code",
   "execution_count": 8,
   "metadata": {},
   "outputs": [
    {
     "name": "stdout",
     "output_type": "stream",
     "text": [
      "i am external code\n",
      " "
     ]
    }
   ],
   "source": [
    "%run -p p1.py"
   ]
  },
  {
   "cell_type": "markdown",
   "metadata": {},
   "source": [
    " The %hist command shows the commands history:\n"
   ]
  },
  {
   "cell_type": "code",
   "execution_count": 9,
   "metadata": {},
   "outputs": [
    {
     "name": "stdout",
     "output_type": "stream",
     "text": [
      "def pythonsum(n):\n",
      "    a = [x for x in range(n)]\n",
      "    b = [y for y in range(n)]\n",
      "    c = []\n",
      "    for i in range(len(a)):\n",
      "        a[i] = i ** 2\n",
      "        b[i] = i ** 3\n",
      "        c.append(a[i] + b[i])\n",
      "    return c\n",
      "abc=pythonsum(10)\n",
      "abc\n",
      "import numpy as np\n",
      "def numpysum(n):\n",
      "    a = np.arange(n) ** 2\n",
      "    b = np.arange(n) ** 3\n",
      "    c = a + b\n",
      "    return c\n",
      "numpysum(10)\n",
      "from __future__ import print_function\n",
      "from datetime import datetime\n",
      "import numpy as np\n",
      "\"\"\"\n",
      " Chapter 1 of NumPy Beginners Guide.\n",
      " This program demonstrates vector addition the Python way.\n",
      " Run from the command line as follows\n",
      "\n",
      " python vectorsum.py n\n",
      " where n is an integer that specifies the size of the vectors.\n",
      "  The first vector to be added contains the squares of 0 up to n.\n",
      " The second vector contains the cubes of 0 up to n.\n",
      " The program prints the last 2 elements of the sum and the elapsed\n",
      "time.\n",
      "\"\"\"\n",
      "def numpysum(n):\n",
      "    a = np.arange(n) ** 2\n",
      "    b = np.arange(n) ** 3\n",
      "    c = a + b\n",
      "    return c\n",
      "\n",
      "def pythonsum(n):\n",
      "    a = [x for x in range(n)]\n",
      "    b = [y for y in range(n)]\n",
      "    c = []\n",
      "    for i in range(len(a)):\n",
      "        a[i] = i ** 2\n",
      "        b[i] = i ** 3\n",
      "        c.append(a[i] + b[i])\n",
      "    return c\n",
      "\n",
      "size = 100000\n",
      "start = datetime.now()\n",
      "c = pythonsum(size)\n",
      "delta = datetime.now() - start\n",
      "print(\"The last 2 elements of the sum\", c[-2:])\n",
      "print(\"PythonSum elapsed time in microseconds\", delta.microseconds)\n",
      "start = datetime.now()\n",
      "c = numpysum(size)\n",
      "delta = datetime.now() - start\n",
      "print(\"The last 2 elements of the sum\", c[-2:])\n",
      "print(\"NumPySum elapsed time in microseconds\", delta.microseconds)\n",
      "%logstart\n",
      "ls\n",
      "%run -i p1.py\n",
      "%run -d p1.py\n",
      "%run -p p1.py\n",
      "%hist\n"
     ]
    }
   ],
   "source": [
    "%hist"
   ]
  },
  {
   "cell_type": "code",
   "execution_count": null,
   "metadata": {
    "collapsed": true
   },
   "outputs": [],
   "source": []
  }
 ],
 "metadata": {
  "kernelspec": {
   "display_name": "Python 3",
   "language": "python",
   "name": "python3"
  },
  "language_info": {
   "codemirror_mode": {
    "name": "ipython",
    "version": 3
   },
   "file_extension": ".py",
   "mimetype": "text/x-python",
   "name": "python",
   "nbconvert_exporter": "python",
   "pygments_lexer": "ipython3",
   "version": "3.6.1"
  }
 },
 "nbformat": 4,
 "nbformat_minor": 2
}
