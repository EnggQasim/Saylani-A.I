{
 "cells": [
  {
   "cell_type": "markdown",
   "metadata": {},
   "source": [
    "# Getting Familiar with Commonly\n",
    "# Used Functions\n",
    "In this chapter, we will have a look at common NumPy functions. In particular,\n",
    "we will learn how to load data from files by using an example involving\n",
    "historical stock prices. Also, we will get to see the basic NumPy mathematical\n",
    "and statistical functions.\n",
    "We will learn how to read from and write to files. Also, we will get a taste of the\n",
    "functional programming and linear algebra possibilities in NumPy"
   ]
  },
  {
   "cell_type": "raw",
   "metadata": {},
   "source": [
    "In this chapter, we shall cover the following topics:\n",
    " Functions working on arrays\n",
    " Loading arrays from files\n",
    " Writing arrays to files\n",
    " Simple mathematical and statistical functions"
   ]
  },
  {
   "cell_type": "raw",
   "metadata": {},
   "source": [
    "The identity matrix can be created with the eye() function. The only argument that\n",
    "we need to give the eye() function is the number of ones. So, for instance, for a\n",
    "two-by-two matrix, write the following code:"
   ]
  },
  {
   "cell_type": "code",
   "execution_count": 1,
   "metadata": {},
   "outputs": [
    {
     "name": "stdout",
     "output_type": "stream",
     "text": [
      "[[1. 0.]\n",
      " [0. 1.]]\n"
     ]
    }
   ],
   "source": [
    "import numpy as np\n",
    "i2 = np.eye(2)\n",
    "print(i2)"
   ]
  },
  {
   "cell_type": "raw",
   "metadata": {},
   "source": [
    "Save the data in a plain text file with the savetxt() function. Specify the name of\n",
    "the file that we want to save the data in and the array containing the data itself:\n"
   ]
  },
  {
   "cell_type": "code",
   "execution_count": 2,
   "metadata": {
    "collapsed": true
   },
   "outputs": [],
   "source": [
    "np.savetxt(\"eye.txt\", i2)"
   ]
  },
  {
   "cell_type": "markdown",
   "metadata": {},
   "source": [
    "# Time for action – loading from CSV files\n",
    "How do we deal with CSV files? Luckily, the loadtxt() function can conveniently read CSV\n",
    "files, split up the fields, and load the data into NumPy arrays. In the following example, we\n",
    "will load historical stock price data for Apple (the company, not the fruit). The data is in CSV\n",
    "format and is part of the code bundle for this book. The first column contains a symbol that\n",
    "identifies the stock. In our case, it is AAPL. Second is the date in dd-mm-yyyy format. The\n",
    "third column is empty. Then, in order, we have the open, high, low, and close price. Last,\n",
    "but not least, is the trading volume of the day. This is what a line looks like:<br>\n",
    "<b>symbol,date      , ,open  ,heigh, low  ,close , volume<br></b>\n",
    "     AAPL,28-01-2011, ,344.17,344.4,333.53,336.1,21144800<br><br>"
   ]
  },
  {
   "cell_type": "code",
   "execution_count": 3,
   "metadata": {},
   "outputs": [
    {
     "name": "stdout",
     "output_type": "stream",
     "text": [
      "336.1 === 21144800.0\n"
     ]
    }
   ],
   "source": [
    "c,v=np.loadtxt('data.csv', delimiter=',', usecols=(6,7), unpack=True)\n",
    "print(c,\"===\",v)"
   ]
  },
  {
   "cell_type": "markdown",
   "metadata": {},
   "source": [
    "# Volume Weighted Average Price\n",
    "Volume Weighted Average Price (VWAP) is a very important quantity in finance. It represents\n",
    "an average price for a financial asset (see https://www.khanacademy.org/math/\n",
    "probability/descriptive-statistics/old-stats-videos/v/statistics-theaverage).\n",
    "The higher the volume, the more significant a price move typically is. VWAP is\n",
    "often used in algorithmic trading and is calculated using volume values as weights"
   ]
  },
  {
   "cell_type": "code",
   "execution_count": 4,
   "metadata": {},
   "outputs": [
    {
     "name": "stdout",
     "output_type": "stream",
     "text": [
      "VWAP = 336.1\n",
      "336.1 21144800.0\n"
     ]
    }
   ],
   "source": [
    "import numpy as np\n",
    "c,v=np.loadtxt('data.csv', delimiter=',', usecols=(6,7),\n",
    "unpack=True)\n",
    "vwap = np.average(c, weights=v)\n",
    "print(\"VWAP =\", vwap)\n",
    "print(c,v)\n"
   ]
  },
  {
   "cell_type": "markdown",
   "metadata": {},
   "source": [
    "# What just happened?\n",
    "That wasn't very hard, was it? We just called the average() function and set its weights\n",
    "parameter to use the v array for weights. By the way, NumPy also has a function to calculate\n",
    "the arithmetic mean. This is an unweighted average with all the weights equal to 1.\n",
    "# weights : array_like, optional\n",
    "\n",
    "An array of weights associated with the values in a. Each value in a contributes to the average according to its associated weight. The weights array can either be 1-D (in which case its length must be the size of a along the given axis) or of the same shape as a. If weights=None, then all data in a are assumed to have a weight equal to one."
   ]
  },
  {
   "cell_type": "markdown",
   "metadata": {},
   "source": [
    "# The mean() function\n",
    "The mean() function is quite friendly and not so mean. This function calculates the\n",
    "arithmetic mean of an array."
   ]
  },
  {
   "cell_type": "code",
   "execution_count": 5,
   "metadata": {},
   "outputs": [
    {
     "name": "stdout",
     "output_type": "stream",
     "text": [
      "mean = 336.1\n"
     ]
    }
   ],
   "source": [
    "print(\"mean =\", np.mean(c))"
   ]
  },
  {
   "cell_type": "markdown",
   "metadata": {},
   "source": [
    "# Time-weighted average price\n",
    "In finance, time-weighted average price (TWAP) is another average price measure. Now that\n",
    "we are at it, let's compute the TWAP too. It is just a variation on a theme really. The idea is\n",
    "that recent price quotes are more important, so we should give recent prices higher weights.\n",
    "The easiest way is to create an array with the arange() function of increasing values from\n",
    "zero to the number of elements in the close price array. This is not necessarily the correct\n",
    "way. In fact, most of the examples concerning stock price analysis in this book are only\n",
    "illustrative. The following is the TWAP code:\n"
   ]
  },
  {
   "cell_type": "markdown",
   "metadata": {},
   "source": [
    "# Value range\n",
    "Usually, we don't only want to know the average or arithmetic mean of a set of values,\n",
    "which are in the middle, to know we also want the extremes, the full range—the highest and\n",
    "lowest values. The sample data that we are using here already has those values per day—the\n",
    "high and low price. However, we need to know the highest value of the high price and the\n",
    "lowest price value of the low price.\n",
    "# Time for action – finding highest and lowest values\n",
    "The min() and max() functions are the answer for our requirement. Perform the following\n",
    "steps to find the highest and lowest values:"
   ]
  },
  {
   "cell_type": "code",
   "execution_count": 6,
   "metadata": {
    "collapsed": true
   },
   "outputs": [],
   "source": [
    "h,l=np.loadtxt('data.csv', delimiter=',', usecols=(4,5),\n",
    "unpack=True)"
   ]
  },
  {
   "cell_type": "code",
   "execution_count": 7,
   "metadata": {},
   "outputs": [
    {
     "name": "stdout",
     "output_type": "stream",
     "text": [
      "highest = 344.4\n",
      "lowest = 333.53\n"
     ]
    }
   ],
   "source": [
    "print(\"highest =\", np.max(h))\n",
    "print(\"lowest =\", np.min(l))\n"
   ]
  },
  {
   "cell_type": "markdown",
   "metadata": {},
   "source": [
    "NumPy allows us to compute the spread of an array with a function called ptp().\n",
    "The ptp() function returns the difference between the maximum and minimum\n",
    "values of an array. In other words, it is equal to max(array)—min(array). Call\n",
    "the ptp() function:"
   ]
  },
  {
   "cell_type": "code",
   "execution_count": 8,
   "metadata": {},
   "outputs": [
    {
     "name": "stdout",
     "output_type": "stream",
     "text": [
      "Spread high price 0.0\n",
      "Spread low price 0.0\n"
     ]
    }
   ],
   "source": [
    "print(\"Spread high price\", np.ptp(h))\n",
    "print(\"Spread low price\", np.ptp(l))"
   ]
  },
  {
   "cell_type": "code",
   "execution_count": 9,
   "metadata": {},
   "outputs": [
    {
     "name": "stdout",
     "output_type": "stream",
     "text": [
      "Spread high price 0.0\n",
      "Spread low price 0.0\n"
     ]
    }
   ],
   "source": [
    "print(\"Spread high price\", np.max(h)-np.min(h))\n",
    "print(\"Spread low price\", np.max(l)-np.min(l))"
   ]
  },
  {
   "cell_type": "markdown",
   "metadata": {},
   "source": [
    "# What just happened?\n",
    "We defined a range of highest to lowest values for the price. The highest value was given by\n",
    "applying the max() function to the high price array. Similarly, the lowest value was found\n",
    "by calling the min() function to the low price array. We also calculated the peak-to-peak\n",
    "distance with the ptp() function:"
   ]
  },
  {
   "cell_type": "code",
   "execution_count": 11,
   "metadata": {},
   "outputs": [
    {
     "name": "stdout",
     "output_type": "stream",
     "text": [
      "highest = 344.4\n",
      "lowest = 333.53\n",
      "338.965\n",
      "Spread high price 0.0\n",
      "Spread low price 0.0\n"
     ]
    }
   ],
   "source": [
    "h,l=np.loadtxt('data.csv', delimiter=',', usecols=(4,5), unpack=True)\n",
    "print(\"highest =\", np.max(h))\n",
    "print(\"lowest =\", np.min(l))\n",
    "print((np.max(h) + np.min(l)) /2)\n",
    "print(\"Spread high price\", np.ptp(h))\n",
    "print(\"Spread low price\", np.ptp(l))\n"
   ]
  },
  {
   "cell_type": "markdown",
   "metadata": {},
   "source": [
    "# Statistics\n",
    "Stock traders are interested in the most probable close price. Common sense says that\n",
    "this should be close to some kind of an average as the price dances around a mean, due to\n",
    "random fluctuations. The arithmetic mean and weighted average are ways to find the center\n",
    "of a distribution of values. However, neither are robust and both are sensitive to outliers.\n",
    "Outliers are extreme values that are much bigger or smaller than the typical values in a\n",
    "dataset. Usually, outliers are caused by a rare phenomenon or a measurement error. For\n",
    "instance, if we have a close price value of a million dollars, this will influence the outcome\n",
    "of our calculations.\n",
    "# Time for action – performing simple statistics\n",
    "We can use some kind of threshold to weed out outliers, but there is a better way. It is called\n",
    "the median, and it basically picks the middle value of a sorted set of values (see https://\n",
    "www.khanacademy.org/math/probability/descriptive-statistics/central_\n",
    "tendency/e/mean_median_and_mode). One half of the data is below the median and the\n",
    "other half is above it. For example, if we have the values of 1, 2, 3, 4, and 5, then the median\n",
    "will be 3, since it is in the middle. "
   ]
  },
  {
   "cell_type": "code",
   "execution_count": 12,
   "metadata": {
    "collapsed": true
   },
   "outputs": [],
   "source": [
    "c=np.loadtxt('data.csv', delimiter=',', usecols=(6,), unpack=True)"
   ]
  },
  {
   "cell_type": "code",
   "execution_count": 13,
   "metadata": {},
   "outputs": [
    {
     "data": {
      "text/plain": [
       "array(336.1)"
      ]
     },
     "execution_count": 13,
     "metadata": {},
     "output_type": "execute_result"
    }
   ],
   "source": [
    "c"
   ]
  },
  {
   "cell_type": "code",
   "execution_count": 14,
   "metadata": {},
   "outputs": [
    {
     "name": "stdout",
     "output_type": "stream",
     "text": [
      "median = 336.1\n"
     ]
    }
   ],
   "source": [
    "print(\"median =\", np.median(c))"
   ]
  },
  {
   "cell_type": "raw",
   "metadata": {},
   "source": [
    "Since it is our first time using the median() function, we would like to check\n",
    "whether this is correct. Obviously, we can do it by just going through the file and\n",
    "finding the correct value, but that is no fun. Instead, we will just mimic the median\n",
    "algorithm by sorting the close price array and printing the middle value of the sorted\n",
    "array. The msort() function does the first part for us. Call the function, store the\n",
    "sorted array, and then print it:"
   ]
  },
  {
   "cell_type": "code",
   "execution_count": 15,
   "metadata": {},
   "outputs": [
    {
     "name": "stdout",
     "output_type": "stream",
     "text": [
      "sorted = [ 0.  1.  2.  3.  4.  5.  6.  7.  8.  9. 10. 11. 12. 13. 14. 15. 16. 17.\n",
      " 18. 19. 20. 21. 22. 23. 24. 25. 26. 27. 28. 29. 30. 31. 32. 33. 34. 35.\n",
      " 36. 37. 38. 39. 40. 41. 42. 43. 44.]\n"
     ]
    }
   ],
   "source": [
    "c=np.arange(45, dtype=float)\n",
    "sorted_close = np.msort(c)\n",
    "print(\"sorted =\", sorted_close)"
   ]
  },
  {
   "cell_type": "code",
   "execution_count": 16,
   "metadata": {},
   "outputs": [
    {
     "name": "stdout",
     "output_type": "stream",
     "text": [
      "middle [22.0]\n",
      "45\n"
     ]
    }
   ],
   "source": [
    "N=len(c)\n",
    "print(\"middle\", sorted([(N-1)/2]))\n",
    "print(N)"
   ]
  },
  {
   "cell_type": "markdown",
   "metadata": {},
   "source": [
    "Hey, that's a different value than the one the median() function gave us. How\n",
    "come? Upon further investigation, we find that the median() function return value\n",
    "doesn't even appear in our file. That's even stranger! Before filing bugs with the\n",
    "NumPy team, let's have a look at the documentation:\n"
   ]
  },
  {
   "cell_type": "code",
   "execution_count": 63,
   "metadata": {
    "collapsed": true
   },
   "outputs": [],
   "source": [
    "np.median?"
   ]
  },
  {
   "cell_type": "markdown",
   "metadata": {},
   "source": [
    "This mystery is easy to solve. It turns out that our naive algorithm only works for\n",
    "arrays with odd lengths. For even-length arrays, the median is calculated from the\n",
    "average of the two array values in the middle. Therefore, type the following code:\n"
   ]
  },
  {
   "cell_type": "code",
   "execution_count": 42,
   "metadata": {},
   "outputs": [
    {
     "name": "stdout",
     "output_type": "stream",
     "text": [
      "average middle = 22.75\n"
     ]
    }
   ],
   "source": [
    "c=np.arange(46)\n",
    "N=len(c)\n",
    "print(\"average middle =\", np.sum((sorted([N/2])+sorted([(N-1)/2])))/2)\n"
   ]
  },
  {
   "cell_type": "code",
   "execution_count": 74,
   "metadata": {},
   "outputs": [
    {
     "name": "stdout",
     "output_type": "stream",
     "text": [
      "variance = 168.66666666666666\n"
     ]
    }
   ],
   "source": [
    "print(\"variance =\", np.var(c))\n"
   ]
  },
  {
   "cell_type": "code",
   "execution_count": 75,
   "metadata": {},
   "outputs": [
    {
     "name": "stdout",
     "output_type": "stream",
     "text": [
      "variance from definition = 168.66666666666666\n"
     ]
    }
   ],
   "source": [
    "print(\"variance from definition =\", np.mean((c - c.mean())**2))"
   ]
  },
  {
   "cell_type": "code",
   "execution_count": 60,
   "metadata": {},
   "outputs": [
    {
     "name": "stdout",
     "output_type": "stream",
     "text": [
      "[28 29 30 31 32]\n",
      "2.0\n",
      "with np function= 2.0\n"
     ]
    }
   ],
   "source": [
    "x=np.arange(28,33)\n",
    "print(x)\n",
    "print(np.sum((x-x.mean())**2)/len(x))\n",
    "print(\"with np function=\",np.var(x))"
   ]
  },
  {
   "cell_type": "markdown",
   "metadata": {},
   "source": [
    "Another statistical measure that we are concerned with is variance. Variance tells\n",
    "us how much a variable varies (see https://www.khanacademy.org/math/\n",
    "probability/descriptive-statistics/variance_std_deviation/e/\n",
    "variance). In our case, it also tells us how risky an investment is, since a stock\n",
    "price that varies too wildly is bound to get us into trouble.\n",
    "Calculate the variance of the close price (with NumPy, this is just a one-liner):"
   ]
  },
  {
   "cell_type": "code",
   "execution_count": 61,
   "metadata": {},
   "outputs": [
    {
     "name": "stdout",
     "output_type": "stream",
     "text": [
      "variance = 176.25\n"
     ]
    }
   ],
   "source": [
    "print(\"variance =\", np.var(c))"
   ]
  },
  {
   "cell_type": "code",
   "execution_count": 63,
   "metadata": {},
   "outputs": [
    {
     "name": "stdout",
     "output_type": "stream",
     "text": [
      "median = 24.5\n",
      "sorted = [ 0.  1.  2.  3.  4.  5.  6.  7.  8.  9. 10. 11. 12. 13. 14. 15. 16. 17.\n",
      " 18. 19. 20. 21. 22. 23. 24. 25. 26. 27. 28. 29. 30. 31. 32. 33. 34. 35.\n",
      " 36. 37. 38. 39. 40. 41. 42. 43. 44. 45. 46. 47. 48. 49.]\n",
      "50\n",
      "middle = 24.0\n",
      "average middle = <function average at 0x0000028377B3D620>\n",
      "variance = 208.25\n",
      "variance from definition = 2.0\n"
     ]
    }
   ],
   "source": [
    "import numpy as np\n",
    "c=np.arange(50, dtype=float)\n",
    "print(\"median =\", np.median(c))\n",
    "sorted = np.msort(c)\n",
    "print(\"sorted =\", sorted)\n",
    "N = len(c)\n",
    "print(N)\n",
    "print(\"middle =\", sorted[int((N - 1)/2)])\n",
    "print(\"average middle =\", np.average)\n",
    "print(\"variance =\", np.var(c))\n",
    "print(\"variance from definition =\", np.mean((x - x.mean())**2))"
   ]
  },
  {
   "cell_type": "code",
   "execution_count": 66,
   "metadata": {},
   "outputs": [
    {
     "name": "stdout",
     "output_type": "stream",
     "text": [
      "[ 0.  1.  2.  3.  4.  5.  6.  7.  8.  9. 10. 11. 12. 13. 14. 15. 16. 17.\n",
      " 18. 19. 20. 21. 22. 23. 24. 25. 26. 27. 28. 29. 30. 31. 32. 33. 34. 35.\n",
      " 36. 37. 38. 39. 40. 41. 42. 43. 44. 45. 46. 47. 48. 49.] =d=====\n",
      "[       inf 1.         0.5        0.33333333 0.25       0.2\n",
      " 0.16666667 0.14285714 0.125      0.11111111 0.1        0.09090909\n",
      " 0.08333333 0.07692308 0.07142857 0.06666667 0.0625     0.05882353\n",
      " 0.05555556 0.05263158 0.05       0.04761905 0.04545455 0.04347826\n",
      " 0.04166667 0.04       0.03846154 0.03703704 0.03571429 0.03448276\n",
      " 0.03333333 0.03225806 0.03125    0.03030303 0.02941176 0.02857143\n",
      " 0.02777778 0.02702703 0.02631579 0.02564103 0.025      0.02439024\n",
      " 0.02380952 0.02325581 0.02272727 0.02222222 0.02173913 0.0212766\n",
      " 0.02083333]\n"
     ]
    },
    {
     "name": "stderr",
     "output_type": "stream",
     "text": [
      "C:\\Users\\Muhammad Qasim\\Anaconda3\\lib\\site-packages\\ipykernel_launcher.py:1: RuntimeWarning: divide by zero encountered in true_divide\n",
      "  \"\"\"Entry point for launching an IPython kernel.\n"
     ]
    }
   ],
   "source": [
    "returns=np.diff(c)/c[:-1]\n",
    "print(c,\"=d=====\")\n",
    "print(returns)"
   ]
  },
  {
   "cell_type": "code",
   "execution_count": 92,
   "metadata": {},
   "outputs": [
    {
     "name": "stdout",
     "output_type": "stream",
     "text": [
      "Standard deviation = 14.430869689661812\n"
     ]
    }
   ],
   "source": [
    "print(\"Standard deviation =\", np.std(c))"
   ]
  },
  {
   "cell_type": "markdown",
   "metadata": {},
   "source": [
    "The log return or logarithmic return is even easier to calculate. Use the log()\n",
    "function to get the natural logarithm of the close price and then unleash the\n",
    "diff() function on the result:"
   ]
  },
  {
   "cell_type": "code",
   "execution_count": 93,
   "metadata": {},
   "outputs": [
    {
     "name": "stderr",
     "output_type": "stream",
     "text": [
      "C:\\Users\\Muhammad Qasim\\Anaconda3\\lib\\site-packages\\ipykernel_launcher.py:1: RuntimeWarning: divide by zero encountered in log\n",
      "  \"\"\"Entry point for launching an IPython kernel.\n"
     ]
    },
    {
     "data": {
      "text/plain": [
       "array([       inf, 0.69314718, 0.40546511, 0.28768207, 0.22314355,\n",
       "       0.18232156, 0.15415068, 0.13353139, 0.11778304, 0.10536052,\n",
       "       0.09531018, 0.08701138, 0.08004271, 0.07410797, 0.06899287,\n",
       "       0.06453852, 0.06062462, 0.05715841, 0.05406722, 0.05129329,\n",
       "       0.04879016, 0.04652002, 0.04445176, 0.04255961, 0.04082199,\n",
       "       0.03922071, 0.03774033, 0.03636764, 0.03509132, 0.03390155,\n",
       "       0.03278982, 0.0317487 , 0.03077166, 0.02985296, 0.02898754,\n",
       "       0.02817088, 0.02739897, 0.02666825, 0.02597549, 0.02531781,\n",
       "       0.02469261, 0.02409755, 0.0235305 , 0.02298952, 0.02247286,\n",
       "       0.02197891, 0.02150621, 0.02105341, 0.02061929])"
      ]
     },
     "execution_count": 93,
     "metadata": {},
     "output_type": "execute_result"
    }
   ],
   "source": [
    "logreturns = np.diff(np.log(c))\n",
    "logreturns"
   ]
  },
  {
   "cell_type": "markdown",
   "metadata": {},
   "source": [
    "Quite likely, we will be interested in days when the return is positive. In the current\n",
    "setup, we can get the next best thing with the where() function, which returns the\n",
    "indices of an array that satisfies a condition. Just type the following code:"
   ]
  },
  {
   "cell_type": "code",
   "execution_count": 97,
   "metadata": {},
   "outputs": [
    {
     "name": "stdout",
     "output_type": "stream",
     "text": [
      "Indices with positive returns (array([ 0,  1,  2,  3,  4,  5,  6,  7,  8,  9, 10, 11, 12, 13, 14, 15, 16,\n",
      "       17, 18, 19, 20, 21, 22, 23, 24, 25, 26, 27, 28, 29, 30, 31, 32, 33,\n",
      "       34, 35, 36, 37, 38, 39, 40, 41, 42, 43, 44, 45, 46, 47, 48],\n",
      "      dtype=int64),)\n"
     ]
    }
   ],
   "source": [
    "posretindices = np.where(returns > 0)\n",
    "print(\"Indices with positive returns\", posretindices)"
   ]
  },
  {
   "cell_type": "markdown",
   "metadata": {},
   "source": [
    "In investing, volatility measures price variation of a financial security. Historical\n",
    "volatility is calculated from historical price data. The logarithmic returns are\n",
    "interesting if you want to know the historical volatility—for instance, the annualized\n",
    "or monthly volatility. The annualized volatility is equal to the standard deviation of\n",
    "the log returns as a ratio of its mean, divided by one over the square root of the\n",
    "number of business days in a year, usually one assumes 252. Calculate it with the\n",
    "std() and mean() functions, as in the following code:"
   ]
  },
  {
   "cell_type": "code",
   "execution_count": 99,
   "metadata": {},
   "outputs": [
    {
     "name": "stdout",
     "output_type": "stream",
     "text": [
      "nan\n"
     ]
    },
    {
     "name": "stderr",
     "output_type": "stream",
     "text": [
      "C:\\Users\\Muhammad Qasim\\Anaconda3\\lib\\site-packages\\numpy\\core\\_methods.py:112: RuntimeWarning: invalid value encountered in subtract\n",
      "  x = asanyarray(arr - arrmean)\n"
     ]
    }
   ],
   "source": [
    "annual_volatility = np.std(logreturns)/np.mean(logreturns)\n",
    "annual_volatility = annual_volatility / np.sqrt(1./252.)\n",
    "print(annual_volatility)"
   ]
  },
  {
   "cell_type": "code",
   "execution_count": 100,
   "metadata": {},
   "outputs": [
    {
     "name": "stdout",
     "output_type": "stream",
     "text": [
      "Monthly volatility nan\n"
     ]
    }
   ],
   "source": [
    "print(\"Monthly volatility\", annual_volatility * np.sqrt(1./12.))"
   ]
  },
  {
   "cell_type": "code",
   "execution_count": 72,
   "metadata": {},
   "outputs": [
    {
     "name": "stdout",
     "output_type": "stream",
     "text": [
      "Standard deviation = 43.292609068985435\n",
      "Indices with positive returns (array([ 0,  1,  2,  3,  4,  5,  6,  7,  8,  9, 10, 11, 12, 13, 14, 15, 16,\n",
      "       17, 18, 19, 20, 21, 22, 23, 24, 25, 26, 27, 28, 29, 30, 31, 32, 33,\n",
      "       34, 35, 36, 37, 38, 39, 40, 41, 42, 43, 44, 45, 46, 47, 48],\n",
      "      dtype=int64),)\n"
     ]
    },
    {
     "name": "stderr",
     "output_type": "stream",
     "text": [
      "C:\\Users\\Muhammad Qasim\\Anaconda3\\lib\\site-packages\\ipykernel_launcher.py:2: RuntimeWarning: divide by zero encountered in true_divide\n",
      "  \n",
      "C:\\Users\\Muhammad Qasim\\Anaconda3\\lib\\site-packages\\ipykernel_launcher.py:4: RuntimeWarning: divide by zero encountered in log\n",
      "  after removing the cwd from sys.path.\n",
      "C:\\Users\\Muhammad Qasim\\Anaconda3\\lib\\site-packages\\numpy\\core\\_methods.py:112: RuntimeWarning: invalid value encountered in subtract\n",
      "  x = asanyarray(arr - arrmean)\n"
     ]
    }
   ],
   "source": [
    "c=np.arange(0,150,3)\n",
    "returns = np.diff( c ) / c[ : -1]\n",
    "print(\"Standard deviation =\", np.std(c))\n",
    "logreturns = np.diff( np.log(c) )\n",
    "posretindices = np.where(returns > 0)\n",
    "print(\"Indices with positive returns\", posretindices)\n",
    "annual_volatility = np.std(logreturns)/np.mean(logreturns)\n",
    "annual_volatility = annual_volatility / np.sqrt(1./252.)\n",
    "#print(\"Annual volatility\", annual_volatility)\n",
    "#print(\"Monthly volatility\", annual_volatility * np.sqrt(1./12.))\n",
    "#print(\"logreturn\",logreturns)"
   ]
  },
  {
   "cell_type": "code",
   "execution_count": 75,
   "metadata": {},
   "outputs": [
    {
     "name": "stdout",
     "output_type": "stream",
     "text": [
      "(array([0, 1, 2, 3, 4, 5, 6, 7, 8, 9], dtype=int64),)\n",
      "[[ 0  3  6  9 12 15 18 21 24 27]]\n"
     ]
    }
   ],
   "source": [
    "print(np.where(c<30))\n",
    "print(np.take(c,np.where(c<30)))"
   ]
  },
  {
   "cell_type": "markdown",
   "metadata": {},
   "source": [
    "# Dates\n",
    "Do you sometimes have the Monday blues or Friday fever? Ever wondered whether\n",
    "the stock market suffers from these phenomena? Well, I think this certainly warrants\n",
    "extensive research.\n",
    "# Time for action – dealing with dates\n",
    "First, we will read the close price data. Second, we will split the prices according to the day\n",
    "of the week. Third, for each weekday, we will calculate the average price. Finally, we will\n",
    "find out which day of the week has the highest average and which has the lowest average.\n",
    "A word of warning before we commence: you might be tempted to use the result to buy\n",
    "stock on one day and sell on the other. However, we don't have enough data to make this\n",
    "kind of decisions."
   ]
  },
  {
   "cell_type": "code",
   "execution_count": 82,
   "metadata": {},
   "outputs": [],
   "source": [
    "import datetime\n",
    "def dates2num(s):\n",
    "    return datetime.datetime.strptime(s, \"%d-%m-%Y\").date()"
   ]
  },
  {
   "cell_type": "code",
   "execution_count": 83,
   "metadata": {},
   "outputs": [
    {
     "data": {
      "text/plain": [
       "datetime.date(2011, 1, 28)"
      ]
     },
     "execution_count": 83,
     "metadata": {},
     "output_type": "execute_result"
    }
   ],
   "source": [
    "dates2num('28-01-2011')"
   ]
  },
  {
   "cell_type": "code",
   "execution_count": 127,
   "metadata": {},
   "outputs": [
    {
     "name": "stdout",
     "output_type": "stream",
     "text": [
      "336.1\n"
     ]
    },
    {
     "data": {
      "text/plain": [
       "'28-1-2018'"
      ]
     },
     "execution_count": 127,
     "metadata": {},
     "output_type": "execute_result"
    }
   ],
   "source": [
    "dates , close = np.loadtxt('data.csv', delimiter=',', usecols=(1,6), unpack=True, converters={0: dates2num}, dtype='str')\n",
    "print(close)\n",
    "dates\n"
   ]
  },
  {
   "cell_type": "code",
   "execution_count": 107,
   "metadata": {},
   "outputs": [],
   "source": [
    "#dates, close=np.loadtxt('data.csv', delimiter=',', usecols=(1,6),converters={0: dates2num}, unpack=True)\n",
    "#print(\"Dates =\", dates)\n"
   ]
  },
  {
   "cell_type": "code",
   "execution_count": 108,
   "metadata": {},
   "outputs": [
    {
     "data": {
      "text/plain": [
       "numpy.datetime64('2015-04-22')"
      ]
     },
     "execution_count": 108,
     "metadata": {},
     "output_type": "execute_result"
    }
   ],
   "source": [
    "np.datetime64('2015-04-22')"
   ]
  },
  {
   "cell_type": "code",
   "execution_count": 129,
   "metadata": {},
   "outputs": [
    {
     "data": {
      "text/plain": [
       "numpy.datetime64('1677-01-01T20:19')"
      ]
     },
     "execution_count": 129,
     "metadata": {},
     "output_type": "execute_result"
    }
   ],
   "source": [
    "local = np.datetime64('1677-01-01T20:19')\n",
    "local"
   ]
  },
  {
   "cell_type": "code",
   "execution_count": 131,
   "metadata": {},
   "outputs": [
    {
     "name": "stderr",
     "output_type": "stream",
     "text": [
      "C:\\Users\\Muhammad Qasim\\Anaconda3\\lib\\site-packages\\ipykernel_launcher.py:1: DeprecationWarning: parsing timezone aware datetimes is deprecated; this will raise an error in the future\n",
      "  \"\"\"Entry point for launching an IPython kernel.\n"
     ]
    },
    {
     "data": {
      "text/plain": [
       "numpy.datetime64('1677-01-02T05:19')"
      ]
     },
     "execution_count": 131,
     "metadata": {},
     "output_type": "execute_result"
    }
   ],
   "source": [
    "with_offset = np.datetime64('1677-01-01T20:19-0900')\n",
    "with_offset"
   ]
  },
  {
   "cell_type": "code",
   "execution_count": 132,
   "metadata": {},
   "outputs": [
    {
     "data": {
      "text/plain": [
       "numpy.timedelta64(-540,'m')"
      ]
     },
     "execution_count": 132,
     "metadata": {},
     "output_type": "execute_result"
    }
   ],
   "source": [
    "local - with_offset\n"
   ]
  },
  {
   "cell_type": "code",
   "execution_count": 133,
   "metadata": {},
   "outputs": [
    {
     "data": {
      "text/plain": [
       "array(['2015-04-22', '2015-04-29', '2015-05-06', '2015-05-13',\n",
       "       '2015-05-20'], dtype='datetime64[D]')"
      ]
     },
     "execution_count": 133,
     "metadata": {},
     "output_type": "execute_result"
    }
   ],
   "source": [
    " np.arange('2015-04-22', '2015-05-22', 7, dtype='datetime64')"
   ]
  },
  {
   "cell_type": "markdown",
   "metadata": {},
   "source": [
    "# Time for action – summarizing data\n",
    "The data we will summarize will be for a whole business week, running from Monday\n",
    "to Friday. During the period covered by the data, there was one holiday on February 21,\n",
    "President's Day. This happened to be a Monday and the US stock exchanges were closed on\n",
    "this day. As a consequence, there is no entry for this day, in the sample. The first day in the\n",
    "sample is a Friday, which is inconvenient. Use the following instructions to summarize data:\n",
    "### 1. To simplify, just have a look at the first three weeks in the sample— later, you can\n",
    "have a go at improving this:"
   ]
  },
  {
   "cell_type": "code",
   "execution_count": 134,
   "metadata": {
    "collapsed": true
   },
   "outputs": [],
   "source": [
    "close = close[:16]\n",
    "dates = dates[:16]"
   ]
  },
  {
   "cell_type": "raw",
   "metadata": {},
   "source": [
    "Commencing, we will find the first Monday in our sample data. Recall that Mondays\n",
    "have the code 0 in Python. This is what we will put in the condition of the where()\n",
    "function. Then, we will need to extract the first element that has index 0. The result\n",
    "will be a multidimensional array. Flatten this with the ravel() function:\n"
   ]
  },
  {
   "cell_type": "code",
   "execution_count": 135,
   "metadata": {},
   "outputs": [
    {
     "ename": "IndexError",
     "evalue": "index 0 is out of bounds for axis 0 with size 0",
     "output_type": "error",
     "traceback": [
      "\u001b[1;31m---------------------------------------------------------------------------\u001b[0m",
      "\u001b[1;31mIndexError\u001b[0m                                Traceback (most recent call last)",
      "\u001b[1;32m<ipython-input-135-423d1dfedafb>\u001b[0m in \u001b[0;36m<module>\u001b[1;34m()\u001b[0m\n\u001b[0;32m      1\u001b[0m \u001b[1;31m# get first Monday\u001b[0m\u001b[1;33m\u001b[0m\u001b[1;33m\u001b[0m\u001b[0m\n\u001b[1;32m----> 2\u001b[1;33m \u001b[0mfirst_monday\u001b[0m \u001b[1;33m=\u001b[0m \u001b[0mnp\u001b[0m\u001b[1;33m.\u001b[0m\u001b[0mravel\u001b[0m\u001b[1;33m(\u001b[0m\u001b[0mnp\u001b[0m\u001b[1;33m.\u001b[0m\u001b[0mwhere\u001b[0m\u001b[1;33m(\u001b[0m\u001b[0mdates\u001b[0m \u001b[1;33m==\u001b[0m \u001b[1;36m0\u001b[0m\u001b[1;33m)\u001b[0m\u001b[1;33m)\u001b[0m\u001b[1;33m[\u001b[0m\u001b[1;36m0\u001b[0m\u001b[1;33m]\u001b[0m\u001b[1;33m\u001b[0m\u001b[0m\n\u001b[0m\u001b[0;32m      3\u001b[0m \u001b[0mprint\u001b[0m\u001b[1;33m(\u001b[0m\u001b[1;34m\"The first Monday index is\"\u001b[0m\u001b[1;33m,\u001b[0m \u001b[0mfirst_monday\u001b[0m\u001b[1;33m)\u001b[0m\u001b[1;33m\u001b[0m\u001b[0m\n",
      "\u001b[1;31mIndexError\u001b[0m: index 0 is out of bounds for axis 0 with size 0"
     ]
    }
   ],
   "source": [
    "# get first Monday\n",
    "first_monday = np.ravel(np.where(dates == 0))[0]\n",
    "print(\"The first Monday index is\", first_monday)"
   ]
  },
  {
   "cell_type": "code",
   "execution_count": null,
   "metadata": {
    "collapsed": true
   },
   "outputs": [],
   "source": []
  }
 ],
 "metadata": {
  "kernelspec": {
   "display_name": "Python 3",
   "language": "python",
   "name": "python3"
  },
  "language_info": {
   "codemirror_mode": {
    "name": "ipython",
    "version": 3
   },
   "file_extension": ".py",
   "mimetype": "text/x-python",
   "name": "python",
   "nbconvert_exporter": "python",
   "pygments_lexer": "ipython3",
   "version": "3.6.1"
  }
 },
 "nbformat": 4,
 "nbformat_minor": 2
}
