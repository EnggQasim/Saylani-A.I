{
 "cells": [
  {
   "cell_type": "code",
   "execution_count": 4,
   "metadata": {},
   "outputs": [
    {
     "name": "stdout",
     "output_type": "stream",
     "text": [
      "Hello World 1\n",
      "Hello World 2\n",
      "Hello World 3\n",
      "Hello World 4\n",
      "Hello World 5\n"
     ]
    }
   ],
   "source": [
    "# %load filereadwrite/file1.py\n",
    "with open('filereadwrite/demo.txt') as fileObj:\n",
    "    content = fileObj.read()\n",
    "    print(content)"
   ]
  },
  {
   "cell_type": "code",
   "execution_count": 9,
   "metadata": {},
   "outputs": [
    {
     "name": "stdout",
     "output_type": "stream",
     "text": [
      "Hello World 1\n",
      "\n",
      "Hello World 2\n",
      "\n",
      "Hello World 3\n",
      "\n",
      "Hello World 4\n",
      "\n",
      "Hello World 5\n"
     ]
    }
   ],
   "source": [
    "# %load filereadwrite/file2.py\n",
    "with open('filereadwrite/demo.txt') as fileObj:\n",
    "    for line in fileObj:\n",
    "        print(line)"
   ]
  },
  {
   "cell_type": "code",
   "execution_count": 12,
   "metadata": {},
   "outputs": [
    {
     "name": "stdout",
     "output_type": "stream",
     "text": [
      "['Hello World 1\\n', 'Hello World 2\\n', 'Hello World 3\\n', 'Hello World 4\\n', 'Hello World 5']\n"
     ]
    }
   ],
   "source": [
    "# %load filereadwrite/file3.py\n",
    "with open('filereadwrite/demo.txt') as fileObj:\n",
    "    lines = fileObj.readlines()\n",
    "    print(lines)"
   ]
  },
  {
   "cell_type": "code",
   "execution_count": 16,
   "metadata": {},
   "outputs": [
    {
     "name": "stdout",
     "output_type": "stream",
     "text": [
      "['hello', 'test', 'Hello World 1\\n', 'Hello World 2\\n', 'Hello World 3\\n', 'Hello World 4\\n', 'Hello World 5']\n"
     ]
    }
   ],
   "source": [
    "# %load filereadwrite/file4.py\n",
    "mylist = [\"hello\",\"test\"]\n",
    "with open('filereadwrite/demo.txt') as fileObj:\n",
    "    lines = fileObj.readlines()\n",
    "    mylist  = mylist + lines\n",
    "    print(mylist)"
   ]
  },
  {
   "cell_type": "code",
   "execution_count": 19,
   "metadata": {},
   "outputs": [],
   "source": [
    "# %load filereadwrite/file5.py\n",
    "\n",
    "with open('filereadwrite/demo1.txt','w') as fileObj:\n",
    "    fileObj.write(\"SSUET\")"
   ]
  },
  {
   "cell_type": "code",
   "execution_count": 23,
   "metadata": {},
   "outputs": [],
   "source": [
    "# %load filereadwrite/file6.py\n",
    "\n",
    "with open('filereadwrite/demo1.txt','a') as fileObj:\n",
    "    fileObj.write(\"I love programming!\\n\")\n",
    "    #content = fileObj.read()\n",
    "    #print(content)"
   ]
  },
  {
   "cell_type": "code",
   "execution_count": 26,
   "metadata": {},
   "outputs": [
    {
     "name": "stdout",
     "output_type": "stream",
     "text": [
      "['I love programming2!\\n', 'g!\\n']\n"
     ]
    }
   ],
   "source": [
    "# %load filereadwrite/file7.py\n",
    "\n",
    "with open('filereadwrite/demo1.txt','r+') as fileObj:\n",
    "    fileObj.write(\"I love programming2!\\n\")\n",
    "\n",
    "    fileObj.seek(0)\n",
    "    content = fileObj.readlines()\n",
    "    print(content)\n",
    "\n"
   ]
  },
  {
   "cell_type": "code",
   "execution_count": 28,
   "metadata": {},
   "outputs": [
    {
     "name": "stdout",
     "output_type": "stream",
     "text": [
      "False\n",
      "True\n",
      "['addins', 'ampa.exe', 'AOMEIBCD', 'appcompat', 'apppatch', 'AppReadiness', 'assembly', 'bcastdvr', 'bfsvc.exe', 'BitLockerDiscoveryVolumeContents', 'Boot', 'bootstat.dat', 'Branding', 'CbsTemp', 'comsetup.log', 'Containers', 'CSC', 'Cursors', 'ddclog.txt', 'ddmmain.exe', 'debug', 'diagerr.xml', 'diagnostics', 'diagwrn.xml', 'DigitalLocker', 'Downloaded Program Files', 'DtcInstall.log', 'ELAMBKUP', 'en-US', 'epplauncher.mif', 'explorer.exe', 'Fonts', 'GameBarPresenceWriter', 'Globalization', 'Help', 'HelpPane.exe', 'hh.exe', 'IdentityCRL', 'IME', 'ImmersiveControlPanel', 'INF', 'InfusedApps', 'InputMethod', 'Installer', 'L2Schemas', 'LanguageOverlayCache', 'LiveKernelReports', 'Logs', 'media', 'mib.bin', 'Microsoft.NET', 'Migration', 'Minidump', 'ModemLogs', 'notepad.exe', 'OCR', 'Offline Web Pages', 'Panther', 'Performance', 'PFRO.log', 'PLA', 'PolicyDefinitions', 'Prefetch', 'PrintDialog', 'Professional.xml', 'progress.ini', 'Provisioning', 'py.exe', 'pyshellext.amd64.dll', 'pyw.exe', 'regedit.exe', 'Registration', 'Reimage.ini', 'RemotePackages', 'rescache', 'Resources', 'rtl8723b_mp_chip_bt40_fw_asic_rom_patch_new.dll', 'rtl8723b_mp_chip_bt40_fw_asic_rom_patch_new_s1.dll', 'rtl8723d_mp_chip_bt40_fw_asic_rom_patch_new.dll', 'rtl8821c_mp_chip_bt40_fw_asic_rom_patch_new.dll', 'rtl8822b_mp_chip_bt40_fw_asic_rom_patch_new.dll', 'SchCache', 'schemas', 'SECOH-QAD.dll', 'SECOH-QAD.exe', 'security', 'ServiceProfiles', 'ServiceState', 'servicing', 'Setup', 'setupact.log', 'setuperr.log', 'ShellComponents', 'ShellExperiences', 'ShellNew', 'SKB', 'SoftwareDistribution', 'Speech', 'Speech_OneCore', 'splwow64.exe', 'symbols', 'Synaptics.log', 'Synaptics.PD.log', 'System', 'system.ini', 'System32', 'SystemApps', 'SystemResources', 'SysWOW64', 'TAPI', 'Tasks', 'Temp', 'TextInput', 'tracing', 'twain_32', 'twain_32.dll', 'UpdateAssistant', 'UpdateAssistantV2', 'Vss', 'WaaS', 'Web', 'win.ini', 'WindowsShell.Manifest', 'WindowsUpdate.log', 'winhlp32.exe', 'WinSxS', 'WMSysPr9.prx', 'write.exe']\n"
     ]
    }
   ],
   "source": [
    "# %load filereadwrite/file8.py\n",
    "import  os;\n",
    "\n",
    "p = os.path.isfile(\"demo.txt\")\n",
    "p1 = os.path.isdir(\"C:\\\\Windows\")\n",
    "dirList = os.listdir(\"C:\\\\Windows\")\n",
    "print(p)\n",
    "print(p1)\n",
    "print(dirList)"
   ]
  },
  {
   "cell_type": "code",
   "execution_count": 33,
   "metadata": {},
   "outputs": [],
   "source": [
    "a=\"pakistan zinda bad\""
   ]
  },
  {
   "cell_type": "code",
   "execution_count": 34,
   "metadata": {},
   "outputs": [
    {
     "data": {
      "text/plain": [
       "'Pakistan zinda bad'"
      ]
     },
     "execution_count": 34,
     "metadata": {},
     "output_type": "execute_result"
    }
   ],
   "source": [
    "a.capitalize()"
   ]
  },
  {
   "cell_type": "code",
   "execution_count": 35,
   "metadata": {},
   "outputs": [
    {
     "data": {
      "text/plain": [
       "'pakistan zinda bad'"
      ]
     },
     "execution_count": 35,
     "metadata": {},
     "output_type": "execute_result"
    }
   ],
   "source": [
    "a.lower()"
   ]
  },
  {
   "cell_type": "code",
   "execution_count": 36,
   "metadata": {},
   "outputs": [
    {
     "data": {
      "text/plain": [
       "'PAKISTAN ZINDA BAD'"
      ]
     },
     "execution_count": 36,
     "metadata": {},
     "output_type": "execute_result"
    }
   ],
   "source": [
    "a.upper()"
   ]
  },
  {
   "cell_type": "code",
   "execution_count": null,
   "metadata": {},
   "outputs": [],
   "source": []
  }
 ],
 "metadata": {
  "kernelspec": {
   "display_name": "Python 3",
   "language": "python",
   "name": "python3"
  },
  "language_info": {
   "codemirror_mode": {
    "name": "ipython",
    "version": 3
   },
   "file_extension": ".py",
   "mimetype": "text/x-python",
   "name": "python",
   "nbconvert_exporter": "python",
   "pygments_lexer": "ipython3",
   "version": "3.6.4"
  }
 },
 "nbformat": 4,
 "nbformat_minor": 2
}
