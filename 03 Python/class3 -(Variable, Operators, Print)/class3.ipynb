{
 "cells": [
  {
   "cell_type": "markdown",
   "metadata": {},
   "source": [
    "# Print Topic cover"
   ]
  },
  {
   "cell_type": "markdown",
   "metadata": {},
   "source": [
    "- with function\n",
    "- print with cell"
   ]
  },
  {
   "cell_type": "code",
   "execution_count": 1,
   "metadata": {},
   "outputs": [
    {
     "name": "stdout",
     "output_type": "stream",
     "text": [
      "Pakistan zinda bad\n"
     ]
    }
   ],
   "source": [
    "print(\"Pakistan zinda bad\")"
   ]
  },
  {
   "cell_type": "code",
   "execution_count": 2,
   "metadata": {},
   "outputs": [
    {
     "name": "stdout",
     "output_type": "stream",
     "text": [
      "20\n"
     ]
    }
   ],
   "source": [
    "print(20)"
   ]
  },
  {
   "cell_type": "code",
   "execution_count": 3,
   "metadata": {},
   "outputs": [
    {
     "name": "stdout",
     "output_type": "stream",
     "text": [
      "pakistan 20 4.0 1 16\n"
     ]
    }
   ],
   "source": [
    "print('pakistan',20, 4.00, 5%2, 8*2)"
   ]
  },
  {
   "cell_type": "code",
   "execution_count": 4,
   "metadata": {},
   "outputs": [
    {
     "data": {
      "text/plain": [
       "'Pakistan zinda bad'"
      ]
     },
     "execution_count": 4,
     "metadata": {},
     "output_type": "execute_result"
    }
   ],
   "source": [
    "'Pakistan zinda bad'"
   ]
  },
  {
   "cell_type": "code",
   "execution_count": 5,
   "metadata": {},
   "outputs": [
    {
     "data": {
      "text/plain": [
       "'we are pakistani'"
      ]
     },
     "execution_count": 5,
     "metadata": {},
     "output_type": "execute_result"
    }
   ],
   "source": [
    "'pakistan'\n",
    "'pakistan zinda bad'\n",
    "'we are pakistani'"
   ]
  },
  {
   "cell_type": "markdown",
   "metadata": {},
   "source": [
    "# Operators"
   ]
  },
  {
   "cell_type": "markdown",
   "metadata": {},
   "source": [
    "- operation\n",
    "    - oprand\n",
    "    - opratos\n",
    "\n",
    "2 + 5 <br>\n",
    "\n",
    "(+) Operator\n",
    "(2,5) Oprands"
   ]
  },
  {
   "cell_type": "markdown",
   "metadata": {},
   "source": [
    "1. + (addtion)\n",
    "2. - (Subtraction)\n",
    "3. * (Multiplycation)\n",
    "4. / (Division)\n",
    "5. % (Modulus)\n",
    "6. = (Assign)\n",
    "7. == (Comparison)\n",
    "8. === (comparision with value and data type)\n",
    "8. >\n",
    "9. <\n",
    "10. <>, !=\n",
    "11. <=\n",
    "12. >=\n",
    "13. &\n",
    "14. ||\n",
    "15. **\n",
    "16. //\n",
    "17. +=\n",
    "18. =+\n",
    "19. -=\n",
    "20. =-\n",
    "21. ++\n",
    "22. --"
   ]
  },
  {
   "cell_type": "code",
   "execution_count": 7,
   "metadata": {},
   "outputs": [
    {
     "name": "stdout",
     "output_type": "stream",
     "text": [
      "\n",
      "Helo world \n",
      "we are pakistan \n",
      "pakistan zinda bad\n",
      "\n"
     ]
    }
   ],
   "source": [
    "msg ='''\n",
    "Helo world \n",
    "we are pakistan \n",
    "pakistan zinda bad\n",
    "'''\n",
    "\n",
    "print(msg)"
   ]
  },
  {
   "cell_type": "code",
   "execution_count": null,
   "metadata": {},
   "outputs": [],
   "source": []
  }
 ],
 "metadata": {
  "kernelspec": {
   "display_name": "Python 3",
   "language": "python",
   "name": "python3"
  },
  "language_info": {
   "codemirror_mode": {
    "name": "ipython",
    "version": 3
   },
   "file_extension": ".py",
   "mimetype": "text/x-python",
   "name": "python",
   "nbconvert_exporter": "python",
   "pygments_lexer": "ipython3",
   "version": "3.6.4"
  }
 },
 "nbformat": 4,
 "nbformat_minor": 2
}
