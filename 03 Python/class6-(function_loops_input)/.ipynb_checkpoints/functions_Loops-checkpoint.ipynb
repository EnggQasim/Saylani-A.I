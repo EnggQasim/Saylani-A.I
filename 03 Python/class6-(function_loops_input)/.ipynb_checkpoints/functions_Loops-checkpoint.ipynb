{
 "cells": [
  {
   "cell_type": "markdown",
   "metadata": {},
   "source": [
    "# Topics\n",
    "- Functions\n",
    "    - Required Arguments\n",
    "    - Optional Arguments\n",
    "    - Return\n",
    "    - Non Return\n",
    "    - Defualt Arguments\n",
    "    - postional Arguments\n",
    "    - KeyWord Arguments\n",
    "    - Argument with List\n",
    "    - Argument with Dictionary \n",
    "    - pre defineFunctions\n",
    "    - User defineFunctions\n",
    "- Loop\n",
    "    - for\n",
    "    - while\n",
    "    - do while\n",
    "- input"
   ]
  },
  {
   "cell_type": "markdown",
   "metadata": {},
   "source": [
    "Function: Set of instruction define in block is called function."
   ]
  },
  {
   "cell_type": "markdown",
   "metadata": {},
   "source": [
    "Example set of instructions"
   ]
  },
  {
   "cell_type": "code",
   "execution_count": null,
   "metadata": {},
   "outputs": [],
   "source": [
    "print(\"My Name is Qasim\")\n",
    "print(\"Education: BSCS\")\n",
    "print(\"Nationality: Pakistani\")"
   ]
  },
  {
   "cell_type": "markdown",
   "metadata": {},
   "source": [
    "- Defualt Function\n",
    "- Non Return Function"
   ]
  },
  {
   "cell_type": "code",
   "execution_count": null,
   "metadata": {},
   "outputs": [],
   "source": [
    "def TeacherInfo():\n",
    "    print(\"My Name is Qasim\")\n",
    "    print(\"Education: BSCS\")\n",
    "    print(\"Nationality: Pakistani\")\n",
    "\n",
    "TeacherInfo()"
   ]
  },
  {
   "cell_type": "code",
   "execution_count": null,
   "metadata": {},
   "outputs": [],
   "source": [
    "TeacherInfo()\n",
    "TeacherInfo()"
   ]
  },
  {
   "cell_type": "code",
   "execution_count": null,
   "metadata": {},
   "outputs": [],
   "source": [
    "x=TeacherInfo()\n",
    "print(x)"
   ]
  },
  {
   "cell_type": "markdown",
   "metadata": {},
   "source": [
    "- Variabl Scope\n",
    " - local\n",
    " - global"
   ]
  },
  {
   "cell_type": "code",
   "execution_count": null,
   "metadata": {},
   "outputs": [],
   "source": [
    "Uni = 'SSUET' # global\n",
    "\n",
    "print(Uni)\n",
    "\n",
    "def fullName():\n",
    "    fname=\"Muhammad\" # local\n",
    "    lname=\"Qasim\" # local\n",
    "    print(fname,\" \",Uni)\n",
    "\n",
    "fullName()\n",
    "print(fname)"
   ]
  },
  {
   "cell_type": "markdown",
   "metadata": {},
   "source": [
    "- Argument With Required"
   ]
  },
  {
   "cell_type": "code",
   "execution_count": null,
   "metadata": {},
   "outputs": [],
   "source": [
    "def fullName1(fname, lname): # function define argument\n",
    "    print(fname+\" \"+lname)\n",
    "    \n",
    "fullName1(\"Muhammad\",\"Qasim\") # function calling parameters"
   ]
  },
  {
   "cell_type": "code",
   "execution_count": null,
   "metadata": {},
   "outputs": [],
   "source": [
    "fullName = fullName1(\"Muhammad\",\"Qasim\")\n",
    "print(fullName)"
   ]
  },
  {
   "cell_type": "markdown",
   "metadata": {},
   "source": [
    "Return Function"
   ]
  },
  {
   "cell_type": "code",
   "execution_count": null,
   "metadata": {},
   "outputs": [],
   "source": [
    "def fullName1(fname, lname): # function define argument\n",
    "    return fname+\" \"+lname\n",
    "    \n",
    "x=fullName1(\"Muhammad\",\"Qasim\") # function calling parameters\n",
    "print(x)"
   ]
  },
  {
   "cell_type": "code",
   "execution_count": null,
   "metadata": {},
   "outputs": [],
   "source": [
    "print(fullName1('Muhammad','Osama'))"
   ]
  },
  {
   "cell_type": "code",
   "execution_count": null,
   "metadata": {},
   "outputs": [],
   "source": [
    "fullName1('Qasim')"
   ]
  },
  {
   "cell_type": "markdown",
   "metadata": {},
   "source": [
    "### With Optional Arguments"
   ]
  },
  {
   "cell_type": "code",
   "execution_count": null,
   "metadata": {},
   "outputs": [],
   "source": [
    "def Info(fname,lname,contact=\"03##-#######\"):\n",
    "    return \"FullName: \"+fname+\" \"+lname+' Contact: '+contact\n",
    "\n",
    "print(Info(\"Muhammad\",\"Qasim\"))\n",
    "print(Info(\"Muhammad\",\"Ahmed\",\"0345-2571358\"))"
   ]
  },
  {
   "cell_type": "markdown",
   "metadata": {},
   "source": [
    "### Call Function with postional Arguments"
   ]
  },
  {
   "cell_type": "code",
   "execution_count": null,
   "metadata": {},
   "outputs": [],
   "source": [
    "Info(\"Muhammad\",\"Qasim\",\"315-2968211\")"
   ]
  },
  {
   "cell_type": "markdown",
   "metadata": {},
   "source": [
    "### KeyWord Argument"
   ]
  },
  {
   "cell_type": "code",
   "execution_count": null,
   "metadata": {},
   "outputs": [],
   "source": [
    "Info(contact=\"0315-1234567\",fname=\"Muhammad\", lname=\"Qasim\")"
   ]
  },
  {
   "cell_type": "markdown",
   "metadata": {},
   "source": [
    "### Provide Argument values with list"
   ]
  },
  {
   "cell_type": "code",
   "execution_count": null,
   "metadata": {},
   "outputs": [],
   "source": [
    "abc =['Muhammd','Qasim','0345-1234567']\n",
    "\n",
    "print(Info(*abc))\n",
    "print(Info(abc[0],abc[1],abc[2]))\n"
   ]
  },
  {
   "cell_type": "markdown",
   "metadata": {},
   "source": [
    "### Provide Argument Key values with Dictionary"
   ]
  },
  {
   "cell_type": "code",
   "execution_count": null,
   "metadata": {},
   "outputs": [],
   "source": [
    "xyz = {'contact':'0315-2968211',\n",
    "      'fname':'Muhammad',\n",
    "      'lname':'Qasim'}\n",
    "Info(xyz['fname'], xyz['lname'], xyz['contact'])"
   ]
  },
  {
   "cell_type": "code",
   "execution_count": null,
   "metadata": {},
   "outputs": [],
   "source": [
    "Info(**xyz)"
   ]
  },
  {
   "cell_type": "markdown",
   "metadata": {},
   "source": [
    "# Loop\n",
    "    - for\n",
    "    - while\n",
    "    - do while"
   ]
  },
  {
   "cell_type": "markdown",
   "metadata": {},
   "source": [
    "Repitation of statments or statment\n",
    "- counter\n",
    "- control\n",
    "- increament or Decreament\n",
    "    - pass (ignore Logic Block)\n",
    "    - countiune (skip if true)\n",
    "    - Break (stop if True)"
   ]
  },
  {
   "cell_type": "code",
   "execution_count": null,
   "metadata": {},
   "outputs": [],
   "source": [
    "# Repitation of statments\n",
    "print('Pakistan zinda bad')\n",
    "print('Pakistan zinda bad')\n",
    "print('Pakistan zinda bad')"
   ]
  },
  {
   "cell_type": "code",
   "execution_count": null,
   "metadata": {},
   "outputs": [],
   "source": [
    "# While Loop\n",
    "i=5\n",
    "while(i<=10):\n",
    "    print(\"Pakistan zinda bad\",i)\n",
    "    i+=1\n",
    "    "
   ]
  },
  {
   "cell_type": "code",
   "execution_count": null,
   "metadata": {},
   "outputs": [],
   "source": [
    "for i in list(range(10)):\n",
    "    print('pAKISTAN',i)"
   ]
  },
  {
   "cell_type": "code",
   "execution_count": 8,
   "metadata": {},
   "outputs": [
    {
     "name": "stdout",
     "output_type": "stream",
     "text": [
      "pAKISTAN 0\n",
      "pAKISTAN 1\n",
      "pAKISTAN 2\n",
      "pAKISTAN 3\n",
      "pAKISTAN 4\n",
      "pAKISTAN 6\n",
      "pAKISTAN 7\n",
      "pAKISTAN 8\n",
      "pAKISTAN 9\n"
     ]
    }
   ],
   "source": [
    "for i in list(range(10)):\n",
    "    if i==5:\n",
    "        continue\n",
    "    print('pAKISTAN',i)"
   ]
  },
  {
   "cell_type": "code",
   "execution_count": 9,
   "metadata": {},
   "outputs": [
    {
     "name": "stdout",
     "output_type": "stream",
     "text": [
      "pAKISTAN 0\n",
      "pAKISTAN 1\n",
      "pAKISTAN 2\n",
      "pAKISTAN 3\n",
      "pAKISTAN 4\n"
     ]
    }
   ],
   "source": [
    "for i in list(range(10)):\n",
    "    if i==5:\n",
    "        break\n",
    "    print('pAKISTAN',i)"
   ]
  },
  {
   "cell_type": "code",
   "execution_count": 10,
   "metadata": {},
   "outputs": [
    {
     "name": "stdout",
     "output_type": "stream",
     "text": [
      "pAKISTAN 0\n",
      "pAKISTAN 1\n",
      "pAKISTAN 2\n",
      "pAKISTAN 3\n",
      "pAKISTAN 4\n",
      "pAKISTAN 5\n",
      "pAKISTAN 6\n",
      "pAKISTAN 7\n",
      "pAKISTAN 8\n",
      "pAKISTAN 9\n"
     ]
    }
   ],
   "source": [
    "for i in list(range(10)):\n",
    "    if i==5:\n",
    "        pass\n",
    "    print('pAKISTAN',i)"
   ]
  },
  {
   "cell_type": "code",
   "execution_count": null,
   "metadata": {},
   "outputs": [],
   "source": [
    "names = ['Qasim','Ahmed','Minhal','Arsalan','Shahryar']\n",
    "\n",
    "i=0\n",
    "while(i<=4):\n",
    "    print(names[i])\n",
    "    i+=1"
   ]
  },
  {
   "cell_type": "code",
   "execution_count": null,
   "metadata": {},
   "outputs": [],
   "source": [
    "for name in names:\n",
    "    print(name)"
   ]
  },
  {
   "cell_type": "code",
   "execution_count": null,
   "metadata": {},
   "outputs": [],
   "source": [
    "xyz = {'contact':'0315-2968211',\n",
    "      'fname':'Muhammad',\n",
    "      'lname':'Qasim'}\n",
    "xyz.items()"
   ]
  },
  {
   "cell_type": "code",
   "execution_count": null,
   "metadata": {},
   "outputs": [],
   "source": [
    "xyz.keys()"
   ]
  },
  {
   "cell_type": "code",
   "execution_count": null,
   "metadata": {},
   "outputs": [],
   "source": [
    "xyz.values()"
   ]
  },
  {
   "cell_type": "code",
   "execution_count": null,
   "metadata": {},
   "outputs": [],
   "source": [
    "l=['a','b']\n",
    "x, z = l\n",
    "print(x,z)"
   ]
  },
  {
   "cell_type": "code",
   "execution_count": null,
   "metadata": {},
   "outputs": [],
   "source": [
    "for k,v in xyz.items():\n",
    "    print(\"Keys is:\",k,\" Value is: \",v)"
   ]
  },
  {
   "cell_type": "code",
   "execution_count": null,
   "metadata": {},
   "outputs": [],
   "source": [
    "names"
   ]
  },
  {
   "cell_type": "code",
   "execution_count": null,
   "metadata": {},
   "outputs": [],
   "source": [
    "'Arsalan' in names"
   ]
  },
  {
   "cell_type": "code",
   "execution_count": null,
   "metadata": {},
   "outputs": [],
   "source": [
    "i=0\n",
    "while(i<=4):\n",
    "    if names[i]=='Arsalan':\n",
    "        print(names[i])\n",
    "    i+=1"
   ]
  },
  {
   "cell_type": "code",
   "execution_count": null,
   "metadata": {},
   "outputs": [],
   "source": [
    "x=input(\"Enter Your Name\")\n",
    "print(x)"
   ]
  },
  {
   "cell_type": "code",
   "execution_count": null,
   "metadata": {},
   "outputs": [],
   "source": [
    "names=[]\n",
    "x=input(\"Enter Student Name | 'q' for quit \")\n",
    "while(x!='q'):\n",
    "    names.append(x)\n",
    "    x=input(\"Enter Student Name | 'q' for quit \")\n",
    "    if x=='q':\n",
    "        for name in names:\n",
    "            print(name)"
   ]
  },
  {
   "cell_type": "code",
   "execution_count": 3,
   "metadata": {},
   "outputs": [
    {
     "name": "stdout",
     "output_type": "stream",
     "text": [
      "1 less than five\n",
      "2 less than five\n",
      "3 less than five\n",
      "4 less than five\n",
      "No\n"
     ]
    }
   ],
   "source": [
    "count = 1\n",
    "while count < 5:\n",
    "    print(count,\"less than five\")\n",
    "    count +=1\n",
    "else:\n",
    "    print(\"No\")"
   ]
  },
  {
   "cell_type": "code",
   "execution_count": 4,
   "metadata": {},
   "outputs": [
    {
     "ename": "SyntaxError",
     "evalue": "invalid syntax (<ipython-input-4-8978f1f51193>, line 2)",
     "output_type": "error",
     "traceback": [
      "\u001b[1;36m  File \u001b[1;32m\"<ipython-input-4-8978f1f51193>\"\u001b[1;36m, line \u001b[1;32m2\u001b[0m\n\u001b[1;33m    do{\u001b[0m\n\u001b[1;37m      ^\u001b[0m\n\u001b[1;31mSyntaxError\u001b[0m\u001b[1;31m:\u001b[0m invalid syntax\n"
     ]
    }
   ],
   "source": [
    "i = 1\n",
    "do{\n",
    "    print(i)\n",
    "    i +=1\n",
    "}while(i<5)"
   ]
  },
  {
   "cell_type": "code",
   "execution_count": 6,
   "metadata": {},
   "outputs": [
    {
     "data": {
      "text/plain": [
       "19"
      ]
     },
     "execution_count": 6,
     "metadata": {},
     "output_type": "execute_result"
    }
   ],
   "source": [
    "def abc(*num):\n",
    "    total=0\n",
    "    for i in num:\n",
    "        total +=i\n",
    "    return total\n",
    "\n",
    "abc(2,8,9,0)"
   ]
  },
  {
   "cell_type": "code",
   "execution_count": null,
   "metadata": {},
   "outputs": [],
   "source": []
  }
 ],
 "metadata": {
  "kernelspec": {
   "display_name": "Python 3",
   "language": "python",
   "name": "python3"
  },
  "language_info": {
   "codemirror_mode": {
    "name": "ipython",
    "version": 3
   },
   "file_extension": ".py",
   "mimetype": "text/x-python",
   "name": "python",
   "nbconvert_exporter": "python",
   "pygments_lexer": "ipython3",
   "version": "3.6.4"
  }
 },
 "nbformat": 4,
 "nbformat_minor": 2
}
