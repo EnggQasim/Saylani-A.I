{
 "cells": [
  {
   "cell_type": "code",
   "execution_count": 1,
   "metadata": {},
   "outputs": [
    {
     "name": "stderr",
     "output_type": "stream",
     "text": [
      "C:\\ProgramData\\Anaconda3\\lib\\site-packages\\h5py\\__init__.py:36: FutureWarning: Conversion of the second argument of issubdtype from `float` to `np.floating` is deprecated. In future, it will be treated as `np.float64 == np.dtype(float).type`.\n",
      "  from ._conv import register_converters as _register_converters\n",
      "Using TensorFlow backend.\n"
     ]
    }
   ],
   "source": [
    "from keras.models import Sequential\n",
    "from keras.layers import Dense \n",
    "from keras.optimizers import Adam, SGD\n",
    "\n",
    "%matplotlib inline\n",
    "import matplotlib.pyplot as plt\n",
    "import numpy as np\n",
    "import pandas as pd"
   ]
  },
  {
   "cell_type": "code",
   "execution_count": 2,
   "metadata": {},
   "outputs": [],
   "source": [
    "df=pd.read_csv('data/weight-height.csv')"
   ]
  },
  {
   "cell_type": "code",
   "execution_count": 3,
   "metadata": {},
   "outputs": [],
   "source": [
    "X=df[['Height']].values\n",
    "y_true=df[['Weight']].values"
   ]
  },
  {
   "cell_type": "code",
   "execution_count": 4,
   "metadata": {},
   "outputs": [
    {
     "data": {
      "text/plain": [
       "array([[73.84701702],\n",
       "       [68.78190405],\n",
       "       [74.11010539],\n",
       "       ...,\n",
       "       [63.86799221],\n",
       "       [69.03424313],\n",
       "       [61.94424588]])"
      ]
     },
     "execution_count": 4,
     "metadata": {},
     "output_type": "execute_result"
    }
   ],
   "source": [
    "X"
   ]
  },
  {
   "cell_type": "code",
   "execution_count": 5,
   "metadata": {},
   "outputs": [],
   "source": [
    "model = Sequential()\n",
    "model.add(Dense(1, input_shape=(1,)))"
   ]
  },
  {
   "cell_type": "code",
   "execution_count": 6,
   "metadata": {},
   "outputs": [
    {
     "name": "stdout",
     "output_type": "stream",
     "text": [
      "_________________________________________________________________\n",
      "Layer (type)                 Output Shape              Param #   \n",
      "=================================================================\n",
      "dense_1 (Dense)              (None, 1)                 2         \n",
      "=================================================================\n",
      "Total params: 2\n",
      "Trainable params: 2\n",
      "Non-trainable params: 0\n",
      "_________________________________________________________________\n"
     ]
    }
   ],
   "source": [
    "model.summary()"
   ]
  },
  {
   "cell_type": "code",
   "execution_count": 8,
   "metadata": {},
   "outputs": [],
   "source": [
    "model.compile(Adam(lr=0.8), 'mean_squared_error')"
   ]
  },
  {
   "cell_type": "code",
   "execution_count": 9,
   "metadata": {},
   "outputs": [
    {
     "name": "stdout",
     "output_type": "stream",
     "text": [
      "Epoch 1/40\n",
      "10000/10000 [==============================] - 0s 36us/step - loss: 1179.8253\n",
      "Epoch 2/40\n",
      "10000/10000 [==============================] - 0s 24us/step - loss: 553.3768\n",
      "Epoch 3/40\n",
      "10000/10000 [==============================] - 0s 24us/step - loss: 526.5375\n",
      "Epoch 4/40\n",
      "10000/10000 [==============================] - 0s 24us/step - loss: 506.0434\n",
      "Epoch 5/40\n",
      "10000/10000 [==============================] - 0s 26us/step - loss: 440.0464\n",
      "Epoch 6/40\n",
      "10000/10000 [==============================] - 0s 24us/step - loss: 406.4392\n",
      "Epoch 7/40\n",
      "10000/10000 [==============================] - 0s 24us/step - loss: 375.0115\n",
      "Epoch 8/40\n",
      "10000/10000 [==============================] - 0s 25us/step - loss: 326.0807\n",
      "Epoch 9/40\n",
      "10000/10000 [==============================] - 0s 24us/step - loss: 322.6349\n",
      "Epoch 10/40\n",
      "10000/10000 [==============================] - 0s 26us/step - loss: 273.6490\n",
      "Epoch 11/40\n",
      "10000/10000 [==============================] - 0s 24us/step - loss: 257.4680\n",
      "Epoch 12/40\n",
      "10000/10000 [==============================] - 0s 25us/step - loss: 257.3877\n",
      "Epoch 13/40\n",
      "10000/10000 [==============================] - 0s 33us/step - loss: 234.3821\n",
      "Epoch 14/40\n",
      "10000/10000 [==============================] - 0s 33us/step - loss: 226.0889\n",
      "Epoch 15/40\n",
      "10000/10000 [==============================] - 0s 28us/step - loss: 203.7064\n",
      "Epoch 16/40\n",
      "10000/10000 [==============================] - 0s 30us/step - loss: 199.6446\n",
      "Epoch 17/40\n",
      "10000/10000 [==============================] - 0s 27us/step - loss: 202.3791\n",
      "Epoch 18/40\n",
      "10000/10000 [==============================] - 0s 25us/step - loss: 200.6115\n",
      "Epoch 19/40\n",
      "10000/10000 [==============================] - 0s 25us/step - loss: 183.2610\n",
      "Epoch 20/40\n",
      "10000/10000 [==============================] - 0s 34us/step - loss: 184.8909\n",
      "Epoch 21/40\n",
      "10000/10000 [==============================] - 0s 31us/step - loss: 193.3940\n",
      "Epoch 22/40\n",
      "10000/10000 [==============================] - 0s 32us/step - loss: 173.7577\n",
      "Epoch 23/40\n",
      "10000/10000 [==============================] - 0s 25us/step - loss: 180.9601\n",
      "Epoch 24/40\n",
      "10000/10000 [==============================] - 0s 25us/step - loss: 178.0606\n",
      "Epoch 25/40\n",
      "10000/10000 [==============================] - 0s 32us/step - loss: 176.4766\n",
      "Epoch 26/40\n",
      "10000/10000 [==============================] - 0s 30us/step - loss: 184.7315\n",
      "Epoch 27/40\n",
      "10000/10000 [==============================] - 0s 29us/step - loss: 181.4259\n",
      "Epoch 28/40\n",
      "10000/10000 [==============================] - 0s 30us/step - loss: 177.1520\n",
      "Epoch 29/40\n",
      "10000/10000 [==============================] - 0s 28us/step - loss: 185.0282\n",
      "Epoch 30/40\n",
      "10000/10000 [==============================] - 0s 32us/step - loss: 184.8197\n",
      "Epoch 31/40\n",
      "10000/10000 [==============================] - 0s 25us/step - loss: 184.9639\n",
      "Epoch 32/40\n",
      "10000/10000 [==============================] - 0s 37us/step - loss: 180.3204\n",
      "Epoch 33/40\n",
      "10000/10000 [==============================] - 0s 28us/step - loss: 188.2703\n",
      "Epoch 34/40\n",
      "10000/10000 [==============================] - 0s 34us/step - loss: 182.6159\n",
      "Epoch 35/40\n",
      "10000/10000 [==============================] - 0s 30us/step - loss: 169.1834\n",
      "Epoch 36/40\n",
      "10000/10000 [==============================] - 0s 35us/step - loss: 175.2470\n",
      "Epoch 37/40\n",
      "10000/10000 [==============================] - 0s 27us/step - loss: 184.6112\n",
      "Epoch 38/40\n",
      "10000/10000 [==============================] - 0s 37us/step - loss: 179.0244\n",
      "Epoch 39/40\n",
      "10000/10000 [==============================] - 0s 27us/step - loss: 176.0562\n",
      "Epoch 40/40\n",
      "10000/10000 [==============================] - 0s 32us/step - loss: 176.4373\n"
     ]
    },
    {
     "data": {
      "text/plain": [
       "<keras.callbacks.History at 0x1ff551b8320>"
      ]
     },
     "execution_count": 9,
     "metadata": {},
     "output_type": "execute_result"
    }
   ],
   "source": [
    "model.fit(X,y_true, epochs=40)"
   ]
  },
  {
   "cell_type": "code",
   "execution_count": 10,
   "metadata": {},
   "outputs": [],
   "source": [
    "y_pred=model.predict(X)"
   ]
  },
  {
   "cell_type": "code",
   "execution_count": 12,
   "metadata": {},
   "outputs": [
    {
     "data": {
      "text/plain": [
       "[<matplotlib.lines.Line2D at 0x1ff55573080>]"
      ]
     },
     "execution_count": 12,
     "metadata": {},
     "output_type": "execute_result"
    },
    {
     "data": {
      "image/png": "[encoded data removed]",
      "text/plain": [
       "<matplotlib.figure.Figure at 0x1ff5556ecc0>"
      ]
     },
     "metadata": {},
     "output_type": "display_data"
    }
   ],
   "source": [
    "df.plot(kind='scatter',\n",
    "       x='Height',\n",
    "       y='Weight', title='Weight and Height in adults')\n",
    "plt.plot(X, y_pred, color='red', linewidth=3)"
   ]
  },
  {
   "cell_type": "code",
   "execution_count": 13,
   "metadata": {},
   "outputs": [],
   "source": [
    "w,b=model.get_weights()"
   ]
  },
  {
   "cell_type": "code",
   "execution_count": 14,
   "metadata": {},
   "outputs": [
    {
     "data": {
      "text/plain": [
       "array([[7.8113327]], dtype=float32)"
      ]
     },
     "execution_count": 14,
     "metadata": {},
     "output_type": "execute_result"
    }
   ],
   "source": [
    "w"
   ]
  },
  {
   "cell_type": "code",
   "execution_count": 15,
   "metadata": {},
   "outputs": [
    {
     "data": {
      "text/plain": [
       "array([-347.4628], dtype=float32)"
      ]
     },
     "execution_count": 15,
     "metadata": {},
     "output_type": "execute_result"
    }
   ],
   "source": [
    "b"
   ]
  },
  {
   "cell_type": "code",
   "execution_count": null,
   "metadata": {},
   "outputs": [],
   "source": []
  }
 ],
 "metadata": {
  "kernelspec": {
   "display_name": "Python 3",
   "language": "python",
   "name": "python3"
  },
  "language_info": {
   "codemirror_mode": {
    "name": "ipython",
    "version": 3
   },
   "file_extension": ".py",
   "mimetype": "text/x-python",
   "name": "python",
   "nbconvert_exporter": "python",
   "pygments_lexer": "ipython3",
   "version": "3.6.4"
  }
 },
 "nbformat": 4,
 "nbformat_minor": 2
}
