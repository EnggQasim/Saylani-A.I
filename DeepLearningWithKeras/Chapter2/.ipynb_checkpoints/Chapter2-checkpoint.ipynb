{
 "cells": [
  {
   "cell_type": "markdown",
   "metadata": {},
   "source": [
    "# Chapter 2\n",
    "### This chapter covers\n",
    "- A first example of a neural network\n",
    "- Tensors and tensor operations\n",
    "- How neural networks learn via backpropagation\n",
    "and gradient descent"
   ]
  },
  {
   "cell_type": "markdown",
   "metadata": {},
   "source": [
    "We simple learn mathmatical concept and, know about tensor, tensor operation and neural network"
   ]
  },
  {
   "cell_type": "markdown",
   "metadata": {},
   "source": [
    "## 2.1 A first look at a neural network\n"
   ]
  },
  {
   "cell_type": "markdown",
   "metadata": {},
   "source": [
    "- Classification Problem Hand writing number (0 to 9) 28X28 pixels\n",
    "- Use MNIST Data set\n",
    "- See some MNIST samples in figure 2.1"
   ]
  },
  {
   "cell_type": "markdown",
   "metadata": {},
   "source": [
    "#### Note on classes and labels\n",
    "In machine learning, a category in a classification problem is called a class. Data\n",
    "points are called samples. The class associated with a specific sample is called a\n",
    "label."
   ]
  },
  {
   "cell_type": "markdown",
   "metadata": {},
   "source": [
    "# <img src=\"images/f2.1.png\">"
   ]
  },
  {
   "cell_type": "markdown",
   "metadata": {},
   "source": [
    "# Use Keras to solve above problem "
   ]
  },
  {
   "cell_type": "code",
   "execution_count": 1,
   "metadata": {},
   "outputs": [
    {
     "name": "stderr",
     "output_type": "stream",
     "text": [
      "C:\\ProgramData\\Anaconda3\\lib\\site-packages\\h5py\\__init__.py:36: FutureWarning: Conversion of the second argument of issubdtype from `float` to `np.floating` is deprecated. In future, it will be treated as `np.float64 == np.dtype(float).type`.\n",
      "  from ._conv import register_converters as _register_converters\n",
      "Using TensorFlow backend.\n"
     ]
    }
   ],
   "source": [
    "# 2.1\n",
    "from keras.datasets import mnist\n",
    "(train_images, train_labels), (test_images, test_labels) = mnist.load_data()"
   ]
  },
  {
   "cell_type": "markdown",
   "metadata": {},
   "source": [
    "`mnist.load_data()` this function reuturn four values \n",
    "- train_data, train_labels (60% from all data)\n",
    "- test_data, test_labels (40% from all data)\n"
   ]
  },
  {
   "cell_type": "markdown",
   "metadata": {},
   "source": [
    "#### Our images convert in numpuy array with value of grayscale mode (R,G,B convert into GrayScale= R+G+B/3)\n",
    "#### Labels are in 0 to 9\n",
    "\n",
    "## About Train Data Details"
   ]
  },
  {
   "cell_type": "code",
   "execution_count": 2,
   "metadata": {},
   "outputs": [
    {
     "name": "stdout",
     "output_type": "stream",
     "text": [
      "Train Image Shape:  (60000, 28, 28)\n",
      "Len of train labels: 60000\n"
     ]
    },
    {
     "data": {
      "text/plain": [
       "array([5, 0, 4, ..., 5, 6, 8], dtype=uint8)"
      ]
     },
     "execution_count": 2,
     "metadata": {},
     "output_type": "execute_result"
    }
   ],
   "source": [
    "print(\"Train Image Shape: \", train_images.shape)\n",
    "print(\"Len of train labels:\", len(train_labels))\n",
    "train_labels"
   ]
  },
  {
   "cell_type": "markdown",
   "metadata": {},
   "source": [
    "## About Test Data Details"
   ]
  },
  {
   "cell_type": "code",
   "execution_count": 3,
   "metadata": {},
   "outputs": [
    {
     "name": "stdout",
     "output_type": "stream",
     "text": [
      "Train Image Shape:  (10000, 28, 28)\n",
      "Len of train labels: 10000\n"
     ]
    },
    {
     "data": {
      "text/plain": [
       "array([7, 2, 1, ..., 4, 5, 6], dtype=uint8)"
      ]
     },
     "execution_count": 3,
     "metadata": {},
     "output_type": "execute_result"
    }
   ],
   "source": [
    "print(\"Train Image Shape: \", test_images.shape)\n",
    "print(\"Len of train labels:\", len(test_labels))\n",
    "test_labels"
   ]
  },
  {
   "cell_type": "markdown",
   "metadata": {},
   "source": [
    "Lets Try to train our module \n",
    "- learn train label from train data\n",
    "- predict label on test data then match with test data labels"
   ]
  },
  {
   "cell_type": "markdown",
   "metadata": {},
   "source": [
    "## Listing 2.2 The network architecture"
   ]
  },
  {
   "cell_type": "code",
   "execution_count": 4,
   "metadata": {},
   "outputs": [],
   "source": [
    "from keras import models\n",
    "from keras import layers\n",
    "network = models.Sequential()\n",
    "network.add(layers.Dense(512, activation='relu', input_shape=(28 * 28,)))\n",
    "network.add(layers.Dense(10, activation='softmax'))"
   ]
  },
  {
   "cell_type": "markdown",
   "metadata": {},
   "source": [
    "- core think in network is layer\n",
    "- every layer work like filter where data through in layer and it comes out in more usefull form\n",
    "-  layers extract representations out of the data fed into them\n",
    "- deep learning consists of chaining together simple layers that will implement a form\n",
    "of progressive data distillation.\n",
    "- Deep learning model like a sieve for data processing, made of a succession of increasingly refined data filters \n",
    "- <b>our network consists of a sequence of two Dense layers,</b>  which are densely\n",
    "connected (also called fully connected) neural layers. \n",
    "The second (and last) layer is a 10-way softmax layer, that return of 10 probility scores (suming to 1) each score probility the current digit image belong on of our 10 digit classes."
   ]
  },
  {
   "cell_type": "markdown",
   "metadata": {},
   "source": [
    " To make the network ready for training, we need to pick three more things, as part\n",
    "of the compilation step:\n",
    "- loss function\n",
    "- An optimizer\n",
    "- Metrics to monitor during training and testing"
   ]
  },
  {
   "cell_type": "markdown",
   "metadata": {},
   "source": [
    "## Listing 2.3 The compilation step\n"
   ]
  },
  {
   "cell_type": "code",
   "execution_count": 5,
   "metadata": {},
   "outputs": [],
   "source": [
    "network.compile(optimizer='rmsprop',\n",
    "                loss='categorical_crossentropy',\n",
    "                metrics=['accuracy'])\n"
   ]
  },
  {
   "cell_type": "raw",
   "metadata": {},
   "source": [
    "Before training, we’ll preprocess the data by reshaping it into the shape the network\n",
    "expects and scaling it so that all values are in the [0, 1] interval. Previously, our training\n",
    "images, for instance, were stored in an array of shape (60000, 28, 28) of type\n",
    "uint8 with values in the [0, 255] interval. We transform it into a float32 array of\n",
    "shape (60000, 28 * 28) with values between 0 and 1."
   ]
  },
  {
   "cell_type": "markdown",
   "metadata": {},
   "source": [
    "# Listing 2.4 Preparing the image data"
   ]
  },
  {
   "cell_type": "code",
   "execution_count": 6,
   "metadata": {},
   "outputs": [
    {
     "data": {
      "text/plain": [
       "47040000"
      ]
     },
     "execution_count": 6,
     "metadata": {},
     "output_type": "execute_result"
    }
   ],
   "source": [
    "train_images = train_images.reshape((60000, 28 * 28))\n",
    "train_images = train_images.astype('float32') / 255\n",
    "test_images = test_images.reshape((10000, 28 * 28))\n",
    "test_images = test_images.astype('float32') / 255\n",
    "train_images.size"
   ]
  },
  {
   "cell_type": "markdown",
   "metadata": {},
   "source": [
    "# Listing 2.5 Preparing the labels"
   ]
  },
  {
   "cell_type": "code",
   "execution_count": 7,
   "metadata": {},
   "outputs": [],
   "source": [
    "from keras.utils import to_categorical\n",
    "train_labels = to_categorical(train_labels)\n",
    "test_labels = to_categorical(test_labels)"
   ]
  },
  {
   "cell_type": "markdown",
   "metadata": {},
   "source": [
    "We’re now ready to train the network, which in Keras is done via a call to the network’s\n",
    "fit method—we fit the model to its training data:"
   ]
  },
  {
   "cell_type": "code",
   "execution_count": 8,
   "metadata": {},
   "outputs": [
    {
     "name": "stdout",
     "output_type": "stream",
     "text": [
      "Epoch 1/5\n",
      "60000/60000 [==============================] - 8s 137us/step - loss: 0.2592 - acc: 0.9243\n",
      "Epoch 2/5\n",
      "60000/60000 [==============================] - 6s 95us/step - loss: 0.1044 - acc: 0.9693\n",
      "Epoch 3/5\n",
      "60000/60000 [==============================] - 6s 94us/step - loss: 0.0689 - acc: 0.9793\n",
      "Epoch 4/5\n",
      "60000/60000 [==============================] - 6s 94us/step - loss: 0.0499 - acc: 0.9848\n",
      "Epoch 5/5\n",
      "60000/60000 [==============================] - 6s 92us/step - loss: 0.0372 - acc: 0.9889\n"
     ]
    },
    {
     "data": {
      "text/plain": [
       "<keras.callbacks.History at 0x1b129907b00>"
      ]
     },
     "execution_count": 8,
     "metadata": {},
     "output_type": "execute_result"
    }
   ],
   "source": [
    " network.fit(train_images, train_labels, epochs=5, batch_size=128)"
   ]
  },
  {
   "cell_type": "markdown",
   "metadata": {},
   "source": [
    "We quickly reach an accuracy of 0.989 (98.9%) on the training data. Now let’s\n",
    "check that the model performs well on the test set, too:\n"
   ]
  },
  {
   "cell_type": "code",
   "execution_count": 9,
   "metadata": {},
   "outputs": [
    {
     "name": "stdout",
     "output_type": "stream",
     "text": [
      "10000/10000 [==============================] - 1s 72us/step\n"
     ]
    }
   ],
   "source": [
    " test_loss, test_acc = network.evaluate(test_images, test_labels)"
   ]
  },
  {
   "cell_type": "code",
   "execution_count": 10,
   "metadata": {},
   "outputs": [
    {
     "name": "stdout",
     "output_type": "stream",
     "text": [
      "test_acc: 0.9805\n"
     ]
    }
   ],
   "source": [
    "print('test_acc:', test_acc)"
   ]
  },
  {
   "cell_type": "markdown",
   "metadata": {},
   "source": [
    "what’s going on behind the scenes. You’ll learn about tensors, the data-storing objects\n",
    "going into the network; tensor operations, which layers are made of; and gradient\n",
    "descent, which allows your network to learn from its training examples"
   ]
  },
  {
   "cell_type": "markdown",
   "metadata": {},
   "source": [
    "# 2.2 Data representations for neural networks"
   ]
  },
  {
   "cell_type": "markdown",
   "metadata": {},
   "source": [
    "-  At its core, a tensor is a container for data—almost always numerical data.\n",
    "- which are 2D tensors:\n",
    "tensors are a generalization of matrices to an arbitrary number of dimensions\n",
    "(note that in the context of tensors, a dimension is often called an axis)."
   ]
  },
  {
   "cell_type": "markdown",
   "metadata": {},
   "source": [
    "## 2.2.1 Scalars (0D tensors)\n",
    "- A tensor that contain just one number is call Scalar\n",
    "- a scalar\n",
    "tensor has 0 axes (ndim == 0).The number of axes of a tensor is also called its rank.\n",
    "Here’s a Numpy scalar:\n"
   ]
  },
  {
   "cell_type": "code",
   "execution_count": 11,
   "metadata": {},
   "outputs": [
    {
     "data": {
      "text/plain": [
       "array(12)"
      ]
     },
     "execution_count": 11,
     "metadata": {},
     "output_type": "execute_result"
    }
   ],
   "source": [
    "import numpy as np\n",
    "x = np.array(12)\n",
    "x"
   ]
  },
  {
   "cell_type": "code",
   "execution_count": 12,
   "metadata": {},
   "outputs": [
    {
     "data": {
      "text/plain": [
       "0"
      ]
     },
     "execution_count": 12,
     "metadata": {},
     "output_type": "execute_result"
    }
   ],
   "source": [
    "x.ndim"
   ]
  },
  {
   "cell_type": "markdown",
   "metadata": {},
   "source": [
    "## 2.2.2 Vectors (1D tensors)"
   ]
  },
  {
   "cell_type": "markdown",
   "metadata": {},
   "source": [
    "- Array of numbers is called vector, id tensor, a ID tensor is said to have exactly one axis "
   ]
  },
  {
   "cell_type": "code",
   "execution_count": 13,
   "metadata": {},
   "outputs": [
    {
     "name": "stdout",
     "output_type": "stream",
     "text": [
      "[12  3  6 14]\n",
      "1\n"
     ]
    }
   ],
   "source": [
    "x = np.array([12,3,6,14])\n",
    "print(x)\n",
    "print(x.ndim)"
   ]
  },
  {
   "cell_type": "markdown",
   "metadata": {},
   "source": [
    "- This vector has five entries and so is called a 5-dimensional vector\n",
    "- whereas a 5D tensor has five axes  (and may have any number of dimensions\n",
    "along each axis).\n",
    "-  it’s technically more\n",
    "correct to talk about a tensor of rank 5 (the rank of a tensor being the number of axes),\n"
   ]
  },
  {
   "cell_type": "markdown",
   "metadata": {},
   "source": [
    "# 2.2.3 Matrices (2D tensors)\n",
    "- An array of vectors is a matrix, or 2D tensor. A matrix has two axes (often referred to\n",
    "rows and columns)."
   ]
  },
  {
   "cell_type": "code",
   "execution_count": 14,
   "metadata": {},
   "outputs": [
    {
     "data": {
      "text/plain": [
       "array([[ 5, 78,  2, 34,  0],\n",
       "       [ 6, 79,  3, 35,  1],\n",
       "       [ 7, 80,  4, 36,  2]])"
      ]
     },
     "execution_count": 14,
     "metadata": {},
     "output_type": "execute_result"
    }
   ],
   "source": [
    "x = np.array([[5, 78, 2, 34, 0],\n",
    "              [6, 79, 3, 35, 1],\n",
    "              [7, 80, 4, 36, 2]])\n",
    "x"
   ]
  },
  {
   "cell_type": "code",
   "execution_count": 15,
   "metadata": {},
   "outputs": [
    {
     "data": {
      "text/plain": [
       "2"
      ]
     },
     "execution_count": 15,
     "metadata": {},
     "output_type": "execute_result"
    }
   ],
   "source": [
    "x.ndim"
   ]
  },
  {
   "cell_type": "markdown",
   "metadata": {},
   "source": [
    "# 2.2.4 3D tensors and higher-dimensional tensors\n",
    "-  which you can visually\n",
    "interpret as a cube of numbers. Following is a Numpy 3D tensor:"
   ]
  },
  {
   "cell_type": "code",
   "execution_count": 16,
   "metadata": {},
   "outputs": [
    {
     "data": {
      "text/plain": [
       "array([[[ 5, 78,  2, 34,  0],\n",
       "        [ 6, 79,  3, 35,  1],\n",
       "        [ 7, 80,  4, 36,  2]],\n",
       "\n",
       "       [[ 5, 78,  2, 34,  0],\n",
       "        [ 6, 79,  3, 35,  1],\n",
       "        [ 7, 80,  4, 36,  2]],\n",
       "\n",
       "       [[ 5, 78,  2, 34,  0],\n",
       "        [ 6, 79,  3, 35,  1],\n",
       "        [ 7, 80,  4, 36,  2]]])"
      ]
     },
     "execution_count": 16,
     "metadata": {},
     "output_type": "execute_result"
    }
   ],
   "source": [
    "x = np.array([[[5, 78, 2, 34, 0],\n",
    "               [6, 79, 3, 35, 1],\n",
    "               [7, 80, 4, 36, 2]],\n",
    "              [[5, 78, 2, 34, 0],\n",
    "               [6, 79, 3, 35, 1],\n",
    "               [7, 80, 4, 36, 2]],\n",
    "              [[5, 78, 2, 34, 0],\n",
    "               [6, 79, 3, 35, 1],\n",
    "               [7, 80, 4, 36, 2]]])\n",
    "x"
   ]
  },
  {
   "cell_type": "code",
   "execution_count": 17,
   "metadata": {},
   "outputs": [
    {
     "data": {
      "text/plain": [
       "3"
      ]
     },
     "execution_count": 17,
     "metadata": {},
     "output_type": "execute_result"
    }
   ],
   "source": [
    "x.ndim"
   ]
  },
  {
   "cell_type": "markdown",
   "metadata": {},
   "source": [
    "# 2.2.5 Key attributes"
   ]
  },
  {
   "cell_type": "markdown",
   "metadata": {},
   "source": [
    "- A tensor is defined by three key attributes:\n",
    "- <b>Number of axes (rank)</b>:<br>For instance, a 3D tensor has three axes, and a matrix has\n",
    "two axes. This is also called the tensor’s ndim in Python libraries such as Numpy.\n",
    "- <b>Shape</b>:<br>shape\n",
    "(3, 5), and the 3D tensor example has shape (3, 3, 5). A vector has a shape\n",
    "with a single element, such as (5,), whereas a scalar has an empty shape, ().\n",
    "- <b>Data type</b>:\n",
    "     tensor’s type could be float32, uint8,\n",
    "float64, and so on. On rare occasions, you may see a char tensor. Note that\n",
    "string tensors don’t exist in Numpy (or in most other libraries),To make this more concrete, let’s look back at the data we processed in the MNIST\n",
    "example. First, we load the MNIST dataset:\n"
   ]
  },
  {
   "cell_type": "code",
   "execution_count": 18,
   "metadata": {},
   "outputs": [],
   "source": [
    "from keras.datasets import mnist\n",
    "(train_images, train_labels), (test_images, test_labels) = mnist.load_data()"
   ]
  },
  {
   "cell_type": "markdown",
   "metadata": {},
   "source": [
    "Next, we display the number of axes of the tensor train_images, the ndim attribute:"
   ]
  },
  {
   "cell_type": "code",
   "execution_count": 19,
   "metadata": {},
   "outputs": [
    {
     "name": "stdout",
     "output_type": "stream",
     "text": [
      "3\n"
     ]
    }
   ],
   "source": [
    "print(train_images.ndim)"
   ]
  },
  {
   "cell_type": "code",
   "execution_count": 20,
   "metadata": {},
   "outputs": [
    {
     "name": "stdout",
     "output_type": "stream",
     "text": [
      "(60000, 28, 28)\n"
     ]
    }
   ],
   "source": [
    "print(train_images.shape)"
   ]
  },
  {
   "cell_type": "code",
   "execution_count": 21,
   "metadata": {},
   "outputs": [
    {
     "data": {
      "text/plain": [
       "numpy.ndarray"
      ]
     },
     "execution_count": 21,
     "metadata": {},
     "output_type": "execute_result"
    }
   ],
   "source": [
    "type(train_images)"
   ]
  },
  {
   "cell_type": "code",
   "execution_count": 22,
   "metadata": {},
   "outputs": [
    {
     "name": "stdout",
     "output_type": "stream",
     "text": [
      "uint8\n"
     ]
    }
   ],
   "source": [
    "print(train_images.dtype)"
   ]
  },
  {
   "cell_type": "markdown",
   "metadata": {},
   "source": [
    "So what we have here is a 3D tensor of 8-bit integers. More precisely, it’s an array of\n",
    "60,000 matrices of 28 × 8 integers. Each such matrix is a grayscale image, with coefficients\n",
    "between 0 and 255.\n",
    " Let’s display the fourth digit in this 3D tensor, using the library Matplotlib (part of\n",
    "the standard scientific Python suite); see figure 2.2. "
   ]
  },
  {
   "cell_type": "markdown",
   "metadata": {},
   "source": [
    "## Listing 2.6 Displaying the fourth digit"
   ]
  },
  {
   "cell_type": "code",
   "execution_count": 23,
   "metadata": {},
   "outputs": [
    {
     "data": {
      "text/plain": [
       "<matplotlib.figure.Figure at 0x1b12a17de10>"
      ]
     },
     "metadata": {},
     "output_type": "display_data"
    }
   ],
   "source": [
    "digit = train_images[4]\n",
    "\n",
    "import matplotlib.pyplot as plt\n",
    "plt.imshow(digit, cmap=plt.cm.binary)\n",
    "plt.show()"
   ]
  },
  {
   "cell_type": "markdown",
   "metadata": {},
   "source": [
    "## 2.2.6 Manipulating tensors in Numpy"
   ]
  },
  {
   "cell_type": "code",
   "execution_count": 24,
   "metadata": {},
   "outputs": [
    {
     "data": {
      "text/plain": [
       "(90, 28, 28)"
      ]
     },
     "execution_count": 24,
     "metadata": {},
     "output_type": "execute_result"
    }
   ],
   "source": [
    "my_slice = train_images[10:100]\n",
    "my_slice.shape"
   ]
  },
  {
   "cell_type": "code",
   "execution_count": 25,
   "metadata": {},
   "outputs": [
    {
     "data": {
      "text/plain": [
       "(90, 28, 28)"
      ]
     },
     "execution_count": 25,
     "metadata": {},
     "output_type": "execute_result"
    }
   ],
   "source": [
    "my_slice = train_images[10:100, :, :]\n",
    "my_slice.shape"
   ]
  },
  {
   "cell_type": "code",
   "execution_count": 26,
   "metadata": {},
   "outputs": [
    {
     "data": {
      "text/plain": [
       "(90, 28, 28)"
      ]
     },
     "execution_count": 26,
     "metadata": {},
     "output_type": "execute_result"
    }
   ],
   "source": [
    "my_slice = train_images[10:100, 0:28, 0:28]\n",
    "my_slice.shape"
   ]
  },
  {
   "cell_type": "markdown",
   "metadata": {},
   "source": [
    "It’s also possible to use negative indices. Much like negative indices in Python lists,\n",
    "they indicate a position relative to the end of the current axis. In order to crop the\n",
    "images to patches of 14 × 14 pixels centered in the middle, you do this:"
   ]
  },
  {
   "cell_type": "code",
   "execution_count": 27,
   "metadata": {},
   "outputs": [
    {
     "data": {
      "text/plain": [
       "(60000, 14, 14)"
      ]
     },
     "execution_count": 27,
     "metadata": {},
     "output_type": "execute_result"
    }
   ],
   "source": [
    "my_slice = train_images[:, 7:-7, 7:-7]\n",
    "my_slice.shape"
   ]
  },
  {
   "cell_type": "markdown",
   "metadata": {},
   "source": [
    "## 2.2.7 The notion of data batches"
   ]
  },
  {
   "cell_type": "markdown",
   "metadata": {},
   "source": [
    "In general, the first axis (axis 0, because indexing starts at 0) in all data tensors you’ll\n",
    "come across in deep learning will be the samples axis (sometimes called the samples\n",
    "dimension). \n",
    "-  In addition, deep-learning models don’t process an entire dataset at once; rather,\n",
    "they break the data into small batches. Concretely, here’s one batch of our MNIST digits,\n",
    "with batch size of 128:"
   ]
  },
  {
   "cell_type": "code",
   "execution_count": 28,
   "metadata": {},
   "outputs": [
    {
     "data": {
      "text/plain": [
       "array([[[0, 0, 0, ..., 0, 0, 0],\n",
       "        [0, 0, 0, ..., 0, 0, 0],\n",
       "        [0, 0, 0, ..., 0, 0, 0],\n",
       "        ...,\n",
       "        [0, 0, 0, ..., 0, 0, 0],\n",
       "        [0, 0, 0, ..., 0, 0, 0],\n",
       "        [0, 0, 0, ..., 0, 0, 0]],\n",
       "\n",
       "       [[0, 0, 0, ..., 0, 0, 0],\n",
       "        [0, 0, 0, ..., 0, 0, 0],\n",
       "        [0, 0, 0, ..., 0, 0, 0],\n",
       "        ...,\n",
       "        [0, 0, 0, ..., 0, 0, 0],\n",
       "        [0, 0, 0, ..., 0, 0, 0],\n",
       "        [0, 0, 0, ..., 0, 0, 0]],\n",
       "\n",
       "       [[0, 0, 0, ..., 0, 0, 0],\n",
       "        [0, 0, 0, ..., 0, 0, 0],\n",
       "        [0, 0, 0, ..., 0, 0, 0],\n",
       "        ...,\n",
       "        [0, 0, 0, ..., 0, 0, 0],\n",
       "        [0, 0, 0, ..., 0, 0, 0],\n",
       "        [0, 0, 0, ..., 0, 0, 0]],\n",
       "\n",
       "       ...,\n",
       "\n",
       "       [[0, 0, 0, ..., 0, 0, 0],\n",
       "        [0, 0, 0, ..., 0, 0, 0],\n",
       "        [0, 0, 0, ..., 0, 0, 0],\n",
       "        ...,\n",
       "        [0, 0, 0, ..., 0, 0, 0],\n",
       "        [0, 0, 0, ..., 0, 0, 0],\n",
       "        [0, 0, 0, ..., 0, 0, 0]],\n",
       "\n",
       "       [[0, 0, 0, ..., 0, 0, 0],\n",
       "        [0, 0, 0, ..., 0, 0, 0],\n",
       "        [0, 0, 0, ..., 0, 0, 0],\n",
       "        ...,\n",
       "        [0, 0, 0, ..., 0, 0, 0],\n",
       "        [0, 0, 0, ..., 0, 0, 0],\n",
       "        [0, 0, 0, ..., 0, 0, 0]],\n",
       "\n",
       "       [[0, 0, 0, ..., 0, 0, 0],\n",
       "        [0, 0, 0, ..., 0, 0, 0],\n",
       "        [0, 0, 0, ..., 0, 0, 0],\n",
       "        ...,\n",
       "        [0, 0, 0, ..., 0, 0, 0],\n",
       "        [0, 0, 0, ..., 0, 0, 0],\n",
       "        [0, 0, 0, ..., 0, 0, 0]]], dtype=uint8)"
      ]
     },
     "execution_count": 28,
     "metadata": {},
     "output_type": "execute_result"
    }
   ],
   "source": [
    "batch = train_images[:128]\n",
    "batch"
   ]
  },
  {
   "cell_type": "markdown",
   "metadata": {},
   "source": [
    "And here’s the next batch:"
   ]
  },
  {
   "cell_type": "code",
   "execution_count": 29,
   "metadata": {
    "collapsed": true
   },
   "outputs": [],
   "source": [
    "batch = train_images[128:256]"
   ]
  },
  {
   "cell_type": "markdown",
   "metadata": {},
   "source": [
    "And the nth batch:"
   ]
  },
  {
   "cell_type": "raw",
   "metadata": {},
   "source": [
    "batch = train_images[128 * n:128 * (n + 1)]"
   ]
  },
  {
   "cell_type": "markdown",
   "metadata": {},
   "source": [
    "- <b>, the first axis (axis 0) is called the batch axis or\n",
    "batch dimension. </b>"
   ]
  },
  {
   "cell_type": "markdown",
   "metadata": {},
   "source": [
    "## 2.2.8 Real-world examples of data tensors"
   ]
  },
  {
   "cell_type": "markdown",
   "metadata": {},
   "source": [
    "Let’s make data tensors more concrete with a few examples similar to what you’ll\n",
    "encounter later. The data you’ll manipulate will almost always fall into one of the following\n",
    "categories:\n",
    "- <b>Vector data—2D</b> tensors of shape (samples, features)\n",
    "- <b>Timeseries data</b> or sequence data—3D tensors of shape (samples, timesteps,\n",
    "features)\n",
    "- <b>Images—4D tensors</b> of shape (samples, height, width, channels) or (samples,\n",
    "channels, height, width)\n",
    "- <b>Video—5D tensors</b> of shape (samples, frames, height, width, channels) or\n",
    "(samples, frames, channels, height, width)"
   ]
  },
  {
   "cell_type": "markdown",
   "metadata": {},
   "source": [
    "## 2.2.9 Vector data"
   ]
  },
  {
   "cell_type": "markdown",
   "metadata": {},
   "source": [
    "(that is, an array of\n",
    "vectors), where the first axis is the samples axis and the second axis is the features axis.\n",
    " Let’s take a look at two examples:\n",
    "-  person’s age, ZIP code,\n",
    "and income.\n",
    "    - 100,000 people can be stored in a 2D tensor of shape\n",
    "(100000, 3)\n",
    "- A dataset of text documents, where we represent each document by the counts\n",
    "of how many times each word appears in it (out of a dictionary of 20,000 common\n",
    "words). Each document can be encoded as a vector of 20,000 values (one\n",
    "count per word in the dictionary), and thus an entire dataset of 500 documents\n",
    "can be stored in a tensor of shape (500, 20000)"
   ]
  },
  {
   "cell_type": "markdown",
   "metadata": {},
   "source": [
    "## 2.2.10 Timeseries data or sequence data"
   ]
  },
  {
   "cell_type": "markdown",
   "metadata": {},
   "source": [
    "Each sample can be encoded as a\n",
    "sequence of vectors (a 2D tensor), and thus a batch of data will be encoded as a 3D\n",
    "tensor (see figure 2.3).<img src='images/f2.3.png'>"
   ]
  },
  {
   "cell_type": "markdown",
   "metadata": {},
   "source": [
    "- The time axis is always the second axis (axis of index 1), by convention. Let’s look at a\n",
    "few examples:"
   ]
  },
  {
   "cell_type": "markdown",
   "metadata": {},
   "source": [
    "- Thus every minute is encoded as a 3D vector, an entire day of trading is\n",
    "encoded as a 2D tensor of shape (390, 3) (there are 390 minutes in a trading\n",
    "day), and 250 days’ worth of data can be stored in a 3D tensor of shape (250,\n",
    "390, 3). Here, each sample would be one day’s worth of data."
   ]
  },
  {
   "cell_type": "markdown",
   "metadata": {},
   "source": [
    "- Then each tweet can be encoded\n",
    "as a 2D tensor of shape (280, 128), and a dataset of 1 million tweets can be\n",
    "stored in a tensor of shape (1000000, 280, 128).`"
   ]
  },
  {
   "cell_type": "markdown",
   "metadata": {},
   "source": [
    "## 2.2.11 Image data\n",
    "<img src='images/f2.4.png'>"
   ]
  },
  {
   "cell_type": "code",
   "execution_count": 30,
   "metadata": {},
   "outputs": [
    {
     "data": {
      "text/plain": [
       "array([[[[ 6.77541233e-01,  1.29531700e+00, -3.57843292e-01],\n",
       "         [-2.66674905e-02,  1.12798675e+00,  9.79109138e-02],\n",
       "         [-2.84645764e-01, -1.80407970e+00, -8.97562398e-01],\n",
       "         ...,\n",
       "         [ 1.26894484e+00, -1.40416435e+00, -5.05858325e-01],\n",
       "         [-4.61838312e-01, -7.57406576e-01, -7.64300972e-01],\n",
       "         [-8.93454439e-01, -7.31040375e-01, -4.08477770e-01]],\n",
       "\n",
       "        [[-1.63044905e+00, -4.11869197e-01,  7.45658720e-01],\n",
       "         [ 5.33453057e-01, -1.59666452e+00, -1.80807179e-01],\n",
       "         [-2.23390336e-01,  4.90395975e-01, -1.75471460e+00],\n",
       "         ...,\n",
       "         [-3.59509308e-02, -1.79765362e+00, -1.11284728e+00],\n",
       "         [ 1.34235263e-01, -1.32624444e+00, -8.43332762e-01],\n",
       "         [-3.46974919e-01, -1.69495373e+00,  1.39033519e-01]],\n",
       "\n",
       "        [[ 6.27625797e-02,  1.54756586e+00, -9.30873018e-01],\n",
       "         [-8.38410355e-02, -6.56475444e-02,  8.71537989e-01],\n",
       "         [ 2.45314631e+00,  1.36921513e+00,  5.50776740e-01],\n",
       "         ...,\n",
       "         [ 2.76112824e+00, -6.32259850e-02,  1.00811755e+00],\n",
       "         [ 8.36163218e-01, -3.94317575e-01, -3.50564592e-01],\n",
       "         [-1.13651270e+00, -1.17134399e+00, -1.04288839e+00]],\n",
       "\n",
       "        ...,\n",
       "\n",
       "        [[-1.57718611e-02, -1.47823591e+00,  4.23025239e-02],\n",
       "         [-6.14920320e-01, -2.47818746e-01, -8.34919018e-01],\n",
       "         [-2.17639464e-01,  3.91215108e-01,  5.35022830e-01],\n",
       "         ...,\n",
       "         [ 4.14463241e-01,  9.12428364e-01, -1.33327042e+00],\n",
       "         [-8.52198992e-01,  1.19824773e+00,  9.04975587e-01],\n",
       "         [-3.08602605e-01, -1.74566771e+00,  3.35984205e-01]],\n",
       "\n",
       "        [[-3.64072464e-01,  5.58813596e-01, -3.68428695e-01],\n",
       "         [ 4.93307120e-01,  5.03857424e-01, -1.16320834e+00],\n",
       "         [-1.00623972e+00, -1.09329635e+00, -2.61679809e-02],\n",
       "         ...,\n",
       "         [-3.51906832e-01,  9.27902416e-02,  1.85894111e-01],\n",
       "         [ 1.03282577e+00,  3.66772559e-01,  1.83313066e+00],\n",
       "         [ 1.94866513e-01, -5.89251896e-01, -6.91482443e-01]],\n",
       "\n",
       "        [[-6.66176155e-01, -3.19727365e-01,  5.46364309e-01],\n",
       "         [ 5.56216678e-01,  2.18525564e-01, -6.82009752e-01],\n",
       "         [-3.84518426e-01, -5.69166272e-01,  5.48010385e-02],\n",
       "         ...,\n",
       "         [-1.08434037e+00, -1.80436384e+00,  9.40752842e-01],\n",
       "         [ 7.10972851e-01,  1.37241882e+00, -2.42297144e+00],\n",
       "         [-9.89473618e-02,  2.74034872e-01, -1.73059953e+00]]],\n",
       "\n",
       "\n",
       "       [[[-8.52146246e-01,  8.67379857e-01, -1.03225400e+00],\n",
       "         [-7.93106666e-01,  6.05052613e-01,  2.30590063e+00],\n",
       "         [ 9.22313858e-01,  1.81712525e+00,  3.76401101e-01],\n",
       "         ...,\n",
       "         [ 5.15970651e-01,  5.43272467e-01, -1.43742938e+00],\n",
       "         [-1.18263646e+00, -6.13760444e-01, -2.80527193e-01],\n",
       "         [ 1.10991663e+00,  1.03888895e+00,  1.43369534e-01]],\n",
       "\n",
       "        [[-1.95397895e+00, -5.03542373e-01,  5.85052828e-01],\n",
       "         [ 7.34027257e-01, -1.13827643e+00, -1.36845960e+00],\n",
       "         [-2.77850340e-01,  5.08077445e-01, -9.45560447e-02],\n",
       "         ...,\n",
       "         [ 3.29324137e-01, -6.95472443e-01,  2.77564850e+00],\n",
       "         [ 5.31221899e-02,  3.58030655e-01, -2.19759764e+00],\n",
       "         [ 5.23099987e-01, -7.92451458e-01, -1.37543148e+00]],\n",
       "\n",
       "        [[-9.21799277e-01,  6.42226656e-01,  4.57373534e-01],\n",
       "         [ 1.58718179e+00, -2.55608856e-01,  4.92405271e-01],\n",
       "         [-8.73223937e-01, -5.04128192e-01,  1.34165888e-01],\n",
       "         ...,\n",
       "         [-1.03951818e-01,  3.59194715e-01, -3.68894779e-01],\n",
       "         [-1.99295225e+00,  4.37374489e-01,  7.92467489e-01],\n",
       "         [-3.87323570e-01, -1.09017200e+00,  9.78907432e-01]],\n",
       "\n",
       "        ...,\n",
       "\n",
       "        [[ 1.23353035e+00, -2.98608861e-01,  7.32367062e-01],\n",
       "         [ 1.83790005e+00, -3.04537196e+00, -1.42322645e+00],\n",
       "         [ 3.46195132e-01,  3.33289199e-03, -2.41748618e-01],\n",
       "         ...,\n",
       "         [ 1.73542049e+00,  8.24979236e-01,  6.97024260e-01],\n",
       "         [-3.38343828e-01,  1.84846820e+00, -3.83590446e-02],\n",
       "         [-1.27898526e+00,  6.68992002e-01, -2.20982556e-02]],\n",
       "\n",
       "        [[-8.52122365e-01, -2.28780241e-01, -9.88238335e-01],\n",
       "         [-1.07967087e+00,  7.09448912e-01,  3.53927364e-01],\n",
       "         [ 2.14436221e-01,  9.49826296e-01,  1.97368536e-01],\n",
       "         ...,\n",
       "         [ 7.69280104e-01,  7.79580671e-01,  1.40989772e+00],\n",
       "         [ 3.63372445e-01, -5.01871547e-01, -7.91009876e-01],\n",
       "         [ 5.15013352e-02, -1.06388220e+00,  5.32781163e-01]],\n",
       "\n",
       "        [[ 9.72807710e-01, -4.71065901e-01,  1.00548111e+00],\n",
       "         [-8.21649290e-01, -7.66837339e-01, -4.40355294e-01],\n",
       "         [ 9.42523158e-01,  1.12150963e+00,  8.25764555e-01],\n",
       "         ...,\n",
       "         [-5.37767110e-01,  2.76568643e-01, -6.82850888e-01],\n",
       "         [-4.42750535e-01,  1.56798990e+00,  2.86133616e-01],\n",
       "         [ 9.72143125e-01, -1.36213139e-01,  7.06152984e-02]]],\n",
       "\n",
       "\n",
       "       [[[ 7.51732054e-01,  1.09124277e+00,  1.31735738e+00],\n",
       "         [-3.19946078e-01,  1.67479686e-01,  2.78678878e-01],\n",
       "         [-1.14127334e+00,  1.47330278e+00, -1.21195435e+00],\n",
       "         ...,\n",
       "         [ 1.67203159e+00,  7.22397149e-01,  2.51388794e+00],\n",
       "         [ 1.13337681e-01,  1.82910317e-01,  6.99562934e-01],\n",
       "         [-7.62639589e-01, -1.76544959e-01, -3.06554110e-01]],\n",
       "\n",
       "        [[-2.13533483e+00, -5.66642861e-01, -7.10627186e-01],\n",
       "         [ 1.70422643e+00,  6.13210247e-01,  1.69147208e+00],\n",
       "         [ 2.71134133e-01,  5.21222491e-01,  1.31002925e+00],\n",
       "         ...,\n",
       "         [-5.65303850e-01, -2.59716615e+00,  2.96488410e-01],\n",
       "         [ 1.37575982e+00, -2.40898041e+00,  9.59641854e-01],\n",
       "         [-2.57941559e-01, -4.18865773e-01, -4.19767733e-01]],\n",
       "\n",
       "        [[ 3.81389404e-01,  6.42877119e-01, -3.46482532e-01],\n",
       "         [-1.86551383e-01,  1.61973429e+00, -1.42527191e-01],\n",
       "         [-8.88689261e-02,  4.21393090e-01, -5.75133001e-01],\n",
       "         ...,\n",
       "         [-2.14499935e+00,  5.12824729e-01,  9.21783994e-02],\n",
       "         [ 1.26997317e+00, -2.07851144e+00,  2.98046969e-01],\n",
       "         [ 1.27994479e+00,  6.46734107e-01, -7.39626591e-01]],\n",
       "\n",
       "        ...,\n",
       "\n",
       "        [[ 6.28436809e-01,  1.11482741e+00,  8.28670401e-01],\n",
       "         [-4.60269594e-01, -1.96511480e-01,  1.82152413e-01],\n",
       "         [ 6.30711036e-02,  5.47773088e-01,  6.62852894e-02],\n",
       "         ...,\n",
       "         [-9.53239309e-01, -8.29121862e-02, -1.33806991e+00],\n",
       "         [ 1.29827501e-01, -2.19924198e-01,  1.26270349e+00],\n",
       "         [-2.57101765e-01, -7.76621666e-01,  9.96210918e-01]],\n",
       "\n",
       "        [[-4.01678238e-01,  2.01482704e-01, -8.69771212e-03],\n",
       "         [ 2.20434269e+00,  1.45565319e-01, -2.29509495e-01],\n",
       "         [-2.41071759e-01, -4.78858553e-01, -2.20419175e+00],\n",
       "         ...,\n",
       "         [ 2.60174208e-01,  5.49487449e-01,  3.47533915e-01],\n",
       "         [-1.07249334e+00, -4.82220818e-01, -1.87598732e+00],\n",
       "         [ 1.79307385e+00,  1.19993263e+00,  3.69072527e-01]],\n",
       "\n",
       "        [[ 9.49938039e-02,  1.98024086e-01, -1.04534951e+00],\n",
       "         [-1.77618052e+00,  8.19873312e-01,  4.24003327e-01],\n",
       "         [-7.01045268e-01, -6.77436933e-01,  1.76098359e+00],\n",
       "         ...,\n",
       "         [ 3.16018283e-01, -1.90685861e+00, -5.71722709e-01],\n",
       "         [-2.22524414e+00,  5.69526530e-01, -7.84336307e-01],\n",
       "         [-1.00623486e+00, -9.06912055e-01,  1.68821604e+00]]],\n",
       "\n",
       "\n",
       "       ...,\n",
       "\n",
       "\n",
       "       [[[ 8.80092872e-02,  1.20229378e+00,  1.09073304e-01],\n",
       "         [ 1.51954164e+00, -8.28299572e-02,  1.19524969e+00],\n",
       "         [ 2.08193877e+00, -3.86283087e-01,  1.20747572e+00],\n",
       "         ...,\n",
       "         [-1.44748559e+00,  4.40398132e-01, -8.57614069e-02],\n",
       "         [ 1.88152296e+00, -1.87739817e+00, -2.30584137e-01],\n",
       "         [-2.17497100e-02,  3.11104878e-02,  2.82939791e-01]],\n",
       "\n",
       "        [[ 2.35187035e-01,  1.39000138e+00,  3.64496116e-02],\n",
       "         [ 2.48484065e-01, -2.82862658e-01,  1.37055753e+00],\n",
       "         [-7.26191000e-01,  5.48574851e-01, -1.80071801e+00],\n",
       "         ...,\n",
       "         [ 6.77404096e-01,  1.09244982e+00,  2.90670537e-01],\n",
       "         [-4.83540444e-01,  5.12822138e-01, -1.14387272e+00],\n",
       "         [ 3.00003743e-02, -1.00958980e+00,  4.45522072e-01]],\n",
       "\n",
       "        [[-7.39892113e-01,  4.74931504e-01,  1.35265655e-01],\n",
       "         [-1.36135786e-01, -3.06989752e+00,  2.46423504e-01],\n",
       "         [-4.09883910e-01, -2.32521914e-01, -7.77185570e-01],\n",
       "         ...,\n",
       "         [ 1.13959615e+00,  1.22015990e+00, -2.45658275e-01],\n",
       "         [ 1.44274249e-02,  2.18780154e+00, -2.84605281e-01],\n",
       "         [-1.99963248e-01, -3.87350435e-01,  9.43491785e-01]],\n",
       "\n",
       "        ...,\n",
       "\n",
       "        [[-1.29388242e+00, -1.63954069e-02, -1.07206041e+00],\n",
       "         [-8.60560564e-01,  2.29416843e-02, -8.92103434e-01],\n",
       "         [ 2.06581473e-01,  1.91484689e+00, -5.56292330e-01],\n",
       "         ...,\n",
       "         [-1.58810355e+00, -2.69848402e-01,  2.30386737e-01],\n",
       "         [-6.63632887e-01, -2.07052436e-02,  4.05329691e-01],\n",
       "         [ 5.71430228e-01,  1.02197411e+00, -7.69370682e-01]],\n",
       "\n",
       "        [[-1.01008874e+00,  4.42313643e-01, -1.21510328e+00],\n",
       "         [-1.39319584e+00, -1.38765673e-01, -2.79363289e-01],\n",
       "         [ 7.66393705e-01, -3.07458560e-01,  4.79350457e-01],\n",
       "         ...,\n",
       "         [-8.32758534e-02, -1.33843781e+00,  1.07094468e+00],\n",
       "         [-1.07290118e+00, -1.56813030e+00,  1.18484815e+00],\n",
       "         [-1.95493449e-01, -6.49802855e-01,  6.72577650e-01]],\n",
       "\n",
       "        [[-9.70557364e-02,  2.02193229e-01,  6.32762976e-01],\n",
       "         [-5.26380407e-01,  3.24215460e-02, -1.45186630e-01],\n",
       "         [ 4.40967495e-01, -1.90148526e+00,  2.73051585e-01],\n",
       "         ...,\n",
       "         [ 7.79515684e-01,  2.61471820e-02, -9.74537844e-01],\n",
       "         [ 1.49286470e-01,  7.89234551e-01, -4.78196117e-01],\n",
       "         [ 9.93532757e-01,  9.30641515e-01,  6.14965276e-01]]],\n",
       "\n",
       "\n",
       "       [[[-1.17582327e+00,  2.09864039e-01, -1.51605353e+00],\n",
       "         [ 1.37561466e+00,  6.48193831e-01, -3.26875055e-01],\n",
       "         [ 2.20169359e+00,  1.57949664e+00,  8.83046784e-01],\n",
       "         ...,\n",
       "         [ 6.70863547e-01,  4.60942845e-01, -2.39703543e-03],\n",
       "         [ 8.13139140e-01,  1.13079766e+00,  1.39349493e-01],\n",
       "         [ 3.08756244e-01, -5.16086183e-01,  6.16258028e-01]],\n",
       "\n",
       "        [[ 6.56912274e-01,  9.19572413e-01, -7.00208506e-01],\n",
       "         [ 8.04436891e-01,  4.12214678e-01,  3.47837528e-01],\n",
       "         [ 8.52027988e-02, -9.99302949e-01, -3.34150899e-01],\n",
       "         ...,\n",
       "         [-7.70605720e-01,  6.23238253e-01,  9.16263664e-01],\n",
       "         [-5.05443090e-01,  1.34303626e+00, -1.02044286e+00],\n",
       "         [ 4.68840649e-01,  1.72820817e+00,  6.62559688e-01]],\n",
       "\n",
       "        [[ 1.12068042e+00,  9.85414081e-02, -1.33841519e-01],\n",
       "         [-6.82079453e-01,  3.38070692e-01,  1.93663615e-01],\n",
       "         [ 9.37335492e-01, -1.24094265e+00,  6.78809868e-01],\n",
       "         ...,\n",
       "         [-6.86385893e-01, -1.29652199e-03, -1.97398022e-01],\n",
       "         [-4.02041527e-01,  3.49125251e-01,  2.39972622e-01],\n",
       "         [ 6.48374222e-01, -1.16627941e+00,  1.22991090e+00]],\n",
       "\n",
       "        ...,\n",
       "\n",
       "        [[-6.84629097e-01,  1.19855755e+00,  7.86871271e-01],\n",
       "         [-2.04700095e+00,  9.98024212e-01, -1.02148016e+00],\n",
       "         [-5.62555484e-02,  1.23440221e+00, -5.19894799e-01],\n",
       "         ...,\n",
       "         [-4.51039470e-01, -2.63436340e-01,  5.20978210e-01],\n",
       "         [ 2.02364193e+00,  1.14050390e+00,  1.91679781e-02],\n",
       "         [ 2.17128536e+00,  2.46637581e-01, -1.13917614e+00]],\n",
       "\n",
       "        [[-4.44798968e-01, -4.50372413e-01,  8.26549579e-01],\n",
       "         [-7.96969648e-01,  1.42820000e-01, -1.09568177e+00],\n",
       "         [-3.64057365e-01, -5.96301305e-01,  1.48509037e+00],\n",
       "         ...,\n",
       "         [ 6.25226264e-01, -1.63089154e+00,  8.00610781e-01],\n",
       "         [-3.63754216e-01,  1.64127266e-01, -4.24752866e-01],\n",
       "         [-1.02058702e+00, -4.84211168e-01,  5.60546942e-01]],\n",
       "\n",
       "        [[ 5.10785040e-01,  8.57721271e-01,  2.53775130e-01],\n",
       "         [ 4.59755156e-01,  6.26520431e-01,  4.28824031e-01],\n",
       "         [ 1.20148084e+00, -1.76199672e+00,  1.00539145e+00],\n",
       "         ...,\n",
       "         [-6.60066966e-02,  1.35460283e-01,  1.26987652e-01],\n",
       "         [-1.13640620e-01,  1.13706192e+00, -1.03267255e+00],\n",
       "         [-8.12874935e-02,  1.34514478e+00,  1.29205453e+00]]],\n",
       "\n",
       "\n",
       "       [[[ 1.09548331e+00, -3.64643259e-01,  8.23350294e-01],\n",
       "         [-2.50116254e-01,  6.34269857e-02,  8.96819491e-01],\n",
       "         [-2.35377200e-01, -7.80190350e-02,  3.30274750e-01],\n",
       "         ...,\n",
       "         [-1.02858722e+00, -3.62815002e-01,  9.23507361e-01],\n",
       "         [ 3.16719231e-01, -7.71506330e-02,  5.91740275e-01],\n",
       "         [ 1.10911059e-01, -1.15583694e+00,  1.34749389e-01]],\n",
       "\n",
       "        [[ 1.77186457e+00, -9.66567721e-01, -3.39435813e-01],\n",
       "         [-2.85442763e-01,  9.53678690e-01, -6.65537580e-01],\n",
       "         [ 3.42574736e-03,  2.12643582e-01, -7.53846752e-01],\n",
       "         ...,\n",
       "         [-5.55275978e-01, -6.60726233e-01, -3.43915921e+00],\n",
       "         [ 1.40888753e+00, -9.55344915e-01,  5.09679136e-01],\n",
       "         [ 5.83006411e-01, -9.11662503e-01, -9.75652832e-01]],\n",
       "\n",
       "        [[ 1.56240290e+00, -1.19948848e-01,  5.00871873e-01],\n",
       "         [ 9.47884464e-01, -4.19694631e-01, -3.12082474e-01],\n",
       "         [-4.16324237e-01, -8.66311267e-01, -1.56682011e+00],\n",
       "         ...,\n",
       "         [ 1.48880657e-01, -1.55889372e+00,  1.58699422e-01],\n",
       "         [ 7.84334669e-01, -4.45905945e-02,  1.38711825e+00],\n",
       "         [ 1.83937335e-01, -1.40749001e-01,  1.87795799e+00]],\n",
       "\n",
       "        ...,\n",
       "\n",
       "        [[ 8.47663590e-01,  1.23800317e+00,  2.83093973e-01],\n",
       "         [-1.63988661e+00, -9.70996460e-01,  1.34352808e-01],\n",
       "         [-1.27406376e+00, -1.09362624e-01,  5.72843385e-02],\n",
       "         ...,\n",
       "         [ 8.93198395e-02,  4.34209848e-01, -5.30605963e-02],\n",
       "         [-5.42923258e-01, -9.05219331e-01,  5.65017091e-02],\n",
       "         [-6.03542208e-01,  1.38467246e+00, -1.15679766e+00]],\n",
       "\n",
       "        [[-3.71656207e-02, -2.04508056e-01, -8.72183071e-01],\n",
       "         [-1.26005904e+00,  5.91752505e-02, -1.82853987e+00],\n",
       "         [ 6.17033996e-01,  7.13268568e-01,  2.46482586e+00],\n",
       "         ...,\n",
       "         [ 7.84663455e-02, -8.18421199e-01, -2.76181578e-01],\n",
       "         [-4.13895911e-01, -9.80179400e-01,  1.31869989e-01],\n",
       "         [ 6.57232133e-01,  1.81637094e+00, -1.09138881e+00]],\n",
       "\n",
       "        [[-8.93481613e-01,  6.62455987e-01, -8.50807754e-01],\n",
       "         [-3.19250831e-01,  5.51716418e-01,  1.10743292e+00],\n",
       "         [ 2.01138601e+00, -1.03257875e+00,  2.60557436e-01],\n",
       "         ...,\n",
       "         [ 1.16656725e+00, -4.28914129e-01, -7.58113195e-01],\n",
       "         [ 7.37746012e-01, -8.38520228e-01, -4.32811643e-01],\n",
       "         [ 1.78030172e+00, -1.40951827e-01,  4.21874027e-01]]]])"
      ]
     },
     "execution_count": 30,
     "metadata": {},
     "output_type": "execute_result"
    }
   ],
   "source": [
    "# Create Dummy Data\n",
    "image = np.random.randn(128, 256, 256, 3)\n",
    "image"
   ]
  },
  {
   "cell_type": "markdown",
   "metadata": {},
   "source": [
    "- height, width, and color depth.\n",
    "- samples, width,height,chanel (TensorFlow)\n"
   ]
  },
  {
   "cell_type": "code",
   "execution_count": 31,
   "metadata": {},
   "outputs": [
    {
     "data": {
      "text/plain": [
       "array([[[[ 8.74400898e-01, -9.90121448e-01, -1.76636264e-01],\n",
       "         [-1.15917176e+00,  2.53954377e-01, -2.58889897e-01],\n",
       "         [-2.05628335e-01, -7.43644848e-01, -6.59344659e-01],\n",
       "         ...,\n",
       "         [-8.73010106e-01,  1.55490340e-01,  5.18543093e-01],\n",
       "         [ 5.59714364e-01,  1.31429862e+00,  5.59741026e-04],\n",
       "         [ 2.22685952e+00,  7.12551490e-02,  4.63389747e-01]],\n",
       "\n",
       "        [[ 9.51184166e-01, -2.72024644e+00, -5.49499661e-02],\n",
       "         [ 1.84987802e+00, -1.88552181e+00,  7.93080859e-02],\n",
       "         [-8.80184181e-01, -7.79511969e-01, -6.52347134e-01],\n",
       "         ...,\n",
       "         [ 2.04100987e+00, -4.51602178e-01, -1.72730234e+00],\n",
       "         [ 7.15548576e-01, -6.36670700e-01,  5.93138764e-01],\n",
       "         [ 9.08668442e-01,  6.80581650e-01,  8.67073730e-01]],\n",
       "\n",
       "        [[ 9.36694692e-01, -5.56619285e-01,  1.71706682e+00],\n",
       "         [-1.16186440e+00, -6.60247330e-01,  6.26163179e-01],\n",
       "         [ 4.42788289e-01,  5.91328107e-01, -2.87284012e-01],\n",
       "         ...,\n",
       "         [-9.29765095e-01,  3.88143641e-01, -7.93946071e-01],\n",
       "         [ 6.22494583e-01,  1.18839188e-01,  2.58630256e-01],\n",
       "         [ 1.07186545e+00, -8.93914580e-01,  6.91632493e-01]],\n",
       "\n",
       "        ...,\n",
       "\n",
       "        [[-9.56229871e-01,  1.25649301e+00, -8.30755976e-01],\n",
       "         [ 6.21510194e-01, -1.01293966e-01, -6.83472893e-01],\n",
       "         [ 5.37492546e-01,  1.34121147e+00,  1.63046679e+00],\n",
       "         ...,\n",
       "         [-9.33630955e-02, -2.34364983e-01, -1.92350300e+00],\n",
       "         [ 7.25675988e-01,  5.26518554e-02,  2.08379115e+00],\n",
       "         [ 7.93430629e-01, -8.33808431e-01, -1.27347116e+00]],\n",
       "\n",
       "        [[ 1.26361320e+00, -9.40812242e-01,  3.87141455e-01],\n",
       "         [-1.12789715e-01, -1.10345599e+00, -1.79026708e-01],\n",
       "         [ 3.82475891e-01,  1.01044327e+00, -2.52072244e-01],\n",
       "         ...,\n",
       "         [-1.27437185e+00,  5.04651930e-01, -1.18912930e+00],\n",
       "         [ 1.09715221e+00,  8.13940614e-01, -9.56463788e-01],\n",
       "         [-8.01222311e-01,  6.34259833e-01, -6.75589436e-01]],\n",
       "\n",
       "        [[-8.40077820e-01, -1.54464988e-01,  2.03132619e+00],\n",
       "         [ 7.58194018e-01, -6.20343960e-01,  4.47831621e-01],\n",
       "         [-1.31981767e+00, -6.49606323e-01, -8.84885427e-01],\n",
       "         ...,\n",
       "         [-5.07568078e-01,  4.36928785e-01,  1.34064526e+00],\n",
       "         [-6.25728313e-01, -2.03316157e-02,  8.36277962e-02],\n",
       "         [-8.25734366e-01,  1.46860618e+00, -5.18633282e-01]]]])"
      ]
     },
     "execution_count": 31,
     "metadata": {},
     "output_type": "execute_result"
    }
   ],
   "source": [
    "data = np.random.randn(128, 256, 256, 3)\n",
    "data[:1]"
   ]
  },
  {
   "cell_type": "markdown",
   "metadata": {},
   "source": [
    "## 2.2.12 Video data"
   ]
  },
  {
   "cell_type": "markdown",
   "metadata": {},
   "source": [
    "- (samples, frames, height, width, color_depth)"
   ]
  },
  {
   "cell_type": "markdown",
   "metadata": {},
   "source": [
    "# 2.3 The gears of neural networks: tensor operations"
   ]
  },
  {
   "cell_type": "markdown",
   "metadata": {},
   "source": [
    " In our initial example, we were building our network by stacking Dense layers on\n",
    "top of each other. A Keras layer instance looks like this:"
   ]
  },
  {
   "cell_type": "code",
   "execution_count": 32,
   "metadata": {},
   "outputs": [
    {
     "data": {
      "text/plain": [
       "<keras.layers.core.Dense at 0x21792274a90>"
      ]
     },
     "execution_count": 32,
     "metadata": {},
     "output_type": "execute_result"
    }
   ],
   "source": [
    "import keras\n",
    "keras.layers.Dense(512, activation='relu')"
   ]
  },
  {
   "cell_type": "code",
   "execution_count": 33,
   "metadata": {
    "collapsed": true
   },
   "outputs": [],
   "source": [
    "def naive_relu(x):\n",
    "    assert len(x.shape) == 2\n",
    "    x = x.copy()\n",
    "    for i in range(x.shape[0]):\n",
    "        for j in range(x.shape[1]):\n",
    "            x[i, j] = max(x[i, j], 0)\n",
    "    return x"
   ]
  },
  {
   "cell_type": "code",
   "execution_count": 34,
   "metadata": {
    "collapsed": true
   },
   "outputs": [],
   "source": [
    "def naive_add(x, y):\n",
    "    assert len(x.shape) == 2\n",
    "    assert x.shape == y.shape\n",
    "    \n",
    "    x = x.copy()\n",
    "    for i in range(x.shape[0]):\n",
    "        for j in range(x.shape[1]):\n",
    "            x[i, j] += y[i, j]\n",
    "    return x"
   ]
  },
  {
   "cell_type": "markdown",
   "metadata": {},
   "source": [
    "So, in Numpy, you can do the following element-wise operation, and it will be blazing\n",
    "fast:\n"
   ]
  },
  {
   "cell_type": "raw",
   "metadata": {},
   "source": [
    "import numpy as np\n",
    "z=x+y\n",
    "z = np.maximum(z, 0.)"
   ]
  },
  {
   "cell_type": "markdown",
   "metadata": {},
   "source": [
    "# 2.3.2 Broadcasting"
   ]
  },
  {
   "cell_type": "markdown",
   "metadata": {},
   "source": [
    "the smaller tensor will be broadcasted to\n",
    "match the shape of the larger tensor.\n",
    "- Axes (called broadcast axes) are added to the smaller tensor to match the ndim of\n",
    "the larger tensor.\n",
    "- Axes (called broadcast axes) are added to the smaller tensor to match the ndim of\n",
    "the larger tensor.\n",
    "    - `X shape (32,10) <br> y shape (10,)<br> (1,10)<br>(32, 10), where Y[i, :] == y for i in range(0, 32)"
   ]
  },
  {
   "cell_type": "code",
   "execution_count": 35,
   "metadata": {
    "collapsed": true
   },
   "outputs": [],
   "source": [
    "def naive_add_matrix_and_vector(x, y):\n",
    "    assert len(x.shape) == 2\n",
    "    assert len(y.shape) == 1\n",
    "    assert x.shape[1] == y.shape[0]\n",
    "    x = x.copy()\n",
    "    for i in range(x.shape[0]):\n",
    "        for j in range(x.shape[1]):\n",
    "            x[i, j] += y[j]\n",
    "    return x"
   ]
  },
  {
   "cell_type": "code",
   "execution_count": 36,
   "metadata": {
    "collapsed": true
   },
   "outputs": [],
   "source": [
    "import numpy as np\n",
    "x = np.random.random((64, 3, 32, 10))\n",
    "y = np.random.random((32, 10))\n",
    "z = np.maximum(x, y)\n"
   ]
  },
  {
   "cell_type": "markdown",
   "metadata": {},
   "source": [
    "The output z has shape\n",
    "(64, 3, 32, 10) like x."
   ]
  },
  {
   "cell_type": "markdown",
   "metadata": {},
   "source": [
    "## 2.3.3 Tensor dot"
   ]
  },
  {
   "cell_type": "markdown",
   "metadata": {},
   "source": [
    "The dot operation, also called a tensor product (not to be confused with an elementwise\n",
    "product) is the most common"
   ]
  },
  {
   "cell_type": "code",
   "execution_count": 37,
   "metadata": {},
   "outputs": [
    {
     "name": "stdout",
     "output_type": "stream",
     "text": [
      "[ 1.63884578 -0.50622687  0.39770077  1.92201233  1.19031101 -1.56363049\n",
      "  0.79917525 -0.78097872 -0.74234625  2.01271893]\n",
      "[-0.35243671  1.65033147 -0.86867863 -0.03858823 -0.80577119 -0.62409483\n",
      "  0.63419946  0.76205263 -0.22766583  1.53718254] In mathematical notation, you’d note the operation with a dot (.):\n"
     ]
    },
    {
     "data": {
      "text/plain": [
       "1.3586755216153874"
      ]
     },
     "execution_count": 37,
     "metadata": {},
     "output_type": "execute_result"
    }
   ],
   "source": [
    "import numpy as np\n",
    "x = np.random.randn(10)\n",
    "y = np.random.randn(10)\n",
    "z = np.dot(x, y)\n",
    "print(x)\n",
    "print(y,\"In mathematical notation, you’d note the operation with a dot (.):\")\n",
    "z"
   ]
  },
  {
   "cell_type": "markdown",
   "metadata": {},
   "source": [
    "In mathematical notation, you’d note the operation with a dot (.):"
   ]
  },
  {
   "cell_type": "code",
   "execution_count": 38,
   "metadata": {
    "collapsed": true
   },
   "outputs": [],
   "source": [
    "# z = x . y\n",
    "\n",
    "def naive_vector_dot(x, y):\n",
    "    assert len(x.shape) == 1\n",
    "    assert len(y.shape) == 1\n",
    "    assert x.shape[0] == y.shape[0]\n",
    "    \n",
    "    z = 0.\n",
    "    for i in range(x.shape[0]):\n",
    "        z += x[i] * y[i]\n",
    "    return z\n"
   ]
  },
  {
   "cell_type": "code",
   "execution_count": 39,
   "metadata": {
    "collapsed": true
   },
   "outputs": [],
   "source": [
    "import numpy as np\n",
    "def naive_matrix_vector_dot(x, y):\n",
    "    assert len(x.shape) == 2\n",
    "    assert len(y.shape) == 1\n",
    "    assert x.shape[1] == y.shape[0]\n",
    "    z = np.zeros(x.shape[0])\n",
    "    for i in range(x.shape[0]):\n",
    "        for j in range(x.shape[1]):\n",
    "            z[i] += x[i, j] * y[j]\n",
    "    return z"
   ]
  },
  {
   "cell_type": "markdown",
   "metadata": {},
   "source": [
    "You could also reuse the code we wrote previously, which highlights the relationship\n",
    "between a matrix-vector product and a vector product:"
   ]
  },
  {
   "cell_type": "code",
   "execution_count": 40,
   "metadata": {
    "collapsed": true
   },
   "outputs": [],
   "source": [
    "def naive_matrix_vector_dot(x, y):\n",
    "    z = np.zeros(x.shape[0])\n",
    "    for i in range(x.shape[0]):\n",
    "        z[i] = naive_vector_dot(x[i, :], y)\n",
    "    return z"
   ]
  },
  {
   "cell_type": "code",
   "execution_count": 41,
   "metadata": {
    "collapsed": true
   },
   "outputs": [],
   "source": [
    "def naive_matrix_dot(x, y):\n",
    "    assert len(x.shape) == 2\n",
    "    assert len(y.shape) == 2\n",
    "    assert x.shape[1] == y.shape[0]\n",
    "    z = np.zeros((x.shape[0], y.shape[1]))\n",
    "    for i in range(x.shape[0]):\n",
    "        for j in range(y.shape[1]):\n",
    "            row_x = x[i, :]\n",
    "            column_y = y[:, j]\n",
    "            z[i, j] = naive_vector_dot(row_x, column_y)\n",
    "    return z"
   ]
  },
  {
   "cell_type": "markdown",
   "metadata": {},
   "source": [
    "<img src='images/f2.5.png'>"
   ]
  },
  {
   "cell_type": "markdown",
   "metadata": {},
   "source": [
    "More generally, you can take the dot product between higher-dimensional tensors,\n",
    "following the same rules for shape compatibility as outlined earlier for the 2D case:\n",
    "```\n",
    "(a, b, c, d) . (d,) -> (a, b, c)\n",
    "(a, b, c, d) . (d, e) -> (a, b, c, e)\n",
    "```"
   ]
  },
  {
   "cell_type": "markdown",
   "metadata": {},
   "source": [
    "## 2.3.4 Tensor reshaping"
   ]
  },
  {
   "cell_type": "markdown",
   "metadata": {},
   "source": [
    " preprocessed the digits data before feeding it into our network\n",
    "```train_images = train_images.reshape((60000, 28 * 28)) ```"
   ]
  },
  {
   "cell_type": "code",
   "execution_count": 42,
   "metadata": {
    "collapsed": true
   },
   "outputs": [],
   "source": [
    "x = np.array([[0., 1.],\n",
    "[2., 3.],\n",
    "[4., 5.]])"
   ]
  },
  {
   "cell_type": "code",
   "execution_count": 43,
   "metadata": {},
   "outputs": [
    {
     "name": "stdout",
     "output_type": "stream",
     "text": [
      "(3, 2)\n"
     ]
    }
   ],
   "source": [
    " print(x.shape)"
   ]
  },
  {
   "cell_type": "code",
   "execution_count": 44,
   "metadata": {},
   "outputs": [
    {
     "data": {
      "text/plain": [
       "array([[0., 1., 2., 3., 4., 5.]])"
      ]
     },
     "execution_count": 44,
     "metadata": {},
     "output_type": "execute_result"
    }
   ],
   "source": [
    "x = x.reshape(1,6)\n",
    "x"
   ]
  },
  {
   "cell_type": "code",
   "execution_count": 45,
   "metadata": {},
   "outputs": [
    {
     "data": {
      "text/plain": [
       "array([[0.],\n",
       "       [1.],\n",
       "       [2.],\n",
       "       [3.],\n",
       "       [4.],\n",
       "       [5.]])"
      ]
     },
     "execution_count": 45,
     "metadata": {},
     "output_type": "execute_result"
    }
   ],
   "source": [
    "x = x.reshape(6,1)\n",
    "x"
   ]
  },
  {
   "cell_type": "code",
   "execution_count": 46,
   "metadata": {},
   "outputs": [
    {
     "name": "stdout",
     "output_type": "stream",
     "text": [
      "(20, 300)\n"
     ]
    }
   ],
   "source": [
    "x = np.zeros((300, 20))\n",
    "x = np.transpose(x)\n",
    "print(x.shape)"
   ]
  },
  {
   "cell_type": "markdown",
   "metadata": {},
   "source": [
    "## Geometric interpretation of tensor operations"
   ]
  },
  {
   "cell_type": "markdown",
   "metadata": {},
   "source": [
    "For instance, let’s consider addition. We’ll start with the following\n",
    "vector:\n",
    "` A = [0.5, 1]`\n",
    "<img src='images/f2.6.png'>"
   ]
  },
  {
   "cell_type": "markdown",
   "metadata": {},
   "source": [
    "Let’s consider a new point, B = [1, 0.25],\n",
    " the resulting location\n",
    "being the vector representing the sum of the previous two vectors (see figure 2.8).<img src='images/f2.8.png'>"
   ]
  },
  {
   "cell_type": "markdown",
   "metadata": {},
   "source": [
    "In general, elementary geometric operations such as affine transformations, rotations,\n",
    "scaling, and so on can be expressed as tensor operations. For instance, a rotation of a\n",
    "2D vector by an angle theta can be achieved via a dot product with a 2 × 2 matrix\n",
    "R = [u, v], where u and v are both vectors of the plane: u = [cos(theta),\n",
    "sin(theta)] and v = [-sin(theta), cos(theta)]. "
   ]
  },
  {
   "cell_type": "markdown",
   "metadata": {},
   "source": [
    "## 2.3.6 A geometric interpretation of deep learning"
   ]
  },
  {
   "cell_type": "markdown",
   "metadata": {},
   "source": [
    "<img src='images/f2.9.png'>\n",
    " Each layer in a deep network applies a transformation that\n",
    "disentangles the data a little—and a deep stack of layers makes tractable an extremely\n",
    "complicated disentanglement process. "
   ]
  },
  {
   "cell_type": "markdown",
   "metadata": {},
   "source": [
    "## 2.4 The engine of neural networks:<br>gradient-based optimization"
   ]
  },
  {
   "cell_type": "raw",
   "metadata": {},
   "source": [
    "This happens within what’s called a training loop, which works as follows. Repeat\n",
    "these steps in a loop, as long as necessary:\n",
    "1 Draw a batch of training samples x and corresponding targets y.\n",
    "2 Run the network on x (a step called the forward pass) to obtain predictions y_pred.\n",
    "3 Compute the loss of the network on the batch, a measure of the mismatch\n",
    "between y_pred and y.\n",
    "4 Update all weights of the network in a way that slightly reduces the loss on this\n",
    "batch."
   ]
  },
  {
   "cell_type": "markdown",
   "metadata": {},
   "source": [
    "## 2.4.1 What’s a derivative?"
   ]
  },
  {
   "cell_type": "markdown",
   "metadata": {},
   "source": [
    "```\n",
    "f(x + epsilon_x) = y + epsilon_y\n",
    "f(x + epsilon_x) = y + a * epsilon_x\n",
    "```\n",
    "Obviously, this linear approximation is valid only when x is close enough to p.\n",
    " The slope a is called the derivative of f in p. If a is negative, it means a small change\n",
    "of x around p will result in a decrease of f(x) (as shown in figure 2.10); and if a is positive,\n",
    "a small change in x will result in an increase of f(x). Further, the absolute value\n",
    "of a (the magnitude of the derivative) tells you how quickly this increase or decrease\n",
    "will happen.\n",
    "<img src='images/f2.10.png'>\n",
    " If you’re trying to update x by a factor epsilon_x in order to minimize f(x), and\n",
    "you know the derivative of f, then your job is done: the derivative completely\n",
    "describes how f(x) evolves as you change x. If you want to reduce the value of f(x),\n",
    "you just need to move x a little in the opposite direction from the derivative. "
   ]
  },
  {
   "cell_type": "markdown",
   "metadata": {},
   "source": [
    "## 2.4.2 Derivative of a tensor operation: the gradient"
   ]
  },
  {
   "cell_type": "markdown",
   "metadata": {},
   "source": [
    " Consider an input vector x, a matrix W, a target y, and a loss function loss. You can\n",
    "use W to compute a target candidate y_pred, and compute the loss, or mismatch,\n",
    "between the target candidate y_pred and the target y:\n",
    "<br>`y_pred = dot(W, x)`<br>\n",
    "`loss_value = loss(y_pred, y)`<br>\n",
    "If the data inputs x and y are frozen, then this can be interpreted as a function mapping\n",
    "values of W to loss values:<br>\n",
    "`loss_value = f(W)`"
   ]
  },
  {
   "cell_type": "markdown",
   "metadata": {},
   "source": [
    "## 2.4.3 Stochastic gradient descent"
   ]
  },
  {
   "cell_type": "markdown",
   "metadata": {},
   "source": [
    "1. Draw a batch of training samples x and corresponding targets y.\n",
    "2. Run the network on x to obtain predictions y_pred.\n",
    "3. Compute the loss of the network on the batch, a measure of the mismatch\n",
    "between y_pred and y.\n",
    "4. Compute the gradient of the loss with regard to the network’s parameters (a\n",
    "backward pass).\n",
    "5. Move the parameters a little in the opposite direction from the gradient—for\n",
    "example W -= step * gradient—thus reducing the loss on the batch a bit.\n",
    "<img src='images/f2.11.png'>\n",
    "<img src='images/f2.12.png'>\n",
    "<img src='images/f2.13.png'>"
   ]
  },
  {
   "cell_type": "raw",
   "metadata": {},
   "source": [
    "past_velocity = 0.\n",
    "momentum = 0.1\n",
    "while loss > 0.01:\n",
    "    w, loss, gradient = get_current_parameters()\n",
    "    velocity = past_velocity * momentum + learning_rate * gradient\n",
    "    w=w+ momentum * velocity - learning_rate * gradient\n",
    "    past_velocity = velocity\n",
    "    update_parameter(w)"
   ]
  },
  {
   "cell_type": "markdown",
   "metadata": {},
   "source": [
    "## 2.4.4 Chaining derivatives: the Backpropagation algorithm"
   ]
  },
  {
   "cell_type": "markdown",
   "metadata": {},
   "source": [
    "three tensor operations,\n",
    "a, b, and c, with weight matrices W1, W2, and W3:\n",
    "`f(W1, W2, W3) = a(W1, b(W2, c(W3)))`\n",
    "Calculus tells us that such a chain of functions can be derived using the following identity,\n",
    "called the chain rule: `f(g(x)) = f'(g(x)) * g'(x)`. Applying the chain rule to the\n",
    "computation of the gradient values of a neural network gives rise to an algorithm\n",
    "called Backpropagation (also sometimes called reverse-mode differentiation). Backpropagation\n",
    "starts with the final loss value and works backward from the top layers to the bottom\n",
    "layers, applying the chain rule to compute the contribution that each parameter\n",
    "had in the loss value."
   ]
  },
  {
   "cell_type": "markdown",
   "metadata": {},
   "source": [
    "## 2.5 Looking back at our first example"
   ]
  },
  {
   "cell_type": "markdown",
   "metadata": {},
   "source": [
    "You’ve reached the end of this chapter, and you should now have a general understanding\n",
    "of what’s going on behind the scenes in a neural network. Let’s go back to\n",
    "the first example and review each piece of it in the light of what you’ve learned in the\n",
    "previous three sections.\n",
    " This was the input data:\n"
   ]
  },
  {
   "cell_type": "code",
   "execution_count": 47,
   "metadata": {
    "collapsed": true
   },
   "outputs": [],
   "source": [
    "(train_images, train_labels), (test_images, test_labels) = mnist.load_data()\n",
    "train_images = train_images.reshape((60000, 28 * 28))\n",
    "train_images = train_images.astype('float32') / 255\n",
    "test_images = test_images.reshape((10000, 28 * 28))\n",
    "test_images = test_images.astype('float32') / 255\n",
    "\n",
    "\n",
    "from keras.utils import to_categorical\n",
    "train_labels = to_categorical(train_labels)\n",
    "test_labels = to_categorical(test_labels)"
   ]
  },
  {
   "cell_type": "markdown",
   "metadata": {},
   "source": [
    "Now you understand that the input images are stored in Numpy tensors, which are\n",
    "here formatted as float32 tensors of shape (60000, 784) (training data) and (10000,\n",
    "784) (test data), respectively.\n",
    " This was our network:"
   ]
  },
  {
   "cell_type": "code",
   "execution_count": 48,
   "metadata": {
    "collapsed": true
   },
   "outputs": [],
   "source": [
    "network = models.Sequential()\n",
    "network.add(layers.Dense(512, activation='relu', input_shape=(28 * 28,)))\n",
    "network.add(layers.Dense(10, activation='softmax'))"
   ]
  },
  {
   "cell_type": "markdown",
   "metadata": {},
   "source": [
    "Now you understand that this network consists of a chain of two Dense layers, that\n",
    "each layer applies a few simple tensor operations to the input data, and that these\n",
    "operations involve weight tensors. Weight tensors, which are attributes of the layers,\n",
    "are where the knowledge of the network persists.\n",
    " This was the network-compilation step:\n"
   ]
  },
  {
   "cell_type": "code",
   "execution_count": 49,
   "metadata": {
    "collapsed": true
   },
   "outputs": [],
   "source": [
    "network.compile(optimizer='rmsprop',\n",
    "                loss='categorical_crossentropy',\n",
    "                metrics=['accuracy'])\n"
   ]
  },
  {
   "cell_type": "code",
   "execution_count": 50,
   "metadata": {},
   "outputs": [
    {
     "name": "stdout",
     "output_type": "stream",
     "text": [
      "Epoch 1/5\n",
      "60000/60000 [==============================] - 9s - loss: 0.2543 - acc: 0.9257     \n",
      "Epoch 2/5\n",
      "60000/60000 [==============================] - 9s - loss: 0.1035 - acc: 0.9686     \n",
      "Epoch 3/5\n",
      "60000/60000 [==============================] - 9s - loss: 0.0685 - acc: 0.9792     \n",
      "Epoch 4/5\n",
      "60000/60000 [==============================] - 9s - loss: 0.0495 - acc: 0.9848     \n",
      "Epoch 5/5\n",
      "60000/60000 [==============================] - 10s - loss: 0.0376 - acc: 0.9892    \n"
     ]
    },
    {
     "data": {
      "text/plain": [
       "<keras.callbacks.History at 0x21792319d30>"
      ]
     },
     "execution_count": 50,
     "metadata": {},
     "output_type": "execute_result"
    }
   ],
   "source": [
    "network.fit(train_images, train_labels, epochs=5, batch_size=128)\n",
    "#train_images.shape\n",
    "#train_labels.shape"
   ]
  },
  {
   "cell_type": "markdown",
   "metadata": {},
   "source": [
    "# Chapter summary\n",
    "1. Learning means finding a combination of model parameters that minimizes\n",
    "a loss function for a given set of training data samples and their corresponding\n",
    "targets.\n",
    "2. Learning happens by drawing random batches of data samples and their\n",
    "targets, and computing the gradient of the network parameters with\n",
    "respect to the loss on the batch. The network parameters are then moved\n",
    "a bit (the magnitude of the move is defined by the learning rate) in the\n",
    "opposite direction from the gradient.\n",
    "3. The entire learning process is made possible by the fact that neural networks\n",
    "are chains of differentiable tensor operations, and thus it’s possible\n",
    "to apply the chain rule of derivation to find the gradient function mapping\n",
    "the current parameters and current batch of data to a gradient value.\n",
    "4. Two key concepts you’ll see frequently in future chapters are loss and optimizers.\n",
    "These are the two things you need to define before you begin feeding\n",
    "data into a network.\n",
    "5. The loss is the quantity you’ll attempt to minimize during training, so it\n",
    "should represent a measure of success for the task you’re trying to solve.\n",
    "6. The optimizer specifies the exact way in which the gradient of the loss will\n",
    "be used to update parameters: for instance, it could be the RMSProp optimizer,\n",
    "SGD with momentum, and so on."
   ]
  }
 ],
 "metadata": {
  "kernelspec": {
   "display_name": "Python 3",
   "language": "python",
   "name": "python3"
  },
  "language_info": {
   "codemirror_mode": {
    "name": "ipython",
    "version": 3
   },
   "file_extension": ".py",
   "mimetype": "text/x-python",
   "name": "python",
   "nbconvert_exporter": "python",
   "pygments_lexer": "ipython3",
   "version": "3.6.4"
  }
 },
 "nbformat": 4,
 "nbformat_minor": 2
}
