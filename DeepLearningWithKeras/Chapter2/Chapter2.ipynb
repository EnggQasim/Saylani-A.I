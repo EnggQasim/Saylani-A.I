{
 "cells": [
  {
   "cell_type": "markdown",
   "metadata": {},
   "source": [
    "# Chapter 2\n",
    "### This chapter covers\n",
    "- A first example of a neural network\n",
    "- Tensors and tensor operations\n",
    "- How neural networks learn via backpropagation\n",
    "and gradient descent"
   ]
  },
  {
   "cell_type": "markdown",
   "metadata": {},
   "source": [
    "We simple learn mathmatical concept and, know about tensor, tensor operation and neural network"
   ]
  },
  {
   "cell_type": "markdown",
   "metadata": {},
   "source": [
    "## 2.1 A first look at a neural network\n"
   ]
  },
  {
   "cell_type": "markdown",
   "metadata": {},
   "source": [
    "- Classification Problem Hand writing number (0 to 9) 28X28 pixels\n",
    "- Use MNIST Data set\n",
    "- See some MNIST samples in figure 2.1"
   ]
  },
  {
   "cell_type": "markdown",
   "metadata": {},
   "source": [
    "#### Note on classes and labels\n",
    "In machine learning, a category in a classification problem is called a class. Data\n",
    "points are called samples. The class associated with a specific sample is called a\n",
    "label."
   ]
  },
  {
   "cell_type": "markdown",
   "metadata": {},
   "source": [
    "# <img src=\"images/f2.1.png\">"
   ]
  },
  {
   "cell_type": "markdown",
   "metadata": {},
   "source": [
    "# Use Keras to solve above problem "
   ]
  },
  {
   "cell_type": "code",
   "execution_count": 1,
   "metadata": {},
   "outputs": [
    {
     "name": "stderr",
     "output_type": "stream",
     "text": [
      "C:\\ProgramData\\Anaconda3\\lib\\site-packages\\h5py\\__init__.py:36: FutureWarning: Conversion of the second argument of issubdtype from `float` to `np.floating` is deprecated. In future, it will be treated as `np.float64 == np.dtype(float).type`.\n",
      "  from ._conv import register_converters as _register_converters\n",
      "Using TensorFlow backend.\n"
     ]
    }
   ],
   "source": [
    "# 2.1\n",
    "from keras.datasets import mnist\n",
    "(train_images, train_labels), (test_images, test_labels) = mnist.load_data()"
   ]
  },
  {
   "cell_type": "markdown",
   "metadata": {},
   "source": [
    "`mnist.load_data()` this function reuturn four values \n",
    "- train_data, train_labels (60% from all data)\n",
    "- test_data, test_labels (40% from all data)\n"
   ]
  },
  {
   "cell_type": "markdown",
   "metadata": {},
   "source": [
    "#### Our images convert in numpuy array with value of grayscale mode (R,G,B convert into GrayScale= R+G+B/3)\n",
    "#### Labels are in 0 to 9\n",
    "\n",
    "## About Train Data Details"
   ]
  },
  {
   "cell_type": "code",
   "execution_count": 2,
   "metadata": {},
   "outputs": [
    {
     "name": "stdout",
     "output_type": "stream",
     "text": [
      "Train Image Shape:  (60000, 28, 28)\n",
      "Len of train labels: 60000\n"
     ]
    },
    {
     "data": {
      "text/plain": [
       "array([5, 0, 4, ..., 5, 6, 8], dtype=uint8)"
      ]
     },
     "execution_count": 2,
     "metadata": {},
     "output_type": "execute_result"
    }
   ],
   "source": [
    "print(\"Train Image Shape: \", train_images.shape)\n",
    "print(\"Len of train labels:\", len(train_labels))\n",
    "train_labels"
   ]
  },
  {
   "cell_type": "markdown",
   "metadata": {},
   "source": [
    "## About Test Data Details"
   ]
  },
  {
   "cell_type": "code",
   "execution_count": 3,
   "metadata": {},
   "outputs": [
    {
     "name": "stdout",
     "output_type": "stream",
     "text": [
      "Train Image Shape:  (10000, 28, 28)\n",
      "Len of train labels: 10000\n"
     ]
    },
    {
     "data": {
      "text/plain": [
       "array([7, 2, 1, ..., 4, 5, 6], dtype=uint8)"
      ]
     },
     "execution_count": 3,
     "metadata": {},
     "output_type": "execute_result"
    }
   ],
   "source": [
    "print(\"Train Image Shape: \", test_images.shape)\n",
    "print(\"Len of train labels:\", len(test_labels))\n",
    "test_labels"
   ]
  },
  {
   "cell_type": "markdown",
   "metadata": {},
   "source": [
    "Lets Try to train our module \n",
    "- learn train label from train data\n",
    "- predict label on test data then match with test data labels"
   ]
  },
  {
   "cell_type": "markdown",
   "metadata": {},
   "source": [
    "## Listing 2.2 The network architecture"
   ]
  },
  {
   "cell_type": "code",
   "execution_count": 4,
   "metadata": {},
   "outputs": [],
   "source": [
    "from keras import models\n",
    "from keras import layers\n",
    "network = models.Sequential()\n",
    "network.add(layers.Dense(512, activation='relu', input_shape=(28 * 28,)))\n",
    "network.add(layers.Dense(10, activation='softmax'))"
   ]
  },
  {
   "cell_type": "markdown",
   "metadata": {},
   "source": [
    "- core think in network is layer\n",
    "- every layer work like filter where data through in layer and it comes out in more usefull form\n",
    "-  layers extract representations out of the data fed into them\n",
    "- deep learning consists of chaining together simple layers that will implement a form\n",
    "of progressive data distillation.\n",
    "- Deep learning model like a sieve for data processing, made of a succession of increasingly refined data filters \n",
    "- <b>our network consists of a sequence of two Dense layers,</b>  which are densely\n",
    "connected (also called fully connected) neural layers. \n",
    "The second (and last) layer is a 10-way softmax layer, that return of 10 probility scores (suming to 1) each score probility the current digit image belong on of our 10 digit classes."
   ]
  },
  {
   "cell_type": "markdown",
   "metadata": {},
   "source": [
    " To make the network ready for training, we need to pick three more things, as part\n",
    "of the compilation step:\n",
    "- loss function\n",
    "- An optimizer\n",
    "- Metrics to monitor during training and testing"
   ]
  },
  {
   "cell_type": "markdown",
   "metadata": {},
   "source": [
    "## Listing 2.3 The compilation step\n"
   ]
  },
  {
   "cell_type": "code",
   "execution_count": 5,
   "metadata": {},
   "outputs": [],
   "source": [
    "network.compile(optimizer='rmsprop',\n",
    "                loss='categorical_crossentropy',\n",
    "                metrics=['accuracy'])\n"
   ]
  },
  {
   "cell_type": "raw",
   "metadata": {},
   "source": [
    "Before training, we’ll preprocess the data by reshaping it into the shape the network\n",
    "expects and scaling it so that all values are in the [0, 1] interval. Previously, our training\n",
    "images, for instance, were stored in an array of shape (60000, 28, 28) of type\n",
    "uint8 with values in the [0, 255] interval. We transform it into a float32 array of\n",
    "shape (60000, 28 * 28) with values between 0 and 1."
   ]
  },
  {
   "cell_type": "markdown",
   "metadata": {},
   "source": [
    "# Listing 2.4 Preparing the image data"
   ]
  },
  {
   "cell_type": "code",
   "execution_count": 6,
   "metadata": {},
   "outputs": [
    {
     "data": {
      "text/plain": [
       "47040000"
      ]
     },
     "execution_count": 6,
     "metadata": {},
     "output_type": "execute_result"
    }
   ],
   "source": [
    "train_images = train_images.reshape((60000, 28 * 28))\n",
    "train_images = train_images.astype('float32') / 255\n",
    "test_images = test_images.reshape((10000, 28 * 28))\n",
    "test_images = test_images.astype('float32') / 255\n",
    "train_images.size"
   ]
  },
  {
   "cell_type": "markdown",
   "metadata": {},
   "source": [
    "# Listing 2.5 Preparing the labels"
   ]
  },
  {
   "cell_type": "code",
   "execution_count": 7,
   "metadata": {},
   "outputs": [],
   "source": [
    "from keras.utils import to_categorical\n",
    "train_labels = to_categorical(train_labels)\n",
    "test_labels = to_categorical(test_labels)"
   ]
  },
  {
   "cell_type": "markdown",
   "metadata": {},
   "source": [
    "We’re now ready to train the network, which in Keras is done via a call to the network’s\n",
    "fit method—we fit the model to its training data:"
   ]
  },
  {
   "cell_type": "code",
   "execution_count": 8,
   "metadata": {},
   "outputs": [
    {
     "name": "stdout",
     "output_type": "stream",
     "text": [
      "Epoch 1/5\n",
      "60000/60000 [==============================] - 8s 137us/step - loss: 0.2592 - acc: 0.9243\n",
      "Epoch 2/5\n",
      "60000/60000 [==============================] - 6s 95us/step - loss: 0.1044 - acc: 0.9693\n",
      "Epoch 3/5\n",
      "60000/60000 [==============================] - 6s 94us/step - loss: 0.0689 - acc: 0.9793\n",
      "Epoch 4/5\n",
      "60000/60000 [==============================] - 6s 94us/step - loss: 0.0499 - acc: 0.9848\n",
      "Epoch 5/5\n",
      "60000/60000 [==============================] - 6s 92us/step - loss: 0.0372 - acc: 0.9889\n"
     ]
    },
    {
     "data": {
      "text/plain": [
       "<keras.callbacks.History at 0x1b129907b00>"
      ]
     },
     "execution_count": 8,
     "metadata": {},
     "output_type": "execute_result"
    }
   ],
   "source": [
    " network.fit(train_images, train_labels, epochs=5, batch_size=128)"
   ]
  },
  {
   "cell_type": "markdown",
   "metadata": {},
   "source": [
    "We quickly reach an accuracy of 0.989 (98.9%) on the training data. Now let’s\n",
    "check that the model performs well on the test set, too:\n"
   ]
  },
  {
   "cell_type": "code",
   "execution_count": 9,
   "metadata": {},
   "outputs": [
    {
     "name": "stdout",
     "output_type": "stream",
     "text": [
      "10000/10000 [==============================] - 1s 72us/step\n"
     ]
    }
   ],
   "source": [
    " test_loss, test_acc = network.evaluate(test_images, test_labels)"
   ]
  },
  {
   "cell_type": "code",
   "execution_count": 10,
   "metadata": {},
   "outputs": [
    {
     "name": "stdout",
     "output_type": "stream",
     "text": [
      "test_acc: 0.9805\n"
     ]
    }
   ],
   "source": [
    "print('test_acc:', test_acc)"
   ]
  },
  {
   "cell_type": "markdown",
   "metadata": {},
   "source": [
    "what’s going on behind the scenes. You’ll learn about tensors, the data-storing objects\n",
    "going into the network; tensor operations, which layers are made of; and gradient\n",
    "descent, which allows your network to learn from its training examples"
   ]
  },
  {
   "cell_type": "markdown",
   "metadata": {},
   "source": [
    "# 2.2 Data representations for neural networks"
   ]
  },
  {
   "cell_type": "markdown",
   "metadata": {},
   "source": [
    "-  At its core, a tensor is a container for data—almost always numerical data.\n",
    "- which are 2D tensors:\n",
    "tensors are a generalization of matrices to an arbitrary number of dimensions\n",
    "(note that in the context of tensors, a dimension is often called an axis)."
   ]
  },
  {
   "cell_type": "markdown",
   "metadata": {},
   "source": [
    "## 2.2.1 Scalars (0D tensors)\n",
    "- A tensor that contain just one number is call Scalar\n",
    "- a scalar\n",
    "tensor has 0 axes (ndim == 0).The number of axes of a tensor is also called its rank.\n",
    "Here’s a Numpy scalar:\n"
   ]
  },
  {
   "cell_type": "code",
   "execution_count": 11,
   "metadata": {},
   "outputs": [
    {
     "data": {
      "text/plain": [
       "array(12)"
      ]
     },
     "execution_count": 11,
     "metadata": {},
     "output_type": "execute_result"
    }
   ],
   "source": [
    "import numpy as np\n",
    "x = np.array(12)\n",
    "x"
   ]
  },
  {
   "cell_type": "code",
   "execution_count": 12,
   "metadata": {},
   "outputs": [
    {
     "data": {
      "text/plain": [
       "0"
      ]
     },
     "execution_count": 12,
     "metadata": {},
     "output_type": "execute_result"
    }
   ],
   "source": [
    "x.ndim"
   ]
  },
  {
   "cell_type": "markdown",
   "metadata": {},
   "source": [
    "## 2.2.2 Vectors (1D tensors)"
   ]
  },
  {
   "cell_type": "markdown",
   "metadata": {},
   "source": [
    "- Array of numbers is called vector, id tensor, a ID tensor is said to have exactly one axis "
   ]
  },
  {
   "cell_type": "code",
   "execution_count": 13,
   "metadata": {},
   "outputs": [
    {
     "name": "stdout",
     "output_type": "stream",
     "text": [
      "[12  3  6 14]\n",
      "1\n"
     ]
    }
   ],
   "source": [
    "x = np.array([12,3,6,14])\n",
    "print(x)\n",
    "print(x.ndim)"
   ]
  },
  {
   "cell_type": "markdown",
   "metadata": {},
   "source": [
    "- This vector has five entries and so is called a 5-dimensional vector\n",
    "- whereas a 5D tensor has five axes  (and may have any number of dimensions\n",
    "along each axis).\n",
    "-  it’s technically more\n",
    "correct to talk about a tensor of rank 5 (the rank of a tensor being the number of axes),\n"
   ]
  },
  {
   "cell_type": "markdown",
   "metadata": {},
   "source": [
    "# 2.2.3 Matrices (2D tensors)\n",
    "- An array of vectors is a matrix, or 2D tensor. A matrix has two axes (often referred to\n",
    "rows and columns)."
   ]
  },
  {
   "cell_type": "code",
   "execution_count": 14,
   "metadata": {},
   "outputs": [
    {
     "data": {
      "text/plain": [
       "array([[ 5, 78,  2, 34,  0],\n",
       "       [ 6, 79,  3, 35,  1],\n",
       "       [ 7, 80,  4, 36,  2]])"
      ]
     },
     "execution_count": 14,
     "metadata": {},
     "output_type": "execute_result"
    }
   ],
   "source": [
    "x = np.array([[5, 78, 2, 34, 0],\n",
    "              [6, 79, 3, 35, 1],\n",
    "              [7, 80, 4, 36, 2]])\n",
    "x"
   ]
  },
  {
   "cell_type": "code",
   "execution_count": 15,
   "metadata": {},
   "outputs": [
    {
     "data": {
      "text/plain": [
       "2"
      ]
     },
     "execution_count": 15,
     "metadata": {},
     "output_type": "execute_result"
    }
   ],
   "source": [
    "x.ndim"
   ]
  },
  {
   "cell_type": "markdown",
   "metadata": {},
   "source": [
    "# 2.2.4 3D tensors and higher-dimensional tensors\n",
    "-  which you can visually\n",
    "interpret as a cube of numbers. Following is a Numpy 3D tensor:"
   ]
  },
  {
   "cell_type": "code",
   "execution_count": 16,
   "metadata": {},
   "outputs": [
    {
     "data": {
      "text/plain": [
       "array([[[ 5, 78,  2, 34,  0],\n",
       "        [ 6, 79,  3, 35,  1],\n",
       "        [ 7, 80,  4, 36,  2]],\n",
       "\n",
       "       [[ 5, 78,  2, 34,  0],\n",
       "        [ 6, 79,  3, 35,  1],\n",
       "        [ 7, 80,  4, 36,  2]],\n",
       "\n",
       "       [[ 5, 78,  2, 34,  0],\n",
       "        [ 6, 79,  3, 35,  1],\n",
       "        [ 7, 80,  4, 36,  2]]])"
      ]
     },
     "execution_count": 16,
     "metadata": {},
     "output_type": "execute_result"
    }
   ],
   "source": [
    "x = np.array([[[5, 78, 2, 34, 0],\n",
    "               [6, 79, 3, 35, 1],\n",
    "               [7, 80, 4, 36, 2]],\n",
    "              [[5, 78, 2, 34, 0],\n",
    "               [6, 79, 3, 35, 1],\n",
    "               [7, 80, 4, 36, 2]],\n",
    "              [[5, 78, 2, 34, 0],\n",
    "               [6, 79, 3, 35, 1],\n",
    "               [7, 80, 4, 36, 2]]])\n",
    "x"
   ]
  },
  {
   "cell_type": "code",
   "execution_count": 17,
   "metadata": {},
   "outputs": [
    {
     "data": {
      "text/plain": [
       "3"
      ]
     },
     "execution_count": 17,
     "metadata": {},
     "output_type": "execute_result"
    }
   ],
   "source": [
    "x.ndim"
   ]
  },
  {
   "cell_type": "markdown",
   "metadata": {},
   "source": [
    "# 2.2.5 Key attributes"
   ]
  },
  {
   "cell_type": "markdown",
   "metadata": {},
   "source": [
    "- A tensor is defined by three key attributes:\n",
    "- <b>Number of axes (rank)</b>:<br>For instance, a 3D tensor has three axes, and a matrix has\n",
    "two axes. This is also called the tensor’s ndim in Python libraries such as Numpy.\n",
    "- <b>Shape</b>:<br>shape\n",
    "(3, 5), and the 3D tensor example has shape (3, 3, 5). A vector has a shape\n",
    "with a single element, such as (5,), whereas a scalar has an empty shape, ().\n",
    "- <b>Data type</b>:\n",
    "     tensor’s type could be float32, uint8,\n",
    "float64, and so on. On rare occasions, you may see a char tensor. Note that\n",
    "string tensors don’t exist in Numpy (or in most other libraries),To make this more concrete, let’s look back at the data we processed in the MNIST\n",
    "example. First, we load the MNIST dataset:\n"
   ]
  },
  {
   "cell_type": "code",
   "execution_count": 18,
   "metadata": {},
   "outputs": [],
   "source": [
    "from keras.datasets import mnist\n",
    "(train_images, train_labels), (test_images, test_labels) = mnist.load_data()"
   ]
  },
  {
   "cell_type": "markdown",
   "metadata": {},
   "source": [
    "Next, we display the number of axes of the tensor train_images, the ndim attribute:"
   ]
  },
  {
   "cell_type": "code",
   "execution_count": 19,
   "metadata": {},
   "outputs": [
    {
     "name": "stdout",
     "output_type": "stream",
     "text": [
      "3\n"
     ]
    }
   ],
   "source": [
    "print(train_images.ndim)"
   ]
  },
  {
   "cell_type": "code",
   "execution_count": 20,
   "metadata": {},
   "outputs": [
    {
     "name": "stdout",
     "output_type": "stream",
     "text": [
      "(60000, 28, 28)\n"
     ]
    }
   ],
   "source": [
    "print(train_images.shape)"
   ]
  },
  {
   "cell_type": "code",
   "execution_count": 21,
   "metadata": {},
   "outputs": [
    {
     "data": {
      "text/plain": [
       "numpy.ndarray"
      ]
     },
     "execution_count": 21,
     "metadata": {},
     "output_type": "execute_result"
    }
   ],
   "source": [
    "type(train_images)"
   ]
  },
  {
   "cell_type": "code",
   "execution_count": 22,
   "metadata": {},
   "outputs": [
    {
     "name": "stdout",
     "output_type": "stream",
     "text": [
      "uint8\n"
     ]
    }
   ],
   "source": [
    "print(train_images.dtype)"
   ]
  },
  {
   "cell_type": "markdown",
   "metadata": {},
   "source": [
    "So what we have here is a 3D tensor of 8-bit integers. More precisely, it’s an array of\n",
    "60,000 matrices of 28 × 8 integers. Each such matrix is a grayscale image, with coefficients\n",
    "between 0 and 255.\n",
    " Let’s display the fourth digit in this 3D tensor, using the library Matplotlib (part of\n",
    "the standard scientific Python suite); see figure 2.2. "
   ]
  },
  {
   "cell_type": "markdown",
   "metadata": {},
   "source": [
    "## Listing 2.6 Displaying the fourth digit"
   ]
  },
  {
   "cell_type": "code",
   "execution_count": 23,
   "metadata": {},
   "outputs": [
    {
     "data": {
      "text/plain": [
       "<matplotlib.figure.Figure at 0x1b12a17de10>"
      ]
     },
     "metadata": {},
     "output_type": "display_data"
    }
   ],
   "source": [
    "digit = train_images[4]\n",
    "\n",
    "import matplotlib.pyplot as plt\n",
    "plt.imshow(digit, cmap=plt.cm.binary)\n",
    "plt.show()"
   ]
  },
  {
   "cell_type": "markdown",
   "metadata": {},
   "source": [
    "## 2.2.6 Manipulating tensors in Numpy"
   ]
  },
  {
   "cell_type": "code",
   "execution_count": 24,
   "metadata": {},
   "outputs": [
    {
     "data": {
      "text/plain": [
       "(90, 28, 28)"
      ]
     },
     "execution_count": 24,
     "metadata": {},
     "output_type": "execute_result"
    }
   ],
   "source": [
    "my_slice = train_images[10:100]\n",
    "my_slice.shape"
   ]
  },
  {
   "cell_type": "code",
   "execution_count": 25,
   "metadata": {},
   "outputs": [
    {
     "data": {
      "text/plain": [
       "(90, 28, 28)"
      ]
     },
     "execution_count": 25,
     "metadata": {},
     "output_type": "execute_result"
    }
   ],
   "source": [
    "my_slice = train_images[10:100, :, :]\n",
    "my_slice.shape"
   ]
  },
  {
   "cell_type": "code",
   "execution_count": 26,
   "metadata": {},
   "outputs": [
    {
     "data": {
      "text/plain": [
       "(90, 28, 28)"
      ]
     },
     "execution_count": 26,
     "metadata": {},
     "output_type": "execute_result"
    }
   ],
   "source": [
    "my_slice = train_images[10:100, 0:28, 0:28]\n",
    "my_slice.shape"
   ]
  },
  {
   "cell_type": "markdown",
   "metadata": {},
   "source": [
    "It’s also possible to use negative indices. Much like negative indices in Python lists,\n",
    "they indicate a position relative to the end of the current axis. In order to crop the\n",
    "images to patches of 14 × 14 pixels centered in the middle, you do this:"
   ]
  },
  {
   "cell_type": "code",
   "execution_count": 27,
   "metadata": {},
   "outputs": [
    {
     "data": {
      "text/plain": [
       "(60000, 14, 14)"
      ]
     },
     "execution_count": 27,
     "metadata": {},
     "output_type": "execute_result"
    }
   ],
   "source": [
    "my_slice = train_images[:, 7:-7, 7:-7]\n",
    "my_slice.shape"
   ]
  },
  {
   "cell_type": "markdown",
   "metadata": {},
   "source": [
    "## 2.2.7 The notion of data batches"
   ]
  },
  {
   "cell_type": "markdown",
   "metadata": {},
   "source": [
    "In general, the first axis (axis 0, because indexing starts at 0) in all data tensors you’ll\n",
    "come across in deep learning will be the samples axis (sometimes called the samples\n",
    "dimension). \n",
    "-  In addition, deep-learning models don’t process an entire dataset at once; rather,\n",
    "they break the data into small batches. Concretely, here’s one batch of our MNIST digits,\n",
    "with batch size of 128:"
   ]
  },
  {
   "cell_type": "code",
   "execution_count": 28,
   "metadata": {},
   "outputs": [
    {
     "data": {
      "text/plain": [
       "array([[[0, 0, 0, ..., 0, 0, 0],\n",
       "        [0, 0, 0, ..., 0, 0, 0],\n",
       "        [0, 0, 0, ..., 0, 0, 0],\n",
       "        ...,\n",
       "        [0, 0, 0, ..., 0, 0, 0],\n",
       "        [0, 0, 0, ..., 0, 0, 0],\n",
       "        [0, 0, 0, ..., 0, 0, 0]],\n",
       "\n",
       "       [[0, 0, 0, ..., 0, 0, 0],\n",
       "        [0, 0, 0, ..., 0, 0, 0],\n",
       "        [0, 0, 0, ..., 0, 0, 0],\n",
       "        ...,\n",
       "        [0, 0, 0, ..., 0, 0, 0],\n",
       "        [0, 0, 0, ..., 0, 0, 0],\n",
       "        [0, 0, 0, ..., 0, 0, 0]],\n",
       "\n",
       "       [[0, 0, 0, ..., 0, 0, 0],\n",
       "        [0, 0, 0, ..., 0, 0, 0],\n",
       "        [0, 0, 0, ..., 0, 0, 0],\n",
       "        ...,\n",
       "        [0, 0, 0, ..., 0, 0, 0],\n",
       "        [0, 0, 0, ..., 0, 0, 0],\n",
       "        [0, 0, 0, ..., 0, 0, 0]],\n",
       "\n",
       "       ...,\n",
       "\n",
       "       [[0, 0, 0, ..., 0, 0, 0],\n",
       "        [0, 0, 0, ..., 0, 0, 0],\n",
       "        [0, 0, 0, ..., 0, 0, 0],\n",
       "        ...,\n",
       "        [0, 0, 0, ..., 0, 0, 0],\n",
       "        [0, 0, 0, ..., 0, 0, 0],\n",
       "        [0, 0, 0, ..., 0, 0, 0]],\n",
       "\n",
       "       [[0, 0, 0, ..., 0, 0, 0],\n",
       "        [0, 0, 0, ..., 0, 0, 0],\n",
       "        [0, 0, 0, ..., 0, 0, 0],\n",
       "        ...,\n",
       "        [0, 0, 0, ..., 0, 0, 0],\n",
       "        [0, 0, 0, ..., 0, 0, 0],\n",
       "        [0, 0, 0, ..., 0, 0, 0]],\n",
       "\n",
       "       [[0, 0, 0, ..., 0, 0, 0],\n",
       "        [0, 0, 0, ..., 0, 0, 0],\n",
       "        [0, 0, 0, ..., 0, 0, 0],\n",
       "        ...,\n",
       "        [0, 0, 0, ..., 0, 0, 0],\n",
       "        [0, 0, 0, ..., 0, 0, 0],\n",
       "        [0, 0, 0, ..., 0, 0, 0]]], dtype=uint8)"
      ]
     },
     "execution_count": 28,
     "metadata": {},
     "output_type": "execute_result"
    }
   ],
   "source": [
    "batch = train_images[:128]\n",
    "batch"
   ]
  },
  {
   "cell_type": "markdown",
   "metadata": {},
   "source": [
    "And here’s the next batch:"
   ]
  },
  {
   "cell_type": "code",
   "execution_count": 29,
   "metadata": {},
   "outputs": [],
   "source": [
    "batch = train_images[128:256]"
   ]
  },
  {
   "cell_type": "markdown",
   "metadata": {},
   "source": [
    "And the nth batch:"
   ]
  },
  {
   "cell_type": "raw",
   "metadata": {},
   "source": [
    "batch = train_images[128 * n:128 * (n + 1)]"
   ]
  },
  {
   "cell_type": "markdown",
   "metadata": {},
   "source": [
    "- <b>, the first axis (axis 0) is called the batch axis or\n",
    "batch dimension. </b>"
   ]
  },
  {
   "cell_type": "markdown",
   "metadata": {},
   "source": [
    "## 2.2.8 Real-world examples of data tensors"
   ]
  },
  {
   "cell_type": "markdown",
   "metadata": {},
   "source": [
    "Let’s make data tensors more concrete with a few examples similar to what you’ll\n",
    "encounter later. The data you’ll manipulate will almost always fall into one of the following\n",
    "categories:\n",
    "- <b>Vector data—2D</b> tensors of shape (samples, features)\n",
    "- <b>Timeseries data</b> or sequence data—3D tensors of shape (samples, timesteps,\n",
    "features)\n",
    "- <b>Images—4D tensors</b> of shape (samples, height, width, channels) or (samples,\n",
    "channels, height, width)\n",
    "- <b>Video—5D tensors</b> of shape (samples, frames, height, width, channels) or\n",
    "(samples, frames, channels, height, width)"
   ]
  },
  {
   "cell_type": "markdown",
   "metadata": {},
   "source": [
    "## 2.2.9 Vector data"
   ]
  },
  {
   "cell_type": "markdown",
   "metadata": {},
   "source": [
    "(that is, an array of\n",
    "vectors), where the first axis is the samples axis and the second axis is the features axis.\n",
    " Let’s take a look at two examples:\n",
    "-  person’s age, ZIP code,\n",
    "and income.\n",
    "    - 100,000 people can be stored in a 2D tensor of shape\n",
    "(100000, 3)\n",
    "- A dataset of text documents, where we represent each document by the counts\n",
    "of how many times each word appears in it (out of a dictionary of 20,000 common\n",
    "words). Each document can be encoded as a vector of 20,000 values (one\n",
    "count per word in the dictionary), and thus an entire dataset of 500 documents\n",
    "can be stored in a tensor of shape (500, 20000)"
   ]
  },
  {
   "cell_type": "markdown",
   "metadata": {},
   "source": [
    "## 2.2.10 Timeseries data or sequence data"
   ]
  },
  {
   "cell_type": "markdown",
   "metadata": {},
   "source": [
    "Each sample can be encoded as a\n",
    "sequence of vectors (a 2D tensor), and thus a batch of data will be encoded as a 3D\n",
    "tensor (see figure 2.3).<img src='images/f2.3.png'>"
   ]
  },
  {
   "cell_type": "markdown",
   "metadata": {},
   "source": [
    "- The time axis is always the second axis (axis of index 1), by convention. Let’s look at a\n",
    "few examples:"
   ]
  },
  {
   "cell_type": "markdown",
   "metadata": {},
   "source": [
    "- Thus every minute is encoded as a 3D vector, an entire day of trading is\n",
    "encoded as a 2D tensor of shape (390, 3) (there are 390 minutes in a trading\n",
    "day), and 250 days’ worth of data can be stored in a 3D tensor of shape (250,\n",
    "390, 3). Here, each sample would be one day’s worth of data."
   ]
  },
  {
   "cell_type": "markdown",
   "metadata": {},
   "source": [
    "- Then each tweet can be encoded\n",
    "as a 2D tensor of shape (280, 128), and a dataset of 1 million tweets can be\n",
    "stored in a tensor of shape (1000000, 280, 128).`"
   ]
  },
  {
   "cell_type": "markdown",
   "metadata": {},
   "source": [
    "## 2.2.11 Image data\n",
    "<img src='images/f2.4.png'>"
   ]
  },
  {
   "cell_type": "code",
   "execution_count": 30,
   "metadata": {},
   "outputs": [
    {
     "data": {
      "text/plain": [
       "array([[[[ 6.96615000e-01,  2.32833980e-01, -9.21633413e-01],\n",
       "         [ 8.50186719e-01,  2.89181173e-01, -3.32970754e-02],\n",
       "         [ 3.44889791e-02,  1.19446832e-01, -1.28800714e+00],\n",
       "         ...,\n",
       "         [-1.72482476e+00, -1.56766305e+00,  1.25354151e+00],\n",
       "         [-8.50542879e-01,  1.11343154e+00,  1.63222215e+00],\n",
       "         [-1.79494979e+00, -7.85661632e-01, -1.10710323e+00]],\n",
       "\n",
       "        [[ 1.64188988e+00,  1.93346023e+00, -1.48253441e+00],\n",
       "         [ 2.00702535e-01,  6.24134375e-01,  1.41243547e+00],\n",
       "         [ 1.17234086e+00, -2.74625565e-01, -7.82465712e-01],\n",
       "         ...,\n",
       "         [-1.04598790e+00, -3.54454256e-01,  1.75413710e-02],\n",
       "         [-9.57200449e-01,  2.61775921e-02,  2.67643585e-01],\n",
       "         [-1.16710524e+00,  1.02420841e+00, -1.93704634e+00]],\n",
       "\n",
       "        [[-2.73708324e-01, -6.33612094e-01,  3.16785668e-02],\n",
       "         [-1.19236275e-01, -1.23420246e+00,  4.29095936e-01],\n",
       "         [ 5.47860441e-01,  5.54934471e-01, -8.52278028e-02],\n",
       "         ...,\n",
       "         [-1.98603525e-01,  1.11470864e+00,  9.50572524e-01],\n",
       "         [-5.53069454e-01,  3.32555891e-01,  1.67858690e+00],\n",
       "         [ 1.50809190e-01,  8.77802068e-01,  2.23616409e-01]],\n",
       "\n",
       "        ...,\n",
       "\n",
       "        [[ 1.13751605e-01,  1.14694682e+00,  8.10812010e-01],\n",
       "         [ 9.67043549e-01,  1.07726379e+00, -4.84074668e-02],\n",
       "         [-3.43751260e-01, -1.76409841e+00, -7.36928181e-01],\n",
       "         ...,\n",
       "         [ 2.31585961e-01, -2.38437043e-01, -2.42534304e-01],\n",
       "         [-4.00922378e-01, -1.27939497e+00, -2.99541791e-01],\n",
       "         [-1.01277801e+00,  1.18666930e-02, -2.84291788e-01]],\n",
       "\n",
       "        [[-1.08987965e+00, -6.89500733e-02,  2.08428893e+00],\n",
       "         [ 4.71818671e-01,  6.48381706e-01,  1.40770702e+00],\n",
       "         [ 1.51723842e-01,  1.17011279e+00, -7.25316525e-01],\n",
       "         ...,\n",
       "         [-1.38246971e+00, -6.12796736e-01,  4.54042070e-01],\n",
       "         [-1.48924322e+00, -1.57332722e+00, -8.45733956e-02],\n",
       "         [-2.85623637e-01, -1.42608176e+00, -1.08423080e+00]],\n",
       "\n",
       "        [[ 2.83240568e-01,  1.75991147e+00, -8.99876014e-01],\n",
       "         [-1.22648632e+00, -7.55816710e-01,  1.44213069e-01],\n",
       "         [-7.41685550e-01, -2.29332800e-01, -4.43226538e-02],\n",
       "         ...,\n",
       "         [ 9.24441603e-01, -7.79839369e-01,  3.67500222e-01],\n",
       "         [ 5.09403998e-01, -5.45122647e-01, -1.84381357e-01],\n",
       "         [-1.47432136e+00, -5.52973627e-01,  3.14940594e-01]]],\n",
       "\n",
       "\n",
       "       [[[ 2.93582359e+00,  9.34214437e-01, -5.26415454e-01],\n",
       "         [-1.73861339e-01,  1.12544304e+00,  1.75747419e-01],\n",
       "         [-4.02466177e-01, -6.46358177e-01, -1.30011696e+00],\n",
       "         ...,\n",
       "         [ 1.52823858e+00,  2.09129374e-01, -8.62730654e-01],\n",
       "         [-1.89366573e-01, -1.82717277e+00,  2.75440533e-01],\n",
       "         [ 6.00243941e-01, -1.59373298e+00, -4.65180950e-01]],\n",
       "\n",
       "        [[ 6.82654854e-01,  4.39015205e-02,  6.37261455e-01],\n",
       "         [ 7.22356923e-01,  9.12832038e-01, -1.47002251e+00],\n",
       "         [ 2.97047222e+00,  3.49964976e-01, -4.20022322e-01],\n",
       "         ...,\n",
       "         [ 1.59349419e+00,  7.56941492e-01, -8.48299974e-01],\n",
       "         [-1.23322049e-01,  1.07118701e+00,  4.26082094e-01],\n",
       "         [-1.45987305e+00,  1.19415662e+00,  2.39361937e-01]],\n",
       "\n",
       "        [[-4.37964318e-01,  8.91140860e-02,  3.33603895e-01],\n",
       "         [ 8.82991917e-01,  1.63503081e+00,  9.35982015e-01],\n",
       "         [ 1.93350432e+00,  2.38607012e+00, -1.70455401e-01],\n",
       "         ...,\n",
       "         [ 1.21801402e+00,  1.18516899e-01, -3.98366846e-01],\n",
       "         [ 1.59280415e-01,  1.06566569e-01, -1.74246791e-01],\n",
       "         [ 5.49474344e-01,  1.32315347e+00,  7.15103423e-01]],\n",
       "\n",
       "        ...,\n",
       "\n",
       "        [[ 2.25799550e-01,  4.09822892e-01, -2.04056820e+00],\n",
       "         [-1.38872964e+00,  6.16243088e-01, -4.37878955e-01],\n",
       "         [-1.10145930e+00,  7.31184054e-02, -3.86457774e-02],\n",
       "         ...,\n",
       "         [-7.53727637e-01, -2.59517473e+00, -7.56724319e-01],\n",
       "         [-8.93808327e-01, -1.16968013e+00,  7.49325694e-01],\n",
       "         [ 2.69731471e-02,  3.84412681e-01, -9.71373124e-01]],\n",
       "\n",
       "        [[-3.01453110e-01,  1.62190660e+00, -7.31929511e-01],\n",
       "         [-6.08381209e-01,  1.72837065e+00, -7.83731215e-01],\n",
       "         [ 7.58934300e-01, -8.40978415e-02,  8.16249625e-01],\n",
       "         ...,\n",
       "         [ 4.52129396e-01, -1.93749594e+00,  5.41987021e-01],\n",
       "         [-6.28703620e-01, -6.25344990e-01, -8.68705800e-01],\n",
       "         [-1.74689949e-01, -4.90922465e-01,  1.56124456e+00]],\n",
       "\n",
       "        [[ 5.93954498e-02,  2.27050477e-02,  4.48934451e-01],\n",
       "         [ 2.02120139e-01,  8.09911570e-01, -3.85535031e-01],\n",
       "         [-2.55843300e-01,  5.55998169e-01,  1.04132527e+00],\n",
       "         ...,\n",
       "         [ 1.81533241e+00, -5.31847693e-01, -2.03374089e-01],\n",
       "         [-2.46445473e-01, -5.40959448e-01, -8.12112612e-01],\n",
       "         [ 2.65758760e-01,  5.04615280e-01,  3.02303076e-01]]],\n",
       "\n",
       "\n",
       "       [[[ 1.19190147e+00, -1.29335457e-02, -9.87490912e-01],\n",
       "         [-1.22308362e+00,  1.13804993e+00,  1.77314657e+00],\n",
       "         [-1.49606416e-01, -1.45592817e-01, -1.79095365e+00],\n",
       "         ...,\n",
       "         [-2.13210775e-01,  1.26028671e-01,  1.16512191e+00],\n",
       "         [-1.20058650e+00,  2.62098843e+00, -1.12828403e+00],\n",
       "         [ 1.17496269e+00,  5.99695050e-01, -9.89782693e-02]],\n",
       "\n",
       "        [[ 1.66046230e+00, -5.95667520e-01, -3.45254562e-01],\n",
       "         [-4.11870702e-01,  1.04536380e+00, -1.65583639e+00],\n",
       "         [-1.21969802e+00, -1.67560793e+00,  1.95739714e+00],\n",
       "         ...,\n",
       "         [ 3.17882336e+00,  8.67906936e-01, -1.33844079e+00],\n",
       "         [ 1.22010053e-01,  4.22945319e-01,  1.53347535e-01],\n",
       "         [ 1.54798677e+00,  1.40121101e+00,  1.50880169e-01]],\n",
       "\n",
       "        [[-5.90981287e-01,  1.56658230e+00, -9.72537172e-01],\n",
       "         [-4.62091887e-01, -1.94713919e+00, -4.42250908e-02],\n",
       "         [-1.06548847e+00,  5.55809785e-01, -9.07360030e-01],\n",
       "         ...,\n",
       "         [-5.73693458e-01, -2.81863280e-01, -1.90498457e+00],\n",
       "         [-3.25901062e-01,  1.64560528e+00,  3.66150014e-01],\n",
       "         [ 1.17390800e-02, -5.65791410e-01,  1.03495873e+00]],\n",
       "\n",
       "        ...,\n",
       "\n",
       "        [[-3.63018833e-01,  6.69086110e-01, -3.11243504e-01],\n",
       "         [ 3.44976854e-01, -1.77182948e-01,  6.85470828e-01],\n",
       "         [ 2.33063220e-01, -1.07272146e-01, -1.55852298e+00],\n",
       "         ...,\n",
       "         [-9.74854958e-01, -2.66360778e-01, -3.61576411e-02],\n",
       "         [ 5.46076575e-01,  4.54862598e-01,  6.23364128e-01],\n",
       "         [-1.07404666e+00, -1.83092008e+00, -1.09663556e-01]],\n",
       "\n",
       "        [[-5.17481963e-01,  6.76062057e-01,  5.45298898e-01],\n",
       "         [-8.46144578e-01,  1.90317886e+00, -2.87503117e-01],\n",
       "         [ 8.85816156e-01,  1.82177604e+00, -5.78039751e-01],\n",
       "         ...,\n",
       "         [ 3.69998568e-01,  5.95656736e-01,  1.89991472e-02],\n",
       "         [-1.17431172e+00,  9.40326417e-02, -2.38217907e+00],\n",
       "         [ 1.08900886e+00,  1.57842890e+00, -7.68631410e-01]],\n",
       "\n",
       "        [[ 1.47544884e+00,  1.47030998e+00,  1.31527511e+00],\n",
       "         [ 6.82702840e-01, -5.04801372e-02,  1.70672470e-01],\n",
       "         [ 3.64201695e-01,  8.45769942e-01, -7.26628311e-01],\n",
       "         ...,\n",
       "         [ 1.23487048e+00, -8.85556593e-03,  1.24441095e+00],\n",
       "         [ 3.74833607e-01, -1.21937763e+00, -1.12871776e+00],\n",
       "         [ 9.59875644e-01, -1.33147834e-01, -1.52895252e+00]]],\n",
       "\n",
       "\n",
       "       ...,\n",
       "\n",
       "\n",
       "       [[[-3.60351161e-01, -1.27749863e+00,  5.07478354e-01],\n",
       "         [ 5.78585417e-01, -9.40522734e-02,  2.82112133e-01],\n",
       "         [ 1.14231388e+00, -2.09947512e-01, -1.16935750e+00],\n",
       "         ...,\n",
       "         [-1.40876854e+00,  1.16912394e+00,  9.80855083e-01],\n",
       "         [-1.85616694e-01,  5.13098861e-02,  8.96596517e-01],\n",
       "         [-2.01910542e+00, -4.03485534e-01,  1.35653577e+00]],\n",
       "\n",
       "        [[-5.08728017e-01,  1.51938479e+00,  1.39454553e+00],\n",
       "         [ 3.41499419e-01,  1.07818163e+00, -6.73513669e-01],\n",
       "         [-3.43970807e-01,  2.65360373e-02, -4.27870495e-02],\n",
       "         ...,\n",
       "         [-8.69576276e-01,  4.40924305e-01, -5.49484125e-01],\n",
       "         [ 7.20250791e-01,  9.42244081e-01, -4.66025951e-01],\n",
       "         [-1.50703699e+00, -1.00182430e+00, -6.55744997e-01]],\n",
       "\n",
       "        [[ 1.37800783e+00,  3.50520555e-01,  8.96117622e-02],\n",
       "         [-1.02210499e+00,  5.41045313e-01, -3.88377556e-01],\n",
       "         [-6.82907219e-01, -2.73953447e+00,  2.16831088e-01],\n",
       "         ...,\n",
       "         [ 1.03350519e-01, -2.07069088e-03,  7.66132171e-01],\n",
       "         [ 1.63680311e-01, -4.85948324e-01, -2.91303331e-01],\n",
       "         [ 2.03950715e+00, -4.42856941e-01, -2.05201498e-01]],\n",
       "\n",
       "        ...,\n",
       "\n",
       "        [[ 4.42508759e-01,  1.00085267e+00,  2.26985971e-02],\n",
       "         [-2.25795187e-01, -7.98406205e-01, -8.43060134e-02],\n",
       "         [-5.12272669e-01, -3.86082825e-01, -6.01777878e-01],\n",
       "         ...,\n",
       "         [-2.43584056e+00,  2.28351878e-01, -9.49909605e-01],\n",
       "         [ 7.62714270e-01, -8.63052821e-02, -5.48306433e-01],\n",
       "         [-1.32800474e+00,  1.11174777e+00,  9.39095942e-01]],\n",
       "\n",
       "        [[-9.06168711e-01,  5.59742897e-01, -1.36603335e+00],\n",
       "         [-5.36726861e-02, -8.82903535e-02,  2.84517829e-01],\n",
       "         [-1.28023500e-01, -1.11286208e+00, -1.24107865e+00],\n",
       "         ...,\n",
       "         [-4.48222796e-01,  2.32956161e+00, -1.79866491e+00],\n",
       "         [ 6.20323677e-01,  1.44412613e-01, -1.55019106e+00],\n",
       "         [ 1.24769238e+00, -9.27283768e-01,  2.73517590e-01]],\n",
       "\n",
       "        [[ 7.78607766e-02, -1.80138178e+00,  4.73059112e-02],\n",
       "         [ 1.10864134e-01,  1.01484855e+00, -1.45625354e-01],\n",
       "         [ 1.85697896e+00,  4.04315095e-02, -2.42837356e-01],\n",
       "         ...,\n",
       "         [-7.81521039e-01, -5.43599363e-01,  4.15298067e-01],\n",
       "         [ 5.38147117e-02,  1.77637301e-01, -2.70739875e-01],\n",
       "         [ 7.82354800e-01,  9.59492999e-01,  9.20943113e-02]]],\n",
       "\n",
       "\n",
       "       [[[-4.96390976e-01,  1.51950915e-01,  8.51724034e-01],\n",
       "         [-3.64526533e-01, -8.03750348e-01, -2.69082096e-01],\n",
       "         [ 1.45517211e+00, -7.68314638e-01,  1.15052702e+00],\n",
       "         ...,\n",
       "         [-1.41420851e-01,  2.40932277e+00,  5.68101050e-01],\n",
       "         [-8.68608197e-01, -7.75110829e-01,  6.18443335e-02],\n",
       "         [ 5.72035609e-01, -1.05370474e+00,  5.99206579e-01]],\n",
       "\n",
       "        [[ 1.20644768e+00, -4.60476553e-01,  7.34983046e-01],\n",
       "         [ 1.19912472e+00, -4.08379309e-01, -5.53218326e-01],\n",
       "         [-6.84459447e-02, -2.22826176e+00, -1.33258800e+00],\n",
       "         ...,\n",
       "         [ 1.11706327e+00, -3.57485177e-01, -5.65213349e-01],\n",
       "         [-1.39541634e+00,  1.72455639e+00, -2.94404178e-01],\n",
       "         [-8.73244470e-01,  6.53096055e-01,  2.91493216e-01]],\n",
       "\n",
       "        [[ 7.44003527e-01, -8.96391987e-01,  4.68925615e-01],\n",
       "         [-9.95429916e-01, -1.34729936e+00, -4.08543063e-01],\n",
       "         [-2.96458580e-01,  9.51685648e-01, -3.55321412e-01],\n",
       "         ...,\n",
       "         [-5.95621779e-02, -6.25424459e-01,  8.91582230e-01],\n",
       "         [-1.13680887e+00,  1.08108163e+00, -5.80076895e-01],\n",
       "         [-9.80108328e-02,  6.31944830e-01,  5.82832211e-01]],\n",
       "\n",
       "        ...,\n",
       "\n",
       "        [[ 7.17127865e-01, -6.80898949e-01, -1.09871814e+00],\n",
       "         [-3.36879961e-02,  1.13976199e+00,  5.19174839e-02],\n",
       "         [ 1.86111599e-01, -6.09921723e-01, -1.00725879e+00],\n",
       "         ...,\n",
       "         [-8.35435757e-01,  3.51374006e-02, -7.15784204e-01],\n",
       "         [ 9.72054328e-02,  5.90244049e-01,  1.69610961e+00],\n",
       "         [-2.03644296e+00,  8.18243094e-01,  2.85805222e-01]],\n",
       "\n",
       "        [[ 4.08682687e-01, -9.98886419e-02, -7.32121331e-01],\n",
       "         [-1.30590186e+00,  1.35095363e+00,  4.03030098e-01],\n",
       "         [ 3.30228621e-01, -6.46334253e-01,  1.36655963e+00],\n",
       "         ...,\n",
       "         [ 2.77064686e-01, -4.95533663e-01, -7.64318880e-01],\n",
       "         [-2.04579106e+00,  7.89827308e-01,  5.52864016e-02],\n",
       "         [ 2.81786740e-01, -1.26937393e-01, -1.55768411e-01]],\n",
       "\n",
       "        [[-4.14334189e-01, -1.23934126e+00,  4.62763566e-01],\n",
       "         [ 4.24969693e-06, -4.52802764e-01, -6.78922004e-01],\n",
       "         [ 1.82882486e+00,  6.16703767e-01,  8.00292951e-01],\n",
       "         ...,\n",
       "         [ 2.29986625e+00,  1.59599091e-01,  7.70560645e-01],\n",
       "         [-1.36937916e+00, -1.01081133e+00,  2.25455196e+00],\n",
       "         [-1.09271284e+00,  1.03801296e-01,  1.03412457e+00]]],\n",
       "\n",
       "\n",
       "       [[[-2.36011981e-01, -7.91331783e-02, -1.59328986e+00],\n",
       "         [ 1.14394687e+00,  1.52360638e+00, -4.74403660e-01],\n",
       "         [ 4.95831456e-01, -5.17565496e-01, -3.72989602e-01],\n",
       "         ...,\n",
       "         [-8.96821249e-01, -1.03115762e+00, -1.22040768e-01],\n",
       "         [-3.33474245e-01,  1.40908703e+00,  6.47038171e-01],\n",
       "         [ 7.38433287e-01, -1.22248395e+00,  9.81566494e-01]],\n",
       "\n",
       "        [[-1.19092997e+00, -1.42554197e+00,  1.08753430e+00],\n",
       "         [ 1.36624105e+00,  1.28623798e-01, -2.18012732e+00],\n",
       "         [ 1.21328141e+00, -2.25351297e+00, -4.93649532e-01],\n",
       "         ...,\n",
       "         [-1.81229007e-01, -1.93174271e+00, -3.51060384e-01],\n",
       "         [ 4.73891830e-01,  2.43354330e-01, -1.12462330e+00],\n",
       "         [-3.75711912e-01, -2.50880027e-01, -1.80903630e+00]],\n",
       "\n",
       "        [[-1.60847370e+00, -6.06621123e-01, -3.08318663e-01],\n",
       "         [-7.63341959e-01, -6.19273787e-01,  5.29968626e-01],\n",
       "         [ 8.16528254e-01,  8.52959452e-01, -4.04016425e-02],\n",
       "         ...,\n",
       "         [-1.95193154e-01, -3.67709729e-01,  7.63954817e-02],\n",
       "         [-5.21634752e-01, -3.95039696e-01,  3.80134829e-01],\n",
       "         [ 9.03621312e-01,  1.52981451e+00, -3.98029870e-01]],\n",
       "\n",
       "        ...,\n",
       "\n",
       "        [[ 7.98792824e-01, -1.98930540e+00,  2.37270402e-01],\n",
       "         [ 1.17496206e+00, -2.32038681e+00, -1.37261186e+00],\n",
       "         [ 5.94819927e-01,  2.19682073e+00,  7.26294910e-01],\n",
       "         ...,\n",
       "         [-1.54884954e+00,  1.10255514e+00, -2.61290840e-01],\n",
       "         [-2.44519995e+00,  7.38595773e-01,  1.34820483e+00],\n",
       "         [ 8.16432941e-01,  3.86128893e-01,  1.35042443e+00]],\n",
       "\n",
       "        [[ 7.28833988e-02,  8.80728401e-01,  1.62381801e+00],\n",
       "         [-4.85784513e-01,  1.22982411e+00,  8.10049437e-02],\n",
       "         [ 1.49707103e+00, -7.43936793e-01,  1.15923178e+00],\n",
       "         ...,\n",
       "         [-2.11709485e+00,  9.56534415e-01, -4.18369446e-01],\n",
       "         [ 1.37794670e-01, -2.30538290e+00, -1.07784578e+00],\n",
       "         [ 2.47959895e-01, -1.26605693e+00, -1.20124503e+00]],\n",
       "\n",
       "        [[-1.51243782e+00, -7.34445507e-01, -1.82300348e-01],\n",
       "         [-5.57613268e-02,  4.95038284e-01,  1.12487415e-01],\n",
       "         [ 4.23552753e-01, -7.63316833e-01,  3.70693017e-01],\n",
       "         ...,\n",
       "         [ 1.05913437e+00, -1.96872138e+00, -7.84617454e-01],\n",
       "         [ 1.01278467e+00,  1.53008223e-01,  8.64518623e-01],\n",
       "         [-2.22772088e-02,  5.50218313e-01, -1.28349621e+00]]]])"
      ]
     },
     "execution_count": 30,
     "metadata": {},
     "output_type": "execute_result"
    }
   ],
   "source": [
    "# Create Dummy Data\n",
    "image = np.random.randn(128, 256, 256, 3)\n",
    "image"
   ]
  },
  {
   "cell_type": "markdown",
   "metadata": {},
   "source": [
    "- height, width, and color depth.\n",
    "- samples, width,height,chanel (TensorFlow)\n"
   ]
  },
  {
   "cell_type": "code",
   "execution_count": 31,
   "metadata": {},
   "outputs": [
    {
     "data": {
      "text/plain": [
       "array([[[[-9.47896641e-01, -7.15843581e-02, -9.42255564e-01],\n",
       "         [-1.12908019e+00,  4.64535723e-01, -9.14439472e-01],\n",
       "         [ 1.18600528e-01, -1.55658766e+00, -7.97034800e-01],\n",
       "         ...,\n",
       "         [ 4.55024030e-02, -5.61105641e-01, -5.66226259e-01],\n",
       "         [-5.55798358e-01,  2.74628739e-01, -8.24603327e-02],\n",
       "         [-1.67631510e+00,  5.56595641e-01,  2.49052340e+00]],\n",
       "\n",
       "        [[-3.16080444e-01,  4.62128068e-01,  2.52359360e-01],\n",
       "         [-2.25647680e-01, -3.15903998e-02, -6.01045610e-01],\n",
       "         [ 1.32771868e+00,  9.63279278e-01, -6.43215646e-01],\n",
       "         ...,\n",
       "         [-1.16567070e+00,  1.93477774e+00, -1.07572697e+00],\n",
       "         [-1.37997606e+00,  8.23783587e-01, -5.77591169e-01],\n",
       "         [-1.51912480e+00,  1.15248177e-01,  7.09166933e-01]],\n",
       "\n",
       "        [[ 5.97382081e-01, -1.43941403e+00,  3.94572521e-01],\n",
       "         [ 1.46610175e+00,  2.08728006e+00, -1.16721964e+00],\n",
       "         [-2.59992994e-01, -5.72796950e-01,  3.73659220e-02],\n",
       "         ...,\n",
       "         [ 9.68108984e-01, -3.42019859e-01,  1.59359512e+00],\n",
       "         [ 1.68688556e+00, -1.78626917e+00, -5.20092585e-01],\n",
       "         [-3.30501947e-01, -3.72256346e-01, -1.05501136e-01]],\n",
       "\n",
       "        ...,\n",
       "\n",
       "        [[-1.42738397e+00,  8.90643911e-01,  1.57364409e-01],\n",
       "         [ 7.48457084e-01,  2.52207910e-01,  9.43569661e-01],\n",
       "         [ 6.98709553e-01,  4.96825104e-01, -4.71488797e-03],\n",
       "         ...,\n",
       "         [ 6.68543730e-01,  1.19247100e+00,  8.42033019e-01],\n",
       "         [-3.60724209e-01, -8.29055185e-01, -4.98993405e-01],\n",
       "         [ 8.54756532e-01, -2.71684988e+00, -1.62716359e-02]],\n",
       "\n",
       "        [[ 1.28676853e+00, -4.61123896e-01,  7.60795644e-01],\n",
       "         [ 7.95486103e-03,  1.26156965e+00,  6.25263956e-01],\n",
       "         [-7.22540133e-01,  6.46181864e-01,  1.10550200e+00],\n",
       "         ...,\n",
       "         [-3.15143254e-01,  4.74669347e-02,  8.21327139e-01],\n",
       "         [ 9.94646040e-02,  1.21571692e+00, -1.63193219e-03],\n",
       "         [ 1.13243135e+00,  3.30215634e-01, -1.36859468e-01]],\n",
       "\n",
       "        [[-1.53796233e+00, -5.93699865e-01, -4.66958039e-01],\n",
       "         [ 4.81430337e-01,  1.42268712e+00, -1.47118637e+00],\n",
       "         [ 3.07077580e-01,  2.74009783e-01,  1.59320623e-01],\n",
       "         ...,\n",
       "         [-1.00083771e+00,  6.56678021e-01, -2.75159435e-01],\n",
       "         [ 8.49471765e-01,  1.68029165e-01,  7.54032348e-02],\n",
       "         [-5.28842071e-02, -1.18081451e+00,  7.54017207e-01]]]])"
      ]
     },
     "execution_count": 31,
     "metadata": {},
     "output_type": "execute_result"
    }
   ],
   "source": [
    "data = np.random.randn(128, 256, 256, 3)\n",
    "data[:1]"
   ]
  },
  {
   "cell_type": "markdown",
   "metadata": {},
   "source": [
    "## 2.2.12 Video data"
   ]
  },
  {
   "cell_type": "markdown",
   "metadata": {},
   "source": [
    "- (samples, frames, height, width, color_depth)"
   ]
  },
  {
   "cell_type": "markdown",
   "metadata": {},
   "source": [
    "# 2.3 The gears of neural networks: tensor operations"
   ]
  },
  {
   "cell_type": "markdown",
   "metadata": {},
   "source": [
    " In our initial example, we were building our network by stacking Dense layers on\n",
    "top of each other. A Keras layer instance looks like this:"
   ]
  },
  {
   "cell_type": "code",
   "execution_count": 32,
   "metadata": {},
   "outputs": [
    {
     "data": {
      "text/plain": [
       "<keras.layers.core.Dense at 0x1b12b033780>"
      ]
     },
     "execution_count": 32,
     "metadata": {},
     "output_type": "execute_result"
    }
   ],
   "source": [
    "import keras\n",
    "keras.layers.Dense(512, activation='relu')"
   ]
  },
  {
   "cell_type": "code",
   "execution_count": 33,
   "metadata": {},
   "outputs": [],
   "source": [
    "def naive_relu(x):\n",
    "    assert len(x.shape) == 2\n",
    "    x = x.copy()\n",
    "    for i in range(x.shape[0]):\n",
    "        for j in range(x.shape[1]):\n",
    "            x[i, j] = max(x[i, j], 0)\n",
    "    return x"
   ]
  },
  {
   "cell_type": "code",
   "execution_count": 48,
   "metadata": {},
   "outputs": [
    {
     "data": {
      "text/plain": [
       "array([[ 0.        ,  0.        ],\n",
       "       [ 0.        ,  0.        ],\n",
       "       [ 0.        ,  0.        ],\n",
       "       [ 0.        ,  0.        ],\n",
       "       [ 0.        ,  0.        ],\n",
       "       [ 0.        ,  0.        ],\n",
       "       [ 0.        ,  0.        ],\n",
       "       [ 0.        ,  0.        ],\n",
       "       [ 0.        ,  0.        ],\n",
       "       [ 0.        ,  0.        ],\n",
       "       [ 0.        ,  0.        ],\n",
       "       [ 0.        ,  0.        ],\n",
       "       [ 0.        ,  0.20408163],\n",
       "       [ 0.6122449 ,  1.02040816],\n",
       "       [ 1.42857143,  1.83673469],\n",
       "       [ 2.24489796,  2.65306122],\n",
       "       [ 3.06122449,  3.46938776],\n",
       "       [ 3.87755102,  4.28571429],\n",
       "       [ 4.69387755,  5.10204082],\n",
       "       [ 5.51020408,  5.91836735],\n",
       "       [ 6.32653061,  6.73469388],\n",
       "       [ 7.14285714,  7.55102041],\n",
       "       [ 7.95918367,  8.36734694],\n",
       "       [ 8.7755102 ,  9.18367347],\n",
       "       [ 9.59183673, 10.        ]])"
      ]
     },
     "execution_count": 48,
     "metadata": {},
     "output_type": "execute_result"
    }
   ],
   "source": [
    "import numpy as np\n",
    "a = np.linspace(-10,10,50).reshape((25,2))\n",
    "a\n",
    "naive_relu(a)\n"
   ]
  },
  {
   "cell_type": "code",
   "execution_count": 34,
   "metadata": {
    "collapsed": true
   },
   "outputs": [],
   "source": [
    "def naive_add(x, y):\n",
    "    assert len(x.shape) == 2\n",
    "    assert x.shape == y.shape\n",
    "    \n",
    "    x = x.copy()\n",
    "    for i in range(x.shape[0]):\n",
    "        for j in range(x.shape[1]):\n",
    "            x[i, j] += y[i, j]\n",
    "    return x"
   ]
  },
  {
   "cell_type": "code",
   "execution_count": 49,
   "metadata": {},
   "outputs": [
    {
     "data": {
      "text/plain": [
       "array([2, 5, 7])"
      ]
     },
     "execution_count": 49,
     "metadata": {},
     "output_type": "execute_result"
    }
   ],
   "source": [
    "a=np.array([1,5,6])\n",
    "b=np.array([2,3,7])\n",
    "np.maximum(a,b)"
   ]
  },
  {
   "cell_type": "markdown",
   "metadata": {},
   "source": [
    "So, in Numpy, you can do the following element-wise operation, and it will be blazing\n",
    "fast:\n"
   ]
  },
  {
   "cell_type": "raw",
   "metadata": {},
   "source": [
    "import numpy as np\n",
    "z=x+y\n",
    "z = np.maximum(z, 0.)"
   ]
  },
  {
   "cell_type": "markdown",
   "metadata": {},
   "source": [
    "# 2.3.2 Broadcasting"
   ]
  },
  {
   "cell_type": "markdown",
   "metadata": {},
   "source": [
    "the smaller tensor will be broadcasted to\n",
    "match the shape of the larger tensor.\n",
    "- Axes (called broadcast axes) are added to the smaller tensor to match the ndim of\n",
    "the larger tensor.\n",
    "- Axes (called broadcast axes) are added to the smaller tensor to match the ndim of\n",
    "the larger tensor.\n",
    "    - `X shape (32,10) <br> y shape (10,)<br> (1,10)<br>(32, 10), where Y[i, :] == y for i in range(0, 32)"
   ]
  },
  {
   "cell_type": "code",
   "execution_count": 50,
   "metadata": {},
   "outputs": [],
   "source": [
    "def naive_add_matrix_and_vector(x, y):\n",
    "    assert len(x.shape) == 2\n",
    "    assert len(y.shape) == 1\n",
    "    assert x.shape[1] == y.shape[0]\n",
    "    x = x.copy()\n",
    "    for i in range(x.shape[0]):\n",
    "        for j in range(x.shape[1]):\n",
    "            x[i, j] += y[j]\n",
    "    return x"
   ]
  },
  {
   "cell_type": "code",
   "execution_count": 51,
   "metadata": {},
   "outputs": [],
   "source": [
    "import numpy as np\n",
    "x = np.random.random((64, 3, 32, 10))\n",
    "y = np.random.random((32, 10))\n",
    "z = np.maximum(x, y)\n"
   ]
  },
  {
   "cell_type": "markdown",
   "metadata": {},
   "source": [
    "The output z has shape\n",
    "(64, 3, 32, 10) like x."
   ]
  },
  {
   "cell_type": "markdown",
   "metadata": {},
   "source": [
    "## 2.3.3 Tensor dot"
   ]
  },
  {
   "cell_type": "markdown",
   "metadata": {},
   "source": [
    "The dot operation, also called a tensor product (not to be confused with an elementwise\n",
    "product) is the most common"
   ]
  },
  {
   "cell_type": "code",
   "execution_count": 52,
   "metadata": {},
   "outputs": [
    {
     "name": "stdout",
     "output_type": "stream",
     "text": [
      "[-1.48723197 -0.93750647 -0.81655169 -0.31828496  0.90283989  0.81892727\n",
      "  0.08415165 -0.64054396  1.64867571  0.08957111]\n",
      "[ 0.52947253  2.00009083  0.98430394 -0.40395351 -0.99946225  0.07453687\n",
      "  0.31000777  0.12880358  1.04312446  0.936581  ] In mathematical notation, you’d note the operation with a dot (.):\n"
     ]
    },
    {
     "data": {
      "text/plain": [
       "-2.4317755160760526"
      ]
     },
     "execution_count": 52,
     "metadata": {},
     "output_type": "execute_result"
    }
   ],
   "source": [
    "import numpy as np\n",
    "x = np.random.randn(10)\n",
    "y = np.random.randn(10)\n",
    "z = np.dot(x, y)\n",
    "print(x)\n",
    "print(y,\"In mathematical notation, you’d note the operation with a dot (.):\")\n",
    "z"
   ]
  },
  {
   "cell_type": "markdown",
   "metadata": {},
   "source": [
    "In mathematical notation, you’d note the operation with a dot (.):"
   ]
  },
  {
   "cell_type": "code",
   "execution_count": 53,
   "metadata": {},
   "outputs": [],
   "source": [
    "# z = x . y\n",
    "\n",
    "def naive_vector_dot(x, y):\n",
    "    assert len(x.shape) == 1\n",
    "    assert len(y.shape) == 1\n",
    "    assert x.shape[0] == y.shape[0]\n",
    "    \n",
    "    z = 0.\n",
    "    for i in range(x.shape[0]):\n",
    "        z += x[i] * y[i]\n",
    "    return z\n"
   ]
  },
  {
   "cell_type": "code",
   "execution_count": 54,
   "metadata": {},
   "outputs": [],
   "source": [
    "import numpy as np\n",
    "def naive_matrix_vector_dot(x, y):\n",
    "    assert len(x.shape) == 2\n",
    "    assert len(y.shape) == 1\n",
    "    assert x.shape[1] == y.shape[0]\n",
    "    z = np.zeros(x.shape[0])\n",
    "    for i in range(x.shape[0]):\n",
    "        for j in range(x.shape[1]):\n",
    "            z[i] += x[i, j] * y[j]\n",
    "    return z"
   ]
  },
  {
   "cell_type": "markdown",
   "metadata": {},
   "source": [
    "You could also reuse the code we wrote previously, which highlights the relationship\n",
    "between a matrix-vector product and a vector product:"
   ]
  },
  {
   "cell_type": "code",
   "execution_count": 55,
   "metadata": {},
   "outputs": [],
   "source": [
    "def naive_matrix_vector_dot(x, y):\n",
    "    z = np.zeros(x.shape[0])\n",
    "    for i in range(x.shape[0]):\n",
    "        z[i] = naive_vector_dot(x[i, :], y)\n",
    "    return z"
   ]
  },
  {
   "cell_type": "code",
   "execution_count": 56,
   "metadata": {},
   "outputs": [],
   "source": [
    "def naive_matrix_dot(x, y):\n",
    "    assert len(x.shape) == 2\n",
    "    assert len(y.shape) == 2\n",
    "    assert x.shape[1] == y.shape[0]\n",
    "    z = np.zeros((x.shape[0], y.shape[1]))\n",
    "    for i in range(x.shape[0]):\n",
    "        for j in range(y.shape[1]):\n",
    "            row_x = x[i, :]\n",
    "            column_y = y[:, j]\n",
    "            z[i, j] = naive_vector_dot(row_x, column_y)\n",
    "    return z"
   ]
  },
  {
   "cell_type": "markdown",
   "metadata": {},
   "source": [
    "<img src='images/f2.5.png'>"
   ]
  },
  {
   "cell_type": "markdown",
   "metadata": {},
   "source": [
    "More generally, you can take the dot product between higher-dimensional tensors,\n",
    "following the same rules for shape compatibility as outlined earlier for the 2D case:\n",
    "```\n",
    "(a, b, c, d) . (d,) -> (a, b, c)\n",
    "(a, b, c, d) . (d, e) -> (a, b, c, e)\n",
    "```"
   ]
  },
  {
   "cell_type": "markdown",
   "metadata": {},
   "source": [
    "## 2.3.4 Tensor reshaping"
   ]
  },
  {
   "cell_type": "markdown",
   "metadata": {},
   "source": [
    " preprocessed the digits data before feeding it into our network\n",
    "```train_images = train_images.reshape((60000, 28 * 28)) ```"
   ]
  },
  {
   "cell_type": "code",
   "execution_count": 57,
   "metadata": {},
   "outputs": [],
   "source": [
    "x = np.array([[0., 1.],\n",
    "[2., 3.],\n",
    "[4., 5.]])"
   ]
  },
  {
   "cell_type": "code",
   "execution_count": 58,
   "metadata": {},
   "outputs": [
    {
     "name": "stdout",
     "output_type": "stream",
     "text": [
      "(3, 2)\n"
     ]
    }
   ],
   "source": [
    " print(x.shape)"
   ]
  },
  {
   "cell_type": "code",
   "execution_count": 59,
   "metadata": {},
   "outputs": [
    {
     "data": {
      "text/plain": [
       "array([[0., 1., 2., 3., 4., 5.]])"
      ]
     },
     "execution_count": 59,
     "metadata": {},
     "output_type": "execute_result"
    }
   ],
   "source": [
    "x = x.reshape(1,6)\n",
    "x"
   ]
  },
  {
   "cell_type": "code",
   "execution_count": 60,
   "metadata": {},
   "outputs": [
    {
     "data": {
      "text/plain": [
       "array([[0.],\n",
       "       [1.],\n",
       "       [2.],\n",
       "       [3.],\n",
       "       [4.],\n",
       "       [5.]])"
      ]
     },
     "execution_count": 60,
     "metadata": {},
     "output_type": "execute_result"
    }
   ],
   "source": [
    "x = x.reshape(6,1)\n",
    "x"
   ]
  },
  {
   "cell_type": "code",
   "execution_count": 61,
   "metadata": {},
   "outputs": [
    {
     "name": "stdout",
     "output_type": "stream",
     "text": [
      "(20, 300)\n"
     ]
    }
   ],
   "source": [
    "x = np.zeros((300, 20))\n",
    "x = np.transpose(x)\n",
    "print(x.shape)"
   ]
  },
  {
   "cell_type": "markdown",
   "metadata": {},
   "source": [
    "## Geometric interpretation of tensor operations"
   ]
  },
  {
   "cell_type": "markdown",
   "metadata": {},
   "source": [
    "For instance, let’s consider addition. We’ll start with the following\n",
    "vector:\n",
    "` A = [0.5, 1]`\n",
    "<img src='images/f2.6.png'>"
   ]
  },
  {
   "cell_type": "markdown",
   "metadata": {},
   "source": [
    "Let’s consider a new point, B = [1, 0.25],\n",
    " the resulting location\n",
    "being the vector representing the sum of the previous two vectors (see figure 2.8).<img src='images/f2.8.png'>"
   ]
  },
  {
   "cell_type": "markdown",
   "metadata": {},
   "source": [
    "In general, elementary geometric operations such as affine transformations, rotations,\n",
    "scaling, and so on can be expressed as tensor operations. For instance, a rotation of a\n",
    "2D vector by an angle theta can be achieved via a dot product with a 2 × 2 matrix\n",
    "R = [u, v], where u and v are both vectors of the plane: u = [cos(theta),\n",
    "sin(theta)] and v = [-sin(theta), cos(theta)]. "
   ]
  },
  {
   "cell_type": "markdown",
   "metadata": {},
   "source": [
    "## 2.3.6 A geometric interpretation of deep learning"
   ]
  },
  {
   "cell_type": "markdown",
   "metadata": {},
   "source": [
    "<img src='images/f2.9.png'>\n",
    " Each layer in a deep network applies a transformation that\n",
    "disentangles the data a little—and a deep stack of layers makes tractable an extremely\n",
    "complicated disentanglement process. "
   ]
  },
  {
   "cell_type": "markdown",
   "metadata": {},
   "source": [
    "## 2.4 The engine of neural networks:<br>gradient-based optimization"
   ]
  },
  {
   "cell_type": "raw",
   "metadata": {},
   "source": [
    "This happens within what’s called a training loop, which works as follows. Repeat\n",
    "these steps in a loop, as long as necessary:\n",
    "1 Draw a batch of training samples x and corresponding targets y.\n",
    "2 Run the network on x (a step called the forward pass) to obtain predictions y_pred.\n",
    "3 Compute the loss of the network on the batch, a measure of the mismatch\n",
    "between y_pred and y.\n",
    "4 Update all weights of the network in a way that slightly reduces the loss on this\n",
    "batch."
   ]
  },
  {
   "cell_type": "markdown",
   "metadata": {},
   "source": [
    "## 2.4.1 What’s a derivative?"
   ]
  },
  {
   "cell_type": "markdown",
   "metadata": {},
   "source": [
    "```\n",
    "f(x + epsilon_x) = y + epsilon_y\n",
    "f(x + epsilon_x) = y + a * epsilon_x\n",
    "```\n",
    "Obviously, this linear approximation is valid only when x is close enough to p.\n",
    " The slope a is called the derivative of f in p. If a is negative, it means a small change\n",
    "of x around p will result in a decrease of f(x) (as shown in figure 2.10); and if a is positive,\n",
    "a small change in x will result in an increase of f(x). Further, the absolute value\n",
    "of a (the magnitude of the derivative) tells you how quickly this increase or decrease\n",
    "will happen.\n",
    "<img src='images/f2.10.png'>\n",
    " If you’re trying to update x by a factor epsilon_x in order to minimize f(x), and\n",
    "you know the derivative of f, then your job is done: the derivative completely\n",
    "describes how f(x) evolves as you change x. If you want to reduce the value of f(x),\n",
    "you just need to move x a little in the opposite direction from the derivative. "
   ]
  },
  {
   "cell_type": "markdown",
   "metadata": {},
   "source": [
    "## 2.4.2 Derivative of a tensor operation: the gradient"
   ]
  },
  {
   "cell_type": "markdown",
   "metadata": {},
   "source": [
    " Consider an input vector x, a matrix W, a target y, and a loss function loss. You can\n",
    "use W to compute a target candidate y_pred, and compute the loss, or mismatch,\n",
    "between the target candidate y_pred and the target y:\n",
    "<br>`y_pred = dot(W, x)`<br>\n",
    "`loss_value = loss(y_pred, y)`<br>\n",
    "If the data inputs x and y are frozen, then this can be interpreted as a function mapping\n",
    "values of W to loss values:<br>\n",
    "`loss_value = f(W)`"
   ]
  },
  {
   "cell_type": "markdown",
   "metadata": {},
   "source": [
    "## 2.4.3 Stochastic gradient descent"
   ]
  },
  {
   "cell_type": "markdown",
   "metadata": {},
   "source": [
    "1. Draw a batch of training samples x and corresponding targets y.\n",
    "2. Run the network on x to obtain predictions y_pred.\n",
    "3. Compute the loss of the network on the batch, a measure of the mismatch\n",
    "between y_pred and y.\n",
    "4. Compute the gradient of the loss with regard to the network’s parameters (a\n",
    "backward pass).\n",
    "5. Move the parameters a little in the opposite direction from the gradient—for\n",
    "example W -= step * gradient—thus reducing the loss on the batch a bit.\n",
    "<img src='images/f2.11.png'>\n",
    "<img src='images/f2.12.png'>\n",
    "<img src='images/f2.13.png'>"
   ]
  },
  {
   "cell_type": "raw",
   "metadata": {},
   "source": [
    "past_velocity = 0.\n",
    "momentum = 0.1\n",
    "while loss > 0.01:\n",
    "    w, loss, gradient = get_current_parameters()\n",
    "    velocity = past_velocity * momentum + learning_rate * gradient\n",
    "    w=w+ momentum * velocity - learning_rate * gradient\n",
    "    past_velocity = velocity\n",
    "    update_parameter(w)"
   ]
  },
  {
   "cell_type": "markdown",
   "metadata": {},
   "source": [
    "## 2.4.4 Chaining derivatives: the Backpropagation algorithm"
   ]
  },
  {
   "cell_type": "markdown",
   "metadata": {},
   "source": [
    "three tensor operations,\n",
    "a, b, and c, with weight matrices W1, W2, and W3:\n",
    "`f(W1, W2, W3) = a(W1, b(W2, c(W3)))`\n",
    "Calculus tells us that such a chain of functions can be derived using the following identity,\n",
    "called the chain rule: `f(g(x)) = f'(g(x)) * g'(x)`. Applying the chain rule to the\n",
    "computation of the gradient values of a neural network gives rise to an algorithm\n",
    "called Backpropagation (also sometimes called reverse-mode differentiation). Backpropagation\n",
    "starts with the final loss value and works backward from the top layers to the bottom\n",
    "layers, applying the chain rule to compute the contribution that each parameter\n",
    "had in the loss value."
   ]
  },
  {
   "cell_type": "markdown",
   "metadata": {},
   "source": [
    "## 2.5 Looking back at our first example"
   ]
  },
  {
   "cell_type": "markdown",
   "metadata": {},
   "source": [
    "You’ve reached the end of this chapter, and you should now have a general understanding\n",
    "of what’s going on behind the scenes in a neural network. Let’s go back to\n",
    "the first example and review each piece of it in the light of what you’ve learned in the\n",
    "previous three sections.\n",
    " This was the input data:\n"
   ]
  },
  {
   "cell_type": "code",
   "execution_count": 62,
   "metadata": {},
   "outputs": [],
   "source": [
    "(train_images, train_labels), (test_images, test_labels) = mnist.load_data()\n",
    "train_images = train_images.reshape((60000, 28 * 28))\n",
    "train_images = train_images.astype('float32') / 255\n",
    "test_images = test_images.reshape((10000, 28 * 28))\n",
    "test_images = test_images.astype('float32') / 255\n",
    "\n",
    "\n",
    "from keras.utils import to_categorical\n",
    "train_labels = to_categorical(train_labels)\n",
    "test_labels = to_categorical(test_labels)"
   ]
  },
  {
   "cell_type": "markdown",
   "metadata": {},
   "source": [
    "Now you understand that the input images are stored in Numpy tensors, which are\n",
    "here formatted as float32 tensors of shape (60000, 784) (training data) and (10000,\n",
    "784) (test data), respectively.\n",
    " This was our network:"
   ]
  },
  {
   "cell_type": "code",
   "execution_count": 48,
   "metadata": {
    "collapsed": true
   },
   "outputs": [],
   "source": [
    "network = models.Sequential()\n",
    "network.add(layers.Dense(512, activation='relu', input_shape=(28 * 28,)))\n",
    "network.add(layers.Dense(10, activation='softmax'))"
   ]
  },
  {
   "cell_type": "markdown",
   "metadata": {},
   "source": [
    "Now you understand that this network consists of a chain of two Dense layers, that\n",
    "each layer applies a few simple tensor operations to the input data, and that these\n",
    "operations involve weight tensors. Weight tensors, which are attributes of the layers,\n",
    "are where the knowledge of the network persists.\n",
    " This was the network-compilation step:\n"
   ]
  },
  {
   "cell_type": "code",
   "execution_count": 49,
   "metadata": {
    "collapsed": true
   },
   "outputs": [],
   "source": [
    "network.compile(optimizer='rmsprop',\n",
    "                loss='categorical_crossentropy',\n",
    "                metrics=['accuracy'])\n"
   ]
  },
  {
   "cell_type": "code",
   "execution_count": 50,
   "metadata": {},
   "outputs": [
    {
     "name": "stdout",
     "output_type": "stream",
     "text": [
      "Epoch 1/5\n",
      "60000/60000 [==============================] - 9s - loss: 0.2543 - acc: 0.9257     \n",
      "Epoch 2/5\n",
      "60000/60000 [==============================] - 9s - loss: 0.1035 - acc: 0.9686     \n",
      "Epoch 3/5\n",
      "60000/60000 [==============================] - 9s - loss: 0.0685 - acc: 0.9792     \n",
      "Epoch 4/5\n",
      "60000/60000 [==============================] - 9s - loss: 0.0495 - acc: 0.9848     \n",
      "Epoch 5/5\n",
      "60000/60000 [==============================] - 10s - loss: 0.0376 - acc: 0.9892    \n"
     ]
    },
    {
     "data": {
      "text/plain": [
       "<keras.callbacks.History at 0x21792319d30>"
      ]
     },
     "execution_count": 50,
     "metadata": {},
     "output_type": "execute_result"
    }
   ],
   "source": [
    "network.fit(train_images, train_labels, epochs=5, batch_size=128)\n",
    "#train_images.shape\n",
    "#train_labels.shape"
   ]
  },
  {
   "cell_type": "markdown",
   "metadata": {},
   "source": [
    "# Chapter summary\n",
    "1. Learning means finding a combination of model parameters that minimizes\n",
    "a loss function for a given set of training data samples and their corresponding\n",
    "targets.\n",
    "2. Learning happens by drawing random batches of data samples and their\n",
    "targets, and computing the gradient of the network parameters with\n",
    "respect to the loss on the batch. The network parameters are then moved\n",
    "a bit (the magnitude of the move is defined by the learning rate) in the\n",
    "opposite direction from the gradient.\n",
    "3. The entire learning process is made possible by the fact that neural networks\n",
    "are chains of differentiable tensor operations, and thus it’s possible\n",
    "to apply the chain rule of derivation to find the gradient function mapping\n",
    "the current parameters and current batch of data to a gradient value.\n",
    "4. Two key concepts you’ll see frequently in future chapters are loss and optimizers.\n",
    "These are the two things you need to define before you begin feeding\n",
    "data into a network.\n",
    "5. The loss is the quantity you’ll attempt to minimize during training, so it\n",
    "should represent a measure of success for the task you’re trying to solve.\n",
    "6. The optimizer specifies the exact way in which the gradient of the loss will\n",
    "be used to update parameters: for instance, it could be the RMSProp optimizer,\n",
    "SGD with momentum, and so on."
   ]
  }
 ],
 "metadata": {
  "kernelspec": {
   "display_name": "Python 3",
   "language": "python",
   "name": "python3"
  },
  "language_info": {
   "codemirror_mode": {
    "name": "ipython",
    "version": 3
   },
   "file_extension": ".py",
   "mimetype": "text/x-python",
   "name": "python",
   "nbconvert_exporter": "python",
   "pygments_lexer": "ipython3",
   "version": "3.6.4"
  }
 },
 "nbformat": 4,
 "nbformat_minor": 2
}
