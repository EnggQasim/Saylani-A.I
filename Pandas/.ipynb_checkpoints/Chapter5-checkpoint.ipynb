{
 "cells": [
  {
   "cell_type": "markdown",
   "metadata": {},
   "source": [
    "# The pandas DataFrame Object<br>\n",
    "The pandas DataFrame object extends the capabilities of the Series object into\n",
    "two-dimensions. A Series object adds an index to a NumPy array but can only\n",
    "associate a single data item per index label, a DataFrame integrates multiple Series\n",
    "objects by aligning them along common index labels. This automatic alignment by\n",
    "index label provides a seamless view across all the Series at each index label that\n",
    "has the appearance of a row in a table.<br><br>\n",
    "A DataFrame object can be thought of as a dictionary-like container of one or more\n",
    "Series objects, or as a spreadsheet, probably the best description for those new to\n",
    "pandas is to compare a DataFrame object to a relational database table. However,\n",
    "even that comparison is limited, as a DataFrame object has very distinct qualities\n",
    "(such as automatic data alignment of series) that make it much more capable for\n",
    "exploratory data analysis than either a spreadsheet or relational database table.<br><br>\n",
    "Because of the increased dimensionality of the DataFrame object, it becomes necessary\n",
    "to provide a means to select both rows and columns. Carrying over from a Series,\n",
    "the DataFrame uses the [] operator for selection, but it is now applied to the selection\n",
    "of columns of data. This means that another construct must be used to select specific\n",
    "rows of a DataFrame object. For those operations, a DataFrame object provides several\n",
    "methods and attributes that can be used in various fashions to select data by rows.<br><br>\n",
    "A DataFrame also introduces the concept of multiple axes, specifically the horizontal\n",
    "and vertical axis. Functions from pandas can then be applied to either axis, in essence\n",
    "stating that the operation be applied horizontally to all the values in the rows, or up\n",
    "and down each column.<br><br>\n",
    "In this chapter, we will examine the pandas DataFrame and how we can manipulate\n",
    "both the DataFrame and the data it represents to build a basis for performing\n",
    "interactive data analysis.\n",
    "## we will cover:\n"
   ]
  },
  {
   "cell_type": "raw",
   "metadata": {},
   "source": [
    "* Creating a DataFrame from scratch\n",
    "• Loading sample data to demonstrate the capabilities of a DataFrame object\n",
    "• Selecting columns of a DataFrame object\n",
    "• Selecting rows and values of a DataFrame using the index\n",
    "• Selecting rows of a DataFrame using Boolean selection\n",
    "• Adding, replacing, and deleting columns from a DataFrame\n",
    "• Adding, replacing, and deleting rows from a DataFrame\n",
    "• Modifying scalar values in a DataFrame\n",
    "• Arithmetic operations on the DataFrame objects\n",
    "• Resetting and reindexing a DataFrame\n",
    "• Hierarchically indexing a DataFrame\n",
    "• Statistical methods of a DataFrame\n",
    "• Summarized data and statistical methods of a DataFrame"
   ]
  },
  {
   "cell_type": "markdown",
   "metadata": {},
   "source": [
    "## Creating DataFrame from scratch\n",
    "To use a DataFrame we first need to import pandas and set some options for output."
   ]
  },
  {
   "cell_type": "code",
   "execution_count": 1,
   "metadata": {
    "collapsed": true
   },
   "outputs": [],
   "source": [
    "# reference NumPy and pandas\n",
    "import numpy as np\n",
    "import pandas as pd\n",
    "# Set some pandas options\n",
    "pd.set_option('display.notebook_repr_html', False)\n",
    "pd.set_option('display.max_columns', 10)\n",
    "pd.set_option('display.max_rows', 10)"
   ]
  },
  {
   "cell_type": "code",
   "execution_count": 2,
   "metadata": {},
   "outputs": [
    {
     "data": {
      "text/plain": [
       "    0   1\n",
       "0  10  11\n",
       "1  20  21"
      ]
     },
     "execution_count": 2,
     "metadata": {},
     "output_type": "execute_result"
    }
   ],
   "source": [
    "pd.DataFrame(np.array([[10, 11], [20, 21]]))"
   ]
  },
  {
   "cell_type": "code",
   "execution_count": 3,
   "metadata": {},
   "outputs": [
    {
     "data": {
      "text/plain": [
       "    0   1   2   3   4\n",
       "0  10  11  12  13  14\n",
       "1  15  16  17  18  19"
      ]
     },
     "execution_count": 3,
     "metadata": {},
     "output_type": "execute_result"
    }
   ],
   "source": [
    "# create a DataFrame for a list of Series objects\n",
    "df1 = pd.DataFrame([pd.Series(np.arange(10, 15)),\n",
    "                    pd.Series(np.arange(15, 20))])\n",
    "df1"
   ]
  },
  {
   "cell_type": "code",
   "execution_count": 4,
   "metadata": {},
   "outputs": [
    {
     "data": {
      "text/plain": [
       "(2, 5)"
      ]
     },
     "execution_count": 4,
     "metadata": {},
     "output_type": "execute_result"
    }
   ],
   "source": [
    "# what's the shape of this DataFrame\n",
    "df1.shape # it is two rows by 5 columns"
   ]
  },
  {
   "cell_type": "code",
   "execution_count": 5,
   "metadata": {},
   "outputs": [
    {
     "data": {
      "text/plain": [
       "    a   b\n",
       "0  10  11\n",
       "1  20  21"
      ]
     },
     "execution_count": 5,
     "metadata": {},
     "output_type": "execute_result"
    }
   ],
   "source": [
    "# specify column names\n",
    "df = pd.DataFrame(np.array([[10, 11], [20, 21]]), columns=['a', 'b'])\n",
    "df"
   ]
  },
  {
   "cell_type": "code",
   "execution_count": 6,
   "metadata": {},
   "outputs": [
    {
     "data": {
      "text/plain": [
       "Index(['a', 'b'], dtype='object')"
      ]
     },
     "execution_count": 6,
     "metadata": {},
     "output_type": "execute_result"
    }
   ],
   "source": [
    "# what are the names of the columns?\n",
    "df.columns"
   ]
  },
  {
   "cell_type": "code",
   "execution_count": 7,
   "metadata": {},
   "outputs": [
    {
     "data": {
      "text/plain": [
       "'a, b'"
      ]
     },
     "execution_count": 7,
     "metadata": {},
     "output_type": "execute_result"
    }
   ],
   "source": [
    "# retrieve just the names of the columns by position\n",
    "\"{0}, {1}\".format(df.columns[0], df.columns[1])"
   ]
  },
  {
   "cell_type": "code",
   "execution_count": 8,
   "metadata": {},
   "outputs": [
    {
     "data": {
      "text/plain": [
       "   c1  c2\n",
       "0  10  11\n",
       "1  20  21"
      ]
     },
     "execution_count": 8,
     "metadata": {},
     "output_type": "execute_result"
    }
   ],
   "source": [
    "# rename the columns\n",
    "df.columns = ['c1', 'c2']\n",
    "df"
   ]
  },
  {
   "cell_type": "code",
   "execution_count": 9,
   "metadata": {},
   "outputs": [
    {
     "data": {
      "text/plain": [
       "    c1  c2\n",
       "r1   0   1\n",
       "r2   2   3"
      ]
     },
     "execution_count": 9,
     "metadata": {},
     "output_type": "execute_result"
    }
   ],
   "source": [
    "# create a DataFrame with named columns and rows\n",
    "df = pd.DataFrame(np.array([[0, 1], [2, 3]]),\n",
    "                  columns=['c1', 'c2'],\n",
    "                  index=['r1', 'r2'])\n",
    "df"
   ]
  },
  {
   "cell_type": "code",
   "execution_count": 10,
   "metadata": {},
   "outputs": [
    {
     "data": {
      "text/plain": [
       "Index(['r1', 'r2'], dtype='object')"
      ]
     },
     "execution_count": 10,
     "metadata": {},
     "output_type": "execute_result"
    }
   ],
   "source": [
    "# retrieve the index of the DataFrame\n",
    "df.index\n"
   ]
  },
  {
   "cell_type": "code",
   "execution_count": 11,
   "metadata": {},
   "outputs": [
    {
     "data": {
      "text/plain": [
       "   c1  c2\n",
       "0   1   6\n",
       "1   2   7\n",
       "2   3   8\n",
       "3   4   9\n",
       "4   5  10"
      ]
     },
     "execution_count": 11,
     "metadata": {},
     "output_type": "execute_result"
    }
   ],
   "source": [
    "# create a DataFrame with two Series objects\n",
    " # and a dictionary\n",
    "s1 = pd.Series(np.arange(1, 6, 1))\n",
    "s2 = pd.Series(np.arange(6, 11, 1))\n",
    "pd.DataFrame({'c1': s1, 'c2': s2})"
   ]
  },
  {
   "cell_type": "code",
   "execution_count": 12,
   "metadata": {},
   "outputs": [
    {
     "data": {
      "text/plain": [
       "   c1  c2    c3\n",
       "0   1   6   NaN\n",
       "1   2   7  12.0\n",
       "2   3   8  13.0\n",
       "3   4   9   NaN\n",
       "4   5  10   NaN"
      ]
     },
     "execution_count": 12,
     "metadata": {},
     "output_type": "execute_result"
    }
   ],
   "source": [
    "# demonstrate alignment during creation\n",
    "s3 = pd.Series(np.arange(12, 14), index=[1, 2])\n",
    "df = pd.DataFrame({'c1': s1, 'c2': s2, 'c3': s3})\n",
    "df"
   ]
  },
  {
   "cell_type": "markdown",
   "metadata": {},
   "source": [
    "## Example data\n",
    "Where possible, the examples in this chapter will utilize several datasets provided\n",
    "with the code in the download for the text. These datasets make the examples a little\n",
    "less academic in nature. These datasets will be read from files using the <b>pd.read_\n",
    "csv()</b> function that will load the sample data from the file into a DataFrame object"
   ]
  },
  {
   "cell_type": "code",
   "execution_count": 13,
   "metadata": {},
   "outputs": [
    {
     "name": "stderr",
     "output_type": "stream",
     "text": [
      "'head' is not recognized as an internal or external command,\n",
      "operable program or batch file.\n"
     ]
    }
   ],
   "source": [
    "# show the first three lines of the file\n",
    "!head -n 3 data\\prices.csv # on Mac or Linux\n",
    " # !type data\\sp500.csv # on Windows, but will show the entire file"
   ]
  },
  {
   "cell_type": "code",
   "execution_count": 19,
   "metadata": {},
   "outputs": [
    {
     "data": {
      "text/plain": [
       "                           open       close     volume\n",
       "date                                                  \n",
       "2016-01-05 00:00:00  123.430000  125.839996  2163600.0\n",
       "2016-01-06 00:00:00  125.239998  119.980003  2386400.0\n",
       "2016-01-07 00:00:00  116.379997  114.949997  2489500.0\n",
       "2016-01-08 00:00:00  115.480003  116.620003  2006300.0\n",
       "2016-01-11 00:00:00  117.010002  114.970001  1408600.0"
      ]
     },
     "execution_count": 19,
     "metadata": {},
     "output_type": "execute_result"
    }
   ],
   "source": [
    "# read in the data and print the first five rows\n",
    " # use the Symbol column as the index, and\n",
    " # only read in columns in positions 0, 2, 3, 7\n",
    "sp500 = pd.read_csv(\"data/prices.csv\",\n",
    "                    index_col='date',\n",
    "                    usecols=[0, 2, 3, 6])\n",
    "sp500.head()"
   ]
  },
  {
   "cell_type": "code",
   "execution_count": null,
   "metadata": {
    "collapsed": true
   },
   "outputs": [],
   "source": []
  }
 ],
 "metadata": {
  "kernelspec": {
   "display_name": "Python 3",
   "language": "python",
   "name": "python3"
  },
  "language_info": {
   "codemirror_mode": {
    "name": "ipython",
    "version": 3
   },
   "file_extension": ".py",
   "mimetype": "text/x-python",
   "name": "python",
   "nbconvert_exporter": "python",
   "pygments_lexer": "ipython3",
   "version": "3.5.4"
  }
 },
 "nbformat": 4,
 "nbformat_minor": 2
}
